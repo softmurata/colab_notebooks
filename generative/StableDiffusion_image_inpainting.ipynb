{
  "nbformat": 4,
  "nbformat_minor": 0,
  "metadata": {
    "colab": {
      "provenance": [],
      "include_colab_link": true
    },
    "kernelspec": {
      "name": "python3",
      "display_name": "Python 3"
    },
    "language_info": {
      "name": "python"
    },
    "accelerator": "GPU",
    "gpuClass": "standard"
  },
  "cells": [
    {
      "cell_type": "markdown",
      "metadata": {
        "id": "view-in-github",
        "colab_type": "text"
      },
      "source": [
        "<a href=\"https://colab.research.google.com/github/softmurata/colab_notebooks/blob/main/generative/StableDiffusion_image_inpainting.ipynb\" target=\"_parent\"><img src=\"https://colab.research.google.com/assets/colab-badge.svg\" alt=\"Open In Colab\"/></a>"
      ]
    },
    {
      "cell_type": "code",
      "execution_count": null,
      "metadata": {
        "id": "LCTJCBV5lUrI"
      },
      "outputs": [],
      "source": [
        "#@title 環境設定\n",
        "\n",
        "# ライブラリのインストール\n",
        "!pip install git+https://github.com/huggingface/diffusers.git\n",
        "!pip install transformers scipy ftfy\n",
        "\n",
        "# インポート\n",
        "from diffusers import StableDiffusionInpaintPipeline\n",
        "import matplotlib.pyplot as plt\n",
        "from PIL import Image, ImageDraw\n",
        "from google.colab import files\n",
        "import numpy as np\n",
        "import torch\n",
        "from torch import autocast"
      ]
    },
    {
      "cell_type": "code",
      "source": [
        "#@title モデルの設定\n",
        "\n",
        "# 学習済みモデルのダウンロード\n",
        "access_token = '' #@param {type:'string'}\n",
        "model_name = \"runwayml/stable-diffusion-inpainting\"  # 'CompVis/stable-diffusion-v1-4'\n",
        "pipe = StableDiffusionInpaintPipeline.from_pretrained(\n",
        "    model_name,\n",
        "    revision='fp16', \n",
        "    torch_dtype=torch.float16,\n",
        "    use_auth_token=access_token\n",
        ").to('cuda')"
      ],
      "metadata": {
        "id": "9RL0EOOilZ2j"
      },
      "execution_count": null,
      "outputs": []
    },
    {
      "cell_type": "code",
      "source": [
        "#@title ベース画像の読込\n",
        "\n",
        "# 画像のアップロード\n",
        "uploaded = files.upload()\n",
        "\n",
        "# ファイル名の設定\n",
        "image_file = list(uploaded.keys())[0]\n",
        "\n",
        "# ベース画像の読込\n",
        "original_image = Image.open(image_file).convert('RGB')\n",
        "init_image = original_image.resize((512, 512))\n",
        "\n",
        "# 修復領域の指定\n",
        "x1 = 205  #@param {type:\"integer\"}\n",
        "y1 = 5    #@param {type:\"integer\"}\n",
        "x2 = 320  #@param {type:\"integer\"}\n",
        "y2 = 170  #@param {type:\"integer\"}\n",
        "mask = init_image.copy()\n",
        "draw = ImageDraw.Draw(mask)\n",
        "draw.rectangle([(x1, y1), (x2, y2)], outline=(0, 255, 0), width=3)\n",
        "mask"
      ],
      "metadata": {
        "id": "FEvweiXulb1t"
      },
      "execution_count": null,
      "outputs": []
    },
    {
      "cell_type": "code",
      "source": [
        "#@title 画像修復\n",
        "\n",
        "# マスク画像の作成\n",
        "draw.rectangle([(0, 0), (512, 512)], outline=(0, 0, 0), fill=(0, 0, 0))\n",
        "draw.rectangle([(x1, y1), (x2, y2)], outline=(255, 255, 255), fill=(255, 255, 255))\n",
        "\n",
        "# プロンプトの設定\n",
        "prompt = 'Albert Einstein' #@param {type:'string'}\n",
        "\n",
        "# 出力ディレクトリの作成\n",
        "!mkdir -p outputs\n",
        "\n",
        "# 生成画像数の設定\n",
        "num = 50\n",
        "\n",
        "# 画像の修復\n",
        "plt.figure(figsize=(30, 30))\n",
        "for i in range(num):\n",
        "    plt.subplot(10, 5, i + 1)\n",
        "    with autocast('cuda'):\n",
        "        image = pipe(prompt=prompt, image=init_image, mask_image=mask).images[0]\n",
        "    image.save(f'outputs/{i:03}.png')\n",
        "    plt.imshow(image)\n",
        "    plt.axis('off')\n",
        "    plt.title(i)\n",
        "    plt.show;"
      ],
      "metadata": {
        "id": "2oDM_zmkGbjI"
      },
      "execution_count": null,
      "outputs": []
    }
  ]
}