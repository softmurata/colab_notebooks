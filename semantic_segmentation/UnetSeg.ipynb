{
  "nbformat": 4,
  "nbformat_minor": 0,
  "metadata": {
    "colab": {
      "provenance": [],
      "authorship_tag": "ABX9TyMiSXX0eSkBG50KBhtj7BNl",
      "include_colab_link": true
    },
    "kernelspec": {
      "name": "python3",
      "display_name": "Python 3"
    },
    "language_info": {
      "name": "python"
    },
    "accelerator": "GPU",
    "gpuClass": "standard",
    "widgets": {
      "application/vnd.jupyter.widget-state+json": {
        "84a0b9e0f8a64ae687714e32030a3847": {
          "model_module": "@jupyter-widgets/controls",
          "model_name": "HBoxModel",
          "model_module_version": "1.5.0",
          "state": {
            "_dom_classes": [],
            "_model_module": "@jupyter-widgets/controls",
            "_model_module_version": "1.5.0",
            "_model_name": "HBoxModel",
            "_view_count": null,
            "_view_module": "@jupyter-widgets/controls",
            "_view_module_version": "1.5.0",
            "_view_name": "HBoxView",
            "box_style": "",
            "children": [
              "IPY_MODEL_b84e0e63781e46b2afbaf886d7c49d87",
              "IPY_MODEL_9b9f06f75943448db18ae18c0d8d8867",
              "IPY_MODEL_d2b5fd35836f4aa2b166127499a44208"
            ],
            "layout": "IPY_MODEL_160f208238734ce090c345a9ad28c4e4"
          }
        },
        "b84e0e63781e46b2afbaf886d7c49d87": {
          "model_module": "@jupyter-widgets/controls",
          "model_name": "HTMLModel",
          "model_module_version": "1.5.0",
          "state": {
            "_dom_classes": [],
            "_model_module": "@jupyter-widgets/controls",
            "_model_module_version": "1.5.0",
            "_model_name": "HTMLModel",
            "_view_count": null,
            "_view_module": "@jupyter-widgets/controls",
            "_view_module_version": "1.5.0",
            "_view_name": "HTMLView",
            "description": "",
            "description_tooltip": null,
            "layout": "IPY_MODEL_e1149c4816134c9fab748fce70f01523",
            "placeholder": "​",
            "style": "IPY_MODEL_bc7c968d1ffd4fb28221974f8cc80c42",
            "value": "100%"
          }
        },
        "9b9f06f75943448db18ae18c0d8d8867": {
          "model_module": "@jupyter-widgets/controls",
          "model_name": "FloatProgressModel",
          "model_module_version": "1.5.0",
          "state": {
            "_dom_classes": [],
            "_model_module": "@jupyter-widgets/controls",
            "_model_module_version": "1.5.0",
            "_model_name": "FloatProgressModel",
            "_view_count": null,
            "_view_module": "@jupyter-widgets/controls",
            "_view_module_version": "1.5.0",
            "_view_name": "ProgressView",
            "bar_style": "success",
            "description": "",
            "description_tooltip": null,
            "layout": "IPY_MODEL_ca088084407c4bdaa2461e201f97341f",
            "max": 31519111,
            "min": 0,
            "orientation": "horizontal",
            "style": "IPY_MODEL_8cb222b210594ebe9337aa545fbf514d",
            "value": 31519111
          }
        },
        "d2b5fd35836f4aa2b166127499a44208": {
          "model_module": "@jupyter-widgets/controls",
          "model_name": "HTMLModel",
          "model_module_version": "1.5.0",
          "state": {
            "_dom_classes": [],
            "_model_module": "@jupyter-widgets/controls",
            "_model_module_version": "1.5.0",
            "_model_name": "HTMLModel",
            "_view_count": null,
            "_view_module": "@jupyter-widgets/controls",
            "_view_module_version": "1.5.0",
            "_view_name": "HTMLView",
            "description": "",
            "description_tooltip": null,
            "layout": "IPY_MODEL_0366963a8558493c8e58bbdffce3fe98",
            "placeholder": "​",
            "style": "IPY_MODEL_a589b70c7f10400c9d7c7535a0fefc38",
            "value": " 30.1M/30.1M [00:05&lt;00:00, 8.58MB/s]"
          }
        },
        "160f208238734ce090c345a9ad28c4e4": {
          "model_module": "@jupyter-widgets/base",
          "model_name": "LayoutModel",
          "model_module_version": "1.2.0",
          "state": {
            "_model_module": "@jupyter-widgets/base",
            "_model_module_version": "1.2.0",
            "_model_name": "LayoutModel",
            "_view_count": null,
            "_view_module": "@jupyter-widgets/base",
            "_view_module_version": "1.2.0",
            "_view_name": "LayoutView",
            "align_content": null,
            "align_items": null,
            "align_self": null,
            "border": null,
            "bottom": null,
            "display": null,
            "flex": null,
            "flex_flow": null,
            "grid_area": null,
            "grid_auto_columns": null,
            "grid_auto_flow": null,
            "grid_auto_rows": null,
            "grid_column": null,
            "grid_gap": null,
            "grid_row": null,
            "grid_template_areas": null,
            "grid_template_columns": null,
            "grid_template_rows": null,
            "height": null,
            "justify_content": null,
            "justify_items": null,
            "left": null,
            "margin": null,
            "max_height": null,
            "max_width": null,
            "min_height": null,
            "min_width": null,
            "object_fit": null,
            "object_position": null,
            "order": null,
            "overflow": null,
            "overflow_x": null,
            "overflow_y": null,
            "padding": null,
            "right": null,
            "top": null,
            "visibility": null,
            "width": null
          }
        },
        "e1149c4816134c9fab748fce70f01523": {
          "model_module": "@jupyter-widgets/base",
          "model_name": "LayoutModel",
          "model_module_version": "1.2.0",
          "state": {
            "_model_module": "@jupyter-widgets/base",
            "_model_module_version": "1.2.0",
            "_model_name": "LayoutModel",
            "_view_count": null,
            "_view_module": "@jupyter-widgets/base",
            "_view_module_version": "1.2.0",
            "_view_name": "LayoutView",
            "align_content": null,
            "align_items": null,
            "align_self": null,
            "border": null,
            "bottom": null,
            "display": null,
            "flex": null,
            "flex_flow": null,
            "grid_area": null,
            "grid_auto_columns": null,
            "grid_auto_flow": null,
            "grid_auto_rows": null,
            "grid_column": null,
            "grid_gap": null,
            "grid_row": null,
            "grid_template_areas": null,
            "grid_template_columns": null,
            "grid_template_rows": null,
            "height": null,
            "justify_content": null,
            "justify_items": null,
            "left": null,
            "margin": null,
            "max_height": null,
            "max_width": null,
            "min_height": null,
            "min_width": null,
            "object_fit": null,
            "object_position": null,
            "order": null,
            "overflow": null,
            "overflow_x": null,
            "overflow_y": null,
            "padding": null,
            "right": null,
            "top": null,
            "visibility": null,
            "width": null
          }
        },
        "bc7c968d1ffd4fb28221974f8cc80c42": {
          "model_module": "@jupyter-widgets/controls",
          "model_name": "DescriptionStyleModel",
          "model_module_version": "1.5.0",
          "state": {
            "_model_module": "@jupyter-widgets/controls",
            "_model_module_version": "1.5.0",
            "_model_name": "DescriptionStyleModel",
            "_view_count": null,
            "_view_module": "@jupyter-widgets/base",
            "_view_module_version": "1.2.0",
            "_view_name": "StyleView",
            "description_width": ""
          }
        },
        "ca088084407c4bdaa2461e201f97341f": {
          "model_module": "@jupyter-widgets/base",
          "model_name": "LayoutModel",
          "model_module_version": "1.2.0",
          "state": {
            "_model_module": "@jupyter-widgets/base",
            "_model_module_version": "1.2.0",
            "_model_name": "LayoutModel",
            "_view_count": null,
            "_view_module": "@jupyter-widgets/base",
            "_view_module_version": "1.2.0",
            "_view_name": "LayoutView",
            "align_content": null,
            "align_items": null,
            "align_self": null,
            "border": null,
            "bottom": null,
            "display": null,
            "flex": null,
            "flex_flow": null,
            "grid_area": null,
            "grid_auto_columns": null,
            "grid_auto_flow": null,
            "grid_auto_rows": null,
            "grid_column": null,
            "grid_gap": null,
            "grid_row": null,
            "grid_template_areas": null,
            "grid_template_columns": null,
            "grid_template_rows": null,
            "height": null,
            "justify_content": null,
            "justify_items": null,
            "left": null,
            "margin": null,
            "max_height": null,
            "max_width": null,
            "min_height": null,
            "min_width": null,
            "object_fit": null,
            "object_position": null,
            "order": null,
            "overflow": null,
            "overflow_x": null,
            "overflow_y": null,
            "padding": null,
            "right": null,
            "top": null,
            "visibility": null,
            "width": null
          }
        },
        "8cb222b210594ebe9337aa545fbf514d": {
          "model_module": "@jupyter-widgets/controls",
          "model_name": "ProgressStyleModel",
          "model_module_version": "1.5.0",
          "state": {
            "_model_module": "@jupyter-widgets/controls",
            "_model_module_version": "1.5.0",
            "_model_name": "ProgressStyleModel",
            "_view_count": null,
            "_view_module": "@jupyter-widgets/base",
            "_view_module_version": "1.2.0",
            "_view_name": "StyleView",
            "bar_color": null,
            "description_width": ""
          }
        },
        "0366963a8558493c8e58bbdffce3fe98": {
          "model_module": "@jupyter-widgets/base",
          "model_name": "LayoutModel",
          "model_module_version": "1.2.0",
          "state": {
            "_model_module": "@jupyter-widgets/base",
            "_model_module_version": "1.2.0",
            "_model_name": "LayoutModel",
            "_view_count": null,
            "_view_module": "@jupyter-widgets/base",
            "_view_module_version": "1.2.0",
            "_view_name": "LayoutView",
            "align_content": null,
            "align_items": null,
            "align_self": null,
            "border": null,
            "bottom": null,
            "display": null,
            "flex": null,
            "flex_flow": null,
            "grid_area": null,
            "grid_auto_columns": null,
            "grid_auto_flow": null,
            "grid_auto_rows": null,
            "grid_column": null,
            "grid_gap": null,
            "grid_row": null,
            "grid_template_areas": null,
            "grid_template_columns": null,
            "grid_template_rows": null,
            "height": null,
            "justify_content": null,
            "justify_items": null,
            "left": null,
            "margin": null,
            "max_height": null,
            "max_width": null,
            "min_height": null,
            "min_width": null,
            "object_fit": null,
            "object_position": null,
            "order": null,
            "overflow": null,
            "overflow_x": null,
            "overflow_y": null,
            "padding": null,
            "right": null,
            "top": null,
            "visibility": null,
            "width": null
          }
        },
        "a589b70c7f10400c9d7c7535a0fefc38": {
          "model_module": "@jupyter-widgets/controls",
          "model_name": "DescriptionStyleModel",
          "model_module_version": "1.5.0",
          "state": {
            "_model_module": "@jupyter-widgets/controls",
            "_model_module_version": "1.5.0",
            "_model_name": "DescriptionStyleModel",
            "_view_count": null,
            "_view_module": "@jupyter-widgets/base",
            "_view_module_version": "1.2.0",
            "_view_name": "StyleView",
            "description_width": ""
          }
        }
      }
    }
  },
  "cells": [
    {
      "cell_type": "markdown",
      "metadata": {
        "id": "view-in-github",
        "colab_type": "text"
      },
      "source": [
        "<a href=\"https://colab.research.google.com/github/softmurata/colab_notebooks/blob/main/semantic_segmentation/UnetSeg.ipynb\" target=\"_parent\"><img src=\"https://colab.research.google.com/assets/colab-badge.svg\" alt=\"Open In Colab\"/></a>"
      ]
    },
    {
      "cell_type": "code",
      "source": [
        "from google.colab import drive\n",
        "drive.mount('/content/drive')"
      ],
      "metadata": {
        "colab": {
          "base_uri": "https://localhost:8080/"
        },
        "id": "h495Qpynpgbv",
        "outputId": "fae569d0-4f86-4ad4-c126-1722d97f7211"
      },
      "execution_count": 1,
      "outputs": [
        {
          "output_type": "stream",
          "name": "stdout",
          "text": [
            "Mounted at /content/drive\n"
          ]
        }
      ]
    },
    {
      "cell_type": "code",
      "source": [
        "# unzip\n",
        "!unzip /content/drive/MyDrive/uw-madison-gi-tract-image-segmentation.zip"
      ],
      "metadata": {
        "id": "8MNZqpZzpjCl"
      },
      "execution_count": null,
      "outputs": []
    },
    {
      "cell_type": "code",
      "source": [
        "!mkdir /content/uw-madison\n",
        "!mv /content/train /content/uw-madison\n",
        "!mv train.csv /content/uw-madison"
      ],
      "metadata": {
        "id": "PT2PswAGrrDh"
      },
      "execution_count": 4,
      "outputs": []
    },
    {
      "cell_type": "code",
      "execution_count": null,
      "metadata": {
        "id": "tAwWtoeupDgq"
      },
      "outputs": [],
      "source": [
        "import pandas as pd\n",
        "import cv2\n",
        "from PIL import Image\n",
        "from matplotlib import pyplot as plt\n",
        "import numpy as np\n",
        "from torch.utils.data import DataLoader\n",
        "from torch.utils.data import Dataset as BaseDataset\n",
        "import torch\n",
        "import torch.nn as nn\n",
        "import torch.nn.functional as F\n",
        "import torch.optim as optim\n",
        "from torchvision import transforms\n",
        "from torchvision.transforms import functional\n",
        "!pip install -U segmentation-models-pytorch\n",
        "import segmentation_models_pytorch as smp\n",
        "from sklearn.model_selection import StratifiedKFold, KFold, StratifiedGroupKFold\n",
        "import albumentations as A\n",
        "from albumentations.pytorch import ToTensorV2"
      ]
    },
    {
      "cell_type": "code",
      "source": [
        "!unzip /content/drive/MyDrive/uw-madison-mask.zip"
      ],
      "metadata": {
        "id": "Z3qraRo7vNMV"
      },
      "execution_count": null,
      "outputs": []
    },
    {
      "cell_type": "code",
      "source": [
        "!mkdir /content/uw-madison-mask\n",
        "!mv /content/np /content/uw-madison-mask\n",
        "!mv /content/png /content/uw-madison-mask\n",
        "!mv /content/train.csv /content/uw-madison-mask"
      ],
      "metadata": {
        "id": "u098EIYNvsmw"
      },
      "execution_count": 17,
      "outputs": []
    },
    {
      "cell_type": "code",
      "source": [
        "df = pd.read_csv('/content/uw-madison-mask/train.csv')\n",
        "df['segmentation'] = df.segmentation.fillna('')\n",
        "df['rle_len'] = df.segmentation.map(len) # length of each rle mask\n",
        "df['image_path'] = df.image_path.str.replace(\"/kaggle/input/uw-madison-gi-tract-image-segmentation/\", \"/content/uw-madison/\")\n",
        "df['mask_path'] = df.mask_path.str.replace('/kaggle/input/uwmgi-mask-dataset/png/','/content/uw-madison-mask/np').str.replace('.png','.npy')\n",
        "\n",
        "df2 = df.groupby(['id'])['segmentation'].agg(list).to_frame().reset_index() # rle list of each id\n",
        "df2 = df2.merge(df.groupby(['id'])['rle_len'].agg(sum).to_frame().reset_index()) # total length of all rles of each id\n",
        "\n",
        "df = df.drop(columns=['segmentation', 'class', 'rle_len'])\n",
        "df = df.groupby(['id']).head(1).reset_index(drop=True)\n",
        "df = df.merge(df2, on=['id'])\n",
        "df['empty'] = (df.rle_len==0) # empty masks\n",
        "df.head()"
      ],
      "metadata": {
        "colab": {
          "base_uri": "https://localhost:8080/",
          "height": 372
        },
        "id": "YxOJPPvlvnG2",
        "outputId": "cda3031d-f290-4832-9c41-bd7f7e5c42ba"
      },
      "execution_count": 3,
      "outputs": [
        {
          "output_type": "stream",
          "name": "stderr",
          "text": [
            "<ipython-input-3-f8602617bb79>:5: FutureWarning: The default value of regex will change from True to False in a future version.\n",
            "  df['mask_path'] = df.mask_path.str.replace('/kaggle/input/uwmgi-mask-dataset/png/','/content/uw-madison-mask/np').str.replace('.png','.npy')\n"
          ]
        },
        {
          "output_type": "execute_result",
          "data": {
            "text/plain": [
              "                         id  case  day  slice  \\\n",
              "0  case123_day20_slice_0001   123   20      1   \n",
              "1  case123_day20_slice_0002   123   20      2   \n",
              "2  case123_day20_slice_0003   123   20      3   \n",
              "3  case123_day20_slice_0004   123   20      4   \n",
              "4  case123_day20_slice_0005   123   20      5   \n",
              "\n",
              "                                          image_path  height  width  \\\n",
              "0  /content/uw-madison/train/case123/case123_day2...     266    266   \n",
              "1  /content/uw-madison/train/case123/case123_day2...     266    266   \n",
              "2  /content/uw-madison/train/case123/case123_day2...     266    266   \n",
              "3  /content/uw-madison/train/case123/case123_day2...     266    266   \n",
              "4  /content/uw-madison/train/case123/case123_day2...     266    266   \n",
              "\n",
              "                                           mask_path segmentation  rle_len  \\\n",
              "0  /content/uw-madison-mask/np/uw-madison-gi-trac...       [, , ]        0   \n",
              "1  /content/uw-madison-mask/np/uw-madison-gi-trac...       [, , ]        0   \n",
              "2  /content/uw-madison-mask/np/uw-madison-gi-trac...       [, , ]        0   \n",
              "3  /content/uw-madison-mask/np/uw-madison-gi-trac...       [, , ]        0   \n",
              "4  /content/uw-madison-mask/np/uw-madison-gi-trac...       [, , ]        0   \n",
              "\n",
              "   empty  \n",
              "0   True  \n",
              "1   True  \n",
              "2   True  \n",
              "3   True  \n",
              "4   True  "
            ],
            "text/html": [
              "\n",
              "  <div id=\"df-a8caec11-3977-4db4-bc7e-51ce2ca75abe\">\n",
              "    <div class=\"colab-df-container\">\n",
              "      <div>\n",
              "<style scoped>\n",
              "    .dataframe tbody tr th:only-of-type {\n",
              "        vertical-align: middle;\n",
              "    }\n",
              "\n",
              "    .dataframe tbody tr th {\n",
              "        vertical-align: top;\n",
              "    }\n",
              "\n",
              "    .dataframe thead th {\n",
              "        text-align: right;\n",
              "    }\n",
              "</style>\n",
              "<table border=\"1\" class=\"dataframe\">\n",
              "  <thead>\n",
              "    <tr style=\"text-align: right;\">\n",
              "      <th></th>\n",
              "      <th>id</th>\n",
              "      <th>case</th>\n",
              "      <th>day</th>\n",
              "      <th>slice</th>\n",
              "      <th>image_path</th>\n",
              "      <th>height</th>\n",
              "      <th>width</th>\n",
              "      <th>mask_path</th>\n",
              "      <th>segmentation</th>\n",
              "      <th>rle_len</th>\n",
              "      <th>empty</th>\n",
              "    </tr>\n",
              "  </thead>\n",
              "  <tbody>\n",
              "    <tr>\n",
              "      <th>0</th>\n",
              "      <td>case123_day20_slice_0001</td>\n",
              "      <td>123</td>\n",
              "      <td>20</td>\n",
              "      <td>1</td>\n",
              "      <td>/content/uw-madison/train/case123/case123_day2...</td>\n",
              "      <td>266</td>\n",
              "      <td>266</td>\n",
              "      <td>/content/uw-madison-mask/np/uw-madison-gi-trac...</td>\n",
              "      <td>[, , ]</td>\n",
              "      <td>0</td>\n",
              "      <td>True</td>\n",
              "    </tr>\n",
              "    <tr>\n",
              "      <th>1</th>\n",
              "      <td>case123_day20_slice_0002</td>\n",
              "      <td>123</td>\n",
              "      <td>20</td>\n",
              "      <td>2</td>\n",
              "      <td>/content/uw-madison/train/case123/case123_day2...</td>\n",
              "      <td>266</td>\n",
              "      <td>266</td>\n",
              "      <td>/content/uw-madison-mask/np/uw-madison-gi-trac...</td>\n",
              "      <td>[, , ]</td>\n",
              "      <td>0</td>\n",
              "      <td>True</td>\n",
              "    </tr>\n",
              "    <tr>\n",
              "      <th>2</th>\n",
              "      <td>case123_day20_slice_0003</td>\n",
              "      <td>123</td>\n",
              "      <td>20</td>\n",
              "      <td>3</td>\n",
              "      <td>/content/uw-madison/train/case123/case123_day2...</td>\n",
              "      <td>266</td>\n",
              "      <td>266</td>\n",
              "      <td>/content/uw-madison-mask/np/uw-madison-gi-trac...</td>\n",
              "      <td>[, , ]</td>\n",
              "      <td>0</td>\n",
              "      <td>True</td>\n",
              "    </tr>\n",
              "    <tr>\n",
              "      <th>3</th>\n",
              "      <td>case123_day20_slice_0004</td>\n",
              "      <td>123</td>\n",
              "      <td>20</td>\n",
              "      <td>4</td>\n",
              "      <td>/content/uw-madison/train/case123/case123_day2...</td>\n",
              "      <td>266</td>\n",
              "      <td>266</td>\n",
              "      <td>/content/uw-madison-mask/np/uw-madison-gi-trac...</td>\n",
              "      <td>[, , ]</td>\n",
              "      <td>0</td>\n",
              "      <td>True</td>\n",
              "    </tr>\n",
              "    <tr>\n",
              "      <th>4</th>\n",
              "      <td>case123_day20_slice_0005</td>\n",
              "      <td>123</td>\n",
              "      <td>20</td>\n",
              "      <td>5</td>\n",
              "      <td>/content/uw-madison/train/case123/case123_day2...</td>\n",
              "      <td>266</td>\n",
              "      <td>266</td>\n",
              "      <td>/content/uw-madison-mask/np/uw-madison-gi-trac...</td>\n",
              "      <td>[, , ]</td>\n",
              "      <td>0</td>\n",
              "      <td>True</td>\n",
              "    </tr>\n",
              "  </tbody>\n",
              "</table>\n",
              "</div>\n",
              "      <button class=\"colab-df-convert\" onclick=\"convertToInteractive('df-a8caec11-3977-4db4-bc7e-51ce2ca75abe')\"\n",
              "              title=\"Convert this dataframe to an interactive table.\"\n",
              "              style=\"display:none;\">\n",
              "        \n",
              "  <svg xmlns=\"http://www.w3.org/2000/svg\" height=\"24px\"viewBox=\"0 0 24 24\"\n",
              "       width=\"24px\">\n",
              "    <path d=\"M0 0h24v24H0V0z\" fill=\"none\"/>\n",
              "    <path d=\"M18.56 5.44l.94 2.06.94-2.06 2.06-.94-2.06-.94-.94-2.06-.94 2.06-2.06.94zm-11 1L8.5 8.5l.94-2.06 2.06-.94-2.06-.94L8.5 2.5l-.94 2.06-2.06.94zm10 10l.94 2.06.94-2.06 2.06-.94-2.06-.94-.94-2.06-.94 2.06-2.06.94z\"/><path d=\"M17.41 7.96l-1.37-1.37c-.4-.4-.92-.59-1.43-.59-.52 0-1.04.2-1.43.59L10.3 9.45l-7.72 7.72c-.78.78-.78 2.05 0 2.83L4 21.41c.39.39.9.59 1.41.59.51 0 1.02-.2 1.41-.59l7.78-7.78 2.81-2.81c.8-.78.8-2.07 0-2.86zM5.41 20L4 18.59l7.72-7.72 1.47 1.35L5.41 20z\"/>\n",
              "  </svg>\n",
              "      </button>\n",
              "      \n",
              "  <style>\n",
              "    .colab-df-container {\n",
              "      display:flex;\n",
              "      flex-wrap:wrap;\n",
              "      gap: 12px;\n",
              "    }\n",
              "\n",
              "    .colab-df-convert {\n",
              "      background-color: #E8F0FE;\n",
              "      border: none;\n",
              "      border-radius: 50%;\n",
              "      cursor: pointer;\n",
              "      display: none;\n",
              "      fill: #1967D2;\n",
              "      height: 32px;\n",
              "      padding: 0 0 0 0;\n",
              "      width: 32px;\n",
              "    }\n",
              "\n",
              "    .colab-df-convert:hover {\n",
              "      background-color: #E2EBFA;\n",
              "      box-shadow: 0px 1px 2px rgba(60, 64, 67, 0.3), 0px 1px 3px 1px rgba(60, 64, 67, 0.15);\n",
              "      fill: #174EA6;\n",
              "    }\n",
              "\n",
              "    [theme=dark] .colab-df-convert {\n",
              "      background-color: #3B4455;\n",
              "      fill: #D2E3FC;\n",
              "    }\n",
              "\n",
              "    [theme=dark] .colab-df-convert:hover {\n",
              "      background-color: #434B5C;\n",
              "      box-shadow: 0px 1px 3px 1px rgba(0, 0, 0, 0.15);\n",
              "      filter: drop-shadow(0px 1px 2px rgba(0, 0, 0, 0.3));\n",
              "      fill: #FFFFFF;\n",
              "    }\n",
              "  </style>\n",
              "\n",
              "      <script>\n",
              "        const buttonEl =\n",
              "          document.querySelector('#df-a8caec11-3977-4db4-bc7e-51ce2ca75abe button.colab-df-convert');\n",
              "        buttonEl.style.display =\n",
              "          google.colab.kernel.accessAllowed ? 'block' : 'none';\n",
              "\n",
              "        async function convertToInteractive(key) {\n",
              "          const element = document.querySelector('#df-a8caec11-3977-4db4-bc7e-51ce2ca75abe');\n",
              "          const dataTable =\n",
              "            await google.colab.kernel.invokeFunction('convertToInteractive',\n",
              "                                                     [key], {});\n",
              "          if (!dataTable) return;\n",
              "\n",
              "          const docLinkHtml = 'Like what you see? Visit the ' +\n",
              "            '<a target=\"_blank\" href=https://colab.research.google.com/notebooks/data_table.ipynb>data table notebook</a>'\n",
              "            + ' to learn more about interactive tables.';\n",
              "          element.innerHTML = '';\n",
              "          dataTable['output_type'] = 'display_data';\n",
              "          await google.colab.output.renderOutput(dataTable, element);\n",
              "          const docLink = document.createElement('div');\n",
              "          docLink.innerHTML = docLinkHtml;\n",
              "          element.appendChild(docLink);\n",
              "        }\n",
              "      </script>\n",
              "    </div>\n",
              "  </div>\n",
              "  "
            ]
          },
          "metadata": {},
          "execution_count": 3
        }
      ]
    },
    {
      "cell_type": "code",
      "source": [
        "# class distribution\n",
        "df['empty'].value_counts().plot.bar()"
      ],
      "metadata": {
        "colab": {
          "base_uri": "https://localhost:8080/",
          "height": 298
        },
        "id": "oLriT9nKwk06",
        "outputId": "d78ad131-33aa-4658-8a25-1e882d2c0d88"
      },
      "execution_count": 4,
      "outputs": [
        {
          "output_type": "execute_result",
          "data": {
            "text/plain": [
              "<AxesSubplot:>"
            ]
          },
          "metadata": {},
          "execution_count": 4
        },
        {
          "output_type": "display_data",
          "data": {
            "text/plain": [
              "<Figure size 432x288 with 1 Axes>"
            ],
            "image/png": "[encoded data removed]"
          },
          "metadata": {
            "needs_background": "light"
          }
        }
      ]
    },
    {
      "cell_type": "code",
      "source": [
        "# ref: https://www.kaggle.com/paulorzp/run-length-encode-and-decode\n",
        "def rle_decode(mask_rle, shape):\n",
        "    '''\n",
        "    mask_rle: run-length as string formated (start length)\n",
        "    shape: (height,width) of array to return \n",
        "    Returns numpy array, 1 - mask, 0 - background\n",
        "\n",
        "    '''\n",
        "    s = mask_rle.split()\n",
        "    starts, lengths = [np.asarray(x, dtype=int) for x in (s[0:][::2], s[1:][::2])]\n",
        "    starts -= 1\n",
        "    ends = starts + lengths\n",
        "    img = np.zeros(shape[0]*shape[1], dtype=np.uint8)\n",
        "    for lo, hi in zip(starts, ends):\n",
        "        img[lo:hi] = 1\n",
        "    return img.reshape(shape)  # Needed to align to RLE direction\n",
        "\n",
        "\n",
        "# ref.: https://www.kaggle.com/stainsby/fast-tested-rle\n",
        "def rle_encode(img):\n",
        "    '''\n",
        "    img: numpy array, 1 - mask, 0 - background\n",
        "    Returns run length as string formated\n",
        "    '''\n",
        "    pixels = img.flatten()\n",
        "    pixels = np.concatenate([[0], pixels, [0]])\n",
        "    runs = np.where(pixels[1:] != pixels[:-1])[0] + 1\n",
        "    runs[1::2] -= runs[::2]\n",
        "    return ' '.join(str(x) for x in runs)"
      ],
      "metadata": {
        "id": "6WmzRaqkyWRw"
      },
      "execution_count": 5,
      "outputs": []
    },
    {
      "cell_type": "code",
      "source": [
        "# mask\n",
        "import tensorflow as tf\n",
        "def id2mask(id_):\n",
        "    idf = df[df['id']==id_]\n",
        "    wh = idf[['height','width']].iloc[0]\n",
        "    shape = (wh.height, wh.width, 3)\n",
        "    mask = np.zeros(shape, dtype=np.uint8)\n",
        "    for i, class_ in enumerate(['large_bowel', 'small_bowel', 'stomach']):\n",
        "        cdf = idf[idf['class']==class_]\n",
        "        rle = cdf.segmentation.squeeze()\n",
        "        if len(cdf) and not pd.isna(rle):\n",
        "            mask[..., i] = rle_decode(rle, shape[:2])\n",
        "    return mask\n",
        "\n",
        "def rgb2gray(mask):\n",
        "    pad_mask = np.pad(mask, pad_width=[(0,0),(0,0),(1,0)])\n",
        "    gray_mask = pad_mask.argmax(-1)\n",
        "    return gray_mask\n",
        "\n",
        "def gray2rgb(mask):\n",
        "    rgb_mask = tf.keras.utils.to_categorical(mask, num_classes=4)\n",
        "    return rgb_mask[..., 1:].astype(mask.dtype)"
      ],
      "metadata": {
        "id": "U3fnz3ncww2P"
      },
      "execution_count": 6,
      "outputs": []
    },
    {
      "cell_type": "code",
      "source": [
        "from matplotlib.patches import Rectangle\n",
        "# image\n",
        "def load_img(path):\n",
        "    img = cv2.imread(path, cv2.IMREAD_UNCHANGED)\n",
        "    img = np.tile(img[...,None], [1, 1, 3]) # gray to rgb\n",
        "    img = img.astype('float32') # original is uint16\n",
        "    mx = np.max(img)\n",
        "    if mx:\n",
        "        img/=mx # scale image to [0, 1]\n",
        "    return img\n",
        "\n",
        "def load_msk(path):\n",
        "    msk = np.load(path)\n",
        "    msk = msk.astype('float32')\n",
        "    msk/=255.0\n",
        "    return msk\n",
        "    \n",
        "\n",
        "def show_img(img, mask=None):\n",
        "    clahe = cv2.createCLAHE(clipLimit=2.0, tileGridSize=(8,8))\n",
        "#     img = clahe.apply(img)\n",
        "#     plt.figure(figsize=(10,10))\n",
        "    plt.imshow(img, cmap='bone')\n",
        "    \n",
        "    if mask is not None:\n",
        "        # plt.imshow(np.ma.masked_where(mask!=1, mask), alpha=0.5, cmap='autumn')\n",
        "        plt.imshow(mask, alpha=0.5)\n",
        "        handles = [Rectangle((0,0),1,1, color=_c) for _c in [(0.667,0.0,0.0), (0.0,0.667,0.0), (0.0,0.0,0.667)]]\n",
        "        labels = [\"Large Bowel\", \"Small Bowel\", \"Stomach\"]\n",
        "        plt.legend(handles,labels)\n",
        "    plt.axis('off')"
      ],
      "metadata": {
        "id": "WTXWxeDtyM-I"
      },
      "execution_count": 7,
      "outputs": []
    },
    {
      "cell_type": "code",
      "source": [
        "class CFG:\n",
        "    seed          = 101\n",
        "    debug         = False # set debug=False for Full Training\n",
        "    exp_name      = 'Baselinev2'\n",
        "    comment       = 'unet-efficientnet_b1-224x224-aug2-split2'\n",
        "    model_name    = 'Unet'\n",
        "    backbone      = 'efficientnet-b1'\n",
        "    train_bs      = 64 # 128\n",
        "    valid_bs      = train_bs*2\n",
        "    img_size      = [224, 224]\n",
        "    epochs        = 15\n",
        "    lr            = 2e-3\n",
        "    scheduler     = 'CosineAnnealingLR'\n",
        "    min_lr        = 1e-6\n",
        "    T_max         = int(30000/train_bs*epochs)+50\n",
        "    T_0           = 25\n",
        "    warmup_epochs = 0\n",
        "    wd            = 1e-6\n",
        "    n_accumulate  = max(1, 32//train_bs)\n",
        "    n_fold        = 5\n",
        "    num_classes   = 3\n",
        "    device        = torch.device(\"cuda:0\" if torch.cuda.is_available() else \"cpu\")"
      ],
      "metadata": {
        "id": "DQvu4lzcy9X6"
      },
      "execution_count": 8,
      "outputs": []
    },
    {
      "cell_type": "code",
      "source": [
        "skf = StratifiedGroupKFold(n_splits=CFG.n_fold, shuffle=True, random_state=CFG.seed)\n",
        "for fold, (train_idx, val_idx) in enumerate(skf.split(df, df['empty'], groups = df[\"case\"])):\n",
        "    df.loc[val_idx, 'fold'] = fold\n",
        "display(df.groupby(['fold','empty'])['id'].count())"
      ],
      "metadata": {
        "colab": {
          "base_uri": "https://localhost:8080/",
          "height": 225
        },
        "id": "OHNTOCiOyyg6",
        "outputId": "246f6ef7-eedc-47c9-ae7c-92639e9f80d9"
      },
      "execution_count": 9,
      "outputs": [
        {
          "output_type": "display_data",
          "data": {
            "text/plain": [
              "fold  empty\n",
              "0.0   False    3257\n",
              "      True     4551\n",
              "1.0   False    3540\n",
              "      True     4540\n",
              "2.0   False    3053\n",
              "      True     3923\n",
              "3.0   False    3407\n",
              "      True     4801\n",
              "4.0   False    3333\n",
              "      True     4091\n",
              "Name: id, dtype: int64"
            ]
          },
          "metadata": {}
        }
      ]
    },
    {
      "cell_type": "code",
      "source": [
        "# Dataset\n",
        "class BuildDataset(torch.utils.data.Dataset):\n",
        "    def __init__(self, df, label=True, transforms=None):\n",
        "        self.df         = df\n",
        "        self.label      = label\n",
        "        self.img_paths  = df['image_path'].tolist()\n",
        "        self.msk_paths  = df['mask_path'].tolist()\n",
        "        self.transforms = transforms\n",
        "        \n",
        "    def __len__(self):\n",
        "        return len(self.df)\n",
        "    \n",
        "    def __getitem__(self, index):\n",
        "        img_path  = self.img_paths[index]\n",
        "        img = []\n",
        "        img = load_img(img_path)\n",
        "        \n",
        "        if self.label:\n",
        "            msk_path = self.msk_paths[index]\n",
        "            msk = load_msk(msk_path)\n",
        "            if self.transforms:\n",
        "                data = self.transforms(image=img, mask=msk)\n",
        "                img  = data['image']\n",
        "                msk  = data['mask']\n",
        "            img = np.transpose(img, (2, 0, 1))\n",
        "            msk = np.transpose(msk, (2, 0, 1))\n",
        "            return torch.tensor(img), torch.tensor(msk)\n",
        "        else:\n",
        "            if self.transforms:\n",
        "                data = self.transforms(image=img)\n",
        "                img  = data['image']\n",
        "            img = np.transpose(img, (2, 0, 1))\n",
        "            return torch.tensor(img)"
      ],
      "metadata": {
        "id": "6mOlvE55zANK"
      },
      "execution_count": 10,
      "outputs": []
    },
    {
      "cell_type": "code",
      "source": [],
      "metadata": {
        "id": "YktJERXuzMjF"
      },
      "execution_count": 41,
      "outputs": []
    },
    {
      "cell_type": "code",
      "source": [
        "data_transforms = {\n",
        "    \"train\": A.Compose([\n",
        "        A.Resize(*CFG.img_size, interpolation=cv2.INTER_NEAREST),\n",
        "        A.HorizontalFlip(p=0.5),\n",
        "#         A.VerticalFlip(p=0.5),\n",
        "        A.ShiftScaleRotate(shift_limit=0.0625, scale_limit=0.05, rotate_limit=10, p=0.5),\n",
        "        A.OneOf([\n",
        "            A.GridDistortion(num_steps=5, distort_limit=0.05, p=1.0),\n",
        "# #             A.OpticalDistortion(distort_limit=0.05, shift_limit=0.05, p=1.0),\n",
        "            A.ElasticTransform(alpha=1, sigma=50, alpha_affine=50, p=1.0)\n",
        "        ], p=0.25),\n",
        "        A.CoarseDropout(max_holes=8, max_height=CFG.img_size[0]//20, max_width=CFG.img_size[1]//20,\n",
        "                         min_holes=5, fill_value=0, mask_fill_value=0, p=0.5),\n",
        "        ], p=1.0),\n",
        "    \n",
        "    \"valid\": A.Compose([\n",
        "        A.Resize(*CFG.img_size, interpolation=cv2.INTER_NEAREST),\n",
        "        ], p=1.0)\n",
        "}"
      ],
      "metadata": {
        "id": "s5TRgsYzzIAc"
      },
      "execution_count": 11,
      "outputs": []
    },
    {
      "cell_type": "code",
      "source": [
        "# dataloader\n",
        "def prepare_loaders(fold, debug=False):\n",
        "    train_df = df.query(\"fold!=@fold\").reset_index(drop=True)\n",
        "    valid_df = df.query(\"fold==@fold\").reset_index(drop=True)\n",
        "    if debug:\n",
        "        train_df = train_df.head(32*5).query(\"empty==0\")\n",
        "        valid_df = valid_df.head(32*3).query(\"empty==0\")\n",
        "    train_dataset = BuildDataset(train_df, transforms=data_transforms['train'])\n",
        "    valid_dataset = BuildDataset(valid_df, transforms=data_transforms['valid'])\n",
        "\n",
        "    train_loader = DataLoader(train_dataset, batch_size=CFG.train_bs if not debug else 20, \n",
        "                              num_workers=4, shuffle=True, pin_memory=True, drop_last=False)\n",
        "    valid_loader = DataLoader(valid_dataset, batch_size=CFG.valid_bs if not debug else 20, \n",
        "                              num_workers=4, shuffle=False, pin_memory=True)\n",
        "    \n",
        "    return train_loader, valid_loader"
      ],
      "metadata": {
        "id": "s5cCeH-MzURe"
      },
      "execution_count": 12,
      "outputs": []
    },
    {
      "cell_type": "code",
      "source": [
        "train_loader, valid_loader = prepare_loaders(fold=0, debug=True)"
      ],
      "metadata": {
        "colab": {
          "base_uri": "https://localhost:8080/"
        },
        "id": "N-d3EgGOzakE",
        "outputId": "f0d61b33-61da-4d4d-ba45-a806fb72a1a5"
      },
      "execution_count": 13,
      "outputs": [
        {
          "output_type": "stream",
          "name": "stderr",
          "text": [
            "/usr/local/lib/python3.8/dist-packages/torch/utils/data/dataloader.py:554: UserWarning: This DataLoader will create 4 worker processes in total. Our suggested max number of worker in current system is 2, which is smaller than what this DataLoader is going to create. Please be aware that excessive worker creation might get DataLoader running slow or even freeze, lower the worker number to avoid potential slowness/freeze if necessary.\n",
            "  warnings.warn(_create_warning_msg(\n"
          ]
        }
      ]
    },
    {
      "cell_type": "code",
      "source": [
        "imgs, msks = next(iter(train_loader))\n",
        "imgs.size(), msks.size()"
      ],
      "metadata": {
        "colab": {
          "base_uri": "https://localhost:8080/"
        },
        "id": "Ozfa797ezgH0",
        "outputId": "7d5f3ec8-4893-4bf6-a95b-0f7b433807a7"
      },
      "execution_count": 14,
      "outputs": [
        {
          "output_type": "execute_result",
          "data": {
            "text/plain": [
              "(torch.Size([20, 3, 224, 224]), torch.Size([20, 3, 224, 224]))"
            ]
          },
          "metadata": {},
          "execution_count": 14
        }
      ]
    },
    {
      "cell_type": "code",
      "source": [
        "def plot_batch(imgs, msks, size=3):\n",
        "    plt.figure(figsize=(5*5, 5))\n",
        "    for idx in range(size):\n",
        "        plt.subplot(1, 5, idx+1)\n",
        "        img = imgs[idx,].permute((1, 2, 0)).numpy()*255.0\n",
        "        img = img.astype('uint8')\n",
        "        msk = msks[idx,].permute((1, 2, 0)).numpy()*255.0\n",
        "        show_img(img, msk)\n",
        "    plt.tight_layout()\n",
        "    plt.show()"
      ],
      "metadata": {
        "id": "qV0siOs80mG-"
      },
      "execution_count": 16,
      "outputs": []
    },
    {
      "cell_type": "code",
      "source": [
        "plot_batch(imgs, msks, size=5)"
      ],
      "metadata": {
        "id": "yKQE-ybx0alP"
      },
      "execution_count": null,
      "outputs": []
    },
    {
      "cell_type": "code",
      "source": [
        "# create model\n",
        "import segmentation_models_pytorch as smp\n",
        "\n",
        "def build_model():\n",
        "    model = smp.Unet(\n",
        "        encoder_name=CFG.backbone,      # choose encoder, e.g. mobilenet_v2 or efficientnet-b7\n",
        "        encoder_weights=\"imagenet\",     # use `imagenet` pre-trained weights for encoder initialization\n",
        "        in_channels=3,                  # model input channels (1 for gray-scale images, 3 for RGB, etc.)\n",
        "        classes=CFG.num_classes,        # model output channels (number of classes in your dataset)\n",
        "        activation=None,\n",
        "    )\n",
        "    model.to(CFG.device)\n",
        "    return model\n",
        "\n",
        "def load_model(path):\n",
        "    model = build_model()\n",
        "    model.load_state_dict(torch.load(path))\n",
        "    model.eval()\n",
        "    return model"
      ],
      "metadata": {
        "id": "WE_fAamE0vss"
      },
      "execution_count": 18,
      "outputs": []
    },
    {
      "cell_type": "code",
      "source": [
        "# create loss function\n",
        "JaccardLoss = smp.losses.JaccardLoss(mode='multilabel')\n",
        "DiceLoss    = smp.losses.DiceLoss(mode='multilabel')\n",
        "BCELoss     = smp.losses.SoftBCEWithLogitsLoss()\n",
        "LovaszLoss  = smp.losses.LovaszLoss(mode='multilabel', per_image=False)\n",
        "TverskyLoss = smp.losses.TverskyLoss(mode='multilabel', log_loss=False)\n",
        "\n",
        "def dice_coef(y_true, y_pred, thr=0.5, dim=(2,3), epsilon=0.001):\n",
        "    y_true = y_true.to(torch.float32)\n",
        "    y_pred = (y_pred>thr).to(torch.float32)\n",
        "    inter = (y_true*y_pred).sum(dim=dim)\n",
        "    den = y_true.sum(dim=dim) + y_pred.sum(dim=dim)\n",
        "    dice = ((2*inter+epsilon)/(den+epsilon)).mean(dim=(1,0))\n",
        "    return dice\n",
        "\n",
        "def iou_coef(y_true, y_pred, thr=0.5, dim=(2,3), epsilon=0.001):\n",
        "    y_true = y_true.to(torch.float32)\n",
        "    y_pred = (y_pred>thr).to(torch.float32)\n",
        "    inter = (y_true*y_pred).sum(dim=dim)\n",
        "    union = (y_true + y_pred - y_true*y_pred).sum(dim=dim)\n",
        "    iou = ((inter+epsilon)/(union+epsilon)).mean(dim=(1,0))\n",
        "    return iou\n",
        "\n",
        "def criterion(y_pred, y_true):\n",
        "    return 0.5*BCELoss(y_pred, y_true) + 0.5*TverskyLoss(y_pred, y_true)"
      ],
      "metadata": {
        "id": "Q8kEYsra02oa"
      },
      "execution_count": 19,
      "outputs": []
    },
    {
      "cell_type": "code",
      "source": [
        "import gc\n",
        "gc.collect()"
      ],
      "metadata": {
        "colab": {
          "base_uri": "https://localhost:8080/"
        },
        "id": "kiMpJiL31OaS",
        "outputId": "b45096dd-80eb-4920-d37b-505b35a03ab6"
      },
      "execution_count": 20,
      "outputs": [
        {
          "output_type": "execute_result",
          "data": {
            "text/plain": [
              "18168"
            ]
          },
          "metadata": {},
          "execution_count": 20
        }
      ]
    },
    {
      "cell_type": "code",
      "source": [
        "from torch.cuda import amp\n",
        "from tqdm import tqdm\n",
        "# training function for on epoch\n",
        "def train_one_epoch(model, optimizer, scheduler, dataloader, device, epoch):\n",
        "    model.train()\n",
        "    scaler = amp.GradScaler()\n",
        "    \n",
        "    dataset_size = 0\n",
        "    running_loss = 0.0\n",
        "    \n",
        "    pbar = tqdm(enumerate(dataloader), total=len(dataloader), desc='Train ')\n",
        "    for step, (images, masks) in pbar:         \n",
        "        images = images.to(device, dtype=torch.float)\n",
        "        masks  = masks.to(device, dtype=torch.float)\n",
        "        \n",
        "        batch_size = images.size(0)\n",
        "        \n",
        "        with amp.autocast(enabled=True):\n",
        "            y_pred = model(images)\n",
        "            loss   = criterion(y_pred, masks)\n",
        "            loss   = loss / CFG.n_accumulate\n",
        "            \n",
        "        scaler.scale(loss).backward()\n",
        "    \n",
        "        if (step + 1) % CFG.n_accumulate == 0:\n",
        "            scaler.step(optimizer)\n",
        "            scaler.update()\n",
        "\n",
        "            # zero the parameter gradients\n",
        "            optimizer.zero_grad()\n",
        "\n",
        "            if scheduler is not None:\n",
        "                scheduler.step()\n",
        "                \n",
        "        running_loss += (loss.item() * batch_size)\n",
        "        dataset_size += batch_size\n",
        "        \n",
        "        epoch_loss = running_loss / dataset_size\n",
        "        \n",
        "        mem = torch.cuda.memory_reserved() / 1E9 if torch.cuda.is_available() else 0\n",
        "        current_lr = optimizer.param_groups[0]['lr']\n",
        "        pbar.set_postfix(train_loss=f'{epoch_loss:0.4f}',\n",
        "                        lr=f'{current_lr:0.5f}',\n",
        "                        gpu_mem=f'{mem:0.2f} GB')\n",
        "    torch.cuda.empty_cache()\n",
        "    gc.collect()\n",
        "    \n",
        "    return epoch_loss"
      ],
      "metadata": {
        "id": "Za_jIvXC09Zg"
      },
      "execution_count": 21,
      "outputs": []
    },
    {
      "cell_type": "code",
      "source": [
        "@torch.no_grad()\n",
        "def valid_one_epoch(model, dataloader, device, epoch):\n",
        "    model.eval()\n",
        "    \n",
        "    dataset_size = 0\n",
        "    running_loss = 0.0\n",
        "    \n",
        "    val_scores = []\n",
        "    \n",
        "    pbar = tqdm(enumerate(dataloader), total=len(dataloader), desc='Valid ')\n",
        "    for step, (images, masks) in pbar:        \n",
        "        images  = images.to(device, dtype=torch.float)\n",
        "        masks   = masks.to(device, dtype=torch.float)\n",
        "        \n",
        "        batch_size = images.size(0)\n",
        "        \n",
        "        y_pred  = model(images)\n",
        "        loss    = criterion(y_pred, masks)\n",
        "        \n",
        "        running_loss += (loss.item() * batch_size)\n",
        "        dataset_size += batch_size\n",
        "        \n",
        "        epoch_loss = running_loss / dataset_size\n",
        "        \n",
        "        y_pred = nn.Sigmoid()(y_pred)\n",
        "        val_dice = dice_coef(masks, y_pred).cpu().detach().numpy()\n",
        "        val_jaccard = iou_coef(masks, y_pred).cpu().detach().numpy()\n",
        "        val_scores.append([val_dice, val_jaccard])\n",
        "        \n",
        "        mem = torch.cuda.memory_reserved() / 1E9 if torch.cuda.is_available() else 0\n",
        "        current_lr = optimizer.param_groups[0]['lr']\n",
        "        pbar.set_postfix(valid_loss=f'{epoch_loss:0.4f}',\n",
        "                        lr=f'{current_lr:0.5f}',\n",
        "                        gpu_memory=f'{mem:0.2f} GB')\n",
        "    val_scores  = np.mean(val_scores, axis=0)\n",
        "    torch.cuda.empty_cache()\n",
        "    gc.collect()\n",
        "    \n",
        "    return epoch_loss, val_scores"
      ],
      "metadata": {
        "id": "EOq1zhB11bem"
      },
      "execution_count": 22,
      "outputs": []
    },
    {
      "cell_type": "code",
      "source": [
        "# run training\n",
        "import time\n",
        "import copy\n",
        "from collections import defaultdict\n",
        "def run_training(model, optimizer, scheduler, device, num_epochs):\n",
        "    # To automatically log gradients\n",
        "    # wandb.watch(model, log_freq=100)\n",
        "    \n",
        "    if torch.cuda.is_available():\n",
        "        print(\"cuda: {}\\n\".format(torch.cuda.get_device_name()))\n",
        "    \n",
        "    start = time.time()\n",
        "    best_model_wts = copy.deepcopy(model.state_dict())\n",
        "    best_dice      = -np.inf\n",
        "    best_epoch     = -1\n",
        "    history = defaultdict(list)\n",
        "    \n",
        "    for epoch in range(1, num_epochs + 1): \n",
        "        gc.collect()\n",
        "        print(f'Epoch {epoch}/{num_epochs}', end='')\n",
        "        train_loss = train_one_epoch(model, optimizer, scheduler, \n",
        "                                           dataloader=train_loader, \n",
        "                                           device=CFG.device, epoch=epoch)\n",
        "        \n",
        "        val_loss, val_scores = valid_one_epoch(model, valid_loader, \n",
        "                                                 device=CFG.device, \n",
        "                                                 epoch=epoch)\n",
        "        val_dice, val_jaccard = val_scores\n",
        "    \n",
        "        history['Train Loss'].append(train_loss)\n",
        "        history['Valid Loss'].append(val_loss)\n",
        "        history['Valid Dice'].append(val_dice)\n",
        "        history['Valid Jaccard'].append(val_jaccard)\n",
        "        \n",
        "        # Log the metrics\n",
        "        \"\"\"\n",
        "        wandb.log({\"Train Loss\": train_loss, \n",
        "                   \"Valid Loss\": val_loss,\n",
        "                   \"Valid Dice\": val_dice,\n",
        "                   \"Valid Jaccard\": val_jaccard,\n",
        "                   \"LR\":scheduler.get_last_lr()[0]})\n",
        "        \"\"\"\n",
        "        \n",
        "        print(f'Valid Dice: {val_dice:0.4f} | Valid Jaccard: {val_jaccard:0.4f}')\n",
        "        \n",
        "        # deep copy the model\n",
        "        if val_dice >= best_dice:\n",
        "            print(f\"Valid Score Improved ({best_dice:0.4f} ---> {val_dice:0.4f})\")\n",
        "            best_dice    = val_dice\n",
        "            best_jaccard = val_jaccard\n",
        "            best_epoch   = epoch\n",
        "            # run.summary[\"Best Dice\"]    = best_dice\n",
        "            # run.summary[\"Best Jaccard\"] = best_jaccard\n",
        "            # run.summary[\"Best Epoch\"]   = best_epoch\n",
        "            best_model_wts = copy.deepcopy(model.state_dict())\n",
        "            PATH = f\"best_epoch-{fold:02d}.bin\"\n",
        "            torch.save(model.state_dict(), PATH)\n",
        "            # Save a model file from the current directory\n",
        "            # wandb.save(PATH)\n",
        "            print(f\"Model Saved\")\n",
        "            \n",
        "        last_model_wts = copy.deepcopy(model.state_dict())\n",
        "        PATH = f\"last_epoch-{fold:02d}.bin\"\n",
        "        torch.save(model.state_dict(), PATH)\n",
        "            \n",
        "        print(); print()\n",
        "    \n",
        "    end = time.time()\n",
        "    time_elapsed = end - start\n",
        "    print('Training complete in {:.0f}h {:.0f}m {:.0f}s'.format(\n",
        "        time_elapsed // 3600, (time_elapsed % 3600) // 60, (time_elapsed % 3600) % 60))\n",
        "    print(\"Best Score: {:.4f}\".format(best_jaccard))\n",
        "    \n",
        "    # load best model weights\n",
        "    model.load_state_dict(best_model_wts)\n",
        "    \n",
        "    return model, history"
      ],
      "metadata": {
        "id": "1TYGaryx1nyZ"
      },
      "execution_count": 23,
      "outputs": []
    },
    {
      "cell_type": "code",
      "source": [
        "# optimizer\n",
        "from torch.optim import lr_scheduler\n",
        "def fetch_scheduler(optimizer):\n",
        "    if CFG.scheduler == 'CosineAnnealingLR':\n",
        "        scheduler = lr_scheduler.CosineAnnealingLR(optimizer,T_max=CFG.T_max, \n",
        "                                                   eta_min=CFG.min_lr)\n",
        "    elif CFG.scheduler == 'CosineAnnealingWarmRestarts':\n",
        "        scheduler = lr_scheduler.CosineAnnealingWarmRestarts(optimizer,T_0=CFG.T_0, \n",
        "                                                             eta_min=CFG.min_lr)\n",
        "    elif CFG.scheduler == 'ReduceLROnPlateau':\n",
        "        scheduler = lr_scheduler.ReduceLROnPlateau(optimizer,\n",
        "                                                   mode='min',\n",
        "                                                   factor=0.1,\n",
        "                                                   patience=7,\n",
        "                                                   threshold=0.0001,\n",
        "                                                   min_lr=CFG.min_lr,)\n",
        "    elif CFG.scheduer == 'ExponentialLR':\n",
        "        scheduler = lr_scheduler.ExponentialLR(optimizer, gamma=0.85)\n",
        "    elif CFG.scheduler == None:\n",
        "        return None\n",
        "        \n",
        "    return scheduler"
      ],
      "metadata": {
        "id": "vGEeyVgS2q4s"
      },
      "execution_count": 25,
      "outputs": []
    },
    {
      "cell_type": "code",
      "source": [
        "model = build_model()\n",
        "optimizer = optim.Adam(model.parameters(), lr=CFG.lr, weight_decay=CFG.wd)\n",
        "scheduler = fetch_scheduler(optimizer)"
      ],
      "metadata": {
        "colab": {
          "base_uri": "https://localhost:8080/",
          "height": 86,
          "referenced_widgets": [
            "84a0b9e0f8a64ae687714e32030a3847",
            "b84e0e63781e46b2afbaf886d7c49d87",
            "9b9f06f75943448db18ae18c0d8d8867",
            "d2b5fd35836f4aa2b166127499a44208",
            "160f208238734ce090c345a9ad28c4e4",
            "e1149c4816134c9fab748fce70f01523",
            "bc7c968d1ffd4fb28221974f8cc80c42",
            "ca088084407c4bdaa2461e201f97341f",
            "8cb222b210594ebe9337aa545fbf514d",
            "0366963a8558493c8e58bbdffce3fe98",
            "a589b70c7f10400c9d7c7535a0fefc38"
          ]
        },
        "id": "Iv7aiH_S2tEr",
        "outputId": "e1211e44-d0e1-4962-e427-6d1cd2ac8239"
      },
      "execution_count": 26,
      "outputs": [
        {
          "output_type": "stream",
          "name": "stderr",
          "text": [
            "Downloading: \"https://github.com/lukemelas/EfficientNet-PyTorch/releases/download/1.0/efficientnet-b1-f1951068.pth\" to /root/.cache/torch/hub/checkpoints/efficientnet-b1-f1951068.pth\n"
          ]
        },
        {
          "output_type": "display_data",
          "data": {
            "text/plain": [
              "  0%|          | 0.00/30.1M [00:00<?, ?B/s]"
            ],
            "application/vnd.jupyter.widget-view+json": {
              "version_major": 2,
              "version_minor": 0,
              "model_id": "84a0b9e0f8a64ae687714e32030a3847"
            }
          },
          "metadata": {}
        }
      ]
    },
    {
      "cell_type": "code",
      "source": [
        "for fold in range(1):\n",
        "    print(f'#'*15)\n",
        "    print(f'### Fold: {fold}')\n",
        "    print(f'#'*15)\n",
        "    train_loader, valid_loader = prepare_loaders(fold=fold, debug=CFG.debug)\n",
        "    model     = build_model()\n",
        "    optimizer = optim.Adam(model.parameters(), lr=CFG.lr, weight_decay=CFG.wd)\n",
        "    scheduler = fetch_scheduler(optimizer)\n",
        "    model, history = run_training(model, optimizer, scheduler,\n",
        "                                  device=CFG.device,\n",
        "                                  num_epochs=CFG.epochs)"
      ],
      "metadata": {
        "colab": {
          "base_uri": "https://localhost:8080/"
        },
        "id": "gL9D4gOM2_Pw",
        "outputId": "d62609c0-0167-49c6-f15c-0038f1ba57b8"
      },
      "execution_count": null,
      "outputs": [
        {
          "output_type": "stream",
          "name": "stdout",
          "text": [
            "###############\n",
            "### Fold: 0\n",
            "###############\n"
          ]
        },
        {
          "output_type": "stream",
          "name": "stderr",
          "text": [
            "/usr/local/lib/python3.8/dist-packages/torch/utils/data/dataloader.py:554: UserWarning: This DataLoader will create 4 worker processes in total. Our suggested max number of worker in current system is 2, which is smaller than what this DataLoader is going to create. Please be aware that excessive worker creation might get DataLoader running slow or even freeze, lower the worker number to avoid potential slowness/freeze if necessary.\n",
            "  warnings.warn(_create_warning_msg(\n"
          ]
        },
        {
          "output_type": "stream",
          "name": "stdout",
          "text": [
            "cuda: Tesla T4\n",
            "\n",
            "Epoch 1/15"
          ]
        },
        {
          "output_type": "stream",
          "name": "stderr",
          "text": [
            "Train : 100%|██████████| 240/240 [10:08<00:00,  2.54s/it, gpu_mem=13.43 GB, lr=0.00198, train_loss=0.3238]\n",
            "Valid : 100%|██████████| 31/31 [00:55<00:00,  1.79s/it, gpu_memory=10.97 GB, lr=0.00198, valid_loss=0.3302]\n"
          ]
        },
        {
          "output_type": "stream",
          "name": "stdout",
          "text": [
            "Valid Dice: 0.6093 | Valid Jaccard: 0.5814\n",
            "Valid Score Improved (-inf ---> 0.6093)\n",
            "Model Saved\n",
            "\n",
            "\n",
            "Epoch 2/15"
          ]
        },
        {
          "output_type": "stream",
          "name": "stderr",
          "text": [
            "Train : 100%|██████████| 240/240 [09:23<00:00,  2.35s/it, gpu_mem=13.51 GB, lr=0.00191, train_loss=0.1438]\n",
            "Valid : 100%|██████████| 31/31 [00:54<00:00,  1.76s/it, gpu_memory=11.07 GB, lr=0.00191, valid_loss=0.3143]\n"
          ]
        },
        {
          "output_type": "stream",
          "name": "stdout",
          "text": [
            "Valid Dice: 0.5021 | Valid Jaccard: 0.4695\n",
            "\n",
            "\n",
            "Epoch 3/15"
          ]
        },
        {
          "output_type": "stream",
          "name": "stderr",
          "text": [
            "Train : 100%|██████████| 240/240 [09:26<00:00,  2.36s/it, gpu_mem=13.51 GB, lr=0.00181, train_loss=0.1237]\n",
            "Valid :   0%|          | 0/31 [00:00<?, ?it/s]"
          ]
        }
      ]
    },
    {
      "cell_type": "code",
      "source": [
        "# prediction\n",
        "test_dataset = BuildDataset(df.query(\"fold==0 & empty==0\").sample(frac=1.0), label=False, \n",
        "                            transforms=data_transforms['valid'])\n",
        "test_loader  = DataLoader(test_dataset, batch_size=5, \n",
        "                          num_workers=4, shuffle=False, pin_memory=True)\n",
        "imgs = next(iter(test_loader))\n",
        "imgs = imgs.to(CFG.device, dtype=torch.float)\n",
        "\n",
        "preds = []\n",
        "for fold in range(1):\n",
        "    model = load_model(f\"best_epoch-{fold:02d}.bin\")\n",
        "    with torch.no_grad():\n",
        "        pred = model(imgs)\n",
        "        pred = (nn.Sigmoid()(pred)>0.5).double()\n",
        "    preds.append(pred)\n",
        "    \n",
        "imgs  = imgs.cpu().detach()\n",
        "preds = torch.mean(torch.stack(preds, dim=0), dim=0).cpu().detach()"
      ],
      "metadata": {
        "id": "jFvLqCR73UOf"
      },
      "execution_count": null,
      "outputs": []
    },
    {
      "cell_type": "code",
      "source": [
        "plot_batch(imgs, preds, size=5)"
      ],
      "metadata": {
        "id": "C6S1_pgL3YAb"
      },
      "execution_count": null,
      "outputs": []
    },
    {
      "cell_type": "code",
      "source": [],
      "metadata": {
        "id": "CcmhC0AQwkyS"
      },
      "execution_count": null,
      "outputs": []
    },
    {
      "cell_type": "code",
      "source": [
        "# create csv file\n",
        "# case_day, id, img_path, mask_path, height, width, hpix, wpix, label"
      ],
      "metadata": {
        "id": "0KmEOn-I3_z-"
      },
      "execution_count": null,
      "outputs": []
    },
    {
      "cell_type": "code",
      "source": [
        "# Tips for df split\n",
        "msk = np.random.rand(len(df)) < train_ratio\n",
        "train_df = df[msk]\n",
        "val_df = df[~msk]"
      ],
      "metadata": {
        "id": "4g94tvfCq50_"
      },
      "execution_count": null,
      "outputs": []
    },
    {
      "cell_type": "code",
      "source": [],
      "metadata": {
        "id": "3B9Q04k1PvSQ"
      },
      "execution_count": null,
      "outputs": []
    }
  ]
}