{
  "nbformat": 4,
  "nbformat_minor": 0,
  "metadata": {
    "colab": {
      "provenance": [],
      "gpuType": "T4",
      "authorship_tag": "ABX9TyNeOHtH79VYqtyXrIyJtE3u",
      "include_colab_link": true
    },
    "kernelspec": {
      "name": "python3",
      "display_name": "Python 3"
    },
    "language_info": {
      "name": "python"
    },
    "accelerator": "GPU",
    "gpuClass": "standard"
  },
  "cells": [
    {
      "cell_type": "markdown",
      "metadata": {
        "id": "view-in-github",
        "colab_type": "text"
      },
      "source": [
        "<a href=\"https://colab.research.google.com/github/softmurata/colab_notebooks/blob/main/computervison/VLPart.ipynb\" target=\"_parent\"><img src=\"https://colab.research.google.com/assets/colab-badge.svg\" alt=\"Open In Colab\"/></a>"
      ]
    },
    {
      "cell_type": "markdown",
      "source": [
        "Installation"
      ],
      "metadata": {
        "id": "CQE5JTQo0y14"
      }
    },
    {
      "cell_type": "code",
      "execution_count": null,
      "metadata": {
        "id": "US_2Qc7mwgx2"
      },
      "outputs": [],
      "source": [
        "!git clone https://github.com/facebookresearch/VLPart.git\n",
        "%cd VLPart\n",
        "!git clone https://github.com/facebookresearch/detectron2.git\n",
        "%cd detectron2\n",
        "!pip install -e .\n",
        "%cd ..\n",
        "%cd /content/VLPart\n",
        "!pip install -r requirements.txt"
      ]
    },
    {
      "cell_type": "markdown",
      "source": [
        "Download model"
      ],
      "metadata": {
        "id": "P2EZbu7Y04e1"
      }
    },
    {
      "cell_type": "code",
      "source": [
        "!wget https://github.com/PeizeSun/VLPart/releases/download/v0.1/r50_pascalpart.pth -P checkpoints"
      ],
      "metadata": {
        "id": "a2QRsh-ryYVo"
      },
      "execution_count": null,
      "outputs": []
    },
    {
      "cell_type": "markdown",
      "source": [
        "Prepare Demo Image"
      ],
      "metadata": {
        "id": "6REJ_MmG1Ezb"
      }
    },
    {
      "cell_type": "code",
      "source": [
        "!wget https://221616.com/assets/img/find/img_subaru-legacytwgn.png -O input1.png"
      ],
      "metadata": {
        "id": "zT3F-azFyy3N"
      },
      "execution_count": null,
      "outputs": []
    },
    {
      "cell_type": "markdown",
      "source": [
        "inference with r50pascalpart and vocabulary with pascal_part"
      ],
      "metadata": {
        "id": "iZOcZKhjz-rj"
      }
    },
    {
      "cell_type": "code",
      "source": [
        "!python demo/demo.py --config-file configs/pascal_part/r50_pascalpart.yaml \\\n",
        "  --input input1.png \\\n",
        "  --output output_image \\\n",
        "  --vocabulary pascal_part \\\n",
        "  --confidence-threshold 0.7 \\\n",
        "  --opts MODEL.WEIGHTS checkpoints/r50_pascalpart.pth VIS.BOX False"
      ],
      "metadata": {
        "id": "29aYWXK8yB_d"
      },
      "execution_count": null,
      "outputs": []
    },
    {
      "cell_type": "code",
      "source": [
        "from PIL import Image\n",
        "display(Image.open(\"output_image/input1.png\"))"
      ],
      "metadata": {
        "id": "KDVgAk3Q1T1w"
      },
      "execution_count": null,
      "outputs": []
    },
    {
      "cell_type": "markdown",
      "source": [
        "room data with paco"
      ],
      "metadata": {
        "id": "eSU5cqwm1q8y"
      }
    },
    {
      "cell_type": "code",
      "source": [
        "!wget https://d1sw4fcdq5we39.cloudfront.net/wp-content/uploads/2020/02/14174336/DSC03269.jpg -O room.jpg"
      ],
      "metadata": {
        "id": "Co-x54ts1ulD"
      },
      "execution_count": null,
      "outputs": []
    },
    {
      "cell_type": "code",
      "source": [
        "!wget https://github.com/PeizeSun/VLPart/releases/download/v0.1/r50_paco.pth -P checkpoints"
      ],
      "metadata": {
        "id": "N2Sie_9P3JDk"
      },
      "execution_count": null,
      "outputs": []
    },
    {
      "cell_type": "code",
      "source": [
        "!python demo/demo.py --config-file configs/paco/r50_paco.yaml \\\n",
        "  --input room.jpg \\\n",
        "  --output output_image \\\n",
        "  --vocabulary paco \\\n",
        "  --confidence-threshold 0.7 \\\n",
        "  --opts MODEL.WEIGHTS checkpoints/r50_paco.pth VIS.BOX False"
      ],
      "metadata": {
        "id": "iZkFLnx915dc"
      },
      "execution_count": null,
      "outputs": []
    },
    {
      "cell_type": "code",
      "source": [
        "from PIL import Image\n",
        "display(Image.open(\"output_image/room.jpg\"))"
      ],
      "metadata": {
        "id": "CApX6aTl16xW"
      },
      "execution_count": null,
      "outputs": []
    },
    {
      "cell_type": "markdown",
      "source": [
        "In Parsed"
      ],
      "metadata": {
        "id": "bGN9UzFG5T01"
      }
    },
    {
      "cell_type": "code",
      "source": [
        "!wget https://github.com/PeizeSun/VLPart/releases/download/v0.1/r50_lvis_paco_pascalpart_partimagenet_inparsed.pth -P checkpoints"
      ],
      "metadata": {
        "id": "qxg3WwIr5U6L"
      },
      "execution_count": null,
      "outputs": []
    },
    {
      "cell_type": "code",
      "source": [
        "!python demo/demo.py --config-file configs/joint_in/r50_lvis_paco_pascalpart_partimagenet_inparsed.yaml \\\n",
        "  --input room.jpg \\\n",
        "  --output output_image \\\n",
        "  --vocabulary paco \\\n",
        "  --confidence-threshold 0.7 \\\n",
        "  --opts MODEL.WEIGHTS checkpoints/r50_lvis_paco_pascalpart_partimagenet_inparsed.pth VIS.BOX False"
      ],
      "metadata": {
        "id": "NBs00I1W5XME"
      },
      "execution_count": null,
      "outputs": []
    },
    {
      "cell_type": "code",
      "source": [
        "from PIL import Image\n",
        "display(Image.open(\"output_image/room.jpg\"))"
      ],
      "metadata": {
        "id": "NoN2ry2a5rYO"
      },
      "execution_count": null,
      "outputs": []
    },
    {
      "cell_type": "markdown",
      "source": [
        "r50 CoCo"
      ],
      "metadata": {
        "id": "JhHvbibt69TM"
      }
    },
    {
      "cell_type": "code",
      "source": [
        "!wget https://github.com/PeizeSun/VLPart/releases/download/v0.1/r50_coco.pth -P checkpoints"
      ],
      "metadata": {
        "id": "k0wJyotA6-Qo"
      },
      "execution_count": null,
      "outputs": []
    },
    {
      "cell_type": "code",
      "source": [
        "!python demo/demo.py --config-file configs/coco/r50_coco.yaml \\\n",
        "  --input room.jpg \\\n",
        "  --output output_image \\\n",
        "  --vocabulary coco \\\n",
        "  --confidence-threshold 0.7 \\\n",
        "  --opts MODEL.WEIGHTS checkpoints/r50_coco.pth VIS.BOX False"
      ],
      "metadata": {
        "id": "hbGQ2jH27Ce4"
      },
      "execution_count": null,
      "outputs": []
    },
    {
      "cell_type": "code",
      "source": [
        "from PIL import Image\n",
        "display(Image.open(\"output_image/room.jpg\"))"
      ],
      "metadata": {
        "id": "qdjorKfS7pIw"
      },
      "execution_count": null,
      "outputs": []
    },
    {
      "cell_type": "markdown",
      "source": [
        "Swin Join IN"
      ],
      "metadata": {
        "id": "KSC0llix8YEl"
      }
    },
    {
      "cell_type": "code",
      "source": [
        "!wget https://github.com/PeizeSun/VLPart/releases/download/v0.1/swinbase_cascade_lvis_paco_pascalpart_partimagenet_inparsed.pth -P checkpoints"
      ],
      "metadata": {
        "id": "ljeKKuFh8dvW"
      },
      "execution_count": null,
      "outputs": []
    },
    {
      "cell_type": "code",
      "source": [
        "!python demo/demo.py --config-file configs/joint_in/swinbase_cascade_lvis_paco_pascalpart_partimagenet_inparsed.yaml \\\n",
        "  --input room.jpg \\\n",
        "  --output output_image \\\n",
        "  --vocabulary lvis \\\n",
        "  --confidence-threshold 0.7 \\\n",
        "  --opts MODEL.WEIGHTS checkpoints/swinbase_cascade_lvis_paco_pascalpart_partimagenet_inparsed.pth VIS.BOX False"
      ],
      "metadata": {
        "id": "0AM38rPa8hk0"
      },
      "execution_count": null,
      "outputs": []
    },
    {
      "cell_type": "code",
      "source": [
        "from PIL import Image\n",
        "display(Image.open(\"output_image/room.jpg\"))"
      ],
      "metadata": {
        "id": "45WQBqlv8rjY"
      },
      "execution_count": null,
      "outputs": []
    },
    {
      "cell_type": "markdown",
      "source": [
        "Custom Vocabulary"
      ],
      "metadata": {
        "id": "HBguYx9G-pRA"
      }
    },
    {
      "cell_type": "code",
      "source": [
        "!python demo/demo.py --config-file configs/joint_in/swinbase_cascade_lvis_paco_pascalpart_partimagenet_inparsed.yaml \\\n",
        "  --input room.jpg \\\n",
        "  --output output_image \\\n",
        "  --vocabulary custom \\\n",
        "  --custom_vocabulary \"couch, desk, table, shelf, tv, bed, carpet, painting, lamp, cusion, chair, window\" \\\n",
        "  --confidence-threshold 0.7 \\\n",
        "  --opts MODEL.WEIGHTS checkpoints/swinbase_cascade_lvis_paco_pascalpart_partimagenet_inparsed.pth VIS.BOX False"
      ],
      "metadata": {
        "id": "FEIcv5id-qpR"
      },
      "execution_count": null,
      "outputs": []
    },
    {
      "cell_type": "code",
      "source": [
        "from PIL import Image\n",
        "display(Image.open(\"output_image/room.jpg\"))"
      ],
      "metadata": {
        "id": "mYVHhDw6_OA9"
      },
      "execution_count": null,
      "outputs": []
    }
  ]
}