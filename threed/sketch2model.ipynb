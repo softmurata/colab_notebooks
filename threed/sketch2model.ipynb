{
  "nbformat": 4,
  "nbformat_minor": 0,
  "metadata": {
    "colab": {
      "provenance": [],
      "gpuType": "T4",
      "authorship_tag": "ABX9TyN3D3s5lQAtkgsema79dvUD",
      "include_colab_link": true
    },
    "kernelspec": {
      "name": "python3",
      "display_name": "Python 3"
    },
    "language_info": {
      "name": "python"
    },
    "accelerator": "GPU"
  },
  "cells": [
    {
      "cell_type": "markdown",
      "metadata": {
        "id": "view-in-github",
        "colab_type": "text"
      },
      "source": [
        "<a href=\"https://colab.research.google.com/github/softmurata/colab_notebooks/blob/main/threed/sketch2model.ipynb\" target=\"_parent\"><img src=\"https://colab.research.google.com/assets/colab-badge.svg\" alt=\"Open In Colab\"/></a>"
      ]
    },
    {
      "cell_type": "markdown",
      "source": [
        "Installation"
      ],
      "metadata": {
        "id": "jrYQ50AkgUPC"
      }
    },
    {
      "cell_type": "code",
      "execution_count": null,
      "metadata": {
        "id": "YTQf9ISDXaoV"
      },
      "outputs": [],
      "source": [
        "!git clone --recursive https://github.com/bennyguo/sketch2model.git\n",
        "!pip install tensorboard\n",
        "%cd /content/sketch2model/SoftRas\n",
        "!python setup.py install"
      ]
    },
    {
      "cell_type": "markdown",
      "source": [
        "Download and prepare data"
      ],
      "metadata": {
        "id": "D7HVcq3fgV6U"
      }
    },
    {
      "cell_type": "code",
      "source": [
        "%cd /content/sketch2model\n",
        "import gdown\n",
        "url = \"https://drive.google.com/drive/folders/1_DKZV6KtqpLKRoBd0JgOgf60wi1LYm6s\"\n",
        "gdown.download_folder(url, quiet=True, use_cookies=False)"
      ],
      "metadata": {
        "id": "56bnf7grX5Ob"
      },
      "execution_count": null,
      "outputs": []
    },
    {
      "cell_type": "code",
      "source": [
        "%cd /content/sketch2model\n",
        "!unzip checkpoints.zip\n",
        "!unzip shapenet-sketch.zip\n",
        "!unzip shapenet-synthetic.zip"
      ],
      "metadata": {
        "id": "TYJ76OJfZuvA"
      },
      "execution_count": null,
      "outputs": []
    },
    {
      "cell_type": "markdown",
      "source": [
        "inference"
      ],
      "metadata": {
        "id": "T17UvexsgYWR"
      }
    },
    {
      "cell_type": "code",
      "source": [
        "%cd /content/sketch2model\n",
        "!python infer.py --name airplane_pretrained+da --class_id 02691156 --image_path /content/sketch2model/shapenet-sketch/02691156/103c9e43cdf6501c62b600da24e0965/sketch.png"
      ],
      "metadata": {
        "id": "64HffQUtYdU-"
      },
      "execution_count": null,
      "outputs": []
    },
    {
      "cell_type": "markdown",
      "source": [
        "inference with sofa"
      ],
      "metadata": {
        "id": "34FaXKrggZ6A"
      }
    },
    {
      "cell_type": "code",
      "source": [
        "!wget https://static2.flymee.jp/product_images/df3c-102895/201907241646221426.jpg -O /content/sofa.jpg"
      ],
      "metadata": {
        "id": "1KMCNzLQeUWC"
      },
      "execution_count": null,
      "outputs": []
    },
    {
      "cell_type": "code",
      "source": [
        "import cv2\n",
        "import numpy as np\n",
        "from PIL import Image\n",
        "img_gray = cv2.cvtColor(cv2.imread(\"/content/sofa.jpg\"), cv2.COLOR_BGR2GRAY)\n",
        "med_val = np.median(img_gray)\n",
        "sigma = 0.45  # 0.33\n",
        "min_val = int(max(0, (1.0 - sigma) * med_val))\n",
        "max_val = int(max(255, (1.0 + sigma) * med_val))\n",
        "edge = cv2.Canny(img_gray, threshold1=min_val, threshold2=max_val)\n",
        "cv2.imwrite(\"/content/sofa_sketch.jpg\", edge)\n",
        "display(Image.fromarray(edge))"
      ],
      "metadata": {
        "id": "M1nU409YenLs"
      },
      "execution_count": null,
      "outputs": []
    },
    {
      "cell_type": "code",
      "source": [
        "# sofa inference 04256520\n",
        "%cd /content/sketch2model\n",
        "!python infer.py --name sofa_pretrained+da --class_id 04256520 --image_path /content/sofa_sketch.jpg"
      ],
      "metadata": {
        "id": "LaApqQXfd_oz"
      },
      "execution_count": null,
      "outputs": []
    },
    {
      "cell_type": "code",
      "source": [
        "from PIL import Image\n",
        "display(Image.open(\"/content/sofa.jpg\"))"
      ],
      "metadata": {
        "id": "pcNbTjD0g8nQ"
      },
      "execution_count": null,
      "outputs": []
    }
  ]
}