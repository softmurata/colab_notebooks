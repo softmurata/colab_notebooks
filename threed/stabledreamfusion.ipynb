{
  "nbformat": 4,
  "nbformat_minor": 0,
  "metadata": {
    "colab": {
      "provenance": [],
      "gpuType": "T4",
      "authorship_tag": "ABX9TyPLN9IECHmMciOngnsM8VbD",
      "include_colab_link": true
    },
    "kernelspec": {
      "name": "python3",
      "display_name": "Python 3"
    },
    "language_info": {
      "name": "python"
    },
    "accelerator": "GPU",
    "gpuClass": "standard"
  },
  "cells": [
    {
      "cell_type": "markdown",
      "metadata": {
        "id": "view-in-github",
        "colab_type": "text"
      },
      "source": [
        "<a href=\"https://colab.research.google.com/github/softmurata/colab_notebooks/blob/main/threed/stabledreamfusion.ipynb\" target=\"_parent\"><img src=\"https://colab.research.google.com/assets/colab-badge.svg\" alt=\"Open In Colab\"/></a>"
      ]
    },
    {
      "cell_type": "markdown",
      "source": [
        "Installation"
      ],
      "metadata": {
        "id": "SoIWbtImVcvX"
      }
    },
    {
      "cell_type": "code",
      "source": [
        "#@title install dependencies\n",
        "! git clone https://github.com/ashawkey/stable-dreamfusion.git\n",
        "\n",
        "%cd stable-dreamfusion\n",
        "\n",
        "# fix the commit \n",
        "! git reset --hard e496e35df6e9b67784c3b24504cd61a2e7c19a0d\n",
        "\n",
        "# install requirements\n",
        "! pip install -r requirements.txt\n",
        "! pip install git+https://github.com/NVlabs/nvdiffrast/\n",
        "\n",
        "# install CUDA extensions (takes about 8 minutes!)\n",
        "! pip install ./raymarching\n",
        "! pip install ./shencoder\n",
        "! pip install ./freqencoder\n",
        "! pip install ./gridencoder"
      ],
      "metadata": {
        "id": "u6pQf2TGVeno"
      },
      "execution_count": null,
      "outputs": []
    },
    {
      "cell_type": "code",
      "source": [
        "#@markdown ####**Training Settings:**\n",
        "Prompt_text = \"a zoomed out DSLR photo of a baby bunny sitting on top of a stack of pancakesr\" #@param {type: 'string'}\n",
        "Training_iters = 5000 #@param {type: 'integer'}\n",
        "Learning_rate = 1e-3 #@param {type: 'number'}\n",
        "Training_nerf_resolution = 64  #@param {type: 'integer'}\n",
        "# CUDA_ray = True #@param {type: 'boolean'}\n",
        "# View_dependent_prompt = True #@param {type: 'boolean'}\n",
        "# FP16 = True #@param {type: 'boolean'}\n",
        "Seed = 0 #@param {type: 'integer'}\n",
        "Lambda_entropy = 1e-4 #@param {type: 'number'}\n",
        "Max_steps = 512 #@param {type: 'number'}\n",
        "Checkpoint = 'latest' #@param {type: 'string'}\n",
        "\n",
        "#@markdown ---\n",
        "\n",
        "#@markdown ####**Output Settings:**\n",
        "Workspace = \"trial\" #@param{type: 'string'}\n",
        "# Save_mesh = True #@param {type: 'boolean'}\n",
        "\n",
        "# processings\n",
        "Prompt_text = \"'\" + Prompt_text + \"'\""
      ],
      "metadata": {
        "id": "cKlk8O3UVmBk"
      },
      "execution_count": 2,
      "outputs": []
    },
    {
      "cell_type": "code",
      "source": [
        "#@title start training\n",
        "import torch\n",
        "torch.cuda.empty_cache()\n",
        "\n",
        "%run main.py -O --text {Prompt_text} --workspace {Workspace} --iters {Training_iters} --lr {Learning_rate} --w {Training_nerf_resolution} --h {Training_nerf_resolution} --seed {Seed} --lambda_entropy {Lambda_entropy} --ckpt {Checkpoint} --save_mesh --max_steps {Max_steps}"
      ],
      "metadata": {
        "id": "Rk3s8JmqVseD"
      },
      "execution_count": null,
      "outputs": []
    },
    {
      "cell_type": "code",
      "source": [
        "#@markdown ####**Testing Settings:**\n",
        "\n",
        "Workspace_test = \"trial\" #@param{type: 'string'}\n",
        "# Save_mesh = True #@param {type: 'boolean'}"
      ],
      "metadata": {
        "id": "uIu2LFaUVxCu"
      },
      "execution_count": 4,
      "outputs": []
    },
    {
      "cell_type": "code",
      "source": [
        "#@title testing \n",
        "%run main.py -O --test --workspace {Workspace_test} --save_mesh"
      ],
      "metadata": {
        "id": "YeYe8Z85V0RO"
      },
      "execution_count": null,
      "outputs": []
    },
    {
      "cell_type": "code",
      "source": [
        "#@title display RGB video\n",
        "import os\n",
        "import glob\n",
        "from IPython.display import HTML\n",
        "from base64 import b64encode\n",
        "\n",
        "def get_latest_file(path):\n",
        "  dir_list = glob.glob(path)\n",
        "  dir_list.sort(key=lambda x: os.path.getmtime(x))\n",
        "  return dir_list[-1]\n",
        "\n",
        "def show_video(video_path, video_width = 600):\n",
        "   \n",
        "  video_file = open(video_path, \"r+b\").read()\n",
        "  video_url = f\"data:video/mp4;base64,{b64encode(video_file).decode()}\"\n",
        "\n",
        "  return HTML(f\"\"\"<video width={video_width} controls><source src=\"{video_url}\"></video>\"\"\")\n",
        " \n",
        "rgb_video = get_latest_file(os.path.join(Workspace, 'results', '*_rgb.mp4'))\n",
        "show_video(rgb_video)"
      ],
      "metadata": {
        "id": "_u00I7LmV4J6"
      },
      "execution_count": null,
      "outputs": []
    }
  ]
}