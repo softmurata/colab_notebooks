{
  "nbformat": 4,
  "nbformat_minor": 0,
  "metadata": {
    "colab": {
      "provenance": [],
      "gpuType": "T4",
      "authorship_tag": "ABX9TyOpX54NA4IJZB4fOHgw8zut",
      "include_colab_link": true
    },
    "kernelspec": {
      "name": "python3",
      "display_name": "Python 3"
    },
    "language_info": {
      "name": "python"
    },
    "accelerator": "GPU"
  },
  "cells": [
    {
      "cell_type": "markdown",
      "metadata": {
        "id": "view-in-github",
        "colab_type": "text"
      },
      "source": [
        "<a href=\"https://colab.research.google.com/github/softmurata/colab_notebooks/blob/main/threed/BITE.ipynb\" target=\"_parent\"><img src=\"https://colab.research.google.com/assets/colab-badge.svg\" alt=\"Open In Colab\"/></a>"
      ]
    },
    {
      "cell_type": "markdown",
      "source": [
        "Installation"
      ],
      "metadata": {
        "id": "H4ZFr3eue1GN"
      }
    },
    {
      "cell_type": "code",
      "execution_count": null,
      "metadata": {
        "id": "8jK81jSrTeyQ"
      },
      "outputs": [],
      "source": [
        "!git clone https://huggingface.co/spaces/runa91/bite_gradio"
      ]
    },
    {
      "cell_type": "code",
      "source": [
        "%cd bite_gradio\n",
        "!pip install kornia trimesh scipy chumpy pymp importlib-resources openpyxl dominate git+https://github.com/runa91/FrEIA.git\n",
        "!pip install gradio\n",
        "!pip install \"git+https://github.com/facebookresearch/pytorch3d.git@stable\""
      ],
      "metadata": {
        "id": "6he2SBX-UAuJ"
      },
      "execution_count": null,
      "outputs": []
    },
    {
      "cell_type": "code",
      "source": [
        "import pytorch3d\n",
        "print(pytorch3d.__version__)"
      ],
      "metadata": {
        "id": "z9vfs2O0cMRd"
      },
      "execution_count": null,
      "outputs": []
    },
    {
      "cell_type": "markdown",
      "source": [
        "Start WebUI"
      ],
      "metadata": {
        "id": "vfMRrDI1e30b"
      }
    },
    {
      "cell_type": "code",
      "source": [
        "# /content/bite_gradio/src/smal_pytorch/renderer/differentiable_renderer.py\n",
        "# 104, 228のpytorch3dのversionを0.6.1 -> 0.7.4に変換\n",
        "%cd /content/bite_gradio\n",
        "!python scripts/gradio_demo.py"
      ],
      "metadata": {
        "id": "kRKn4XW3UXF4"
      },
      "execution_count": null,
      "outputs": []
    }
  ]
}