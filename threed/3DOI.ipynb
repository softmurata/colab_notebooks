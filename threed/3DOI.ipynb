{
  "nbformat": 4,
  "nbformat_minor": 0,
  "metadata": {
    "colab": {
      "provenance": [],
      "gpuType": "T4",
      "authorship_tag": "ABX9TyNUwcIRN9T7ha7b5ZCDKjB1",
      "include_colab_link": true
    },
    "kernelspec": {
      "name": "python3",
      "display_name": "Python 3"
    },
    "language_info": {
      "name": "python"
    },
    "accelerator": "GPU",
    "gpuClass": "standard"
  },
  "cells": [
    {
      "cell_type": "markdown",
      "metadata": {
        "id": "view-in-github",
        "colab_type": "text"
      },
      "source": [
        "<a href=\"https://colab.research.google.com/github/softmurata/colab_notebooks/blob/main/threed/3DOI.ipynb\" target=\"_parent\"><img src=\"https://colab.research.google.com/assets/colab-badge.svg\" alt=\"Open In Colab\"/></a>"
      ]
    },
    {
      "cell_type": "markdown",
      "source": [
        "Installation"
      ],
      "metadata": {
        "id": "I2-avC-HnOt_"
      }
    },
    {
      "cell_type": "code",
      "execution_count": null,
      "metadata": {
        "id": "RkVFYHM8lIof"
      },
      "outputs": [],
      "source": [
        "!git clone https://huggingface.co/spaces/shengyi-qian/3DOI\n",
        "!pip install gradio"
      ]
    },
    {
      "cell_type": "markdown",
      "source": [
        "Start WebUI"
      ],
      "metadata": {
        "id": "_mMLyIWinQvo"
      }
    },
    {
      "cell_type": "code",
      "source": [
        "%cd /content/3DOI\n",
        "!python app.py"
      ],
      "metadata": {
        "id": "8AqmCtIqld5Z"
      },
      "execution_count": null,
      "outputs": []
    }
  ]
}