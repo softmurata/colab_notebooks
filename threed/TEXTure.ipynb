{
  "nbformat": 4,
  "nbformat_minor": 0,
  "metadata": {
    "colab": {
      "provenance": [],
      "gpuType": "T4",
      "authorship_tag": "ABX9TyPKLybrCR84CxpKjreStL4Y",
      "include_colab_link": true
    },
    "kernelspec": {
      "name": "python3",
      "display_name": "Python 3"
    },
    "language_info": {
      "name": "python"
    },
    "accelerator": "GPU",
    "gpuClass": "standard"
  },
  "cells": [
    {
      "cell_type": "markdown",
      "metadata": {
        "id": "view-in-github",
        "colab_type": "text"
      },
      "source": [
        "<a href=\"https://colab.research.google.com/github/softmurata/colab_notebooks/blob/main/threed/TEXTure.ipynb\" target=\"_parent\"><img src=\"https://colab.research.google.com/assets/colab-badge.svg\" alt=\"Open In Colab\"/></a>"
      ]
    },
    {
      "cell_type": "markdown",
      "source": [
        "https://qiita.com/ysit/items/a601cb59523cc1961556"
      ],
      "metadata": {
        "id": "kkVbDuJEQlyV"
      }
    },
    {
      "cell_type": "markdown",
      "source": [
        "Cuda11.7 install"
      ],
      "metadata": {
        "id": "keUDokH8Xe9c"
      }
    },
    {
      "cell_type": "code",
      "source": [
        "!wget https://developer.download.nvidia.com/compute/cuda/repos/ubuntu2004/x86_64/cuda-ubuntu2004.pin\n",
        "!sudo mv cuda-ubuntu2004.pin /etc/apt/preferences.d/cuda-repository-pin-600\n",
        "!wget https://developer.download.nvidia.com/compute/cuda/11.7.0/local_installers/cuda-repo-ubuntu2004-11-7-local_11.7.0-515.43.04-1_amd64.deb\n",
        "!sudo dpkg -i cuda-repo-ubuntu2004-11-7-local_11.7.0-515.43.04-1_amd64.deb\n",
        "!sudo cp /var/cuda-repo-ubuntu2004-11-7-local/cuda-*-keyring.gpg /usr/share/keyrings/\n",
        "!sudo apt-get update"
      ],
      "metadata": {
        "id": "bt4xMvPRQ7nH"
      },
      "execution_count": null,
      "outputs": []
    },
    {
      "cell_type": "code",
      "source": [
        "!sudo apt-get -y install cuda-11.7"
      ],
      "metadata": {
        "id": "Ibw2Nww0RDbl"
      },
      "execution_count": null,
      "outputs": []
    },
    {
      "cell_type": "code",
      "source": [
        "!ls -d /usr/local/cuda-*\n",
        "!which nvcc"
      ],
      "metadata": {
        "id": "z8jZDqGIQdoP"
      },
      "execution_count": null,
      "outputs": []
    },
    {
      "cell_type": "code",
      "source": [
        "import os\n",
        "p = os.getenv('PATH')\n",
        "ld = os.getenv('LD_LIBRARY_PATH')\n",
        "os.environ['PATH'] = f\"/usr/local/cuda-11.7/bin:{p}\"\n",
        "os.environ['LD_LIBRARY_PATH'] = f\"/usr/local/cuda-11.7/lib64:{ld}\"\n",
        "!nvcc --version"
      ],
      "metadata": {
        "id": "ZTXi8kWpQuom"
      },
      "execution_count": null,
      "outputs": []
    },
    {
      "cell_type": "code",
      "source": [
        "!pip install torch==1.13.0+cu117 torchvision==0.14.0+cu117 torchaudio==0.13.0 --extra-index-url https://download.pytorch.org/whl/cu117"
      ],
      "metadata": {
        "id": "7iN5ePD4R8O-"
      },
      "execution_count": null,
      "outputs": []
    },
    {
      "cell_type": "code",
      "source": [
        "!python -c \"import torch; print(torch.__version__)\""
      ],
      "metadata": {
        "colab": {
          "base_uri": "https://localhost:8080/"
        },
        "id": "ntK8pDrdSFaX",
        "outputId": "b99781c0-67d7-440c-fdde-d1468e775bf3"
      },
      "execution_count": 15,
      "outputs": [
        {
          "output_type": "stream",
          "name": "stdout",
          "text": [
            "1.13.0+cu117\n"
          ]
        }
      ]
    },
    {
      "cell_type": "markdown",
      "source": [
        "TEXTure\n",
        "https://github.com/YuliangXiu/TEXTure/tree/main"
      ],
      "metadata": {
        "id": "yhLuRs9pgEvw"
      }
    },
    {
      "cell_type": "markdown",
      "source": [
        "Installation"
      ],
      "metadata": {
        "id": "rOMDW4rIQsrg"
      }
    },
    {
      "cell_type": "code",
      "execution_count": null,
      "metadata": {
        "id": "WJWkb-7R8yAK"
      },
      "outputs": [],
      "source": [
        "!git clone https://github.com/YuliangXiu/TEXTure.git\n",
        "%cd /content/TEXTure\n",
        "!pip install -r requirements.txt"
      ]
    },
    {
      "cell_type": "code",
      "source": [
        "!pip install transformers diffusers accelerate huggingface-hub loguru einops"
      ],
      "metadata": {
        "id": "HsmxPfkY9smG"
      },
      "execution_count": null,
      "outputs": []
    },
    {
      "cell_type": "markdown",
      "source": [
        "Kaolin Installation\n",
        "https://kaolin.readthedocs.io/en/latest/notes/installation.html\n"
      ],
      "metadata": {
        "id": "wC-U6nQu_Qzo"
      }
    },
    {
      "cell_type": "code",
      "source": [
        "#@title install from source\n",
        "%cd /content\n",
        "!git clone --recursive https://github.com/NVIDIAGameWorks/kaolin\n",
        "%cd kaolin\n",
        "!git checkout v0.13.0 # optional"
      ],
      "metadata": {
        "id": "L0gP54jY-YNc"
      },
      "execution_count": null,
      "outputs": []
    },
    {
      "cell_type": "code",
      "source": [
        "# cannot torch2.0.0+cu118 -> maybe 11.3.1 and cu117\n",
        "!python setup.py develop"
      ],
      "metadata": {
        "id": "rfEEuPNm-xTZ"
      },
      "execution_count": null,
      "outputs": []
    },
    {
      "cell_type": "code",
      "source": [
        "!python -c \"import kaolin; print(kaolin.__version__)\""
      ],
      "metadata": {
        "id": "WwQJhSK6_s1J"
      },
      "execution_count": null,
      "outputs": []
    },
    {
      "cell_type": "markdown",
      "source": [
        "Inference"
      ],
      "metadata": {
        "id": "xZZcmaxMYWL9"
      }
    },
    {
      "cell_type": "code",
      "source": [
        "!huggingface-cli login"
      ],
      "metadata": {
        "id": "lNbtYnS8YW6r"
      },
      "execution_count": null,
      "outputs": []
    },
    {
      "cell_type": "code",
      "source": [
        "%cd /content/TEXTure/\n",
        "!python -m scripts.run_texture --config_path=configs/text_guided/napoleon.yaml"
      ],
      "metadata": {
        "id": "Olo-Huw69mEH"
      },
      "execution_count": null,
      "outputs": []
    }
  ]
}