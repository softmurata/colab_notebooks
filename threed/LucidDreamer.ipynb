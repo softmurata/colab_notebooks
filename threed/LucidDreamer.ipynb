{
  "nbformat": 4,
  "nbformat_minor": 0,
  "metadata": {
    "colab": {
      "provenance": [],
      "gpuType": "T4",
      "authorship_tag": "ABX9TyOmphjVJrzKP5aYP9tV/JrJ",
      "include_colab_link": true
    },
    "kernelspec": {
      "name": "python3",
      "display_name": "Python 3"
    },
    "language_info": {
      "name": "python"
    },
    "accelerator": "GPU"
  },
  "cells": [
    {
      "cell_type": "markdown",
      "metadata": {
        "id": "view-in-github",
        "colab_type": "text"
      },
      "source": [
        "<a href=\"https://colab.research.google.com/github/softmurata/colab_notebooks/blob/main/threed/LucidDreamer.ipynb\" target=\"_parent\"><img src=\"https://colab.research.google.com/assets/colab-badge.svg\" alt=\"Open In Colab\"/></a>"
      ]
    },
    {
      "cell_type": "markdown",
      "source": [
        "Installation"
      ],
      "metadata": {
        "id": "LyL8ySzYcye3"
      }
    },
    {
      "cell_type": "code",
      "execution_count": null,
      "metadata": {
        "id": "khHGXqa2cs-e"
      },
      "outputs": [],
      "source": [
        "%cd /content\n",
        "!git clone --recursive -b dev https://github.com/camenduru/LucidDreamer-Gaussian\n",
        "\n",
        "!pip install -q torch==2.0.1+cu118 torchvision==0.15.2+cu118 torchaudio==2.0.2+cu118 torchtext==0.15.2 torchdata==0.6.1 --extra-index-url https://download.pytorch.org/whl/cu118 -U\n",
        "!pip install -q diffusers accelerate gradio open3d plyfile timm==0.6.11 xformers==0.0.20\n",
        "\n",
        "!apt install libglm-dev\n",
        "!pip install /content/LucidDreamer-Gaussian/submodules/depth-diff-gaussian-rasterization-min\n",
        "!pip install /content/LucidDreamer-Gaussian/submodules/simple-knn\n",
        "\n",
        "!apt -y install -qq aria2\n",
        "!aria2c --console-log-level=error -c -x 16 -s 16 -k 1M https://huggingface.co/camenduru/ZoeDepth/resolve/main/ZoeD_M12_N.pt -d /root/.cache/torch/hub/checkpoints -o ZoeD_M12_N.pt"
      ]
    },
    {
      "cell_type": "markdown",
      "source": [
        "WebDemo"
      ],
      "metadata": {
        "id": "733amqMFczfu"
      }
    },
    {
      "cell_type": "code",
      "source": [
        "%cd /content/LucidDreamer-Gaussian\n",
        "!python app.py"
      ],
      "metadata": {
        "id": "Ui9B9i6Ncx8f"
      },
      "execution_count": null,
      "outputs": []
    }
  ]
}