{
  "nbformat": 4,
  "nbformat_minor": 0,
  "metadata": {
    "colab": {
      "provenance": [],
      "gpuType": "T4",
      "authorship_tag": "ABX9TyOAy580ywJhfACNv0pXQaSb",
      "include_colab_link": true
    },
    "kernelspec": {
      "name": "python3",
      "display_name": "Python 3"
    },
    "language_info": {
      "name": "python"
    },
    "accelerator": "GPU"
  },
  "cells": [
    {
      "cell_type": "markdown",
      "metadata": {
        "id": "view-in-github",
        "colab_type": "text"
      },
      "source": [
        "<a href=\"https://colab.research.google.com/github/softmurata/colab_notebooks/blob/main/threed/ShapeE.ipynb\" target=\"_parent\"><img src=\"https://colab.research.google.com/assets/colab-badge.svg\" alt=\"Open In Colab\"/></a>"
      ]
    },
    {
      "cell_type": "markdown",
      "source": [
        "Installation"
      ],
      "metadata": {
        "id": "QfEFozWdwY7V"
      }
    },
    {
      "cell_type": "code",
      "source": [
        "!pip install -q diffusers accelerate bitsandbytes transformers"
      ],
      "metadata": {
        "id": "QDwDOt3BoJtu"
      },
      "execution_count": null,
      "outputs": []
    },
    {
      "cell_type": "markdown",
      "source": [
        "Text to 3d"
      ],
      "metadata": {
        "id": "9cczzhZJpGet"
      }
    },
    {
      "cell_type": "code",
      "source": [
        "import torch\n",
        "from diffusers import ShapEPipeline\n",
        "from diffusers.utils import export_to_gif\n",
        "\n",
        "ckpt_id = \"openai/shap-e\"\n",
        "pipe = ShapEPipeline.from_pretrained(ckpt_id).to(\"cuda\")\n",
        "\n",
        "guidance_scale = 15.0\n",
        "prompt = \"A birthday cupcake\"\n",
        "images = pipe(\n",
        "    prompt,\n",
        "    guidance_scale=guidance_scale,\n",
        "    num_inference_steps=64,\n",
        "    frame_size=256,\n",
        ").images\n",
        "\n",
        "gif_path = export_to_gif(images[0], \"cake_3d.gif\")"
      ],
      "metadata": {
        "id": "XLU0hzc2pIGp"
      },
      "execution_count": null,
      "outputs": []
    },
    {
      "cell_type": "code",
      "source": [
        "import IPython\n",
        "\n",
        "\n",
        "out_filename = 'cake_3d.gif'\n",
        "IPython.display.Image(out_filename, format='png')"
      ],
      "metadata": {
        "id": "W2wPd38vr9fd"
      },
      "execution_count": null,
      "outputs": []
    },
    {
      "cell_type": "markdown",
      "source": [
        "Image to 3D"
      ],
      "metadata": {
        "id": "vMrzexo7t8nW"
      }
    },
    {
      "cell_type": "code",
      "source": [
        "import torch\n",
        "from diffusers import ShapEImg2ImgPipeline\n",
        "from diffusers.utils import export_to_gif, load_image\n",
        "\n",
        "ckpt_id = \"openai/shap-e-img2img\"\n",
        "pipe = ShapEImg2ImgPipeline.from_pretrained(ckpt_id).to(\"cuda\")\n",
        "\n",
        "img_url = \"https://huggingface.co/datasets/hf-internal-testing/diffusers-images/resolve/main/shap_e/burger_in.png\"\n",
        "image = load_image(img_url)\n",
        "\n",
        "generator = torch.Generator(device=\"cuda\").manual_seed(0)\n",
        "batch_size = 4\n",
        "guidance_scale = 3.0\n",
        "\n",
        "images = pipe(\n",
        "    image,\n",
        "    num_images_per_prompt=batch_size,\n",
        "    generator=generator,\n",
        "    guidance_scale=guidance_scale,\n",
        "    num_inference_steps=64,\n",
        "    frame_size=256,\n",
        "    output_type=\"pil\"\n",
        ").images\n",
        "\n",
        "gif_path = export_to_gif(images[0], \"burger_sampled_3d.gif\")"
      ],
      "metadata": {
        "id": "wQRuCpEht-K4"
      },
      "execution_count": null,
      "outputs": []
    },
    {
      "cell_type": "code",
      "source": [
        "import IPython\n",
        "\n",
        "\n",
        "out_filename = 'burger_sampled_3d.gif'\n",
        "IPython.display.Image(out_filename, format='png')"
      ],
      "metadata": {
        "id": "8BSGZ8ZcyXd0"
      },
      "execution_count": null,
      "outputs": []
    },
    {
      "cell_type": "markdown",
      "source": [
        "Sofa"
      ],
      "metadata": {
        "id": "YUr3bOUzyYRD"
      }
    },
    {
      "cell_type": "code",
      "source": [
        "!wget https://static2.flymee.jp/product_images/241c-107064/202011111208023413.jpg -O /content/sofa.jpg"
      ],
      "metadata": {
        "id": "SB-ol9UcwFDW"
      },
      "execution_count": null,
      "outputs": []
    },
    {
      "cell_type": "code",
      "source": [
        "from PIL import Image\n",
        "import torch\n",
        "from diffusers import ShapEImg2ImgPipeline\n",
        "from diffusers.utils import export_to_gif, load_image\n",
        "\n",
        "ckpt_id = \"openai/shap-e-img2img\"\n",
        "pipe = ShapEImg2ImgPipeline.from_pretrained(ckpt_id).to(\"cuda\")\n",
        "\n",
        "image = Image.open(\"/content/sofa.jpg\")\n",
        "generator = torch.Generator(device=\"cuda\").manual_seed(0)\n",
        "batch_size = 4\n",
        "guidance_scale = 3.0\n",
        "\n",
        "images = pipe(\n",
        "    image,\n",
        "    num_images_per_prompt=batch_size,\n",
        "    generator=generator,\n",
        "    guidance_scale=guidance_scale,\n",
        "    num_inference_steps=64,\n",
        "    frame_size=256,\n",
        "    output_type=\"pil\"\n",
        ").images\n",
        "\n",
        "gif_path = export_to_gif(images[0], \"sofa_sampled_3d.gif\")"
      ],
      "metadata": {
        "id": "UGlMcNtOwJk9"
      },
      "execution_count": null,
      "outputs": []
    },
    {
      "cell_type": "code",
      "source": [
        "import IPython\n",
        "\n",
        "\n",
        "out_filename = 'sofa_sampled_3d.gif'\n",
        "IPython.display.Image(out_filename, format='png')"
      ],
      "metadata": {
        "id": "3P8aWZ2u23Q4"
      },
      "execution_count": null,
      "outputs": []
    }
  ]
}