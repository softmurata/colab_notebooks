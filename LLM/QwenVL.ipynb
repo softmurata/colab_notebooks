{
  "nbformat": 4,
  "nbformat_minor": 0,
  "metadata": {
    "colab": {
      "provenance": [],
      "gpuType": "T4",
      "authorship_tag": "ABX9TyOXIe+Xnc8YlWcoLuxg45Oq",
      "include_colab_link": true
    },
    "kernelspec": {
      "name": "python3",
      "display_name": "Python 3"
    },
    "language_info": {
      "name": "python"
    },
    "accelerator": "GPU"
  },
  "cells": [
    {
      "cell_type": "markdown",
      "metadata": {
        "id": "view-in-github",
        "colab_type": "text"
      },
      "source": [
        "<a href=\"https://colab.research.google.com/github/softmurata/colab_notebooks/blob/main/LLM/QwenVL.ipynb\" target=\"_parent\"><img src=\"https://colab.research.google.com/assets/colab-badge.svg\" alt=\"Open In Colab\"/></a>"
      ]
    },
    {
      "cell_type": "markdown",
      "source": [
        "Installation"
      ],
      "metadata": {
        "id": "U1JsUZTaL0pw"
      }
    },
    {
      "cell_type": "code",
      "execution_count": null,
      "metadata": {
        "id": "H8a0hzgVGBO_"
      },
      "outputs": [],
      "source": [
        "!pip install -q transformers\n",
        "!pip install optimum\n",
        "!git clone https://github.com/JustinLin610/AutoGPTQ.git\n",
        "%cd AutoGPTQ\n",
        "!pip install -v .\n",
        "\n",
        "!pip install -q tiktoken\n",
        "!pip install -q optimum auto-gptq\n",
        "\n",
        "!pip install -q einops transformers_stream_generator accelerate"
      ]
    },
    {
      "cell_type": "markdown",
      "source": [
        "Load model"
      ],
      "metadata": {
        "id": "hDW6WwX-L6Lm"
      }
    },
    {
      "cell_type": "code",
      "source": [
        "from transformers import AutoModelForCausalLM, AutoTokenizer\n",
        "from transformers.generation import GenerationConfig\n",
        "import torch"
      ],
      "metadata": {
        "id": "M2tn2aBVGOOH"
      },
      "execution_count": 1,
      "outputs": []
    },
    {
      "cell_type": "code",
      "source": [
        "tokenizer = AutoTokenizer.from_pretrained(\"Qwen/Qwen-VL-Chat-Int4\", trust_remote_code=True)\n",
        "\n",
        "model = AutoModelForCausalLM.from_pretrained(\n",
        "    \"Qwen/Qwen-VL-Chat-Int4\",\n",
        "    device_map=\"auto\",\n",
        "    trust_remote_code=True\n",
        ").eval()"
      ],
      "metadata": {
        "id": "Lwfa7_IQGUiR"
      },
      "execution_count": null,
      "outputs": []
    },
    {
      "cell_type": "markdown",
      "source": [
        "Chat"
      ],
      "metadata": {
        "id": "VQrzAuEHL7VS"
      }
    },
    {
      "cell_type": "code",
      "source": [
        "# Either a local path or an url between <img></img> tags.\n",
        "image_path = 'https://qianwen-res.oss-cn-beijing.aliyuncs.com/Qwen-VL/assets/demo.jpeg'\n",
        "response, history = model.chat(tokenizer, query=f'<img>{image_path}</img>この写真について日本語で説明してください', history=None)\n",
        "print(response)"
      ],
      "metadata": {
        "colab": {
          "base_uri": "https://localhost:8080/"
        },
        "id": "AHSjfGGJGpKb",
        "outputId": "1d23c185-132e-4c4d-ea51-92859171fe0d"
      },
      "execution_count": 6,
      "outputs": [
        {
          "output_type": "stream",
          "name": "stdout",
          "text": [
            "この写真は、女性と狗が海辺で遊ぶ様子を表現しています。女性は狗を抱きしめて、狗の爪を手で渡しています。背景には黄色の太陽が晖く緑の海が広がり、波が来ています。この写真は、人や動物との親和性や友情を表現していると思われます。\n"
          ]
        }
      ]
    }
  ]
}