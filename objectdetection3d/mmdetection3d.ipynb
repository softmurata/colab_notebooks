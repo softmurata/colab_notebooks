{
  "nbformat": 4,
  "nbformat_minor": 0,
  "metadata": {
    "colab": {
      "provenance": [],
      "authorship_tag": "ABX9TyOEhB20FY8oguRG6N78zVZ8",
      "include_colab_link": true
    },
    "kernelspec": {
      "name": "python3",
      "display_name": "Python 3"
    },
    "language_info": {
      "name": "python"
    },
    "accelerator": "GPU",
    "gpuClass": "standard"
  },
  "cells": [
    {
      "cell_type": "markdown",
      "metadata": {
        "id": "view-in-github",
        "colab_type": "text"
      },
      "source": [
        "<a href=\"https://colab.research.google.com/github/softmurata/colab_notebooks/blob/main/objectdetection3d/mmdetection3d.ipynb\" target=\"_parent\"><img src=\"https://colab.research.google.com/assets/colab-badge.svg\" alt=\"Open In Colab\"/></a>"
      ]
    },
    {
      "cell_type": "code",
      "execution_count": null,
      "metadata": {
        "id": "KveTulewrsrU"
      },
      "outputs": [],
      "source": [
        "!pip install openmim\n",
        "!mim install mmcv-full\n",
        "!mim install mmdet\n",
        "!mim install mmsegmentation\n",
        "!git clone https://github.com/open-mmlab/mmdetection3d.git\n",
        "%cd mmdetection3d\n",
        "!pip install -e ."
      ]
    },
    {
      "cell_type": "code",
      "source": [
        "%cd /content/mmdetection3d"
      ],
      "metadata": {
        "colab": {
          "base_uri": "https://localhost:8080/"
        },
        "id": "hqTMVyh70juq",
        "outputId": "cab7e530-66f7-4087-896d-4fd0cb1cfde1"
      },
      "execution_count": 12,
      "outputs": [
        {
          "output_type": "stream",
          "name": "stdout",
          "text": [
            "/content/mmdetection3d\n"
          ]
        }
      ]
    },
    {
      "cell_type": "code",
      "source": [
        "# download weights\n",
        "!wget https://download.openmmlab.com/mmdetection3d/v0.1.0_models/fcos3d/fcos3d_r101_caffe_fpn_gn-head_dcn_2x8_1x_nus-mono3d_finetune/fcos3d_r101_caffe_fpn_gn-head_dcn_2x8_1x_nus-mono3d_finetune_20210717_095645-8d806dc2.pth -P checkpoints/"
      ],
      "metadata": {
        "id": "6iQpWEs6sN-c"
      },
      "execution_count": null,
      "outputs": []
    },
    {
      "cell_type": "code",
      "source": [
        "# mono detection docs\n",
        "\"\"\"\n",
        "python demo/mono_det_demo.py ${IMAGE_FILE} ${ANNOTATION_FILE} ${CONFIG_FILE} ${CHECKPOINT_FILE} [--device ${GPU_ID}] [--out-dir ${OUT_DIR}] [--show]\n",
        "\"\"\""
      ],
      "metadata": {
        "id": "ddbPo1u6scxZ"
      },
      "execution_count": null,
      "outputs": []
    },
    {
      "cell_type": "code",
      "source": [
        "!python demo/mono_det_demo.py demo/data/nuscenes/n015-2018-07-24-11-22-45+0800__CAM_BACK__1532402927637525.jpg demo/data/nuscenes/n015-2018-07-24-11-22-45+0800__CAM_BACK__1532402927637525_mono3d.coco.json configs/fcos3d/fcos3d_r101_caffe_fpn_gn-head_dcn_2x8_1x_nus-mono3d_finetune.py checkpoints/fcos3d_r101_caffe_fpn_gn-head_dcn_2x8_1x_nus-mono3d_finetune_20210717_095645-8d806dc2.pth"
      ],
      "metadata": {
        "colab": {
          "base_uri": "https://localhost:8080/"
        },
        "id": "5JDuuzXXsMeX",
        "outputId": "6ddd8c7b-b3a1-4437-ae83-5939faca578e"
      },
      "execution_count": 7,
      "outputs": [
        {
          "output_type": "stream",
          "name": "stdout",
          "text": [
            "load checkpoint from local path: checkpoints/fcos3d_r101_caffe_fpn_gn-head_dcn_2x8_1x_nus-mono3d_finetune_20210717_095645-8d806dc2.pth\n",
            "/usr/local/lib/python3.8/dist-packages/torch/functional.py:504: UserWarning: torch.meshgrid: in an upcoming release, it will be required to pass the indexing argument. (Triggered internally at ../aten/src/ATen/native/TensorShape.cpp:3190.)\n",
            "  return _VF.meshgrid(tensors, **kwargs)  # type: ignore[attr-defined]\n",
            "\u001b[0m"
          ]
        }
      ]
    },
    {
      "cell_type": "code",
      "source": [
        "#@title votenet\n",
        "# midas -> open3d -> votenetでは難しそう\n",
        "# 配置のテンプレートを取得したいだけなら自分で何パターンか作成すればいい話？\n",
        "# unityでroomのサンプルを作成 -> meshlab or open3dでpoinsson disk sample\n",
        "# unityからobjを生成するにはこのアセットが必要（https://assetstore.unity.com/packages/tools/utilities/scene-obj-exporter-22250）\n",
        "# package managerからインストール"
      ],
      "metadata": {
        "id": "i70vKgdT9vSt"
      },
      "execution_count": null,
      "outputs": []
    },
    {
      "cell_type": "code",
      "source": [
        "!pip install open3d"
      ],
      "metadata": {
        "id": "E1eMZO-J_Uyj"
      },
      "execution_count": null,
      "outputs": []
    },
    {
      "cell_type": "code",
      "source": [
        "# votenet_8x8_scannet-3d-18class_20200620_230238-2cea9c3a.pth\n",
        "!wget https://download.openmmlab.com/mmdetection3d/v1.0.0_models/votenet/votenet_8x8_scannet-3d-18class/votenet_8x8_scannet-3d-18class_20210823_234503-cf8134fa.pth -P checkpoints"
      ],
      "metadata": {
        "id": "3p-FI7r49xgq"
      },
      "execution_count": null,
      "outputs": []
    },
    {
      "cell_type": "code",
      "source": [
        "# !python demo/pcd_demo.py demo/data/scannet/scene0000_00.bin configs/votenet/votenet_8x8_scannet-3d-18class.py checkpoints/votenet_8x8_scannet-3d-18class_20210823_234503-cf8134fa.pth --show\n",
        "!python demo/pcd_demo.py demo/data/myexamples/roomplan002.bin configs/votenet/votenet_8x8_scannet-3d-18class.py checkpoints/votenet_8x8_scannet-3d-18class_20210823_234503-cf8134fa.pth"
      ],
      "metadata": {
        "colab": {
          "base_uri": "https://localhost:8080/"
        },
        "id": "_UzLfnT1-R24",
        "outputId": "a096c689-8344-46c5-ee17-e1a4b5648a02"
      },
      "execution_count": 20,
      "outputs": [
        {
          "output_type": "stream",
          "name": "stdout",
          "text": [
            "/usr/local/lib/python3.8/dist-packages/mmcv/cnn/bricks/conv_module.py:153: UserWarning: Unnecessary conv bias before batch/instance norm\n",
            "  warnings.warn(\n",
            "load checkpoint from local path: checkpoints/votenet_8x8_scannet-3d-18class_20210823_234503-cf8134fa.pth\n",
            "Traceback (most recent call last):\n",
            "  File \"demo/pcd_demo.py\", line 44, in <module>\n",
            "    main()\n",
            "  File \"demo/pcd_demo.py\", line 31, in main\n",
            "    result, data = inference_detector(model, args.pcd)\n",
            "  File \"/content/mmdetection3d/mmdetection3d/mmdet3d/apis/inference.py\", line 140, in inference_detector\n",
            "    data = test_pipeline(data)\n",
            "  File \"/content/mmdetection3d/mmdetection3d/mmdet3d/datasets/pipelines/compose.py\", line 49, in __call__\n",
            "    data = t(data)\n",
            "  File \"/content/mmdetection3d/mmdetection3d/mmdet3d/datasets/pipelines/loading.py\", line 430, in __call__\n",
            "    points = points.reshape(-1, self.load_dim)\n",
            "ValueError: cannot reshape array of size 2356329 into shape (6)\n",
            "\u001b[0m"
          ]
        }
      ]
    },
    {
      "cell_type": "code",
      "source": [
        "#@title imvoxelnet\n",
        "# monocularではできなさそう。roomをmonocularで推定できるモデルはなさそう、、"
      ],
      "metadata": {
        "id": "V3XDYtYZtTp8"
      },
      "execution_count": null,
      "outputs": []
    },
    {
      "cell_type": "code",
      "source": [
        "!wget https://download.openmmlab.com/mmdetection3d/v1.0.0_models/imvoxelnet/imvoxelnet_4x2_sunrgbd-3d-10class/imvoxelnet_4x2_sunrgbd-3d-10class_20220809_184416-29ca7d2e.pth -P checkpoints/"
      ],
      "metadata": {
        "id": "8ZBqDOR0tUVr"
      },
      "execution_count": null,
      "outputs": []
    },
    {
      "cell_type": "code",
      "source": [
        "!python demo/mono_det_demo.py demo/data/sunrgbd/sunrgbd_000017.jpg demo/data/sunrgbd/sunrgbd_000017_infos.pkl configs/imvoxelnet/imvoxelnet_4x2_sunrgbd-3d-10class.py checkpoints/imvoxelnet_4x2_sunrgbd-3d-10class_20220809_184416-29ca7d2e.pth"
      ],
      "metadata": {
        "id": "oMq2_9K1svcC"
      },
      "execution_count": null,
      "outputs": []
    }
  ]
}