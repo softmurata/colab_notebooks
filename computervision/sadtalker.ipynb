{
  "nbformat": 4,
  "nbformat_minor": 0,
  "metadata": {
    "colab": {
      "provenance": [],
      "gpuType": "T4",
      "authorship_tag": "ABX9TyMV6yAdloFkAjMn0NaKONPK",
      "include_colab_link": true
    },
    "kernelspec": {
      "name": "python3",
      "display_name": "Python 3"
    },
    "language_info": {
      "name": "python"
    },
    "accelerator": "GPU"
  },
  "cells": [
    {
      "cell_type": "markdown",
      "metadata": {
        "id": "view-in-github",
        "colab_type": "text"
      },
      "source": [
        "<a href=\"https://colab.research.google.com/github/softmurata/colab_notebooks/blob/main/computervision/sadtalker.ipynb\" target=\"_parent\"><img src=\"https://colab.research.google.com/assets/colab-badge.svg\" alt=\"Open In Colab\"/></a>"
      ]
    },
    {
      "cell_type": "markdown",
      "source": [
        "Installation"
      ],
      "metadata": {
        "id": "w-pB1yNuKeze"
      }
    },
    {
      "cell_type": "code",
      "execution_count": null,
      "metadata": {
        "id": "90qUOvZVHueI"
      },
      "outputs": [],
      "source": [
        "!update-alternatives --install /usr/local/bin/python3 python3 /usr/bin/python3.8 2\n",
        "!update-alternatives --install /usr/local/bin/python3 python3 /usr/bin/python3.9 1\n",
        "!python --version\n",
        "!apt-get update\n",
        "!apt install software-properties-common\n",
        "!sudo dpkg --remove --force-remove-reinstreq python3-pip python3-setuptools python3-wheel\n",
        "!apt-get install python3-pip\n",
        "\n",
        "print('Git clone project and install requirements...')\n",
        "!git clone https://github.com/cedro3/SadTalker.git &> /dev/null\n",
        "%cd SadTalker\n",
        "!export PYTHONPATH=/content/SadTalker:$PYTHONPATH\n",
        "!python3.8 -m pip install torch==1.12.1+cu113 torchvision==0.13.1+cu113 torchaudio==0.12.1 --extra-index-url https://download.pytorch.org/whl/cu113\n",
        "!apt update\n",
        "!apt install ffmpeg &> /dev/null\n",
        "!python3.8 -m pip install -r requirements.txt"
      ]
    },
    {
      "cell_type": "markdown",
      "source": [
        "Download model"
      ],
      "metadata": {
        "id": "gItoeaO6Kdod"
      }
    },
    {
      "cell_type": "code",
      "source": [
        "\n",
        "print('Download pre-trained models...')\n",
        "!rm -rf checkpoints\n",
        "!bash scripts/download_models.sh"
      ],
      "metadata": {
        "id": "gWqhR8o5H7ae"
      },
      "execution_count": null,
      "outputs": []
    },
    {
      "cell_type": "markdown",
      "source": [
        "Download Demo data"
      ],
      "metadata": {
        "id": "i4lwNEE7mf4p"
      }
    },
    {
      "cell_type": "code",
      "source": [
        "!wget https://image.civitai.com/xG1nkqKTMzGDvpLrqFT7WA/7b7d0973-edee-4454-d96d-24985229ec00/width=450/259723.jpeg -O /content/anya.jpg\n",
        "\n",
        "import cv2\n",
        "from PIL import Image\n",
        "img = cv2.imread(\"/content/anya.jpg\")\n",
        "h, w = img.shape[:2]\n",
        "cimg = img[int(0.05 * h):int(0.4 * h), int(0.3 * w):int(0.7 * w), :]\n",
        "cimg = cv2.resize(cimg, (256, 256))\n",
        "cv2.imwrite(\"/content/anya_crop.jpg\", cimg)\n",
        "display(Image.fromarray(cimg))\n",
        "\n",
        "!cp /content/anya_crop.jpg /content/SadTalker/examples/source_image/anya.jpg"
      ],
      "metadata": {
        "id": "HA9K16wzmhpN"
      },
      "execution_count": null,
      "outputs": []
    },
    {
      "cell_type": "markdown",
      "source": [
        "Inference for face"
      ],
      "metadata": {
        "id": "oTAa0yzdIFLT"
      }
    },
    {
      "cell_type": "code",
      "source": [
        "%cd /content/SadTalker\n",
        "image ='anya.jpg' #@param {type:\"string\"}\n",
        "audio ='eluosi.wav' #@param {type:\"string\"}\n",
        "source_image = 'examples/source_image/' + image\n",
        "driven_audio = 'examples/driven_audio/' + audio\n",
        "\n",
        "!python3.8 inference.py --driven_audio $driven_audio \\\n",
        "           --source_image $source_image \\\n",
        "           --result_dir ./results --enhancer gfpgan"
      ],
      "metadata": {
        "id": "vxtDGq-IICT1"
      },
      "execution_count": null,
      "outputs": []
    },
    {
      "cell_type": "markdown",
      "source": [
        "Display Videos"
      ],
      "metadata": {
        "id": "HY844C-vISTQ"
      }
    },
    {
      "cell_type": "code",
      "source": [
        "import glob\n",
        "from IPython.display import HTML\n",
        "from base64 import b64encode\n",
        "import os, sys\n",
        "\n",
        "# get the last from results\n",
        "mp4_name = sorted(glob.glob('./results/*.mp4'))[-1]\n",
        "\n",
        "mp4 = open('{}'.format(mp4_name),'rb').read()\n",
        "data_url = \"data:video/mp4;base64,\" + b64encode(mp4).decode()\n",
        "\n",
        "print('Display animation: {}'.format(mp4_name), file=sys.stderr)\n",
        "display(HTML(\"\"\"\n",
        "  <video width=256 controls>\n",
        "        <source src=\"%s\" type=\"video/mp4\">\n",
        "  </video>\n",
        "  \"\"\" % data_url))"
      ],
      "metadata": {
        "id": "kfW9ShJ7IToC"
      },
      "execution_count": null,
      "outputs": []
    },
    {
      "cell_type": "markdown",
      "source": [
        "Portait mode"
      ],
      "metadata": {
        "id": "Yq3_QEH7OxWB"
      }
    },
    {
      "cell_type": "code",
      "source": [
        "%cd /content/SadTalker\n",
        "image ='anya.jpg' #@param {type:\"string\"}\n",
        "audio ='eluosi.wav' #@param {type:\"string\"}\n",
        "source_image = 'examples/source_image/' + image\n",
        "driven_audio = 'examples/driven_audio/' + audio\n",
        "!python3.8 inference.py --driven_audio $driven_audio \\\n",
        "           --source_image $source_image \\\n",
        "           --result_dir ./results --still --enhancer gfpgan"
      ],
      "metadata": {
        "id": "TjFArc0YOy0I"
      },
      "execution_count": null,
      "outputs": []
    },
    {
      "cell_type": "code",
      "source": [
        "import glob\n",
        "from IPython.display import HTML\n",
        "from base64 import b64encode\n",
        "import os, sys\n",
        "\n",
        "# get the last from results\n",
        "mp4_name = sorted(glob.glob('./results/*.mp4'))[-1]\n",
        "\n",
        "mp4 = open('{}'.format(mp4_name),'rb').read()\n",
        "data_url = \"data:video/mp4;base64,\" + b64encode(mp4).decode()\n",
        "\n",
        "print('Display animation: {}'.format(mp4_name), file=sys.stderr)\n",
        "display(HTML(\"\"\"\n",
        "  <video width=256 controls>\n",
        "        <source src=\"%s\" type=\"video/mp4\">\n",
        "  </video>\n",
        "  \"\"\" % data_url))"
      ],
      "metadata": {
        "id": "ERz7fPDfO6Nt"
      },
      "execution_count": null,
      "outputs": []
    }
  ]
}