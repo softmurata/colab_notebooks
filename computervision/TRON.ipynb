{
  "nbformat": 4,
  "nbformat_minor": 0,
  "metadata": {
    "colab": {
      "provenance": [],
      "gpuType": "T4",
      "authorship_tag": "ABX9TyNRilQE78XmV6lUCFPtrwnt",
      "include_colab_link": true
    },
    "kernelspec": {
      "name": "python3",
      "display_name": "Python 3"
    },
    "language_info": {
      "name": "python"
    },
    "accelerator": "GPU"
  },
  "cells": [
    {
      "cell_type": "markdown",
      "metadata": {
        "id": "view-in-github",
        "colab_type": "text"
      },
      "source": [
        "<a href=\"https://colab.research.google.com/github/softmurata/colab_notebooks/blob/main/computervision/TRON.ipynb\" target=\"_parent\"><img src=\"https://colab.research.google.com/assets/colab-badge.svg\" alt=\"Open In Colab\"/></a>"
      ]
    },
    {
      "cell_type": "markdown",
      "source": [
        "Installation"
      ],
      "metadata": {
        "id": "rR1dt0M9MNG4"
      }
    },
    {
      "cell_type": "code",
      "execution_count": null,
      "metadata": {
        "id": "7feI4tuKIrN0"
      },
      "outputs": [],
      "source": [
        "!git clone https://huggingface.co/spaces/Layer6/TR0N\n",
        "!pip install -q git+https://github.com/openai/CLIP.git git+https://github.com/layer6ai-labs/tr0n.git gradio"
      ]
    },
    {
      "cell_type": "markdown",
      "source": [
        "Start webui"
      ],
      "metadata": {
        "id": "Cd40ToUYMOWQ"
      }
    },
    {
      "cell_type": "code",
      "source": [
        "%cd /content/TR0N\n",
        "!python app.py"
      ],
      "metadata": {
        "id": "ZnGzbEEHJEIB"
      },
      "execution_count": null,
      "outputs": []
    }
  ]
}