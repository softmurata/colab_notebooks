{
  "nbformat": 4,
  "nbformat_minor": 0,
  "metadata": {
    "colab": {
      "provenance": [],
      "gpuType": "T4",
      "authorship_tag": "ABX9TyOs79h2bVWHn78p9R1tzXH6",
      "include_colab_link": true
    },
    "kernelspec": {
      "name": "python3",
      "display_name": "Python 3"
    },
    "language_info": {
      "name": "python"
    },
    "accelerator": "GPU"
  },
  "cells": [
    {
      "cell_type": "markdown",
      "metadata": {
        "id": "view-in-github",
        "colab_type": "text"
      },
      "source": [
        "<a href=\"https://colab.research.google.com/github/softmurata/colab_notebooks/blob/main/computervision/StyleGANex.ipynb\" target=\"_parent\"><img src=\"https://colab.research.google.com/assets/colab-badge.svg\" alt=\"Open In Colab\"/></a>"
      ]
    },
    {
      "cell_type": "markdown",
      "source": [
        "Installation"
      ],
      "metadata": {
        "id": "YhsvOPtE_HNB"
      }
    },
    {
      "cell_type": "code",
      "execution_count": null,
      "metadata": {
        "id": "izEwTw0f-Jyv"
      },
      "outputs": [],
      "source": [
        "!pip install -q gradio huggingface_hub\n",
        "\n",
        "import os\n",
        "os.environ['CUDA_VISIBLE_DEVICES'] = \"0\"\n",
        "os.chdir('/content')\n",
        "CODE_DIR  = 'StyleGANEX'\n",
        "device = 'cuda'\n",
        "\n",
        "!git clone https://github.com/williamyang1991/StyleGANEX.git $CODE_DIR\n",
        "os.chdir(f'./{CODE_DIR}')\n",
        "\n",
        "# ninja install\n",
        "!wget https://github.com/ninja-build/ninja/releases/download/v1.8.2/ninja-linux.zip\n",
        "!sudo unzip ninja-linux.zip -d /usr/local/bin/\n",
        "!sudo update-alternatives --install /usr/bin/ninja ninja /usr/local/bin/ninja 1 --force"
      ]
    },
    {
      "cell_type": "markdown",
      "source": [
        "Face Manipulation UI"
      ],
      "metadata": {
        "id": "xmf6VwRb-fDB"
      }
    },
    {
      "cell_type": "markdown",
      "source": [
        "Get Demo Data"
      ],
      "metadata": {
        "id": "FgunWLv0C2wZ"
      }
    },
    {
      "cell_type": "code",
      "source": [
        "%cd /content/StyleGANEX\n",
        "import torch\n",
        "torch.hub.download_url_to_file('https://raw.githubusercontent.com/williamyang1991/StyleGANEX/main/data/234_sketch.jpg',\n",
        "    '234_sketch.jpg')\n",
        "torch.hub.download_url_to_file('https://github.com/williamyang1991/StyleGANEX/raw/main/output/ILip77SbmOE_inversion.pt',\n",
        "    'ILip77SbmOE_inversion.pt')\n",
        "torch.hub.download_url_to_file('https://raw.githubusercontent.com/williamyang1991/StyleGANEX/main/data/ILip77SbmOE.png',\n",
        "    'ILip77SbmOE.png')\n",
        "torch.hub.download_url_to_file('https://raw.githubusercontent.com/williamyang1991/StyleGANEX/main/data/ILip77SbmOE_mask.png',\n",
        "    'ILip77SbmOE_mask.png')\n",
        "torch.hub.download_url_to_file('https://raw.githubusercontent.com/williamyang1991/StyleGANEX/main/data/pexels-daniel-xavier-1239291.jpg',\n",
        "    'pexels-daniel-xavier-1239291.jpg')\n",
        "torch.hub.download_url_to_file('https://github.com/williamyang1991/StyleGANEX/raw/main/data/529_2.mp4',\n",
        "    '529_2.mp4')\n",
        "torch.hub.download_url_to_file('https://github.com/williamyang1991/StyleGANEX/raw/main/data/684.mp4',\n",
        "    '684.mp4')\n",
        "torch.hub.download_url_to_file('https://github.com/williamyang1991/StyleGANEX/raw/main/data/pexels-anthony-shkraba-production-8136210.mp4',\n",
        "    'pexels-anthony-shkraba-production-8136210.mp4')"
      ],
      "metadata": {
        "id": "HIUR-tYNC0X6"
      },
      "execution_count": null,
      "outputs": []
    },
    {
      "cell_type": "markdown",
      "source": [
        "Inference"
      ],
      "metadata": {
        "id": "UmusTnxhC7Mo"
      }
    },
    {
      "cell_type": "code",
      "source": [
        "%cd /content/StyleGANEX\n",
        "# webUI.styleganex_modelの424行目の:file-objectを削除\n",
        "from webUI.app_task import *\n",
        "from webUI.styleganex_model import Model\n",
        "import torch"
      ],
      "metadata": {
        "colab": {
          "base_uri": "https://localhost:8080/"
        },
        "id": "lK6vJNpb-hHD",
        "outputId": "88cd83fe-8df8-4a80-f81c-c260c164c980"
      },
      "execution_count": 1,
      "outputs": [
        {
          "output_type": "stream",
          "name": "stdout",
          "text": [
            "/content/StyleGANEX\n"
          ]
        }
      ]
    },
    {
      "cell_type": "markdown",
      "source": [
        "Load model"
      ],
      "metadata": {
        "id": "eR2iXtmG-2Mw"
      }
    },
    {
      "cell_type": "code",
      "source": [
        "device = \"cuda\" if torch.cuda.is_available() else \"cpu\"\n",
        "model = Model(device)"
      ],
      "metadata": {
        "id": "05RIFDXr-1pl"
      },
      "execution_count": 2,
      "outputs": []
    },
    {
      "cell_type": "markdown",
      "source": [
        "WebUI"
      ],
      "metadata": {
        "id": "uyxIBlUH-r9U"
      }
    },
    {
      "cell_type": "code",
      "source": [
        "import gradio as gr\n",
        "DESCRIPTION = '''\n",
        "<div align=center>\n",
        "<h1 style=\"font-weight: 900; margin-bottom: 7px;\">\n",
        "   Face Manipulation with <a href=\"https://github.com/williamyang1991/StyleGANEX\">StyleGANEX</a>\n",
        "</h1>\n",
        "<p>For faster inference without waiting in queue, you may duplicate the space and upgrade to GPU in settings.\n",
        "<a href=\"https://huggingface.co/spaces/PKUWilliamYang/StyleGANEX?duplicate=true\"><img style=\"display: inline; margin-top: 0em; margin-bottom: 0em\" src=\"https://bit.ly/3gLdBN6\" alt=\"Duplicate Space\" /></a></p>\n",
        "<p/>\n",
        "<img style=\"margin-top: 0em\" src=\"https://raw.githubusercontent.com/williamyang1991/tmpfile/master/imgs/example.jpg\" alt=\"example\">\n",
        "</div>\n",
        "'''\n",
        "ARTICLE = r\"\"\"\n",
        "If StyleGANEX is helpful, please help to ⭐ the <a href='https://github.com/williamyang1991/StyleGANEX' target='_blank'>Github Repo</a>. Thanks!\n",
        "[![GitHub Stars](https://img.shields.io/github/stars/williamyang1991/StyleGANEX?style=social)](https://github.com/williamyang1991/StyleGANEX)\n",
        "---\n",
        "📝 **Citation**\n",
        "If our work is useful for your research, please consider citing:\n",
        "```bibtex\n",
        "@article{yang2023styleganex,\n",
        "  title = {StyleGANEX: StyleGAN-Based Manipulation Beyond Cropped Aligned Faces},\n",
        "  author = {Yang, Shuai and Jiang, Liming and Liu, Ziwei and and Loy, Chen Change},\n",
        "  journal = {arXiv preprint arXiv:2303.06146},\n",
        "  year={2023},\n",
        "}\n",
        "```\n",
        "📋 **License**\n",
        "This project is licensed under <a rel=\"license\" href=\"https://github.com/williamyang1991/VToonify/blob/main/LICENSE.md\">S-Lab License 1.0</a>.\n",
        "Redistribution and use for non-commercial purposes should follow this license.\n",
        "\n",
        "📧 **Contact**\n",
        "If you have any questions, please feel free to reach me out at <b>williamyang@pku.edu.cn</b>.\n",
        "\"\"\"\n",
        "\n",
        "FOOTER = '<div align=center><img id=\"visitor-badge\" alt=\"visitor badge\" src=\"https://visitor-badge.laobi.icu/badge?page_id=williamyang1991/styleganex\" /></div>'\n",
        "\n",
        "\n",
        "with gr.Blocks(css='style.css') as demo:\n",
        "    gr.Markdown(DESCRIPTION)\n",
        "    with gr.Tabs():\n",
        "        with gr.TabItem('Inversion for Editing'):\n",
        "            create_demo_inversion(model.process_inversion, allow_optimization=True)\n",
        "        with gr.TabItem('Image Face Toonify'):\n",
        "            create_demo_toonify(model.process_toonify)\n",
        "        with gr.TabItem('Video Face Toonify'):\n",
        "            create_demo_vtoonify(model.process_vtoonify, max_frame_num=1000)\n",
        "        with gr.TabItem('Image Face Editing'):\n",
        "            create_demo_editing(model.process_editing)\n",
        "        with gr.TabItem('Video Face Editing'):\n",
        "            create_demo_vediting(model.process_vediting, max_frame_num=1000)\n",
        "        with gr.TabItem('Sketch2Face'):\n",
        "            create_demo_s2f(model.process_s2f)\n",
        "        with gr.TabItem('Mask2Face'):\n",
        "            create_demo_m2f(model.process_m2f)\n",
        "        with gr.TabItem('SR'):\n",
        "            create_demo_sr(model.process_sr)\n",
        "    gr.Markdown(ARTICLE)\n",
        "    gr.Markdown(FOOTER)\n",
        "\n",
        "demo.launch(share=True)"
      ],
      "metadata": {
        "id": "LNImeFDl-yeO"
      },
      "execution_count": null,
      "outputs": []
    },
    {
      "cell_type": "code",
      "source": [
        "# colab\n",
        "# https://colab.research.google.com/github/williamyang1991/StyleGANEX/blob/master/inference_playground.ipynb#scrollTo=Z4oU15OiceP5"
      ],
      "metadata": {
        "id": "w0uV8dQq_B8z"
      },
      "execution_count": null,
      "outputs": []
    }
  ]
}