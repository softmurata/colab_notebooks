{
  "nbformat": 4,
  "nbformat_minor": 0,
  "metadata": {
    "colab": {
      "provenance": [],
      "gpuType": "T4",
      "authorship_tag": "ABX9TyP3YEFYawRLIpWCF1cm97IT",
      "include_colab_link": true
    },
    "kernelspec": {
      "name": "python3",
      "display_name": "Python 3"
    },
    "language_info": {
      "name": "python"
    },
    "accelerator": "GPU"
  },
  "cells": [
    {
      "cell_type": "markdown",
      "metadata": {
        "id": "view-in-github",
        "colab_type": "text"
      },
      "source": [
        "<a href=\"https://colab.research.google.com/github/softmurata/colab_notebooks/blob/main/computervision/Matting_Anything.ipynb\" target=\"_parent\"><img src=\"https://colab.research.google.com/assets/colab-badge.svg\" alt=\"Open In Colab\"/></a>"
      ]
    },
    {
      "cell_type": "code",
      "source": [
        "!ls /usr/local/cuda"
      ],
      "metadata": {
        "id": "pkR3KU96FZv0"
      },
      "execution_count": null,
      "outputs": []
    },
    {
      "cell_type": "markdown",
      "source": [
        "Installation"
      ],
      "metadata": {
        "id": "Hal0Nji6LRV_"
      }
    },
    {
      "cell_type": "code",
      "execution_count": null,
      "metadata": {
        "id": "THn3-VXqFMEs"
      },
      "outputs": [],
      "source": [
        "!git clone https://github.com/SHI-Labs/Matting-Anything\n",
        "%cd Matting-Anything\n",
        "# Install all dependencies\n",
        "!pip install -r requirements.txt\n",
        "\n",
        "# Install segment-anything\n",
        "!python -m pip install -e segment-anything\n",
        "\n",
        "# Install Grounding DINO\n",
        "!export BUILD_WITH_CUDA=True\n",
        "!export CUDA_HOME=/usr/local/cuda/\n",
        "!python -m pip install -e GroundingDINO\n",
        "\n",
        "#Install diffusers\n",
        "!pip install --upgrade diffusers[torch]"
      ]
    },
    {
      "cell_type": "markdown",
      "source": [
        "Download model"
      ],
      "metadata": {
        "id": "wFblg3SHLWMH"
      }
    },
    {
      "cell_type": "code",
      "source": [
        "# Download GroundingDINO model\n",
        "!wget https://github.com/IDEA-Research/GroundingDINO/releases/download/v0.1.0-alpha/groundingdino_swint_ogc.pth -P /content/Matting-Anything/checkpoints"
      ],
      "metadata": {
        "id": "XWvMaUu9GK0m"
      },
      "execution_count": null,
      "outputs": []
    },
    {
      "cell_type": "code",
      "source": [
        "# Download MAM model\n",
        "%cd /content/Matting-Anything/checkpoints\n",
        "import gdown\n",
        "url = \"https://drive.google.com/file/d/1GNjlD5A7gN3UZTtzqev5W21w4y21nO8f/view?usp=sharing\"\n",
        "gdown.download(url=url, output=\"mam_sam_vitb.pth\", quiet=False, fuzzy=True)"
      ],
      "metadata": {
        "id": "TK5wkXY3GqY0"
      },
      "execution_count": null,
      "outputs": []
    },
    {
      "cell_type": "markdown",
      "source": [
        "Start WebUI"
      ],
      "metadata": {
        "id": "ja6-4Y7mNK-Z"
      }
    },
    {
      "cell_type": "code",
      "source": [
        "%cd /content/Matting-Anything\n",
        "!python gradio_app.py --share"
      ],
      "metadata": {
        "id": "C6VouYodHHnl"
      },
      "execution_count": null,
      "outputs": []
    }
  ]
}