{
  "nbformat": 4,
  "nbformat_minor": 0,
  "metadata": {
    "colab": {
      "provenance": [],
      "gpuType": "T4",
      "authorship_tag": "ABX9TyMebdp8ZY/3xXmmKB7+83H+",
      "include_colab_link": true
    },
    "kernelspec": {
      "name": "python3",
      "display_name": "Python 3"
    },
    "language_info": {
      "name": "python"
    },
    "accelerator": "GPU"
  },
  "cells": [
    {
      "cell_type": "markdown",
      "metadata": {
        "id": "view-in-github",
        "colab_type": "text"
      },
      "source": [
        "<a href=\"https://colab.research.google.com/github/softmurata/colab_notebooks/blob/main/computervision/Lisa.ipynb\" target=\"_parent\"><img src=\"https://colab.research.google.com/assets/colab-badge.svg\" alt=\"Open In Colab\"/></a>"
      ]
    },
    {
      "cell_type": "markdown",
      "source": [
        "colab pro ならいけると思います。"
      ],
      "metadata": {
        "id": "4OoWTITt4VoH"
      }
    },
    {
      "cell_type": "markdown",
      "source": [
        "Installation"
      ],
      "metadata": {
        "id": "Ek1uP56R4QaV"
      }
    },
    {
      "cell_type": "code",
      "execution_count": null,
      "metadata": {
        "id": "deLigVWZ27dC"
      },
      "outputs": [],
      "source": [
        "!git clone https://github.com/dvlab-research/LISA.git\n",
        "!pip install -q transformers einops gradio sentencepiece accelerate bitsandbytes"
      ]
    },
    {
      "cell_type": "markdown",
      "source": [
        "Start webUI"
      ],
      "metadata": {
        "id": "VJoYoQj64UW5"
      }
    },
    {
      "cell_type": "code",
      "source": [
        "%cd /content/LISA\n",
        "!CUDA_VISIBLE_DEVICES=0 python3 chat.py --version='xinlai/LISA-13B-llama2-v0' --precision='fp16' --load_in_4bit"
      ],
      "metadata": {
        "id": "SLxnMdCc3Wh1"
      },
      "execution_count": null,
      "outputs": []
    }
  ]
}