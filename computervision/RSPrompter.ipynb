{
  "nbformat": 4,
  "nbformat_minor": 0,
  "metadata": {
    "colab": {
      "provenance": [],
      "gpuType": "T4",
      "authorship_tag": "ABX9TyP8FjBNhLoPehytUXLnfCUL",
      "include_colab_link": true
    },
    "kernelspec": {
      "name": "python3",
      "display_name": "Python 3"
    },
    "language_info": {
      "name": "python"
    },
    "accelerator": "GPU"
  },
  "cells": [
    {
      "cell_type": "markdown",
      "metadata": {
        "id": "view-in-github",
        "colab_type": "text"
      },
      "source": [
        "<a href=\"https://colab.research.google.com/github/softmurata/colab_notebooks/blob/main/computervision/RSPrompter.ipynb\" target=\"_parent\"><img src=\"https://colab.research.google.com/assets/colab-badge.svg\" alt=\"Open In Colab\"/></a>"
      ]
    },
    {
      "cell_type": "markdown",
      "source": [
        "Installation"
      ],
      "metadata": {
        "id": "DtZOIgwjYzf1"
      }
    },
    {
      "cell_type": "code",
      "execution_count": null,
      "metadata": {
        "id": "YBix-UpdVJ18"
      },
      "outputs": [],
      "source": [
        "!git clone https://huggingface.co/spaces/KyanChen/RSPrompter\n",
        "\n",
        "%cd /content/RSPrompter\n",
        "!pip install -r requirements.txt\n",
        "!pip install gradio"
      ]
    },
    {
      "cell_type": "markdown",
      "source": [
        "Start WebUI"
      ],
      "metadata": {
        "id": "xfhpZNisY0l1"
      }
    },
    {
      "cell_type": "code",
      "source": [
        "%cd /content/RSPrompter\n",
        "!python App_main.py"
      ],
      "metadata": {
        "id": "wPeUPHbjVXzg"
      },
      "execution_count": null,
      "outputs": []
    }
  ]
}