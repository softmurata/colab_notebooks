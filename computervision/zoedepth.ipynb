{
  "nbformat": 4,
  "nbformat_minor": 0,
  "metadata": {
    "colab": {
      "provenance": [],
      "gpuType": "T4",
      "authorship_tag": "ABX9TyOcyPpW203NeP9l2ZwGA4q6",
      "include_colab_link": true
    },
    "kernelspec": {
      "name": "python3",
      "display_name": "Python 3"
    },
    "language_info": {
      "name": "python"
    },
    "accelerator": "GPU"
  },
  "cells": [
    {
      "cell_type": "markdown",
      "metadata": {
        "id": "view-in-github",
        "colab_type": "text"
      },
      "source": [
        "<a href=\"https://colab.research.google.com/github/softmurata/colab_notebooks/blob/main/computervision/zoedepth.ipynb\" target=\"_parent\"><img src=\"https://colab.research.google.com/assets/colab-badge.svg\" alt=\"Open In Colab\"/></a>"
      ]
    },
    {
      "cell_type": "markdown",
      "source": [
        "Installation"
      ],
      "metadata": {
        "id": "lROTBTMhVhdM"
      }
    },
    {
      "cell_type": "code",
      "source": [
        "!pip install timm==0.6.7\n",
        "!git clone https://github.com/isl-org/ZoeDepth.git"
      ],
      "metadata": {
        "id": "vw--CkURUZic"
      },
      "execution_count": null,
      "outputs": []
    },
    {
      "cell_type": "code",
      "source": [
        "%cd /content/ZoeDepth"
      ],
      "metadata": {
        "id": "CaqKsmYzVkxJ"
      },
      "execution_count": null,
      "outputs": []
    },
    {
      "cell_type": "markdown",
      "source": [
        "Load Model"
      ],
      "metadata": {
        "id": "CEpd0EDBVi3T"
      }
    },
    {
      "cell_type": "code",
      "execution_count": null,
      "metadata": {
        "id": "G37f1X40T79p"
      },
      "outputs": [],
      "source": [
        "import torch\n",
        "\n",
        "repo = \"isl-org/ZoeDepth\"\n",
        "# Zoe_N\n",
        "# model_zoe_n = torch.hub.load(repo, \"ZoeD_N\", pretrained=True)\n",
        "\n",
        "# Zoe_K\n",
        "# model_zoe_k = torch.hub.load(repo, \"ZoeD_K\", pretrained=True)\n",
        "\n",
        "# Zoe_NK\n",
        "model_zoe_nk = torch.hub.load(repo, \"ZoeD_NK\", pretrained=True)"
      ]
    },
    {
      "cell_type": "markdown",
      "source": [
        "Prepare Demo data"
      ],
      "metadata": {
        "id": "4PeARdPaVpLc"
      }
    },
    {
      "cell_type": "code",
      "source": [
        "# !wget https://thumb.photo-ac.com/ee/eea710a3eeb5d4fb35659625864329cb_t.jpeg -O /content/aka.jpg\n",
        "!wget https://soccer-mile.com/wp-content/uploads/2021/05/ExUx_f2UcAI9b_y-768x539.jpg -O /content/soccer.jpg"
      ],
      "metadata": {
        "id": "ANM0MwyBUoCg"
      },
      "execution_count": null,
      "outputs": []
    },
    {
      "cell_type": "markdown",
      "source": [
        "Inference"
      ],
      "metadata": {
        "id": "Iph3mdUAVrDf"
      }
    },
    {
      "cell_type": "code",
      "source": [
        "from zoedepth.utils.misc import get_image_from_url, colorize\n",
        "from PIL import Image\n",
        "import matplotlib.pyplot as plt"
      ],
      "metadata": {
        "id": "qijRddf7Vr1k"
      },
      "execution_count": 4,
      "outputs": []
    },
    {
      "cell_type": "code",
      "source": [
        "DEVICE = \"cuda\" if torch.cuda.is_available() else \"cpu\"\n",
        "zoe = model_zoe_nk.to(DEVICE)\n",
        "\n",
        "\n",
        "# Local file\n",
        "from PIL import Image\n",
        "image = Image.open(\"/content/soccer.jpg\").convert(\"RGB\")  # load\n",
        "depth = zoe.infer_pil(image)\n",
        "\n",
        "colored_depth = colorize(depth)\n",
        "fig, axs = plt.subplots(1,2, figsize=(15,7))\n",
        "for ax, im, title in zip(axs, [image, colored_depth], ['Input', 'Predicted Depth']):\n",
        "  ax.imshow(im)\n",
        "  ax.axis('off')\n",
        "  ax.set_title(title)"
      ],
      "metadata": {
        "id": "BCqIL3aqUbq4"
      },
      "execution_count": null,
      "outputs": []
    },
    {
      "cell_type": "markdown",
      "source": [
        "Midas"
      ],
      "metadata": {
        "id": "5vhjn5RIWK0e"
      }
    },
    {
      "cell_type": "code",
      "source": [
        "import torch\n",
        "import cv2\n",
        "\n",
        "model_type = \"DPT_Large\"     # MiDaS v3 - Large     (highest accuracy, slowest inference speed)\n",
        "#model_type = \"DPT_Hybrid\"   # MiDaS v3 - Hybrid    (medium accuracy, medium inference speed)\n",
        "#model_type = \"MiDaS_small\"  # MiDaS v2.1 - Small   (lowest accuracy, highest inference speed)\n",
        "\n",
        "midas = torch.hub.load(\"intel-isl/MiDaS\", model_type)\n",
        "\n",
        "device = torch.device(\"cuda\") if torch.cuda.is_available() else torch.device(\"cpu\")\n",
        "midas.to(device)\n",
        "midas.eval()\n",
        "\n",
        "midas_transforms = torch.hub.load(\"intel-isl/MiDaS\", \"transforms\")\n",
        "\n",
        "if model_type == \"DPT_Large\" or model_type == \"DPT_Hybrid\":\n",
        "    transform = midas_transforms.dpt_transform\n",
        "else:\n",
        "    transform = midas_transforms.small_transform\n",
        "\n",
        "img = cv2.imread(\"/content/soccer.jpg\")\n",
        "img = cv2.cvtColor(img, cv2.COLOR_BGR2RGB)\n",
        "\n",
        "input_batch = transform(img).to(device)\n",
        "\n",
        "with torch.no_grad():\n",
        "    prediction = midas(input_batch)\n",
        "\n",
        "    prediction = torch.nn.functional.interpolate(\n",
        "        prediction.unsqueeze(1),\n",
        "        size=img.shape[:2],\n",
        "        mode=\"bicubic\",\n",
        "        align_corners=False,\n",
        "    ).squeeze()\n",
        "\n",
        "output = prediction.cpu().numpy()\n",
        "\n",
        "fig, axs = plt.subplots(1,2, figsize=(15,7))\n",
        "for ax, im, title in zip(axs, [img, output], ['Input', 'Predicted Depth']):\n",
        "  ax.imshow(im)\n",
        "  ax.axis('off')\n",
        "  ax.set_title(title)"
      ],
      "metadata": {
        "id": "tIOfqX2CWLby"
      },
      "execution_count": null,
      "outputs": []
    }
  ]
}