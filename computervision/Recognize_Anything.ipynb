{
  "cells": [
    {
      "cell_type": "markdown",
      "metadata": {
        "id": "view-in-github",
        "colab_type": "text"
      },
      "source": [
        "<a href=\"https://colab.research.google.com/github/softmurata/colab_notebooks/blob/main/computervision/Recognize_Anything.ipynb\" target=\"_parent\"><img src=\"https://colab.research.google.com/assets/colab-badge.svg\" alt=\"Open In Colab\"/></a>"
      ]
    },
    {
      "cell_type": "markdown",
      "metadata": {
        "id": "fGuLonVxUXqd"
      },
      "source": [
        "Installation"
      ]
    },
    {
      "cell_type": "code",
      "execution_count": null,
      "metadata": {
        "id": "AWFJav2eKrrd"
      },
      "outputs": [],
      "source": [
        "!git clone https://github.com/xinyu1205/Tag2Text-Recognize_Anything.git\n",
        "!pip install timm transformers fairscale pycocoevalcap"
      ]
    },
    {
      "cell_type": "markdown",
      "metadata": {
        "id": "fNFAIurFUZwB"
      },
      "source": [
        "Download model"
      ]
    },
    {
      "cell_type": "code",
      "execution_count": null,
      "metadata": {
        "id": "-upZfZiUQFAJ"
      },
      "outputs": [],
      "source": [
        "!wget https://huggingface.co/spaces/xinyu1205/Tag2Text/resolve/main/tag2text_swin_14m.pth -P /content/Tag2Text-Recognize_Anything/pretrained"
      ]
    },
    {
      "cell_type": "markdown",
      "metadata": {
        "id": "wzPaRgBSUa8d"
      },
      "source": [
        "Inference"
      ]
    },
    {
      "cell_type": "code",
      "execution_count": null,
      "metadata": {
        "id": "Dz0OF_QHPtPV"
      },
      "outputs": [],
      "source": [
        "%cd /content/Tag2Text-Recognize_Anything\n",
        "!python inference.py  --image images/1641173_2291260800.jpg --pretrained pretrained/tag2text_swin_14m.pth"
      ]
    },
    {
      "cell_type": "code",
      "execution_count": null,
      "metadata": {
        "colab": {
          "background_save": true
        },
        "id": "Pl5DhJZdTGeF"
      },
      "outputs": [],
      "source": [
        "from PIL import Image\n",
        "display(Image.open(\"images/1641173_2291260800.jpg\"))"
      ]
    },
    {
      "cell_type": "markdown",
      "source": [
        "Grounded SAM with Tag2Text"
      ],
      "metadata": {
        "id": "wJ6UOBcOXCFy"
      }
    },
    {
      "cell_type": "code",
      "source": [
        "%cd /content\n",
        "!git clone https://github.com/IDEA-Research/Grounded-Segment-Anything.git\n",
        "%cd Grounded-Segment-Anything\n",
        "!git submodule init\n",
        "!git submodule update"
      ],
      "metadata": {
        "id": "kKt6em4sXEP7"
      },
      "execution_count": null,
      "outputs": []
    },
    {
      "cell_type": "code",
      "source": [
        "!wget https://dl.fbaipublicfiles.com/segment_anything/sam_vit_h_4b8939.pth\n",
        "!wget https://github.com/IDEA-Research/GroundingDINO/releases/download/v0.1.0-alpha/groundingdino_swint_ogc.pth\n",
        "\n",
        "%cd Tag2Text\n",
        "!wget https://huggingface.co/spaces/xinyu1205/Tag2Text/resolve/main/tag2text_swin_14m.pth"
      ],
      "metadata": {
        "id": "4EmiuTRzXQzZ"
      },
      "execution_count": null,
      "outputs": []
    },
    {
      "cell_type": "code",
      "source": [
        "%cd /content/Grounded-Segment-Anything\n",
        "# install groundingdino\n",
        "!python -m pip install -e GroundingDINO\n",
        "# segment anything\n",
        "!python -m pip install -e segment_anything"
      ],
      "metadata": {
        "id": "4n9zA-5aX7sE"
      },
      "execution_count": null,
      "outputs": []
    },
    {
      "cell_type": "code",
      "source": [
        "%cd /content/Grounded-Segment-Anything\n",
        "!CUDA_VISIBLE_DEVICES=0 python automatic_label_tag2text_demo.py \\\n",
        "  --config GroundingDINO/groundingdino/config/GroundingDINO_SwinT_OGC.py \\\n",
        "  --tag2text_checkpoint ./Tag2Text/tag2text_swin_14m.pth \\\n",
        "  --grounded_checkpoint groundingdino_swint_ogc.pth \\\n",
        "  --sam_checkpoint sam_vit_h_4b8939.pth \\\n",
        "  --input_image assets/demo9.jpg \\\n",
        "  --output_dir \"outputs\" \\\n",
        "  --box_threshold 0.25 \\\n",
        "  --text_threshold 0.2 \\\n",
        "  --iou_threshold 0.5 \\\n",
        "  --device \"cuda\""
      ],
      "metadata": {
        "id": "WeGLaoZLXWte"
      },
      "execution_count": null,
      "outputs": []
    }
  ],
  "metadata": {
    "accelerator": "GPU",
    "colab": {
      "provenance": [],
      "authorship_tag": "ABX9TyPH6SN+kVikyECA5nH7C/uA",
      "include_colab_link": true
    },
    "kernelspec": {
      "display_name": "Python 3",
      "name": "python3"
    },
    "language_info": {
      "name": "python"
    }
  },
  "nbformat": 4,
  "nbformat_minor": 0
}