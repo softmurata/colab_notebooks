{
  "nbformat": 4,
  "nbformat_minor": 0,
  "metadata": {
    "colab": {
      "provenance": [],
      "gpuType": "T4",
      "authorship_tag": "ABX9TyMrRIWZMnGzXE7NRO1gAfYX",
      "include_colab_link": true
    },
    "kernelspec": {
      "name": "python3",
      "display_name": "Python 3"
    },
    "language_info": {
      "name": "python"
    },
    "accelerator": "GPU"
  },
  "cells": [
    {
      "cell_type": "markdown",
      "metadata": {
        "id": "view-in-github",
        "colab_type": "text"
      },
      "source": [
        "<a href=\"https://colab.research.google.com/github/softmurata/colab_notebooks/blob/main/computervision/PoinTr.ipynb\" target=\"_parent\"><img src=\"https://colab.research.google.com/assets/colab-badge.svg\" alt=\"Open In Colab\"/></a>"
      ]
    },
    {
      "cell_type": "markdown",
      "source": [
        "Installation"
      ],
      "metadata": {
        "id": "NDdBC4IkZooX"
      }
    },
    {
      "cell_type": "code",
      "execution_count": null,
      "metadata": {
        "id": "FN32JHQ8-61D"
      },
      "outputs": [],
      "source": [
        "!git clone https://github.com/yuxumin/PoinTr.git\n",
        "\n",
        "%cd /content/PoinTr\n",
        "!pip install -r requirements.txt\n",
        "\n",
        "# PointNet++\n",
        "!pip install \"git+https://github.com/erikwijmans/Pointnet2_PyTorch.git#egg=pointnet2_ops&subdirectory=pointnet2_ops_lib\"\n",
        "# GPU kNN\n",
        "!pip install --upgrade https://github.com/unlimblue/KNN_CUDA/releases/download/0.2/KNN_CUDA-0.2-py3-none-any.whl"
      ]
    },
    {
      "cell_type": "markdown",
      "source": [
        "Build Command"
      ],
      "metadata": {
        "id": "rsbGTXOnQl8L"
      }
    },
    {
      "cell_type": "code",
      "source": [
        "%cd /content/PoinTr/extensions/chamfer_dist\n",
        "!rm -rf build\n",
        "!rm -rf chamfer.egg-info\n",
        "!rm -rf dist\n",
        "!python setup.py install --user\n",
        "\n",
        "%cd /content/PoinTr/extensions/gridding\n",
        "!rm -rf build\n",
        "!rm -rf gridding.egg-info\n",
        "!rm -rf dist\n",
        "!python setup.py install --user\n",
        "\n",
        "%cd /content/PoinTr/extensions/gridding_loss\n",
        "!rm -rf build\n",
        "!rm -rf gridding_distance.egg-info\n",
        "!rm -rf dist\n",
        "!python setup.py install --user\n",
        "\n",
        "%cd /content/PoinTr/extensions/emd\n",
        "!rm -rf build\n",
        "!rm -rf emd.egg-info\n",
        "!rm -rf dist\n",
        "!python setup.py install --user\n",
        "\n",
        "%cd /content/PoinTr/extensions/cubic_feature_sampling\n",
        "!rm -rf build\n",
        "!rm -rf cubic_feature_sampling.egg-info\n",
        "!rm -rf dist\n",
        "!python setup.py install --user"
      ],
      "metadata": {
        "id": "5LC_CmVjLooA"
      },
      "execution_count": null,
      "outputs": []
    },
    {
      "cell_type": "markdown",
      "source": [
        "Get weights"
      ],
      "metadata": {
        "id": "zWGe82zTZ1wo"
      }
    },
    {
      "cell_type": "code",
      "source": [
        "%cd /content/PoinTr\n",
        "!gdown --fuzzy https://drive.google.com/file/d/17pE2U2T2k4w1KfmDbL6U-GkEwD-duTaF/view"
      ],
      "metadata": {
        "id": "sCIiVWhLAOrm"
      },
      "execution_count": null,
      "outputs": []
    },
    {
      "cell_type": "markdown",
      "source": [
        "Inference"
      ],
      "metadata": {
        "id": "3OWAzDTHZ3Qo"
      }
    },
    {
      "cell_type": "code",
      "source": [
        "%cd /content/PoinTr\n",
        "!python tools/inference.py \\\n",
        "cfgs/PCN_models/AdaPoinTr.yaml AdaPoinTr_PCN.pth --pc_root demo/ --save_vis_img  --out_pc_root inference_result/"
      ],
      "metadata": {
        "id": "TdzZjsXiAJaV"
      },
      "execution_count": null,
      "outputs": []
    }
  ]
}