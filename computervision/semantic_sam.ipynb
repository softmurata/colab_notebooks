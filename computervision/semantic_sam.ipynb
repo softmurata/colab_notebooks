{
  "nbformat": 4,
  "nbformat_minor": 0,
  "metadata": {
    "colab": {
      "provenance": [],
      "gpuType": "T4",
      "authorship_tag": "ABX9TyOHIoFqHYXG/gvPz+gv70Bt",
      "include_colab_link": true
    },
    "kernelspec": {
      "name": "python3",
      "display_name": "Python 3"
    },
    "language_info": {
      "name": "python"
    },
    "accelerator": "GPU"
  },
  "cells": [
    {
      "cell_type": "markdown",
      "metadata": {
        "id": "view-in-github",
        "colab_type": "text"
      },
      "source": [
        "<a href=\"https://colab.research.google.com/github/softmurata/colab_notebooks/blob/main/computervision/semantic_sam.ipynb\" target=\"_parent\"><img src=\"https://colab.research.google.com/assets/colab-badge.svg\" alt=\"Open In Colab\"/></a>"
      ]
    },
    {
      "cell_type": "markdown",
      "source": [
        "Installation"
      ],
      "metadata": {
        "id": "CCj_zcs5PG8z"
      }
    },
    {
      "cell_type": "code",
      "execution_count": null,
      "metadata": {
        "id": "nkC4B86mO_ip"
      },
      "outputs": [],
      "source": [
        "!python -m pip install 'git+https://github.com/MaureenZOU/detectron2-xyz.git'\n",
        "!pip install git+https://github.com/cocodataset/panopticapi.git\n",
        "!git clone https://github.com/UX-Decoder/Semantic-SAM\n",
        "%cd Semantic-SAM\n",
        "!pip install -q timm einops transformers sentencepiece gradio kornia torchmetrics shapely"
      ]
    },
    {
      "cell_type": "code",
      "source": [
        "# build encoder\n",
        "%cd /content/Semantic-SAM/semantic_sam/body/encoder/ops/\n",
        "!sh make.sh"
      ],
      "metadata": {
        "id": "jc85MZxeozZm"
      },
      "execution_count": null,
      "outputs": []
    },
    {
      "cell_type": "markdown",
      "source": [
        "Download mdoel"
      ],
      "metadata": {
        "id": "Wf3RDyswotJW"
      }
    },
    {
      "cell_type": "code",
      "source": [
        "# !https://github.com/UX-Decoder/Semantic-SAM/releases/download/checkpoint/swint_only_sam_many2many.pth -P /content/ckpt\n",
        "!wget https://github.com/UX-Decoder/Semantic-SAM/releases/download/checkpoint/swinl_only_sam_many2many.pth -P /content/ckpt"
      ],
      "metadata": {
        "id": "lBGDuGnFPY9D"
      },
      "execution_count": null,
      "outputs": []
    },
    {
      "cell_type": "markdown",
      "source": [
        "Get demo Data"
      ],
      "metadata": {
        "id": "9RfcHILEowW2"
      }
    },
    {
      "cell_type": "code",
      "source": [
        "!wget https://tshop.r10s.jp/unique-weddings/cabinet/uwppwhite/63/1.jpg -O /content/wedding_dress.jpg"
      ],
      "metadata": {
        "id": "ojaO1d0EPpy3"
      },
      "execution_count": null,
      "outputs": []
    },
    {
      "cell_type": "markdown",
      "source": [
        "Point Mask generation"
      ],
      "metadata": {
        "id": "F-XoK7qTVbhB"
      }
    },
    {
      "cell_type": "code",
      "source": [
        "%cd /content/Semantic-SAM/"
      ],
      "metadata": {
        "id": "310rO98LTqPJ"
      },
      "execution_count": null,
      "outputs": []
    },
    {
      "cell_type": "code",
      "source": [
        "from semantic_sam import prepare_image, plot_multi_results, build_semantic_sam, SemanticSAMPredictor\n",
        "original_image, input_image = prepare_image(image_pth='/content/wedding_dress.jpg')  # change the image path to your image\n",
        "mask_generator = SemanticSAMPredictor(build_semantic_sam(model_type='L', ckpt='/content/ckpt/swinl_only_sam_many2many.pth')) # model_type: 'L' / 'T', depends on your checkpint\n",
        "iou_sort_masks, area_sort_masks = mask_generator.predict_masks(original_image, input_image, point=[[0.5, 0.5]]) # input point [[w, h]] relative location, i.e, [[0.5, 0.5]] is the center of the image\n",
        "plot_multi_results(iou_sort_masks, area_sort_masks, original_image, save_path='../vis/')  # results and original images will be saved at save_path"
      ],
      "metadata": {
        "id": "Kl8o6CzYPTDg"
      },
      "execution_count": null,
      "outputs": []
    },
    {
      "cell_type": "markdown",
      "source": [
        "Mask Autogenerator"
      ],
      "metadata": {
        "id": "wETn9asaVguV"
      }
    },
    {
      "cell_type": "code",
      "source": [
        "%cd /content/Semantic-SAM/"
      ],
      "metadata": {
        "id": "CDObeb6_Vlt2"
      },
      "execution_count": null,
      "outputs": []
    },
    {
      "cell_type": "code",
      "source": [
        "from semantic_sam import prepare_image, plot_results, build_semantic_sam, SemanticSamAutomaticMaskGenerator\n",
        "original_image, input_image = prepare_image(image_pth='/content/wedding_dress.jpg')  # change the image path to your image\n",
        "mask_generator = SemanticSamAutomaticMaskGenerator(build_semantic_sam(model_type='L', ckpt='/content/ckpt/swinl_only_sam_many2many.pth'), level=[2]) # model_type: 'L' / 'T', depends on your checkpint\n",
        "masks = mask_generator.generate(input_image)\n",
        "plot_results(masks, original_image, save_path='../vis/')  # results and original images will be saved at save_path"
      ],
      "metadata": {
        "id": "eTp_CS9SVjLW"
      },
      "execution_count": null,
      "outputs": []
    },
    {
      "cell_type": "code",
      "source": [
        "from tasks.interactive_idino_m2m_auto import show_anns\n",
        "from PIL import Image\n",
        "import matplotlib.pyplot as plt\n",
        "fig = plt.figure()\n",
        "plt.imshow(original_image)\n",
        "show_anns([masks[3]])\n",
        "fig.canvas.draw()\n",
        "im = Image.frombytes('RGB', fig.canvas.get_width_height(), fig.canvas.tostring_rgb())\n",
        "display(im)"
      ],
      "metadata": {
        "id": "F_ob1iilYh14"
      },
      "execution_count": null,
      "outputs": []
    }
  ]
}