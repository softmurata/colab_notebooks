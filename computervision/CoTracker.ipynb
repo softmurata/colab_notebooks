{
  "nbformat": 4,
  "nbformat_minor": 0,
  "metadata": {
    "colab": {
      "provenance": [],
      "gpuType": "T4",
      "authorship_tag": "ABX9TyP4CzzqXcp4V6FpB423FQD0",
      "include_colab_link": true
    },
    "kernelspec": {
      "name": "python3",
      "display_name": "Python 3"
    },
    "language_info": {
      "name": "python"
    },
    "accelerator": "GPU"
  },
  "cells": [
    {
      "cell_type": "markdown",
      "metadata": {
        "id": "view-in-github",
        "colab_type": "text"
      },
      "source": [
        "<a href=\"https://colab.research.google.com/github/softmurata/colab_notebooks/blob/main/computervision/CoTracker.ipynb\" target=\"_parent\"><img src=\"https://colab.research.google.com/assets/colab-badge.svg\" alt=\"Open In Colab\"/></a>"
      ]
    },
    {
      "cell_type": "markdown",
      "source": [
        "Installation"
      ],
      "metadata": {
        "id": "Mwxg2EhSrBej"
      }
    },
    {
      "cell_type": "code",
      "execution_count": null,
      "metadata": {
        "id": "aVwUQPRGq5Aq"
      },
      "outputs": [],
      "source": [
        "!git clone https://github.com/facebookresearch/co-tracker\n",
        "%cd co-tracker\n",
        "!pip install -e .\n",
        "!pip install opencv-python einops timm matplotlib moviepy flow_vis\n",
        "!mkdir checkpoints\n",
        "%cd checkpoints\n",
        "!wget https://dl.fbaipublicfiles.com/cotracker/cotracker_stride_4_wind_8.pth"
      ]
    },
    {
      "cell_type": "markdown",
      "source": [
        "Utils"
      ],
      "metadata": {
        "id": "eScpYyUq2D6a"
      }
    },
    {
      "cell_type": "code",
      "source": [
        "%cd ..\n",
        "import os\n",
        "import torch\n",
        "\n",
        "from base64 import b64encode\n",
        "from cotracker.utils.visualizer import Visualizer, read_video_from_path\n",
        "from IPython.display import HTML"
      ],
      "metadata": {
        "id": "jRboEnahrC8B"
      },
      "execution_count": null,
      "outputs": []
    },
    {
      "cell_type": "code",
      "source": [
        "video = read_video_from_path('./assets/apple.mp4')\n",
        "video = torch.from_numpy(video).permute(0, 3, 1, 2)[None].float()\n",
        "\n",
        "def show_video(video_path):\n",
        "    video_file = open(video_path, \"r+b\").read()\n",
        "    video_url = f\"data:video/mp4;base64,{b64encode(video_file).decode()}\"\n",
        "    return HTML(f\"\"\"<video width=\"640\" height=\"480\" autoplay loop controls><source src=\"{video_url}\"></video>\"\"\")\n",
        "\n",
        "show_video(\"./assets/apple.mp4\")"
      ],
      "metadata": {
        "id": "617XMkKtrI9d"
      },
      "execution_count": null,
      "outputs": []
    },
    {
      "cell_type": "markdown",
      "source": [
        "Inference"
      ],
      "metadata": {
        "id": "OEBQYR88rUPB"
      }
    },
    {
      "cell_type": "code",
      "source": [
        "from cotracker.predictor import CoTrackerPredictor\n",
        "\n",
        "model = CoTrackerPredictor(\n",
        "    checkpoint=os.path.join(\n",
        "        './checkpoints/cotracker_stride_4_wind_8.pth'\n",
        "    )\n",
        ")"
      ],
      "metadata": {
        "id": "RPDNwZwlrQAe"
      },
      "execution_count": 4,
      "outputs": []
    },
    {
      "cell_type": "code",
      "source": [
        "pred_tracks, pred_visibility = model(video, grid_size=30)"
      ],
      "metadata": {
        "id": "Qv9BDq46rS6p"
      },
      "execution_count": 5,
      "outputs": []
    },
    {
      "cell_type": "code",
      "source": [
        "vis = Visualizer(save_dir='./videos', pad_value=100)\n",
        "vis.visualize(video=video, tracks=pred_tracks, filename='teaser');\n",
        "show_video(\"./videos/teaser_pred_track.mp4\")"
      ],
      "metadata": {
        "id": "mawMNwzkrXT5"
      },
      "execution_count": null,
      "outputs": []
    },
    {
      "cell_type": "markdown",
      "source": [
        "Tracking Manually selected point"
      ],
      "metadata": {
        "id": "N41qg1F6rdew"
      }
    },
    {
      "cell_type": "code",
      "source": [
        "queries = torch.tensor([\n",
        "    [0., 400., 350.],  # point tracked from the first frame\n",
        "    [10., 600., 500.], # frame number 10\n",
        "    [20., 750., 600.], # ...\n",
        "    [30., 900., 200.]\n",
        "]).cuda()\n",
        "\n",
        "# show\n",
        "import matplotlib.pyplot as plt\n",
        "# Create a list of frame numbers corresponding to each point\n",
        "frame_numbers = queries[:,0].int().tolist()\n",
        "\n",
        "fig, axs = plt.subplots(2, 2)\n",
        "axs = axs.flatten()\n",
        "\n",
        "for i, (query, frame_number) in enumerate(zip(queries, frame_numbers)):\n",
        "    ax = axs[i]\n",
        "    ax.plot(query[1].item(), query[2].item(), 'ro')\n",
        "\n",
        "    ax.set_title(\"Frame {}\".format(frame_number))\n",
        "    ax.set_xlim(0, video.shape[4])\n",
        "    ax.set_ylim(0, video.shape[3])\n",
        "    ax.invert_yaxis()\n",
        "\n",
        "plt.tight_layout()\n",
        "plt.show()"
      ],
      "metadata": {
        "id": "6NIwHZ2xrgLU"
      },
      "execution_count": null,
      "outputs": []
    },
    {
      "cell_type": "code",
      "source": [
        "pred_tracks, __ = model(video, queries=queries[None])"
      ],
      "metadata": {
        "id": "yHqaGv5nrpVA"
      },
      "execution_count": 8,
      "outputs": []
    },
    {
      "cell_type": "code",
      "source": [
        "vis = Visualizer(\n",
        "    save_dir='./videos',\n",
        "    linewidth=6,\n",
        "    mode='cool',\n",
        "    tracks_leave_trace=-1\n",
        ")\n",
        "vis.visualize(\n",
        "    video=video,\n",
        "    tracks=pred_tracks,\n",
        "    filename='queries');\n",
        "\n",
        "show_video(\"./videos/queries_pred_track.mp4\")"
      ],
      "metadata": {
        "id": "hfBXR3xirsAE"
      },
      "execution_count": null,
      "outputs": []
    },
    {
      "cell_type": "markdown",
      "source": [
        "Tracking forward and backward from the frame number x"
      ],
      "metadata": {
        "id": "z5PZx6x-sGyX"
      }
    },
    {
      "cell_type": "code",
      "source": [
        "grid_size = 30\n",
        "grid_query_frame = 20\n",
        "\n",
        "pred_tracks, __ = model(video, grid_size=grid_size, grid_query_frame=grid_query_frame, backward_tracking=True)\n",
        "vis.visualize(\n",
        "    video=video,\n",
        "    tracks=pred_tracks,\n",
        "    filename='grid_query_20_backward',\n",
        "    query_frame=grid_query_frame);\n",
        "\n",
        "show_video(\"./videos/grid_query_20_backward_pred_track.mp4\")"
      ],
      "metadata": {
        "id": "yrcOX1NOsHON"
      },
      "execution_count": null,
      "outputs": []
    },
    {
      "cell_type": "markdown",
      "source": [
        "Regular Grid + Segmentation Mask"
      ],
      "metadata": {
        "id": "cjrOtrM-vTfb"
      }
    },
    {
      "cell_type": "code",
      "source": [
        "import numpy as np\n",
        "from PIL import Image\n",
        "grid_size = 120\n",
        "\n",
        "input_mask = './assets/apple_mask.png'\n",
        "segm_mask = np.array(Image.open(input_mask))\n",
        "\n",
        "pred_tracks, __ = model(video, grid_size=grid_size, segm_mask=torch.from_numpy(segm_mask)[None, None])\n",
        "vis = Visualizer(\n",
        "    save_dir='./videos',\n",
        "    pad_value=100,\n",
        "    linewidth=2,\n",
        ")\n",
        "vis.visualize(\n",
        "    video=video,\n",
        "    tracks=pred_tracks,\n",
        "    filename='segm_grid');\n",
        "\n",
        "show_video(\"./videos/segm_grid_pred_track.mp4\")"
      ],
      "metadata": {
        "id": "V4WCK6kvvVew"
      },
      "execution_count": null,
      "outputs": []
    },
    {
      "cell_type": "markdown",
      "source": [
        "Tips"
      ],
      "metadata": {
        "id": "XUhekDWtzj5_"
      }
    },
    {
      "cell_type": "code",
      "source": [
        "!git clone https://github.com/nstevens1040/mp42gif.git\n",
        "%cd mp42gif\n",
        "!pip install -r requirements.txt"
      ],
      "metadata": {
        "id": "yLhpR_Xtzk2q"
      },
      "execution_count": null,
      "outputs": []
    },
    {
      "cell_type": "code",
      "source": [
        "!python mp42gif.py --input /content/co-tracker/videos/teaser_pred_track.mp4"
      ],
      "metadata": {
        "id": "enF_G0ohztyg"
      },
      "execution_count": null,
      "outputs": []
    }
  ]
}