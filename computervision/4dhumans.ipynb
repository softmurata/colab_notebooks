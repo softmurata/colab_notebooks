{
  "nbformat": 4,
  "nbformat_minor": 0,
  "metadata": {
    "colab": {
      "provenance": [],
      "gpuType": "T4",
      "authorship_tag": "ABX9TyPpqePsbfmF+HWCBLym/PUN",
      "include_colab_link": true
    },
    "kernelspec": {
      "name": "python3",
      "display_name": "Python 3"
    },
    "language_info": {
      "name": "python"
    },
    "accelerator": "GPU"
  },
  "cells": [
    {
      "cell_type": "markdown",
      "metadata": {
        "id": "view-in-github",
        "colab_type": "text"
      },
      "source": [
        "<a href=\"https://colab.research.google.com/github/softmurata/colab_notebooks/blob/main/computervision/4dhumans.ipynb\" target=\"_parent\"><img src=\"https://colab.research.google.com/assets/colab-badge.svg\" alt=\"Open In Colab\"/></a>"
      ]
    },
    {
      "cell_type": "code",
      "execution_count": 1,
      "metadata": {
        "id": "bowK0h4yrGAe"
      },
      "outputs": [],
      "source": [
        "%%capture\n",
        "HMR2_ROOT=\"HMR2\"\n",
        "! git clone https://github.com/shubham-goel/4D-Humans.git $HMR2_ROOT --recursive\n",
        "%cd $HMR2_ROOT"
      ]
    },
    {
      "cell_type": "code",
      "source": [
        "!pip install pytorch-lightning\n",
        "!pip install smplx==0.1.28\n",
        "!pip install pyrender\n",
        "!pip install opencv-python\n",
        "!pip install yacs\n",
        "!pip install scikit-image\n",
        "!pip install einops\n",
        "!pip install timm\n",
        "!pip install -e ./vendor/detectron2/"
      ],
      "metadata": {
        "id": "mAMEUUJMrRGA"
      },
      "execution_count": null,
      "outputs": []
    },
    {
      "cell_type": "markdown",
      "source": [
        "Download model"
      ],
      "metadata": {
        "id": "Cv45HHberW06"
      }
    },
    {
      "cell_type": "code",
      "source": [
        "# download the weights\n",
        "!wget https://people.eecs.berkeley.edu/~shubham-goel/projects/4DHumans/hmr2_data.tar.gz\n",
        "\n",
        "# extract the checkpoints\n",
        "!tar -xvf hmr2_data.tar.gz"
      ],
      "metadata": {
        "id": "PJj007-_rYdm"
      },
      "execution_count": null,
      "outputs": []
    },
    {
      "cell_type": "markdown",
      "source": [
        "Inference"
      ],
      "metadata": {
        "id": "XYoS1mrOuI0Q"
      }
    },
    {
      "cell_type": "code",
      "source": [
        "# run hmr2 on a folder of images\n",
        "!python demo.py \\\n",
        "--img_folder example_data/images \\\n",
        "--out_folder demo_out \\\n",
        "--batch_size=48 --side_view"
      ],
      "metadata": {
        "id": "vEnhBhijreKL"
      },
      "execution_count": null,
      "outputs": []
    },
    {
      "cell_type": "code",
      "source": [
        "from PIL import Image\n",
        "display(Image.open(\"/content/HMR2/demo_out/pexels-anete-lusina-4793258_0.png\"))"
      ],
      "metadata": {
        "id": "k4hniTYxtIt8"
      },
      "execution_count": null,
      "outputs": []
    },
    {
      "cell_type": "markdown",
      "source": [
        "inference with soccer"
      ],
      "metadata": {
        "id": "rUCfLMJBuvaf"
      }
    },
    {
      "cell_type": "code",
      "source": [
        "!wget https://ichef.bbci.co.uk/news/624/cpsprodpb/12FF8/production/_127861877_gettyimages-1245282739.jpg -P /content/myimages"
      ],
      "metadata": {
        "id": "y6Nctm1LuxML"
      },
      "execution_count": null,
      "outputs": []
    },
    {
      "cell_type": "code",
      "source": [
        "!python demo.py \\\n",
        "--img_folder /content/myimages \\\n",
        "--out_folder /content/results \\\n",
        "--batch_size=48 --side_view"
      ],
      "metadata": {
        "id": "oT0-E5a8u0fu"
      },
      "execution_count": null,
      "outputs": []
    },
    {
      "cell_type": "code",
      "source": [
        "from PIL import Image\n",
        "import glob\n",
        "for p in sorted(glob.glob(\"/content/results/*.png\")):\n",
        "  display(Image.open(p))"
      ],
      "metadata": {
        "id": "z18wuZfiu-Mi"
      },
      "execution_count": null,
      "outputs": []
    },
    {
      "cell_type": "markdown",
      "source": [
        "Download youtube"
      ],
      "metadata": {
        "id": "rfZ-Tq_psIbM"
      }
    },
    {
      "cell_type": "code",
      "source": [
        "!python3 -m pip install -U yt-dlp"
      ],
      "metadata": {
        "id": "Tiho4ba0sK-1"
      },
      "execution_count": null,
      "outputs": []
    },
    {
      "cell_type": "code",
      "source": [
        "%cd /content\n",
        "!yt-dlp \"https://youtu.be/JFZDrsEvjqg\"  -f bestvideo[ext=mp4]+bestaudio[ext=m4a] -S vcodec:h264"
      ],
      "metadata": {
        "id": "c4JWhReNsN5g"
      },
      "execution_count": null,
      "outputs": []
    },
    {
      "cell_type": "code",
      "source": [
        "out_path = \"soccer.mp4\"\n",
        "import datetime\n",
        "start = 50\n",
        "end = 60\n",
        "start_time = datetime.timedelta(seconds=start)\n",
        "\n",
        "!ffmpeg -ss $start_time -i test.mp4 -ss 0 -t $end -c:v copy -c:a copy -async 1 -strict -2 $out_path"
      ],
      "metadata": {
        "id": "wi5RHSZusX_F"
      },
      "execution_count": null,
      "outputs": []
    }
  ]
}