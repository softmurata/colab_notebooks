{
  "nbformat": 4,
  "nbformat_minor": 0,
  "metadata": {
    "colab": {
      "provenance": [],
      "gpuType": "T4",
      "authorship_tag": "ABX9TyOcF8K+X3Ma2Icn+SYLMLZd",
      "include_colab_link": true
    },
    "kernelspec": {
      "name": "python3",
      "display_name": "Python 3"
    },
    "language_info": {
      "name": "python"
    },
    "accelerator": "GPU"
  },
  "cells": [
    {
      "cell_type": "markdown",
      "metadata": {
        "id": "view-in-github",
        "colab_type": "text"
      },
      "source": [
        "<a href=\"https://colab.research.google.com/github/softmurata/colab_notebooks/blob/main/computervision/materialistic.ipynb\" target=\"_parent\"><img src=\"https://colab.research.google.com/assets/colab-badge.svg\" alt=\"Open In Colab\"/></a>"
      ]
    },
    {
      "cell_type": "markdown",
      "source": [
        "Installation"
      ],
      "metadata": {
        "id": "txD47HDyZZ_t"
      }
    },
    {
      "cell_type": "code",
      "execution_count": null,
      "metadata": {
        "id": "oYh_-w2_WKr0"
      },
      "outputs": [],
      "source": [
        "!git clone https://github.com/prafull7/materialistic.git\n",
        "\n",
        "%cd /content/materialistic/\n",
        "!pip install -q pytorch-lightning omegaconf flask_cors tensorboard kornia gradio\n",
        "\n",
        "# creating required directories\n",
        "!mkdir checkpoints\n",
        "!mkdir ../tensorboard"
      ]
    },
    {
      "cell_type": "markdown",
      "source": [
        "Download weights"
      ],
      "metadata": {
        "id": "BR8TzwmdZbTB"
      }
    },
    {
      "cell_type": "code",
      "source": [
        "%cd /content\n",
        "!gdown --fuzzy https://drive.google.com/file/d/1AlHQ6InyVrYk6-F7P_1bHRctrzfi5Hhz/view\n",
        "\n",
        "!rm -rf /content/__MACOSX\n",
        "!rm -rf /content/materialistic_checkpoint\n",
        "!unzip /content/materialistic_checkpoint.zip\n",
        "\n",
        "!cp -r /content/materialistic_checkpoint/ /content/materialistic/checkpoints"
      ],
      "metadata": {
        "id": "X0M2_Wg_W1fY"
      },
      "execution_count": null,
      "outputs": []
    },
    {
      "cell_type": "markdown",
      "source": [
        "Start webui"
      ],
      "metadata": {
        "id": "4gUmSbfyZh_o"
      }
    },
    {
      "cell_type": "code",
      "source": [
        "%cd /content/materialistic/\n",
        "!python gradio_demo.py"
      ],
      "metadata": {
        "id": "9B91WrDtWwGG"
      },
      "execution_count": null,
      "outputs": []
    }
  ]
}