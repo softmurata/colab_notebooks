{
  "nbformat": 4,
  "nbformat_minor": 0,
  "metadata": {
    "colab": {
      "provenance": [],
      "gpuType": "T4",
      "authorship_tag": "ABX9TyPxezjJst9jnBTdkkSAA1fr",
      "include_colab_link": true
    },
    "kernelspec": {
      "name": "python3",
      "display_name": "Python 3"
    },
    "language_info": {
      "name": "python"
    },
    "accelerator": "GPU",
    "gpuClass": "standard"
  },
  "cells": [
    {
      "cell_type": "markdown",
      "metadata": {
        "id": "view-in-github",
        "colab_type": "text"
      },
      "source": [
        "<a href=\"https://colab.research.google.com/github/softmurata/colab_notebooks/blob/main/computervision/DragGAN.ipynb\" target=\"_parent\"><img src=\"https://colab.research.google.com/assets/colab-badge.svg\" alt=\"Open In Colab\"/></a>"
      ]
    },
    {
      "cell_type": "code",
      "execution_count": null,
      "metadata": {
        "id": "CHeH6JRYELxr"
      },
      "outputs": [],
      "source": [
        "!git clone https://github.com/Zeqiang-Lai/DragGAN.git\n",
        "\n",
        "import sys\n",
        "sys.path.append(\".\")\n",
        "sys.path.append('./DragGAN')\n",
        "\n",
        "!pip install -r DragGAN/requirements.txt"
      ]
    },
    {
      "cell_type": "code",
      "source": [
        "import sys\n",
        "sys.path.append(\".\")\n",
        "sys.path.append('./DragGAN')\n",
        "from gradio_app import main"
      ],
      "metadata": {
        "id": "QnFWywdYJkup"
      },
      "execution_count": 1,
      "outputs": []
    },
    {
      "cell_type": "code",
      "source": [
        "demo = main()\n",
        "demo.queue(concurrency_count=1, max_size=20).launch()"
      ],
      "metadata": {
        "id": "Ks9vu6YYETHm"
      },
      "execution_count": null,
      "outputs": []
    }
  ]
}