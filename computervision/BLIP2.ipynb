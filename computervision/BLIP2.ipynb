{
  "nbformat": 4,
  "nbformat_minor": 0,
  "metadata": {
    "colab": {
      "provenance": [],
      "gpuType": "T4",
      "authorship_tag": "ABX9TyP/eLOSISfRoPJFzhGgABbu",
      "include_colab_link": true
    },
    "kernelspec": {
      "name": "python3",
      "display_name": "Python 3"
    },
    "language_info": {
      "name": "python"
    },
    "accelerator": "GPU"
  },
  "cells": [
    {
      "cell_type": "markdown",
      "metadata": {
        "id": "view-in-github",
        "colab_type": "text"
      },
      "source": [
        "<a href=\"https://colab.research.google.com/github/softmurata/colab_notebooks/blob/main/computervision/BLIP2.ipynb\" target=\"_parent\"><img src=\"https://colab.research.google.com/assets/colab-badge.svg\" alt=\"Open In Colab\"/></a>"
      ]
    },
    {
      "cell_type": "markdown",
      "source": [
        "Installation"
      ],
      "metadata": {
        "id": "8AZy_jaEXeMc"
      }
    },
    {
      "cell_type": "code",
      "execution_count": null,
      "metadata": {
        "id": "o6qXOEX4SIU7"
      },
      "outputs": [],
      "source": [
        "!pip install -q transformers accelerate bitsandbytes\n",
        "!pip install sentencepiece"
      ]
    },
    {
      "cell_type": "markdown",
      "source": [
        "Load model"
      ],
      "metadata": {
        "id": "GIwIonmiXfSw"
      }
    },
    {
      "cell_type": "code",
      "source": [
        "from transformers import AutoProcessor, Blip2ForConditionalGeneration\n",
        "import torch\n",
        "\n",
        "model_name = \"ethzanalytics/blip2-flan-t5-xl-sharded\"  # \"Salesforce/blip2-opt-2.7b\"  # ybelkada/blip2-opt-2.7b-fp16-sharded\n",
        "\n",
        "processor = AutoProcessor.from_pretrained(model_name)\n",
        "\n",
        "# there are several ways to load the model:\n",
        "# model = Blip2ForConditionalGeneration.from_pretrained(\"Salesforce/blip2-opt-2.7b\") # load in float32\n",
        "# model = Blip2ForConditionalGeneration.from_pretrained(\"Salesforce/blip2-opt-2.7b\", torch_dtype=torch.float16) # load in float16\n",
        "model = Blip2ForConditionalGeneration.from_pretrained(model_name, device_map=\"auto\", torch_dtype=torch.float16).to(\"cuda\") # load in int8"
      ],
      "metadata": {
        "id": "1uAB6KAuSXzr"
      },
      "execution_count": null,
      "outputs": []
    },
    {
      "cell_type": "markdown",
      "source": [
        "Inference"
      ],
      "metadata": {
        "id": "1xzpJC8kXgO5"
      }
    },
    {
      "cell_type": "code",
      "source": [
        "from PIL import Image\n",
        "import requests"
      ],
      "metadata": {
        "id": "TQQfQDe-V9aG"
      },
      "execution_count": 4,
      "outputs": []
    },
    {
      "cell_type": "code",
      "source": [
        "img_url = 'https://storage.googleapis.com/sfr-vision-language-research/BLIP/demo.jpg' \n",
        "raw_image = Image.open(requests.get(img_url, stream=True).raw).convert('RGB')\n",
        "\n",
        "question = \"Where the woman is from?\"\n",
        "inputs = processor(raw_image, question, return_tensors=\"pt\").to('cuda', torch.float16)\n",
        "\n",
        "out = model.generate(**inputs)\n",
        "print(processor.decode(out[0], skip_special_tokens=True))"
      ],
      "metadata": {
        "id": "W-eXNbJNUvK7"
      },
      "execution_count": null,
      "outputs": []
    },
    {
      "cell_type": "code",
      "source": [
        "display(raw_image)"
      ],
      "metadata": {
        "id": "axaZ_GytXPPJ"
      },
      "execution_count": null,
      "outputs": []
    }
  ]
}