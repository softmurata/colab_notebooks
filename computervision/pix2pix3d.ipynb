{
  "cells": [
    {
      "cell_type": "markdown",
      "metadata": {
        "id": "view-in-github",
        "colab_type": "text"
      },
      "source": [
        "<a href=\"https://colab.research.google.com/github/softmurata/colab_notebooks/blob/main/computervision/pix2pix3d.ipynb\" target=\"_parent\"><img src=\"https://colab.research.google.com/assets/colab-badge.svg\" alt=\"Open In Colab\"/></a>"
      ]
    },
    {
      "cell_type": "markdown",
      "metadata": {
        "id": "ao2QkLnZjTbw"
      },
      "source": [
        "Installation"
      ]
    },
    {
      "cell_type": "code",
      "execution_count": null,
      "metadata": {
        "id": "iRaMhSI6QH9v"
      },
      "outputs": [],
      "source": [
        "!git clone https://github.com/dunbar12138/pix2pix3D.git\n",
        "!pip install ninja pyopengl imgui einops"
      ]
    },
    {
      "cell_type": "markdown",
      "metadata": {
        "id": "TRVpiVqajWgF"
      },
      "source": [
        "Download model"
      ]
    },
    {
      "cell_type": "code",
      "execution_count": null,
      "metadata": {
        "id": "6Sd-3sbuQbtJ"
      },
      "outputs": [],
      "source": [
        "%cd /content/pix2pix3D/\n",
        "!bash checkpoints/download_models.sh"
      ]
    },
    {
      "cell_type": "markdown",
      "metadata": {
        "id": "UXVRqTG6jZ_j"
      },
      "source": [
        "Prepare datasets"
      ]
    },
    {
      "cell_type": "code",
      "execution_count": null,
      "metadata": {
        "id": "ysg0TkBLRQAm"
      },
      "outputs": [],
      "source": [
        "# https://github.com/wkentaro/gdown\n",
        "# Download seg2cat datasets\n",
        "import gdown\n",
        "url = \"https://drive.google.com/drive/folders/1yjTTE57P9-hEe-IVcE-GXdh04WGo5lD9\"\n",
        "gdown.download_folder(url, quiet=True, use_cookies=False)"
      ]
    },
    {
      "cell_type": "code",
      "execution_count": null,
      "metadata": {
        "id": "YxwaJr7wfvs_"
      },
      "outputs": [],
      "source": [
        "!mv /content/pix2pix3D/AFHQ-Cat-Seg /content/pix2pix3D/data"
      ]
    },
    {
      "cell_type": "markdown",
      "metadata": {
        "id": "UM7KwfUehM-O"
      },
      "source": [
        "Generate Samples"
      ]
    },
    {
      "cell_type": "code",
      "execution_count": null,
      "metadata": {
        "id": "2kS93atNhB8o"
      },
      "outputs": [],
      "source": [
        "# Please change application/generate_samples.py\n",
        "\"\"\"\n",
        "# mask_data = Path(args.data_dir) / 'afhqcat_seg_6c.zip'\n",
        "mask_data = Path(args.data_dir) / 'afhqcat_seg_6c_v2.zip'\n",
        "\"\"\""
      ]
    },
    {
      "cell_type": "code",
      "execution_count": null,
      "metadata": {
        "colab": {
          "base_uri": "https://localhost:8080/"
        },
        "id": "jBQzKQpCQosV",
        "outputId": "cd0e2e24-efc4-4ebd-ef4b-6860035bf850"
      },
      "outputs": [
        {
          "name": "stdout",
          "output_type": "stream",
          "text": [
            "/content/pix2pix3D\n",
            "Setting up PyTorch plugin \"bias_act_plugin\"... Done.\n",
            "Setting up PyTorch plugin \"upfirdn2d_plugin\"... Done.\n"
          ]
        }
      ],
      "source": [
        "!rm -rf /content/results\n",
        "%cd /content/pix2pix3D/\n",
        "!mkdir /content/results\n",
        "!python applications/generate_samples.py --network checkpoints/pix2pix3d_seg2cat.pkl --outdir /content/results --random_seed 0 1 --cfg seg2cat --input_id 10"
      ]
    },
    {
      "cell_type": "code",
      "execution_count": null,
      "metadata": {
        "id": "PQq2ZPd1g2oV"
      },
      "outputs": [],
      "source": [
        "from PIL import Image\n",
        "display(Image.open(\"/content/results/seg2cat_10_1_color.png\"))"
      ]
    },
    {
      "cell_type": "markdown",
      "metadata": {
        "id": "wYRROFeJhObm"
      },
      "source": [
        "Generate Videos"
      ]
    },
    {
      "cell_type": "code",
      "execution_count": null,
      "metadata": {
        "id": "xROI-d5zhRX0"
      },
      "outputs": [],
      "source": [
        "!rm -rf /content/results\n",
        "%cd /content/pix2pix3D/\n",
        "!mkdir /content/results\n",
        "!python applications/generate_video.py --network checkpoints/pix2pix3d_seg2cat.pkl --outdir /content/results --random_seed 1 --cfg seg2cat --input examples/example_input.png"
      ]
    },
    {
      "cell_type": "code",
      "execution_count": null,
      "metadata": {
        "colab": {
          "background_save": true
        },
        "id": "xPwDAIYeh0ox"
      },
      "outputs": [],
      "source": [
        "import IPython\n",
        "\n",
        "\n",
        "out_filename = '/content/results/seg2cat_1.gif'\n",
        "IPython.display.Image(out_filename, format='png')"
      ]
    },
    {
      "cell_type": "code",
      "execution_count": null,
      "metadata": {
        "id": "H-mVBRJfh8hM"
      },
      "outputs": [],
      "source": [
        "out_filename = '/content/results/seg2cat_1_label.gif'\n",
        "IPython.display.Image(out_filename, format='png')"
      ]
    },
    {
      "cell_type": "markdown",
      "metadata": {
        "id": "_470rlBVjMyO"
      },
      "source": [
        "Extract Mesh"
      ]
    },
    {
      "cell_type": "code",
      "execution_count": null,
      "metadata": {
        "id": "cfuI_8lJkw7r"
      },
      "outputs": [],
      "source": [
        "!pip install trimesh pyrender PyMCubes"
      ]
    },
    {
      "cell_type": "code",
      "execution_count": null,
      "metadata": {
        "id": "-0jmoc3nml79"
      },
      "outputs": [],
      "source": [
        "# Please edit applications/extract_mesh.py 216\n",
        "# semantic_colors = torch.tensor(color_list)[torch.argmax(semantic_colors.cpu(), dim=-1)]"
      ]
    },
    {
      "cell_type": "code",
      "execution_count": null,
      "metadata": {
        "id": "mf-mg25GjOsW"
      },
      "outputs": [],
      "source": [
        "!rm -rf /content/results\n",
        "%cd /content/pix2pix3D/\n",
        "!mkdir /content/results\n",
        "\n",
        "!python applications/extract_mesh.py --network checkpoints/pix2pix3d_seg2cat.pkl --outdir /content/results --cfg seg2cat --input examples/example_input.png"
      ]
    },
    {
      "cell_type": "code",
      "execution_count": null,
      "metadata": {
        "colab": {
          "background_save": true
        },
        "id": "a64g7Cc0ms5x"
      },
      "outputs": [],
      "source": [
        "import IPython\n",
        "\n",
        "out_filename = '/content/results/rendered_mesh.gif'\n",
        "IPython.display.Image(out_filename, format='png')"
      ]
    }
  ],
  "metadata": {
    "accelerator": "GPU",
    "colab": {
      "provenance": [],
      "authorship_tag": "ABX9TyOHa2/km/Zwa6N2knq4oReE",
      "include_colab_link": true
    },
    "kernelspec": {
      "display_name": "Python 3",
      "name": "python3"
    },
    "language_info": {
      "name": "python"
    }
  },
  "nbformat": 4,
  "nbformat_minor": 0
}