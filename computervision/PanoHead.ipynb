{
  "nbformat": 4,
  "nbformat_minor": 0,
  "metadata": {
    "colab": {
      "provenance": [],
      "gpuType": "T4",
      "authorship_tag": "ABX9TyPU2KNtLYWJcs9TTJ0ncVQb",
      "include_colab_link": true
    },
    "kernelspec": {
      "name": "python3",
      "display_name": "Python 3"
    },
    "language_info": {
      "name": "python"
    },
    "accelerator": "GPU"
  },
  "cells": [
    {
      "cell_type": "markdown",
      "metadata": {
        "id": "view-in-github",
        "colab_type": "text"
      },
      "source": [
        "<a href=\"https://colab.research.google.com/github/softmurata/colab_notebooks/blob/main/computervision/PanoHead.ipynb\" target=\"_parent\"><img src=\"https://colab.research.google.com/assets/colab-badge.svg\" alt=\"Open In Colab\"/></a>"
      ]
    },
    {
      "cell_type": "markdown",
      "source": [
        "Installation"
      ],
      "metadata": {
        "id": "i9eWfAYjcL5H"
      }
    },
    {
      "cell_type": "code",
      "execution_count": null,
      "metadata": {
        "id": "M1hw6fDsyL0m"
      },
      "outputs": [],
      "source": [
        "%cd /content\n",
        "!git clone -b dev https://github.com/camenduru/PanoHead\n",
        "\n",
        "!apt -y install -qq aria2\n",
        "!aria2c --console-log-level=error -c -x 16 -s 16 -k 1M https://huggingface.co/camenduru/PanoHead/resolve/main/ablation-trigridD-1-025000.pkl -d /content/PanoHead/models -o ablation-trigridD-1-025000.pkl\n",
        "!aria2c --console-log-level=error -c -x 16 -s 16 -k 1M https://huggingface.co/camenduru/PanoHead/resolve/main/baseline-easy-khair-025000.pkl -d /content/PanoHead/models -o baseline-easy-khair-025000.pkl\n",
        "!aria2c --console-log-level=error -c -x 16 -s 16 -k 1M https://huggingface.co/camenduru/PanoHead/resolve/main/easy-khair-180-gpc0.8-trans10-025000.pkl -d /content/PanoHead/models -o easy-khair-180-gpc0.8-trans10-025000.pkl\n",
        "\n",
        "!pip install imgui glfw pyspng mrcfile ninja plyfile trimesh"
      ]
    },
    {
      "cell_type": "markdown",
      "source": [
        "Generate video"
      ],
      "metadata": {
        "id": "Yb_ANFGjcNnk"
      }
    },
    {
      "cell_type": "code",
      "source": [
        "%cd /content/PanoHead\n",
        "!python gen_videos.py --network /content/PanoHead/models/easy-khair-180-gpc0.8-trans10-025000.pkl --seeds 0-3 --grid 1x1 --output=test.mp4 --cfg Head --trunc 0.7"
      ],
      "metadata": {
        "id": "jRQC1bdIygO0"
      },
      "execution_count": null,
      "outputs": []
    },
    {
      "cell_type": "markdown",
      "source": [
        "Generate 3D Faces"
      ],
      "metadata": {
        "id": "_5iRhzXacP41"
      }
    },
    {
      "cell_type": "code",
      "source": [
        "%cd /content/PanoHead\n",
        "!python gen_samples.py --outdir=out --shape-format=.ply --trunc=0.7 --shapes=true --seeds=0-3 --network /content/PanoHead/models/easy-khair-180-gpc0.8-trans10-025000.pkl"
      ],
      "metadata": {
        "id": "7NsYtOohyjWQ"
      },
      "execution_count": null,
      "outputs": []
    }
  ]
}