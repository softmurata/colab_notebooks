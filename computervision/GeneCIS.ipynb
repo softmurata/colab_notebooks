{
  "nbformat": 4,
  "nbformat_minor": 0,
  "metadata": {
    "colab": {
      "provenance": [],
      "gpuType": "T4",
      "authorship_tag": "ABX9TyMWuex3xFteoJDOr4HlGswr",
      "include_colab_link": true
    },
    "kernelspec": {
      "name": "python3",
      "display_name": "Python 3"
    },
    "language_info": {
      "name": "python"
    },
    "accelerator": "GPU"
  },
  "cells": [
    {
      "cell_type": "markdown",
      "metadata": {
        "id": "view-in-github",
        "colab_type": "text"
      },
      "source": [
        "<a href=\"https://colab.research.google.com/github/softmurata/colab_notebooks/blob/main/computervision/GeneCIS.ipynb\" target=\"_parent\"><img src=\"https://colab.research.google.com/assets/colab-badge.svg\" alt=\"Open In Colab\"/></a>"
      ]
    },
    {
      "cell_type": "markdown",
      "source": [
        "Installation"
      ],
      "metadata": {
        "id": "KsUbQ5fgBPVO"
      }
    },
    {
      "cell_type": "code",
      "execution_count": null,
      "metadata": {
        "id": "HjK6CR1SYlDu"
      },
      "outputs": [],
      "source": [
        "!pip install git+https://github.com/openai/CLIP.git\n",
        "!git clone https://github.com/facebookresearch/genecis.git\n",
        "%cd genecis\n",
        "!pip install -r requirements.txt\n",
        "!python -m spacy download en"
      ]
    },
    {
      "cell_type": "markdown",
      "source": [
        "Download weights"
      ],
      "metadata": {
        "id": "UrK4eukNBQqE"
      }
    },
    {
      "cell_type": "code",
      "source": [
        "!wget https://dl.fbaipublicfiles.com/genecis/vitb16_backbone.pt -P /content\n",
        "!wget https://dl.fbaipublicfiles.com/genecis/vitb16_combiner_head.pt -P /content"
      ],
      "metadata": {
        "id": "6uxZMASPhBsA"
      },
      "execution_count": null,
      "outputs": []
    },
    {
      "cell_type": "markdown",
      "source": [
        "Download evaluation datasets"
      ],
      "metadata": {
        "id": "TqzFcrrdBSFw"
      }
    },
    {
      "cell_type": "code",
      "source": [
        "!wget http://wednesday.csail.mit.edu/joseph_result/state_and_transformation/release_dataset.zip -P /content"
      ],
      "metadata": {
        "id": "iPwveG_ciNp7"
      },
      "execution_count": null,
      "outputs": []
    },
    {
      "cell_type": "code",
      "source": [
        "!unzip /content/release_dataset.zip"
      ],
      "metadata": {
        "id": "Gq3qDHJhiRlP"
      },
      "execution_count": null,
      "outputs": []
    },
    {
      "cell_type": "markdown",
      "source": [
        "Inference"
      ],
      "metadata": {
        "id": "JproocY5BXeQ"
      }
    },
    {
      "cell_type": "code",
      "source": [
        "%cd /content/genecis/\n",
        "import os\n",
        "\n",
        "from datasets.cirr_datasets import CIRRImageDataset, CIRRValGlobalDataset\n",
        "from datasets.vaw_dataset import VAWValSubset\n",
        "from datasets.mit_states_dataset import MITStatesImageOnly, MITStatesGlobalTestSet\n",
        "from datasets.coco_dataset import COCOValSubset\n",
        "\n",
        "from eval.eval_functions import validate, validate_global\n",
        "from models.combiner_model import Combiner\n",
        "\n",
        "import clip\n",
        "import torch\n",
        "\n",
        "import argparse\n",
        "import torch.backends.cudnn as cudnn\n",
        "from utils.dist_utils import fix_random_seeds, init_distributed_mode, get_rank\n",
        "from utils.gen_utils import bool_flag, strip_state_dict, none_flag\n",
        "from functools import partial\n",
        "\n",
        "from utils.model_utils import FeatureComb\n",
        "from utils.dist_utils import CLIPDistDataParallel\n",
        "\n",
        "from config import genecis_root\n",
        "\n"
      ],
      "metadata": {
        "colab": {
          "base_uri": "https://localhost:8080/"
        },
        "id": "74ibEok2hNf-",
        "outputId": "4fb810e2-74ff-4609-affe-9f716f6fdc64"
      },
      "execution_count": 1,
      "outputs": [
        {
          "output_type": "stream",
          "name": "stdout",
          "text": [
            "/content/genecis\n"
          ]
        }
      ]
    },
    {
      "cell_type": "code",
      "source": [
        "# -------------\n",
        "# DEFINE MODEL SPECS\n",
        "# -------------\n",
        "MODEL='ViT-B/16'          # Set to one of the CLIP models\n",
        "COMBINER_MODE='combiner_original'           # Either learned combiner head or one of ('image_only' 'text_only' 'image_plus_text')\n",
        "\n",
        "# -------------\n",
        "# DEFINE PRETRAINED PATHS\n",
        "# -------------\n",
        "COMBINER_PRETRAIN_PATH=\"/content/vitb16_combiner_head.pt\"               # Set to path of model to evaluate (combiner head)  (set to 'None' if using image_only etc.)\n",
        "CLIP_PRETRAIN_PATH=\"/content/vitb16_backbone.pt\"                   # Set to path of model to evaluate (backbone)  (set to 'None' to use CLIP pre-trained model, if using image_only etc.)\n",
        "\n",
        "\n",
        "DATASET='mit_states'\n",
        "\n",
        "use_complete_text_query = False\n",
        "\n",
        "# --------------\n",
        "# INIT\n",
        "# --------------\n",
        "fix_random_seeds(0)\n",
        "cudnn.benchmark = True"
      ],
      "metadata": {
        "id": "2juYNl7dvUz3"
      },
      "execution_count": 2,
      "outputs": []
    },
    {
      "cell_type": "code",
      "source": [
        "# --------------\n",
        "# GET BACKBONE\n",
        "# --------------\n",
        "print('Loading models...')\n",
        "# define clip model and preprocess pipeline, get input_dim and feature_dim\n",
        "clip_model, preprocess = clip.load(MODEL)\n",
        "clip_model.float().eval()\n",
        "input_dim = clip_model.visual.input_resolution\n",
        "feature_dim = clip_model.visual.output_dim\n",
        "\n",
        "# --------------\n",
        "# GET COMBINER\n",
        "# --------------\n",
        "if COMBINER_MODE == 'combiner_original':\n",
        "    combiner = Combiner(clip_feature_dim=feature_dim, projection_dim=2560, hidden_dim=2 * 2560)\n",
        "elif COMBINER_MODE in ('image_only', 'text_only', 'image_plus_text'):\n",
        "    combiner = FeatureComb(COMBINER_MODE, feature_comb_average=0.5)\n",
        "else:\n",
        "    raise ValueError\n",
        "\n",
        "# --------------\n",
        "# LOAD PRETRAINED WEIGHTS\n",
        "# --------------\n",
        "if COMBINER_PRETRAIN_PATH is not None:\n",
        "    state_dict = torch.load(COMBINER_PRETRAIN_PATH, map_location='cpu')\n",
        "    state_dict = strip_state_dict(state_dict=state_dict, strip_key='module.')\n",
        "    combiner.load_state_dict(state_dict)\n",
        "\n",
        "if CLIP_PRETRAIN_PATH is not None:\n",
        "    state_dict = torch.load(CLIP_PRETRAIN_PATH, map_location='cpu')\n",
        "    state_dict = strip_state_dict(state_dict=state_dict, strip_key='module.')\n",
        "    clip_model.load_state_dict(state_dict)\n",
        "\n",
        "# --------------\n",
        "# To cuda\n",
        "# --------------\n",
        "clip_model, combiner = clip_model.cuda(), combiner.cuda()"
      ],
      "metadata": {
        "id": "5U-JyjkGlAek"
      },
      "execution_count": null,
      "outputs": []
    },
    {
      "cell_type": "code",
      "source": [
        "tokenizer = partial(clip.tokenize, truncate=True)\n",
        "val_dataset_return_images = MITStatesImageOnly(path=\"/content/genecis/release_dataset\", split='test', transform=preprocess)\n",
        "val_dataset_global = MITStatesGlobalTestSet(path=\"/content/genecis/release_dataset\", split='test', transform=preprocess, tokenizer=tokenizer, use_complete_text_query=use_complete_text_query)"
      ],
      "metadata": {
        "id": "tWUkRx95n97Q"
      },
      "execution_count": null,
      "outputs": []
    },
    {
      "cell_type": "code",
      "source": [
        "batch_size_per_gpu = 8\n",
        "num_workers = 8\n",
        "pred_save_path = None\n",
        "get_dataloader = partial(torch.utils.data.DataLoader, sampler=None,\n",
        "        batch_size=batch_size_per_gpu,\n",
        "        num_workers=num_workers,\n",
        "        pin_memory=True,\n",
        "        shuffle=False)\n",
        "\n",
        "valloader_global = get_dataloader(dataset=val_dataset_global)\n",
        "valloader_only_images = get_dataloader(dataset=val_dataset_return_images)\n",
        "\n",
        "# --------------\n",
        "# EVALUTE\n",
        "# --------------\n",
        "# TODO: Adjust eval code for multiple GPUs\n",
        "if get_rank() == 0:\n",
        "    validate_global(clip_model, combiner, valloader_only_images, valloader_global, topk=(1, 5, 10), save_path=None)\n",
        "\n",
        "# Output\n",
        "# Recall @ 1 = 0.1805\n",
        "# Recall @ 5 = 0.4106\n",
        "# Recall @ 10 = 0.5302"
      ],
      "metadata": {
        "id": "OjvXIGpXndns"
      },
      "execution_count": null,
      "outputs": []
    }
  ]
}