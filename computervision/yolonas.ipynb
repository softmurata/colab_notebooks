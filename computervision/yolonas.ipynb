{
  "nbformat": 4,
  "nbformat_minor": 0,
  "metadata": {
    "colab": {
      "provenance": [],
      "gpuType": "T4",
      "authorship_tag": "ABX9TyOcsXHXWxCTGsLsIbqGmV0e",
      "include_colab_link": true
    },
    "kernelspec": {
      "name": "python3",
      "display_name": "Python 3"
    },
    "language_info": {
      "name": "python"
    },
    "accelerator": "GPU",
    "gpuClass": "standard"
  },
  "cells": [
    {
      "cell_type": "markdown",
      "metadata": {
        "id": "view-in-github",
        "colab_type": "text"
      },
      "source": [
        "<a href=\"https://colab.research.google.com/github/softmurata/colab_notebooks/blob/main/computervision/yolonas.ipynb\" target=\"_parent\"><img src=\"https://colab.research.google.com/assets/colab-badge.svg\" alt=\"Open In Colab\"/></a>"
      ]
    },
    {
      "cell_type": "markdown",
      "source": [
        "Installation"
      ],
      "metadata": {
        "id": "xtGrZZ7ywTNL"
      }
    },
    {
      "cell_type": "code",
      "execution_count": null,
      "metadata": {
        "id": "1_j1kcbSu5mM"
      },
      "outputs": [],
      "source": [
        "!pip install -q super-gradients==3.1.1\n",
        "!pip install -q roboflow\n",
        "!pip install -q supervision"
      ]
    },
    {
      "cell_type": "markdown",
      "source": [
        "Load model"
      ],
      "metadata": {
        "id": "E801MFe5wgX9"
      }
    },
    {
      "cell_type": "code",
      "source": [
        "import torch\n",
        "\n",
        "DEVICE = 'cuda' if torch.cuda.is_available() else \"cpu\"\n",
        "MODEL_ARCH = 'yolo_nas_l'"
      ],
      "metadata": {
        "id": "NgJ_xFw5wbR4"
      },
      "execution_count": 1,
      "outputs": []
    },
    {
      "cell_type": "code",
      "source": [
        "from super_gradients.training import models\n",
        "\n",
        "model = models.get(MODEL_ARCH, pretrained_weights=\"coco\").to(DEVICE)"
      ],
      "metadata": {
        "id": "lycY58R3wfeB"
      },
      "execution_count": null,
      "outputs": []
    },
    {
      "cell_type": "markdown",
      "source": [
        "Get Test data"
      ],
      "metadata": {
        "id": "8BuaSAjrwm67"
      }
    },
    {
      "cell_type": "code",
      "source": [
        "%cd /content\n",
        "\n",
        "!wget https://i.cbc.ca/1.6585809.1663352819!/cpImage/httpImage/image.jpg_gen/derivatives/16x9_780/panama-canada-wcup-soccer.jpg -O soccer.jpg"
      ],
      "metadata": {
        "id": "P8pt0KknwhsJ"
      },
      "execution_count": null,
      "outputs": []
    },
    {
      "cell_type": "markdown",
      "source": [
        "Inference"
      ],
      "metadata": {
        "id": "O-BMTQ4nwufD"
      }
    },
    {
      "cell_type": "code",
      "source": [
        "import cv2\n",
        "\n",
        "SOURCE_IMAGE_PATH = \"/content/soccer.jpg\"\n",
        "image = cv2.imread(SOURCE_IMAGE_PATH)\n",
        "result = list(model.predict(image, conf=0.35))[0]"
      ],
      "metadata": {
        "id": "FCBRRhTbwvS4"
      },
      "execution_count": 4,
      "outputs": []
    },
    {
      "cell_type": "code",
      "source": [
        "print(result)"
      ],
      "metadata": {
        "id": "87hZ_xNuxuw1"
      },
      "execution_count": null,
      "outputs": []
    },
    {
      "cell_type": "markdown",
      "source": [
        "Visualize inference result"
      ],
      "metadata": {
        "id": "ICWfW0vkx10u"
      }
    },
    {
      "cell_type": "code",
      "source": [
        "import supervision as sv\n",
        "\n",
        "detections = sv.Detections(\n",
        "    xyxy=result.prediction.bboxes_xyxy,\n",
        "    confidence=result.prediction.confidence,\n",
        "    class_id=result.prediction.labels.astype(int)\n",
        ")\n",
        "\n",
        "box_annotator = sv.BoxAnnotator()\n",
        "\n",
        "labels = [\n",
        "    f\"{result.class_names[class_id]} {confidence:0.2f}\"\n",
        "    for _, _, confidence, class_id, _\n",
        "    in detections\n",
        "]\n",
        "\n",
        "annotated_frame = box_annotator.annotate(\n",
        "    scene=image.copy(),\n",
        "    detections=detections,\n",
        "    labels=labels\n",
        ")\n",
        "\n",
        "%matplotlib inline\n",
        "sv.plot_image(annotated_frame, (12, 12))"
      ],
      "metadata": {
        "id": "Yf66CCPWx3hD"
      },
      "execution_count": null,
      "outputs": []
    },
    {
      "cell_type": "markdown",
      "source": [
        "Train custom dataset"
      ],
      "metadata": {
        "id": "nnq-H7okysQD"
      }
    },
    {
      "cell_type": "code",
      "source": [
        "from google.colab import drive\n",
        "drive.mount('/content/drive')"
      ],
      "metadata": {
        "id": "Aol8vz1N0EpH"
      },
      "execution_count": 8,
      "outputs": []
    },
    {
      "cell_type": "markdown",
      "source": [
        "upload football detection dataset.zip"
      ],
      "metadata": {
        "id": "Jgf0iSYJ0Fhj"
      }
    },
    {
      "cell_type": "code",
      "source": [
        "%cd /content\n",
        "!mkdir /content/Football-Players-Detection\n",
        "%cd /content/Football-Players-Detection\n",
        "!unzip /content/drive/MyDrive/football-players-detection.v1i.yolov5pytorch.zip"
      ],
      "metadata": {
        "id": "kWWyA2r-0Io0"
      },
      "execution_count": null,
      "outputs": []
    },
    {
      "cell_type": "code",
      "source": [
        "# please check data.yaml\n",
        "# classes = ['ball', 'player']"
      ],
      "metadata": {
        "id": "7yzHhDDL1eVv"
      },
      "execution_count": null,
      "outputs": []
    },
    {
      "cell_type": "markdown",
      "source": [
        "Finetuning on custom dataset"
      ],
      "metadata": {
        "id": "zEnc6D6s1l6F"
      }
    },
    {
      "cell_type": "code",
      "source": [
        "%cd /content"
      ],
      "metadata": {
        "id": "wssFcUQo2PM_"
      },
      "execution_count": 12,
      "outputs": []
    },
    {
      "cell_type": "code",
      "source": [
        "MODEL_ARCH = 'yolo_nas_l'\n",
        "BATCH_SIZE = 8\n",
        "MAX_EPOCHS = 25\n",
        "CHECKPOINT_DIR = f'/content/checkpoints'\n",
        "EXPERIMENT_NAME = \"Football-Players-Detection\"\n",
        "LOCATION = \"/content/Football-Players-Detection\"\n",
        "CLASSES = ['ball', 'player']"
      ],
      "metadata": {
        "id": "0ph45NAY1oLN"
      },
      "execution_count": 13,
      "outputs": []
    },
    {
      "cell_type": "code",
      "source": [
        "# create trainer instance\n",
        "from super_gradients.training import Trainer\n",
        "\n",
        "trainer = Trainer(experiment_name=EXPERIMENT_NAME, ckpt_root_dir=CHECKPOINT_DIR)"
      ],
      "metadata": {
        "id": "3YBwSq3s1tHA"
      },
      "execution_count": 14,
      "outputs": []
    },
    {
      "cell_type": "code",
      "source": [
        "dataset_params = {\n",
        "    'data_dir': LOCATION,\n",
        "    'train_images_dir':'train/images',\n",
        "    'train_labels_dir':'train/labels',\n",
        "    'val_images_dir':'valid/images',\n",
        "    'val_labels_dir':'valid/labels',\n",
        "    'test_images_dir':'test/images',\n",
        "    'test_labels_dir':'test/labels',\n",
        "    'classes': CLASSES\n",
        "}"
      ],
      "metadata": {
        "id": "RLO0VbaF18mj"
      },
      "execution_count": 15,
      "outputs": []
    },
    {
      "cell_type": "code",
      "source": [
        "from super_gradients.training.dataloaders.dataloaders import (\n",
        "    coco_detection_yolo_format_train, coco_detection_yolo_format_val)\n",
        "\n",
        "train_data = coco_detection_yolo_format_train(\n",
        "    dataset_params={\n",
        "        'data_dir': dataset_params['data_dir'],\n",
        "        'images_dir': dataset_params['train_images_dir'],\n",
        "        'labels_dir': dataset_params['train_labels_dir'],\n",
        "        'classes': dataset_params['classes']\n",
        "    },\n",
        "    dataloader_params={\n",
        "        'batch_size': BATCH_SIZE,\n",
        "        'num_workers': 2\n",
        "    }\n",
        ")\n",
        "\n",
        "val_data = coco_detection_yolo_format_val(\n",
        "    dataset_params={\n",
        "        'data_dir': dataset_params['data_dir'],\n",
        "        'images_dir': dataset_params['val_images_dir'],\n",
        "        'labels_dir': dataset_params['val_labels_dir'],\n",
        "        'classes': dataset_params['classes']\n",
        "    },\n",
        "    dataloader_params={\n",
        "        'batch_size': BATCH_SIZE,\n",
        "        'num_workers': 2\n",
        "    }\n",
        ")\n",
        "\n",
        "test_data = coco_detection_yolo_format_val(\n",
        "    dataset_params={\n",
        "        'data_dir': dataset_params['data_dir'],\n",
        "        'images_dir': dataset_params['test_images_dir'],\n",
        "        'labels_dir': dataset_params['test_labels_dir'],\n",
        "        'classes': dataset_params['classes']\n",
        "    },\n",
        "    dataloader_params={\n",
        "        'batch_size': BATCH_SIZE,\n",
        "        'num_workers': 2\n",
        "    }\n",
        ")"
      ],
      "metadata": {
        "id": "m7ckUzqK2N1Y"
      },
      "execution_count": null,
      "outputs": []
    },
    {
      "cell_type": "code",
      "source": [
        "train_data.dataset.transforms"
      ],
      "metadata": {
        "id": "Q932oEsJ2Y9P"
      },
      "execution_count": null,
      "outputs": []
    },
    {
      "cell_type": "code",
      "source": [
        "from super_gradients.training import models\n",
        "\n",
        "model = models.get(\n",
        "    MODEL_ARCH, \n",
        "    num_classes=len(dataset_params['classes']), \n",
        "    pretrained_weights=\"coco\"\n",
        ")"
      ],
      "metadata": {
        "id": "MKrZg5ls2drw"
      },
      "execution_count": null,
      "outputs": []
    },
    {
      "cell_type": "markdown",
      "source": [
        "Define training parameters and metrics"
      ],
      "metadata": {
        "id": "r4AS3AYu2iR8"
      }
    },
    {
      "cell_type": "code",
      "source": [
        "from super_gradients.training.losses import PPYoloELoss\n",
        "from super_gradients.training.metrics import DetectionMetrics_050\n",
        "from super_gradients.training.models.detection_models.pp_yolo_e import PPYoloEPostPredictionCallback\n",
        "\n",
        "train_params = {\n",
        "    'silent_mode': False,\n",
        "    \"average_best_models\":True,\n",
        "    \"warmup_mode\": \"linear_epoch_step\",\n",
        "    \"warmup_initial_lr\": 1e-6,\n",
        "    \"lr_warmup_epochs\": 3,\n",
        "    \"initial_lr\": 5e-4,\n",
        "    \"lr_mode\": \"cosine\",\n",
        "    \"cosine_final_lr_ratio\": 0.1,\n",
        "    \"optimizer\": \"Adam\",\n",
        "    \"optimizer_params\": {\"weight_decay\": 0.0001},\n",
        "    \"zero_weight_decay_on_bias_and_bn\": True,\n",
        "    \"ema\": True,\n",
        "    \"ema_params\": {\"decay\": 0.9, \"decay_type\": \"threshold\"},\n",
        "    \"max_epochs\": MAX_EPOCHS,\n",
        "    \"mixed_precision\": True,\n",
        "    \"loss\": PPYoloELoss(\n",
        "        use_static_assigner=False,\n",
        "        num_classes=len(dataset_params['classes']),\n",
        "        reg_max=16\n",
        "    ),\n",
        "    \"valid_metrics_list\": [\n",
        "        DetectionMetrics_050(\n",
        "            score_thres=0.1,\n",
        "            top_k_predictions=300,\n",
        "            num_cls=len(dataset_params['classes']),\n",
        "            normalize_targets=True,\n",
        "            post_prediction_callback=PPYoloEPostPredictionCallback(\n",
        "                score_threshold=0.01,\n",
        "                nms_top_k=1000,\n",
        "                max_predictions=300,\n",
        "                nms_threshold=0.7\n",
        "            )\n",
        "        )\n",
        "    ],\n",
        "    \"metric_to_watch\": 'mAP@0.50'\n",
        "}"
      ],
      "metadata": {
        "id": "jVy5k5vV2kz5"
      },
      "execution_count": 19,
      "outputs": []
    },
    {
      "cell_type": "code",
      "source": [
        "trainer.train(\n",
        "    model=model, \n",
        "    training_params=train_params, \n",
        "    train_loader=train_data, \n",
        "    valid_loader=val_data\n",
        ")"
      ],
      "metadata": {
        "id": "akaVkLnR2o05"
      },
      "execution_count": null,
      "outputs": []
    },
    {
      "cell_type": "markdown",
      "source": [
        "Visualize training results"
      ],
      "metadata": {
        "id": "qr8QaL9p2siB"
      }
    },
    {
      "cell_type": "code",
      "source": [
        "%load_ext tensorboard\n",
        "%tensorboard --logdir {CHECKPOINT_DIR}/{EXPERIMENT_NAME}"
      ],
      "metadata": {
        "id": "z3gUhLZg2uji"
      },
      "execution_count": null,
      "outputs": []
    },
    {
      "cell_type": "markdown",
      "source": [
        "Load trained model"
      ],
      "metadata": {
        "id": "BSa8TFIgHPij"
      }
    },
    {
      "cell_type": "code",
      "source": [
        "best_model = models.get(\n",
        "    MODEL_ARCH,\n",
        "    num_classes=len(dataset_params['classes']),\n",
        "    checkpoint_path=f\"{CHECKPOINT_DIR}/{EXPERIMENT_NAME}/average_model.pth\"\n",
        ").to(DEVICE)"
      ],
      "metadata": {
        "id": "Q3JCyMBJHRTu"
      },
      "execution_count": null,
      "outputs": []
    },
    {
      "cell_type": "markdown",
      "source": [
        "Evaluate trained model"
      ],
      "metadata": {
        "id": "OknNX5SIHjtB"
      }
    },
    {
      "cell_type": "code",
      "source": [
        "trainer.test(\n",
        "    model=best_model,\n",
        "    test_loader=test_data,\n",
        "    test_metrics_list=DetectionMetrics_050(\n",
        "        score_thres=0.1, \n",
        "        top_k_predictions=300, \n",
        "        num_cls=len(dataset_params['classes']), \n",
        "        normalize_targets=True, \n",
        "        post_prediction_callback=PPYoloEPostPredictionCallback(\n",
        "            score_threshold=0.01, \n",
        "            nms_top_k=1000, \n",
        "            max_predictions=300,                                                                              \n",
        "            nms_threshold=0.7\n",
        "        )\n",
        "    )\n",
        ")"
      ],
      "metadata": {
        "id": "sLaRskM0Hl7F"
      },
      "execution_count": null,
      "outputs": []
    },
    {
      "cell_type": "markdown",
      "source": [
        "Inference with trained model"
      ],
      "metadata": {
        "id": "ygsI2yy4Htuq"
      }
    },
    {
      "cell_type": "code",
      "source": [
        "import supervision as sv\n",
        "\n",
        "root_dir = \"/content/Football-Players-Detection\"\n",
        "\n",
        "ds = sv.Dataset.from_yolo(\n",
        "    images_directory_path=f\"{root_dir}/test/images\",\n",
        "    annotations_directory_path=f\"{root_dir}/test/labels\",\n",
        "    data_yaml_path=f\"{root_dir}/data.yaml\",\n",
        "    force_masks=False\n",
        ")"
      ],
      "metadata": {
        "id": "7gh3L-mvHpLU"
      },
      "execution_count": 25,
      "outputs": []
    },
    {
      "cell_type": "code",
      "source": [
        "import supervision as sv\n",
        "\n",
        "CONFIDENCE_TRESHOLD = 0.5\n",
        "\n",
        "predictions = {}\n",
        "\n",
        "for image_name, image in ds.images.items():\n",
        "    result = list(best_model.predict(image, conf=CONFIDENCE_TRESHOLD))[0]\n",
        "    detections = sv.Detections(\n",
        "        xyxy=result.prediction.bboxes_xyxy,\n",
        "        confidence=result.prediction.confidence,\n",
        "        class_id=result.prediction.labels.astype(int)\n",
        "    )\n",
        "    predictions[image_name] = detections"
      ],
      "metadata": {
        "id": "jiiAVL58IDB_"
      },
      "execution_count": 26,
      "outputs": []
    },
    {
      "cell_type": "markdown",
      "source": [
        "Visualize inference results"
      ],
      "metadata": {
        "id": "L1O6GwNRIF1u"
      }
    },
    {
      "cell_type": "code",
      "source": [
        "import random\n",
        "random.seed(10)"
      ],
      "metadata": {
        "id": "-Tr7DMP7IHK5"
      },
      "execution_count": 27,
      "outputs": []
    },
    {
      "cell_type": "code",
      "source": [
        "import supervision as sv\n",
        "\n",
        "MAX_IMAGE_COUNT = 5\n",
        "\n",
        "n = min(MAX_IMAGE_COUNT, len(ds.images))\n",
        "\n",
        "keys = list(ds.images.keys())\n",
        "keys = random.sample(keys, n)\n",
        "\n",
        "box_annotator = sv.BoxAnnotator()\n",
        "\n",
        "images = []\n",
        "titles = []\n",
        "\n",
        "for key in keys:\n",
        "    frame_with_annotations = box_annotator.annotate(\n",
        "        scene=ds.images[key].copy(),\n",
        "        detections=ds.annotations[key],\n",
        "        skip_label=True\n",
        "    )\n",
        "    images.append(frame_with_annotations)\n",
        "    titles.append('annotations')\n",
        "    frame_with_predictions = box_annotator.annotate(\n",
        "        scene=ds.images[key].copy(),\n",
        "        detections=predictions[key],\n",
        "        skip_label=True\n",
        "    )\n",
        "    images.append(frame_with_predictions)\n",
        "    titles.append('predictions')\n",
        "\n",
        "%matplotlib inline\n",
        "sv.plot_images_grid(images=images, titles=titles, grid_size=(n, 2), size=(2 * 4, n * 4))"
      ],
      "metadata": {
        "id": "_x1BcYolIK-b"
      },
      "execution_count": null,
      "outputs": []
    }
  ]
}