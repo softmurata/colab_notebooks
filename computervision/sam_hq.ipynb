{
  "nbformat": 4,
  "nbformat_minor": 0,
  "metadata": {
    "colab": {
      "provenance": [],
      "gpuType": "T4",
      "authorship_tag": "ABX9TyOL7SmhiRnsUaj50OeaOeJw",
      "include_colab_link": true
    },
    "kernelspec": {
      "name": "python3",
      "display_name": "Python 3"
    },
    "language_info": {
      "name": "python"
    },
    "accelerator": "GPU"
  },
  "cells": [
    {
      "cell_type": "markdown",
      "metadata": {
        "id": "view-in-github",
        "colab_type": "text"
      },
      "source": [
        "<a href=\"https://colab.research.google.com/github/softmurata/colab_notebooks/blob/main/computervision/sam_hq.ipynb\" target=\"_parent\"><img src=\"https://colab.research.google.com/assets/colab-badge.svg\" alt=\"Open In Colab\"/></a>"
      ]
    },
    {
      "cell_type": "code",
      "source": [
        "from google.colab import drive\n",
        "drive.mount('/content/drive')"
      ],
      "metadata": {
        "id": "Za98p-wpQj80"
      },
      "execution_count": null,
      "outputs": []
    },
    {
      "cell_type": "markdown",
      "source": [
        "Installation"
      ],
      "metadata": {
        "id": "Ga8La0WXX9bI"
      }
    },
    {
      "cell_type": "code",
      "execution_count": null,
      "metadata": {
        "id": "7Jo3ScBINWrd"
      },
      "outputs": [],
      "source": [
        "!git clone https://github.com/SysCV/sam-hq.git\n",
        "%cd sam-hq\n",
        "!pip install -e ."
      ]
    },
    {
      "cell_type": "markdown",
      "source": [
        "Download model"
      ],
      "metadata": {
        "id": "cHu6LmnYX-rq"
      }
    },
    {
      "cell_type": "code",
      "source": [
        "%cd /content/sam-hq/\n",
        "!mkdir pretrained_checkpoint\n",
        "# vit-b\n",
        "!gdown https://drive.google.com/u/0/uc?id=11yExZLOve38kRZPfRx_MRxfIAKmfMY47&export=download&confirm=t&uuid=ca4d343c-4bd2-47ed-bb47-1879783bc4e3&at=AKKF8vxEYbzgJ8KpsdhDmEZMFbgt:1686550376456"
      ],
      "metadata": {
        "id": "yGpF-0Q3NvrI"
      },
      "execution_count": null,
      "outputs": []
    },
    {
      "cell_type": "code",
      "source": [
        "!mv /content/drive/MyDrive/sam_hq_vit_b.pth /content/sam-hq/pretrained_checkpoint/"
      ],
      "metadata": {
        "id": "83sHTbhUP0qR"
      },
      "execution_count": 11,
      "outputs": []
    },
    {
      "cell_type": "markdown",
      "source": [
        "Inference"
      ],
      "metadata": {
        "id": "CI5u4bEBX7-Q"
      }
    },
    {
      "cell_type": "code",
      "source": [
        "%cd /content/sam-hq/\n",
        "!python demo/demo_hqsam.py"
      ],
      "metadata": {
        "id": "DKc8jUu9Pac9"
      },
      "execution_count": null,
      "outputs": []
    },
    {
      "cell_type": "code",
      "source": [
        "from PIL import Image\n",
        "display(Image.open(\"/content/sam-hq/demo/hq_sam_result/example6_0.png\"))"
      ],
      "metadata": {
        "id": "O7fE3OeKS15s"
      },
      "execution_count": null,
      "outputs": []
    }
  ]
}