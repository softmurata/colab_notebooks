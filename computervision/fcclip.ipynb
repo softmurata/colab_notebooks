{
  "nbformat": 4,
  "nbformat_minor": 0,
  "metadata": {
    "colab": {
      "provenance": [],
      "gpuType": "T4",
      "authorship_tag": "ABX9TyN0hCo5BTf1NRUA/IGf3L3L",
      "include_colab_link": true
    },
    "kernelspec": {
      "name": "python3",
      "display_name": "Python 3"
    },
    "language_info": {
      "name": "python"
    },
    "accelerator": "GPU"
  },
  "cells": [
    {
      "cell_type": "markdown",
      "metadata": {
        "id": "view-in-github",
        "colab_type": "text"
      },
      "source": [
        "<a href=\"https://colab.research.google.com/github/softmurata/colab_notebooks/blob/main/computervision/fcclip.ipynb\" target=\"_parent\"><img src=\"https://colab.research.google.com/assets/colab-badge.svg\" alt=\"Open In Colab\"/></a>"
      ]
    },
    {
      "cell_type": "markdown",
      "source": [
        "Installation"
      ],
      "metadata": {
        "id": "my_UWhzq1hpz"
      }
    },
    {
      "cell_type": "code",
      "execution_count": null,
      "metadata": {
        "id": "dw07o7iYuwlA"
      },
      "outputs": [],
      "source": [
        "!git clone https://github.com/bytedance/fc-clip.git\n",
        "\n",
        "%cd /content/fc-clip\n",
        "!pip install -r requirements.txt\n",
        "\n",
        "!pip install 'git+https://github.com/facebookresearch/detectron2.git'\n",
        "\n",
        "%cd /content/fc-clip\n",
        "!python fcclip/modeling/pixel_decoder/ops/setup.py build install"
      ]
    },
    {
      "cell_type": "markdown",
      "source": [
        "Download weights"
      ],
      "metadata": {
        "id": "3JshKmC7yByL"
      }
    },
    {
      "cell_type": "code",
      "source": [
        "%cd /content/fc-clip\n",
        "!gdown --fuzzy https://drive.google.com/file/d/1-91PIns86vyNaL3CzMmDD39zKGnPMtvj/view"
      ],
      "metadata": {
        "id": "1PKDtqibvF6D"
      },
      "execution_count": null,
      "outputs": []
    },
    {
      "cell_type": "markdown",
      "source": [
        "Prepare demo data"
      ],
      "metadata": {
        "id": "_n8nr_D-yDDd"
      }
    },
    {
      "cell_type": "code",
      "source": [
        "!wget https://media.cnn.com/api/v1/images/stellar/prod/201030094143-stock-rhodesian-ridgeback.jpg -O /content/input.jpg"
      ],
      "metadata": {
        "id": "eEBLvCCjvUSc"
      },
      "execution_count": null,
      "outputs": []
    },
    {
      "cell_type": "markdown",
      "source": [
        "Inference"
      ],
      "metadata": {
        "id": "5MUNxuPhybdm"
      }
    },
    {
      "cell_type": "code",
      "source": [
        "%cd /content/fc-clip/\n",
        "!python demo/demo.py \\\n",
        "  --input /content/input.jpg \\\n",
        "  --output output \\\n",
        "  --opts MODEL.WEIGHTS /content/fc-clip/fcclip_cocopan.pth"
      ],
      "metadata": {
        "id": "icp7h_OivPdv"
      },
      "execution_count": null,
      "outputs": []
    },
    {
      "cell_type": "code",
      "source": [
        "from PIL import Image\n",
        "display(Image.open(\"/content/fc-clip/output.png\"))"
      ],
      "metadata": {
        "id": "NFnxwECY0wSy"
      },
      "execution_count": null,
      "outputs": []
    }
  ]
}