{
  "nbformat": 4,
  "nbformat_minor": 0,
  "metadata": {
    "colab": {
      "provenance": [],
      "gpuType": "T4",
      "authorship_tag": "ABX9TyMbEtbVDTvUGmv2yC+wXDCt",
      "include_colab_link": true
    },
    "kernelspec": {
      "name": "python3",
      "display_name": "Python 3"
    },
    "language_info": {
      "name": "python"
    },
    "accelerator": "GPU",
    "gpuClass": "standard",
    "widgets": {
      "application/vnd.jupyter.widget-state+json": {
        "e546ea9da4f64607b352ab9b07221a26": {
          "model_module": "@jupyter-widgets/controls",
          "model_name": "HBoxModel",
          "model_module_version": "1.5.0",
          "state": {
            "_dom_classes": [],
            "_model_module": "@jupyter-widgets/controls",
            "_model_module_version": "1.5.0",
            "_model_name": "HBoxModel",
            "_view_count": null,
            "_view_module": "@jupyter-widgets/controls",
            "_view_module_version": "1.5.0",
            "_view_name": "HBoxView",
            "box_style": "",
            "children": [
              "IPY_MODEL_64ee2ffc0be043049edf60c516fe52f2",
              "IPY_MODEL_5f9354185513430ab765ffabcceaaa7e",
              "IPY_MODEL_b601d7846fc04e908457ea6f80e6619e"
            ],
            "layout": "IPY_MODEL_aa698ec857dd4e0d84513687d7b631f1"
          }
        },
        "64ee2ffc0be043049edf60c516fe52f2": {
          "model_module": "@jupyter-widgets/controls",
          "model_name": "HTMLModel",
          "model_module_version": "1.5.0",
          "state": {
            "_dom_classes": [],
            "_model_module": "@jupyter-widgets/controls",
            "_model_module_version": "1.5.0",
            "_model_name": "HTMLModel",
            "_view_count": null,
            "_view_module": "@jupyter-widgets/controls",
            "_view_module_version": "1.5.0",
            "_view_name": "HTMLView",
            "description": "",
            "description_tooltip": null,
            "layout": "IPY_MODEL_3fb6e30a9c1e43cebc45c656a8ef3cb7",
            "placeholder": "​",
            "style": "IPY_MODEL_2d5038525e384fefaafe70ed5c4d7ea1",
            "value": "100%"
          }
        },
        "5f9354185513430ab765ffabcceaaa7e": {
          "model_module": "@jupyter-widgets/controls",
          "model_name": "FloatProgressModel",
          "model_module_version": "1.5.0",
          "state": {
            "_dom_classes": [],
            "_model_module": "@jupyter-widgets/controls",
            "_model_module_version": "1.5.0",
            "_model_name": "FloatProgressModel",
            "_view_count": null,
            "_view_module": "@jupyter-widgets/controls",
            "_view_module_version": "1.5.0",
            "_view_name": "ProgressView",
            "bar_style": "success",
            "description": "",
            "description_tooltip": null,
            "layout": "IPY_MODEL_c956794f16ef4c6fa1d626200b8d1d2b",
            "max": 50,
            "min": 0,
            "orientation": "horizontal",
            "style": "IPY_MODEL_95e93488b36447eb99675d820ba7d501",
            "value": 50
          }
        },
        "b601d7846fc04e908457ea6f80e6619e": {
          "model_module": "@jupyter-widgets/controls",
          "model_name": "HTMLModel",
          "model_module_version": "1.5.0",
          "state": {
            "_dom_classes": [],
            "_model_module": "@jupyter-widgets/controls",
            "_model_module_version": "1.5.0",
            "_model_name": "HTMLModel",
            "_view_count": null,
            "_view_module": "@jupyter-widgets/controls",
            "_view_module_version": "1.5.0",
            "_view_name": "HTMLView",
            "description": "",
            "description_tooltip": null,
            "layout": "IPY_MODEL_d6c848063093451eb4eaa981544e44e1",
            "placeholder": "​",
            "style": "IPY_MODEL_328d611af25b44068ee81f22cb417db0",
            "value": " 50/50 [00:20&lt;00:00,  2.52it/s]"
          }
        },
        "aa698ec857dd4e0d84513687d7b631f1": {
          "model_module": "@jupyter-widgets/base",
          "model_name": "LayoutModel",
          "model_module_version": "1.2.0",
          "state": {
            "_model_module": "@jupyter-widgets/base",
            "_model_module_version": "1.2.0",
            "_model_name": "LayoutModel",
            "_view_count": null,
            "_view_module": "@jupyter-widgets/base",
            "_view_module_version": "1.2.0",
            "_view_name": "LayoutView",
            "align_content": null,
            "align_items": null,
            "align_self": null,
            "border": null,
            "bottom": null,
            "display": null,
            "flex": null,
            "flex_flow": null,
            "grid_area": null,
            "grid_auto_columns": null,
            "grid_auto_flow": null,
            "grid_auto_rows": null,
            "grid_column": null,
            "grid_gap": null,
            "grid_row": null,
            "grid_template_areas": null,
            "grid_template_columns": null,
            "grid_template_rows": null,
            "height": null,
            "justify_content": null,
            "justify_items": null,
            "left": null,
            "margin": null,
            "max_height": null,
            "max_width": null,
            "min_height": null,
            "min_width": null,
            "object_fit": null,
            "object_position": null,
            "order": null,
            "overflow": null,
            "overflow_x": null,
            "overflow_y": null,
            "padding": null,
            "right": null,
            "top": null,
            "visibility": null,
            "width": null
          }
        },
        "3fb6e30a9c1e43cebc45c656a8ef3cb7": {
          "model_module": "@jupyter-widgets/base",
          "model_name": "LayoutModel",
          "model_module_version": "1.2.0",
          "state": {
            "_model_module": "@jupyter-widgets/base",
            "_model_module_version": "1.2.0",
            "_model_name": "LayoutModel",
            "_view_count": null,
            "_view_module": "@jupyter-widgets/base",
            "_view_module_version": "1.2.0",
            "_view_name": "LayoutView",
            "align_content": null,
            "align_items": null,
            "align_self": null,
            "border": null,
            "bottom": null,
            "display": null,
            "flex": null,
            "flex_flow": null,
            "grid_area": null,
            "grid_auto_columns": null,
            "grid_auto_flow": null,
            "grid_auto_rows": null,
            "grid_column": null,
            "grid_gap": null,
            "grid_row": null,
            "grid_template_areas": null,
            "grid_template_columns": null,
            "grid_template_rows": null,
            "height": null,
            "justify_content": null,
            "justify_items": null,
            "left": null,
            "margin": null,
            "max_height": null,
            "max_width": null,
            "min_height": null,
            "min_width": null,
            "object_fit": null,
            "object_position": null,
            "order": null,
            "overflow": null,
            "overflow_x": null,
            "overflow_y": null,
            "padding": null,
            "right": null,
            "top": null,
            "visibility": null,
            "width": null
          }
        },
        "2d5038525e384fefaafe70ed5c4d7ea1": {
          "model_module": "@jupyter-widgets/controls",
          "model_name": "DescriptionStyleModel",
          "model_module_version": "1.5.0",
          "state": {
            "_model_module": "@jupyter-widgets/controls",
            "_model_module_version": "1.5.0",
            "_model_name": "DescriptionStyleModel",
            "_view_count": null,
            "_view_module": "@jupyter-widgets/base",
            "_view_module_version": "1.2.0",
            "_view_name": "StyleView",
            "description_width": ""
          }
        },
        "c956794f16ef4c6fa1d626200b8d1d2b": {
          "model_module": "@jupyter-widgets/base",
          "model_name": "LayoutModel",
          "model_module_version": "1.2.0",
          "state": {
            "_model_module": "@jupyter-widgets/base",
            "_model_module_version": "1.2.0",
            "_model_name": "LayoutModel",
            "_view_count": null,
            "_view_module": "@jupyter-widgets/base",
            "_view_module_version": "1.2.0",
            "_view_name": "LayoutView",
            "align_content": null,
            "align_items": null,
            "align_self": null,
            "border": null,
            "bottom": null,
            "display": null,
            "flex": null,
            "flex_flow": null,
            "grid_area": null,
            "grid_auto_columns": null,
            "grid_auto_flow": null,
            "grid_auto_rows": null,
            "grid_column": null,
            "grid_gap": null,
            "grid_row": null,
            "grid_template_areas": null,
            "grid_template_columns": null,
            "grid_template_rows": null,
            "height": null,
            "justify_content": null,
            "justify_items": null,
            "left": null,
            "margin": null,
            "max_height": null,
            "max_width": null,
            "min_height": null,
            "min_width": null,
            "object_fit": null,
            "object_position": null,
            "order": null,
            "overflow": null,
            "overflow_x": null,
            "overflow_y": null,
            "padding": null,
            "right": null,
            "top": null,
            "visibility": null,
            "width": null
          }
        },
        "95e93488b36447eb99675d820ba7d501": {
          "model_module": "@jupyter-widgets/controls",
          "model_name": "ProgressStyleModel",
          "model_module_version": "1.5.0",
          "state": {
            "_model_module": "@jupyter-widgets/controls",
            "_model_module_version": "1.5.0",
            "_model_name": "ProgressStyleModel",
            "_view_count": null,
            "_view_module": "@jupyter-widgets/base",
            "_view_module_version": "1.2.0",
            "_view_name": "StyleView",
            "bar_color": null,
            "description_width": ""
          }
        },
        "d6c848063093451eb4eaa981544e44e1": {
          "model_module": "@jupyter-widgets/base",
          "model_name": "LayoutModel",
          "model_module_version": "1.2.0",
          "state": {
            "_model_module": "@jupyter-widgets/base",
            "_model_module_version": "1.2.0",
            "_model_name": "LayoutModel",
            "_view_count": null,
            "_view_module": "@jupyter-widgets/base",
            "_view_module_version": "1.2.0",
            "_view_name": "LayoutView",
            "align_content": null,
            "align_items": null,
            "align_self": null,
            "border": null,
            "bottom": null,
            "display": null,
            "flex": null,
            "flex_flow": null,
            "grid_area": null,
            "grid_auto_columns": null,
            "grid_auto_flow": null,
            "grid_auto_rows": null,
            "grid_column": null,
            "grid_gap": null,
            "grid_row": null,
            "grid_template_areas": null,
            "grid_template_columns": null,
            "grid_template_rows": null,
            "height": null,
            "justify_content": null,
            "justify_items": null,
            "left": null,
            "margin": null,
            "max_height": null,
            "max_width": null,
            "min_height": null,
            "min_width": null,
            "object_fit": null,
            "object_position": null,
            "order": null,
            "overflow": null,
            "overflow_x": null,
            "overflow_y": null,
            "padding": null,
            "right": null,
            "top": null,
            "visibility": null,
            "width": null
          }
        },
        "328d611af25b44068ee81f22cb417db0": {
          "model_module": "@jupyter-widgets/controls",
          "model_name": "DescriptionStyleModel",
          "model_module_version": "1.5.0",
          "state": {
            "_model_module": "@jupyter-widgets/controls",
            "_model_module_version": "1.5.0",
            "_model_name": "DescriptionStyleModel",
            "_view_count": null,
            "_view_module": "@jupyter-widgets/base",
            "_view_module_version": "1.2.0",
            "_view_name": "StyleView",
            "description_width": ""
          }
        }
      }
    }
  },
  "cells": [
    {
      "cell_type": "markdown",
      "metadata": {
        "id": "view-in-github",
        "colab_type": "text"
      },
      "source": [
        "<a href=\"https://colab.research.google.com/github/softmurata/colab_notebooks/blob/main/application/gligenadvancedapp.ipynb\" target=\"_parent\"><img src=\"https://colab.research.google.com/assets/colab-badge.svg\" alt=\"Open In Colab\"/></a>"
      ]
    },
    {
      "cell_type": "markdown",
      "source": [
        "Installation"
      ],
      "metadata": {
        "id": "uKfFzI-hVOGx"
      }
    },
    {
      "cell_type": "code",
      "execution_count": null,
      "metadata": {
        "id": "q_SSG2nhVIzX"
      },
      "outputs": [],
      "source": [
        "!pip install transformers accelerate scipy safetensors\n",
        "!git clone https://github.com/gligen/diffusers.git\n",
        "!pip install git+https://github.com/gligen/diffusers.git\n",
        "# Installation for GroundingDINO\n",
        "%cd /content\n",
        "!git clone https://github.com/IDEA-Research/GroundingDINO.git\n",
        "%cd /content/GroundingDINO\n",
        "!pip install -q -e .\n",
        "!pip install -q roboflow"
      ]
    },
    {
      "cell_type": "markdown",
      "source": [
        "Import Libraries"
      ],
      "metadata": {
        "id": "RVydyrNhVR-k"
      }
    },
    {
      "cell_type": "code",
      "source": [
        "# import libraries\n",
        "import cv2\n",
        "from PIL import Image\n",
        "import numpy as np\n",
        "import os\n",
        "import supervision as sv\n",
        "import argparse\n",
        "from functools import partial\n",
        "import cv2\n",
        "import requests\n",
        "\n",
        "from io import BytesIO\n",
        "from pathlib import Path\n",
        "import random\n",
        "\n",
        "\n",
        "import warnings\n",
        "warnings.filterwarnings(\"ignore\")\n",
        "\n",
        "\n",
        "import torch\n",
        "from torchvision.ops import box_convert\n",
        "\n",
        "from groundingdino.models import build_model\n",
        "from groundingdino.util.slconfig import SLConfig\n",
        "from groundingdino.util.utils import clean_state_dict\n",
        "from groundingdino.util.inference import annotate, load_image, predict\n",
        "import groundingdino.datasets.transforms as T\n",
        "\n",
        "from huggingface_hub import hf_hub_download\n",
        "from diffusers import StableDiffusionGLIGENPipeline"
      ],
      "metadata": {
        "id": "MqmGCMlJVVXT"
      },
      "execution_count": 2,
      "outputs": []
    },
    {
      "cell_type": "markdown",
      "source": [
        "Utils function"
      ],
      "metadata": {
        "id": "j5r9xBo_VX3N"
      }
    },
    {
      "cell_type": "code",
      "source": [
        "# utils function\n",
        "def load_model_hf(repo_id, filename, ckpt_config_filename, device='cpu'):\n",
        "    cache_config_file = hf_hub_download(repo_id=repo_id, filename=ckpt_config_filename)\n",
        "\n",
        "    args = SLConfig.fromfile(cache_config_file) \n",
        "    model = build_model(args)\n",
        "    args.device = device\n",
        "\n",
        "    cache_file = hf_hub_download(repo_id=repo_id, filename=filename)\n",
        "    checkpoint = torch.load(cache_file, map_location='cpu')\n",
        "    log = model.load_state_dict(clean_state_dict(checkpoint['model']), strict=False)\n",
        "    print(\"Model loaded from {} \\n => {}\".format(cache_file, log))\n",
        "    _ = model.eval()\n",
        "    return model  \n",
        "\n",
        "def get_base_img(img, part):\n",
        "  h, w = img.shape[:2]\n",
        "  if part == \"left\":\n",
        "    crop_img = img[:, :w // 2, :] \n",
        "    base_img = np.zeros_like(img)\n",
        "    base_img[:, :w // 2, :] = crop_img\n",
        "  elif part == \"right\":\n",
        "    crop_img = img[:, w // 2:, :] \n",
        "    base_img = np.zeros_like(img)\n",
        "    base_img[:, w // 2:, :] = crop_img\n",
        "  elif part == \"top\":\n",
        "    crop_img = img[:, :h // 2, :] \n",
        "    base_img = np.zeros_like(img)\n",
        "    base_img[:, :h // 2, :] = crop_img\n",
        "  elif part == \"bottom\":\n",
        "    crop_img = img[:, h // 2:, :] \n",
        "    base_img = np.zeros_like(img)\n",
        "    base_img[:, h // 2:, :] = crop_img\n",
        "  else:\n",
        "    base_img = img\n",
        "  \n",
        "  file_path = \"/content/part.png\"\n",
        "  cv2.imwrite(file_path, base_img)\n",
        "\n",
        "  return base_img, file_path\n",
        "\n",
        "def generate_masks_with_grounding(image_source, boxes):\n",
        "    h, w, _ = image_source.shape\n",
        "    boxes_unnorm = boxes * torch.Tensor([w, h, w, h])\n",
        "    boxes_xyxy = box_convert(boxes=boxes_unnorm, in_fmt=\"cxcywh\", out_fmt=\"xyxy\").numpy()\n",
        "    mask = np.zeros_like(image_source)\n",
        "    for box in boxes_xyxy:\n",
        "        x0, y0, x1, y1 = box\n",
        "        mask[int(y0):int(y1), int(x0):int(x1), :] = 255\n",
        "    return mask"
      ],
      "metadata": {
        "id": "jP7NhM_oVY03"
      },
      "execution_count": 3,
      "outputs": []
    },
    {
      "cell_type": "markdown",
      "source": [
        "Load model"
      ],
      "metadata": {
        "id": "PwXDW4fhVfs0"
      }
    },
    {
      "cell_type": "code",
      "source": [
        "# load detection model\n",
        "ckpt_repo_id = \"ShilongLiu/GroundingDINO\"\n",
        "ckpt_filenmae = \"groundingdino_swint_ogc.pth\"\n",
        "ckpt_config_filename = \"GroundingDINO_SwinT_OGC.cfg.py\"\n",
        "dino_model = load_model_hf(ckpt_repo_id, ckpt_filenmae, ckpt_config_filename)\n",
        "\n",
        "# load gligen model\n",
        "pipe = StableDiffusionGLIGENPipeline.from_pretrained(\"gligen/diffusers-inpainting-text-box\", revision=\"fp16\", torch_dtype=torch.float16)\n",
        "pipe.to(\"cuda\")"
      ],
      "metadata": {
        "id": "N1Ds--McVgUt"
      },
      "execution_count": null,
      "outputs": []
    },
    {
      "cell_type": "markdown",
      "source": [
        "LLM pipeline"
      ],
      "metadata": {
        "id": "NT_H6fdBVbtk"
      }
    },
    {
      "cell_type": "code",
      "source": [
        "#@title description\n",
        "# chatgpt prompt enginnering\n",
        "# ここはchatgptでやる\n",
        "# Fewshot learning\n",
        "\n",
        "\"\"\"\n",
        "You act as a prompt generator. Please do the classification task like the following examples. \\  Prompt: replace chair into sofa at the left side Output: {\"part\": \"left\", \"source object\": [\"chair\"], \"target object\": [\"sofa\"]} \\ Prompt: change wooden table into white table in the right part. Output: {\"part\": \"right\", \"source object\": [\"wooden table\"], \"target object\": [\"white table\"]} \\ Prompt: replace blue chair and red sofa into yellow table and green chair at the bottom Output: {\"part\": \"bottom\", \"source object\": [\"blue chair\", \"red sofa\"], \"target object\": [\"yellow table\", \"green chair\"]} \\ Prompt: replace sofa and shelf into chair and picture at the right side in the room Output:\n",
        "\"\"\"\n",
        "\n",
        "# after you get into the above prompt, you should inject the following prompt\n",
        "\"\"\"\n",
        "Prompt: replace chair and shelf into potted plant and picture at the right side Output:\n",
        "\"\"\"\n",
        "\n",
        "# Results\n",
        "\"\"\"\n",
        "{\"part\": \"right\", \"source object\": [\"chair\", \"shelf\"], \"target object\": [\"potted plant\", \"picture\"]}\n",
        "\"\"\"\n"
      ],
      "metadata": {
        "id": "3IpCbbuzVtM1"
      },
      "execution_count": null,
      "outputs": []
    },
    {
      "cell_type": "code",
      "source": [
        "prompt = \"replace chair and shelf into potted plant and picture at the right side\"\n",
        "# response = llm(prompt) # In this case, llm is OpenAI chatgpt 3.5, \n",
        "response = {\"part\": \"right\", \"source object\": [\"chair\", \"shelf\"], \"target object\": [\"potted plant\", \"picture\"]}"
      ],
      "metadata": {
        "id": "p4hD2Xt4Vmj4"
      },
      "execution_count": 5,
      "outputs": []
    },
    {
      "cell_type": "markdown",
      "source": [
        "zeroshot object detection pipeline"
      ],
      "metadata": {
        "id": "wOYGLtyZVw9C"
      }
    },
    {
      "cell_type": "code",
      "source": [
        "img_path = \"/content/room001.jpeg\"\n",
        "img = cv2.imread(img_path)\n",
        "base_img, local_img_path = get_base_img(img, response[\"part\"])"
      ],
      "metadata": {
        "id": "JYogowf_V0OF"
      },
      "execution_count": 6,
      "outputs": []
    },
    {
      "cell_type": "code",
      "source": [
        "# grounding dino detection\n",
        "local_image_path = local_img_path\n",
        "text_prompt = \"\"\n",
        "for t in response[\"source object\"]:\n",
        "  text_prompt += f\"{t}.\"\n",
        "\n",
        "TEXT_PROMPT = text_prompt\n",
        "BOX_TRESHOLD = 0.35\n",
        "TEXT_TRESHOLD = 0.25\n",
        "\n",
        "image_source, image = load_image(local_image_path)\n",
        "\n",
        "boxes, logits, phrases = predict(\n",
        "    model=dino_model, \n",
        "    image=image, \n",
        "    caption=TEXT_PROMPT, \n",
        "    box_threshold=BOX_TRESHOLD, \n",
        "    text_threshold=TEXT_TRESHOLD\n",
        ")\n",
        "\n",
        "annotated_frame = annotate(image_source=image_source, boxes=boxes, logits=logits, phrases=phrases)\n",
        "# annotated_frame = annotated_frame[...,::-1] # BGR to RGB\n",
        "%matplotlib inline  \n",
        "sv.plot_image(annotated_frame, (16, 16))"
      ],
      "metadata": {
        "id": "SqXL5BvrV4ET"
      },
      "execution_count": null,
      "outputs": []
    },
    {
      "cell_type": "code",
      "source": [
        "# check mask\n",
        "image_source = cv2.cvtColor(cv2.imread(img_path), cv2.COLOR_BGR2RGB)\n",
        "image_mask = generate_masks_with_grounding(image_source, boxes)\n",
        "display(Image.fromarray(image_mask))"
      ],
      "metadata": {
        "id": "ARtXzkOEV6NY"
      },
      "execution_count": null,
      "outputs": []
    },
    {
      "cell_type": "markdown",
      "source": [
        "GLIGEN pipeline\n"
      ],
      "metadata": {
        "id": "HdRsnRbtV-rl"
      }
    },
    {
      "cell_type": "code",
      "source": [
        "image_source = Image.fromarray(image_source)\n",
        "image_mask = Image.fromarray(image_mask)\n",
        "# Resize\n",
        "image_source_for_inpaint = image_source.resize((512, 512))\n",
        "image_mask_for_inpaint = image_mask.resize((512, 512))\n",
        "# get bbox\n",
        "xyxy_boxes = box_convert(boxes=boxes, in_fmt=\"cxcywh\", out_fmt=\"xyxy\").tolist()\n",
        "\n",
        "# define prompts for each box\n",
        "gligen_phrases = ['a chair', 'a great picture']\n",
        "prompt = \"'a chair', 'a great picture'\"\n",
        "\n",
        "num_box = len(boxes)\n",
        "\n",
        "image_inpainting = pipe(\n",
        "    prompt,\n",
        "    num_images_per_prompt = 2,\n",
        "    gligen_phrases = gligen_phrases,\n",
        "    gligen_inpaint_image = image_source_for_inpaint,\n",
        "    gligen_boxes = xyxy_boxes,\n",
        "    gligen_scheduled_sampling_beta=1,\n",
        "    output_type=\"numpy\",\n",
        "    num_inference_steps=50\n",
        ").images"
      ],
      "metadata": {
        "colab": {
          "base_uri": "https://localhost:8080/",
          "height": 49,
          "referenced_widgets": [
            "e546ea9da4f64607b352ab9b07221a26",
            "64ee2ffc0be043049edf60c516fe52f2",
            "5f9354185513430ab765ffabcceaaa7e",
            "b601d7846fc04e908457ea6f80e6619e",
            "aa698ec857dd4e0d84513687d7b631f1",
            "3fb6e30a9c1e43cebc45c656a8ef3cb7",
            "2d5038525e384fefaafe70ed5c4d7ea1",
            "c956794f16ef4c6fa1d626200b8d1d2b",
            "95e93488b36447eb99675d820ba7d501",
            "d6c848063093451eb4eaa981544e44e1",
            "328d611af25b44068ee81f22cb417db0"
          ]
        },
        "id": "U226SGhoWAFt",
        "outputId": "a2f8791b-0b92-4043-f62b-b3d7efe627db"
      },
      "execution_count": 9,
      "outputs": [
        {
          "output_type": "display_data",
          "data": {
            "text/plain": [
              "  0%|          | 0/50 [00:00<?, ?it/s]"
            ],
            "application/vnd.jupyter.widget-view+json": {
              "version_major": 2,
              "version_minor": 0,
              "model_id": "e546ea9da4f64607b352ab9b07221a26"
            }
          },
          "metadata": {}
        }
      ]
    },
    {
      "cell_type": "code",
      "source": [
        "# display image\n",
        "image_inpainting = (image_inpainting * 255).astype(np.uint8)\n",
        "image_inpainting = np.concatenate(image_inpainting, axis=1)\n",
        "Image.fromarray(image_inpainting).resize((image_source.size[0]*2, image_source.size[1]))"
      ],
      "metadata": {
        "id": "vQI9cKyjWENb"
      },
      "execution_count": null,
      "outputs": []
    }
  ]
}