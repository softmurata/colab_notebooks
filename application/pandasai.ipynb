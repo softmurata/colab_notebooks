{
  "nbformat": 4,
  "nbformat_minor": 0,
  "metadata": {
    "colab": {
      "provenance": [],
      "gpuType": "T4",
      "authorship_tag": "ABX9TyMRQiDZR0vgJ6n6aFhkfkHz",
      "include_colab_link": true
    },
    "kernelspec": {
      "name": "python3",
      "display_name": "Python 3"
    },
    "language_info": {
      "name": "python"
    },
    "accelerator": "GPU",
    "gpuClass": "standard"
  },
  "cells": [
    {
      "cell_type": "markdown",
      "metadata": {
        "id": "view-in-github",
        "colab_type": "text"
      },
      "source": [
        "<a href=\"https://colab.research.google.com/github/softmurata/colab_notebooks/blob/main/application/pandasai.ipynb\" target=\"_parent\"><img src=\"https://colab.research.google.com/assets/colab-badge.svg\" alt=\"Open In Colab\"/></a>"
      ]
    },
    {
      "cell_type": "code",
      "execution_count": null,
      "metadata": {
        "id": "XlxUCfLhXqH6"
      },
      "outputs": [],
      "source": [
        "!pip install pandasai"
      ]
    },
    {
      "cell_type": "code",
      "source": [
        "HF_TOKEN = \"\""
      ],
      "metadata": {
        "id": "BIrW2ueAcyjU"
      },
      "execution_count": 10,
      "outputs": []
    },
    {
      "cell_type": "code",
      "source": [
        "import pandas as pd\n",
        "from pandasai import PandasAI\n",
        "\n",
        "# Sample DataFrame\n",
        "df = pd.DataFrame({\n",
        "    \"country\": [\"United States\", \"United Kingdom\", \"France\", \"Germany\", \"Italy\", \"Spain\", \"Canada\", \"Australia\", \"Japan\", \"China\"],\n",
        "    \"gdp\": [19294482071552, 2891615567872, 2411255037952, 3435817336832, 1745433788416, 1181205135360, 1607402389504, 1490967855104, 4380756541440, 14631844184064],\n",
        "    \"happiness_index\": [6.94, 7.16, 6.66, 7.07, 6.38, 6.4, 7.23, 7.22, 5.87, 5.12]\n",
        "})\n",
        "\n",
        "# Instantiate a LLM\n",
        "# from pandasai.llm.openai import OpenAI\n",
        "# llm = OpenAI()\n",
        "# Starcoder\n",
        "from pandasai.llm.starcoder import Starcoder\n",
        "llm = Starcoder(api_token=HF_TOKEN)\n",
        "\n",
        "pandas_ai = PandasAI(llm, conversational=False)"
      ],
      "metadata": {
        "id": "ldAOLvB9Xu0s"
      },
      "execution_count": 26,
      "outputs": []
    },
    {
      "cell_type": "markdown",
      "source": [
        "Inference with question"
      ],
      "metadata": {
        "id": "xhwWdz63di-u"
      }
    },
    {
      "cell_type": "code",
      "source": [
        "response = pandas_ai.run(df, prompt='Which are the 5 happiest countries?')\n",
        "print(response)"
      ],
      "metadata": {
        "id": "chI9V1DSYlZh"
      },
      "execution_count": null,
      "outputs": []
    },
    {
      "cell_type": "code",
      "source": [
        "response = pandas_ai.run(df, prompt='What is the sum of the GDPs of the 2 unhappiest countries?')\n",
        "print(response)"
      ],
      "metadata": {
        "id": "2MvS1Hyoa_zi"
      },
      "execution_count": null,
      "outputs": []
    },
    {
      "cell_type": "markdown",
      "source": [
        "Inference with chart"
      ],
      "metadata": {
        "id": "pxJn89indpSD"
      }
    },
    {
      "cell_type": "code",
      "source": [
        "response = pandas_ai.run(\n",
        "    df,\n",
        "    \"Plot the histogram of countries showing for each the gpd, using different colors for each bar\",\n",
        ")\n",
        "print(response)"
      ],
      "metadata": {
        "id": "w2a3qHF4dq03"
      },
      "execution_count": null,
      "outputs": []
    },
    {
      "cell_type": "markdown",
      "source": [
        "Privacy enforce"
      ],
      "metadata": {
        "id": "llZNyibgeCQn"
      }
    },
    {
      "cell_type": "code",
      "source": [
        "pandas_ai = PandasAI(llm, verbose=True, conversational=False, enforce_privacy=True)\n",
        "response = pandas_ai.run(\n",
        "    df,\n",
        "    \"Calculate the sum of the gdp of north american countries\",\n",
        ")\n",
        "print(response)"
      ],
      "metadata": {
        "id": "PBcf9Gxdd75G"
      },
      "execution_count": null,
      "outputs": []
    },
    {
      "cell_type": "markdown",
      "source": [
        "CSV Sample"
      ],
      "metadata": {
        "id": "944s03maccLH"
      }
    },
    {
      "cell_type": "code",
      "source": [
        "!wget https://raw.githubusercontent.com/gventuri/pandas-ai/main/examples/data/Loan%20payments%20data.csv -O loan_payment_data.csv"
      ],
      "metadata": {
        "id": "CCIKHK5OcWEt"
      },
      "execution_count": null,
      "outputs": []
    },
    {
      "cell_type": "code",
      "source": [
        "import pandas as pd\n",
        "\n",
        "from pandasai import PandasAI\n",
        "from pandasai.llm.starcoder import Starcoder"
      ],
      "metadata": {
        "id": "Apv0X2uNcrTL"
      },
      "execution_count": 21,
      "outputs": []
    },
    {
      "cell_type": "code",
      "source": [
        "df = pd.read_csv(\"loan_payment_data.csv\")\n",
        "\n",
        "llm = Starcoder(api_token=HF_TOKEN)\n",
        "pandas_ai = PandasAI(llm, verbose=True, conversational=False)\n",
        "response = pandas_ai.run(df, \"How many loans are from men and have been paid off?\")\n",
        "print(response)\n",
        "# Output: 247 loans have been paid off by men."
      ],
      "metadata": {
        "id": "6POme_TOcpWB"
      },
      "execution_count": null,
      "outputs": []
    },
    {
      "cell_type": "code",
      "source": [
        "df.tail(5)"
      ],
      "metadata": {
        "id": "UFqxzvIAhUt9"
      },
      "execution_count": null,
      "outputs": []
    },
    {
      "cell_type": "markdown",
      "source": [
        "Advanced application"
      ],
      "metadata": {
        "id": "rw20EbAtoJ0t"
      }
    },
    {
      "cell_type": "code",
      "source": [
        "response = pandas_ai.run(df, \"How many loans are from High School or Below and have been paid off?\",)\n",
        "print(response)"
      ],
      "metadata": {
        "id": "VH3p_npqdT5J"
      },
      "execution_count": null,
      "outputs": []
    },
    {
      "cell_type": "code",
      "source": [
        "response = pandas_ai.run(df, \"Please calculate the mean of past_due_days from High School or Below.\",)\n",
        "print(response)"
      ],
      "metadata": {
        "id": "Z68OuU--iWLD"
      },
      "execution_count": null,
      "outputs": []
    },
    {
      "cell_type": "code",
      "source": [
        "response = pandas_ai.run(df, \"Plot the graph with Gender and loan_status\",)\n",
        "print(response)"
      ],
      "metadata": {
        "id": "z4BGIzcpjeXo"
      },
      "execution_count": null,
      "outputs": []
    },
    {
      "cell_type": "code",
      "source": [
        "response = pandas_ai.run(df, \"Plot the graph about loan_status according to education \",)\n",
        "print(response)"
      ],
      "metadata": {
        "id": "bNgduh45lNEb"
      },
      "execution_count": null,
      "outputs": []
    },
    {
      "cell_type": "code",
      "source": [
        "response = pandas_ai.run(df, \"Answer the relationship with load_status and Gender\",)\n",
        "print(response)"
      ],
      "metadata": {
        "id": "HN25q8bhlr4-"
      },
      "execution_count": null,
      "outputs": []
    },
    {
      "cell_type": "code",
      "source": [
        "question = \"Please create estimation model for 'loan_status' \"\n",
        "response = pandas_ai.run(df, question,)\n",
        "print(response)"
      ],
      "metadata": {
        "id": "klG0qfbon2X-"
      },
      "execution_count": null,
      "outputs": []
    },
    {
      "cell_type": "code",
      "source": [
        "# Loan_ID\tloan_status\tPrincipal\tterms\teffective_date\tdue_date\tpaid_off_time\tpast_due_days\tage\teducation\tGender\n",
        "question = \"Please create estimation model by decisiontree for 'loan_status' \"\n",
        "response = pandas_ai.run(df, question,)\n",
        "print(response)"
      ],
      "metadata": {
        "id": "1wk0IezdkQ3U"
      },
      "execution_count": null,
      "outputs": []
    }
  ]
}