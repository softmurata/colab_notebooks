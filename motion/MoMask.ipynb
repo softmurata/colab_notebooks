{
  "nbformat": 4,
  "nbformat_minor": 0,
  "metadata": {
    "colab": {
      "provenance": [],
      "gpuType": "T4",
      "authorship_tag": "ABX9TyMjBDlt9A7rvcp26AyPgL/j",
      "include_colab_link": true
    },
    "kernelspec": {
      "name": "python3",
      "display_name": "Python 3"
    },
    "language_info": {
      "name": "python"
    },
    "accelerator": "GPU"
  },
  "cells": [
    {
      "cell_type": "markdown",
      "metadata": {
        "id": "view-in-github",
        "colab_type": "text"
      },
      "source": [
        "<a href=\"https://colab.research.google.com/github/softmurata/colab_notebooks/blob/main/motion/MoMask.ipynb\" target=\"_parent\"><img src=\"https://colab.research.google.com/assets/colab-badge.svg\" alt=\"Open In Colab\"/></a>"
      ]
    },
    {
      "cell_type": "markdown",
      "source": [
        "[Github](https://github.com/EricGuo5513/momask-codes/tree/main)\n",
        "\n",
        "[Huggingface](https://huggingface.co/spaces/MeYourHint/MoMask)"
      ],
      "metadata": {
        "id": "rXDUAGBGCrI2"
      }
    },
    {
      "cell_type": "markdown",
      "source": [
        "Installation"
      ],
      "metadata": {
        "id": "PT3-oJjfCUxH"
      }
    },
    {
      "cell_type": "code",
      "execution_count": null,
      "metadata": {
        "id": "LQnGRuJn1srr"
      },
      "outputs": [],
      "source": [
        "!git clone https://huggingface.co/spaces/MeYourHint/MoMask"
      ]
    },
    {
      "cell_type": "code",
      "source": [
        "%cd /content/MoMask\n",
        "!pip install -r requirements.txt"
      ],
      "metadata": {
        "id": "Iqk5-nNq6SvJ"
      },
      "execution_count": null,
      "outputs": []
    },
    {
      "cell_type": "code",
      "source": [
        "# !pip install numpy==1.25.0"
      ],
      "metadata": {
        "id": "EyjzOV0t8G4r"
      },
      "execution_count": null,
      "outputs": []
    },
    {
      "cell_type": "markdown",
      "source": [
        "Get pretrained Models"
      ],
      "metadata": {
        "id": "u5arspNKCWBR"
      }
    },
    {
      "cell_type": "code",
      "source": [
        "%cd /content/MoMask\n",
        "!bash prepare/download_models_demo.sh"
      ],
      "metadata": {
        "id": "NWIt0kNE9ZLr"
      },
      "execution_count": null,
      "outputs": []
    },
    {
      "cell_type": "markdown",
      "source": [
        "Change Source Code"
      ],
      "metadata": {
        "id": "8NsqaZTyCYBE"
      }
    },
    {
      "cell_type": "code",
      "source": [
        "# visualization/Animation.py\n",
        "# import numpy.core.umath_tests as utを消して\n",
        "# 226行目を以下のように変更\n",
        "\"\"\"\n",
        "# return ut.matrix_multiply(t0s, t1s)\n",
        "return np.matmul(t0s, t1s)\n",
        "\"\"\"\n",
        "\n",
        "# visualization/remove_fs.py\n",
        "# 185, 192行めのnp.float -> np.cfloatに\n",
        "\"\"\"\n",
        "feet_l = (((feet_l_x + feet_l_y + feet_l_z) < velfactor) & (feet_l_h < heightfactor)).astype(np.cfloat)\n",
        "\"\"\"\n",
        "\n",
        "# common/quaternion.py\n",
        "# 13行目を変更\n",
        "# np.float -> np.cfloatに\n",
        "\"\"\"\n",
        "_FLOAT_EPS = np.finfo(np.cfloat).eps\n",
        "\"\"\"\n"
      ],
      "metadata": {
        "id": "IBtfG9J6_tU-"
      },
      "execution_count": null,
      "outputs": []
    },
    {
      "cell_type": "markdown",
      "source": [
        "Inference with single prompt"
      ],
      "metadata": {
        "id": "xVMvpTvMCaLn"
      }
    },
    {
      "cell_type": "code",
      "source": [
        "# Single Prompt\n",
        "%cd /content/MoMask\n",
        "!python gen_t2m.py --gpu_id 0 --ext singleexp --text_prompt \"A person performs a back kick\""
      ],
      "metadata": {
        "id": "-cuEXulh6j7a"
      },
      "execution_count": null,
      "outputs": []
    },
    {
      "cell_type": "markdown",
      "source": [
        "Inference with multiple sequence prompt"
      ],
      "metadata": {
        "id": "8bG7GCYNCcVb"
      }
    },
    {
      "cell_type": "code",
      "source": [
        "# Multi Prompt\n",
        "%cd /content/MoMask\n",
        "!python gen_t2m.py --gpu_id 0 --ext multiexp --text_path ./assets/text_prompt.txt"
      ],
      "metadata": {
        "id": "lMzJmDsV7IR9"
      },
      "execution_count": null,
      "outputs": []
    }
  ]
}