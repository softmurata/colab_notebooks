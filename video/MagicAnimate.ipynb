{
  "nbformat": 4,
  "nbformat_minor": 0,
  "metadata": {
    "colab": {
      "provenance": [],
      "gpuType": "T4",
      "authorship_tag": "ABX9TyMHH3q5CiteS+19/OHDnpEr",
      "include_colab_link": true
    },
    "kernelspec": {
      "name": "python3",
      "display_name": "Python 3"
    },
    "language_info": {
      "name": "python"
    },
    "accelerator": "GPU"
  },
  "cells": [
    {
      "cell_type": "markdown",
      "metadata": {
        "id": "view-in-github",
        "colab_type": "text"
      },
      "source": [
        "<a href=\"https://colab.research.google.com/github/softmurata/colab_notebooks/blob/main/video/MagicAnimate.ipynb\" target=\"_parent\"><img src=\"https://colab.research.google.com/assets/colab-badge.svg\" alt=\"Open In Colab\"/></a>"
      ]
    },
    {
      "cell_type": "markdown",
      "source": [
        "Installation"
      ],
      "metadata": {
        "id": "9LhPNDk2JLWW"
      }
    },
    {
      "cell_type": "code",
      "execution_count": null,
      "metadata": {
        "id": "E9oURDmMIoqE"
      },
      "outputs": [],
      "source": [
        "!git clone https://github.com/magic-research/magic-animate\n",
        "%cd magic-animate\n",
        "!pip install -r requirements.txt"
      ]
    },
    {
      "cell_type": "markdown",
      "source": [
        "Download Pretrained weights"
      ],
      "metadata": {
        "id": "zUQJbBxcJPc0"
      }
    },
    {
      "cell_type": "code",
      "source": [
        "!git clone -b fp16 https://huggingface.co/runwayml/stable-diffusion-v1-5 /content/magic-animate/stable-diffusion-v1-5/\n",
        "!git clone https://huggingface.co/stabilityai/sd-vae-ft-mse /content/magic-animate/pretrained_models/sd-vae-ft-mse/\n",
        "!git lfs clone https://huggingface.co/zcxu-eric/MagicAnimate /content/magic-animate/pretrained_models/MagicAnimate/"
      ],
      "metadata": {
        "id": "lpjzBLlXJO6t"
      },
      "execution_count": null,
      "outputs": []
    },
    {
      "cell_type": "code",
      "source": [
        "!mv /content/magic-animate/stable-diffusion-v1-5 /content/magic-animate/pretrained_models/"
      ],
      "metadata": {
        "id": "DoImCVwhL8u6"
      },
      "execution_count": 3,
      "outputs": []
    },
    {
      "cell_type": "markdown",
      "source": [
        "Create Video"
      ],
      "metadata": {
        "id": "jHrdVp8pJiCV"
      }
    },
    {
      "cell_type": "code",
      "source": [
        "# 4秒の動画作成するのに15分くらいかかる。ぼやける\n",
        "%cd /content/magic-animate\n",
        "!bash scripts/animate.sh"
      ],
      "metadata": {
        "id": "W5Uamr8nJhlb"
      },
      "execution_count": null,
      "outputs": []
    },
    {
      "cell_type": "markdown",
      "source": [
        "Display Video"
      ],
      "metadata": {
        "id": "qbt3KIs8QEgH"
      }
    },
    {
      "cell_type": "code",
      "source": [
        "from IPython.display import HTML\n",
        "from base64 import b64encode\n",
        "\n",
        "mp4 = open('/content/magic-animate/samples/animation-2023-12-11T09-23-43/videos/dalle8_dancing2.mp4', 'rb').read()\n",
        "data_url = 'data:video/mp4;base64,' + b64encode(mp4).decode()\n",
        "HTML(f\"\"\"\n",
        "<video width=\"100%\" height=\"100%\" controls>\n",
        "      <source src=\"{data_url}\" type=\"video/mp4\">\n",
        "</video>\"\"\")"
      ],
      "metadata": {
        "id": "9nJWTWWOQFhe"
      },
      "execution_count": null,
      "outputs": []
    }
  ]
}