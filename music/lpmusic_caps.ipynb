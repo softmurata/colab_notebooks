{
  "nbformat": 4,
  "nbformat_minor": 0,
  "metadata": {
    "colab": {
      "provenance": [],
      "gpuType": "T4",
      "authorship_tag": "ABX9TyNl6L/YWzSA5dASYQ+bKIgi",
      "include_colab_link": true
    },
    "kernelspec": {
      "name": "python3",
      "display_name": "Python 3"
    },
    "language_info": {
      "name": "python"
    },
    "accelerator": "GPU"
  },
  "cells": [
    {
      "cell_type": "markdown",
      "metadata": {
        "id": "view-in-github",
        "colab_type": "text"
      },
      "source": [
        "<a href=\"https://colab.research.google.com/github/softmurata/colab_notebooks/blob/main/music/lpmusic_caps.ipynb\" target=\"_parent\"><img src=\"https://colab.research.google.com/assets/colab-badge.svg\" alt=\"Open In Colab\"/></a>"
      ]
    },
    {
      "cell_type": "markdown",
      "source": [
        "Installation"
      ],
      "metadata": {
        "id": "ZJ73HZfVAI2B"
      }
    },
    {
      "cell_type": "code",
      "execution_count": null,
      "metadata": {
        "id": "4i7xOaut9LXm"
      },
      "outputs": [],
      "source": [
        "!git clone https://github.com/seungheondoh/lp-music-caps.git\n",
        "\n",
        "%cd /content/lp-music-caps/\n",
        "!pip install -e ."
      ]
    },
    {
      "cell_type": "markdown",
      "source": [
        "Download weights"
      ],
      "metadata": {
        "id": "_09LE3dEAMUX"
      }
    },
    {
      "cell_type": "code",
      "source": [
        "%cd /content/lp-music-caps/lpmc/music_captioning\n",
        "!wget https://huggingface.co/seungheondoh/lp-music-caps/resolve/main/transfer.pth -P exp/transfer/lp_music_caps"
      ],
      "metadata": {
        "id": "Dgggvppw-miY"
      },
      "execution_count": null,
      "outputs": []
    },
    {
      "cell_type": "markdown",
      "source": [
        "Inference"
      ],
      "metadata": {
        "id": "ND759y6_APLK"
      }
    },
    {
      "cell_type": "code",
      "source": [
        "%cd /content/lp-music-caps/lpmc/music_captioning\n",
        "!python captioning.py --audio_path ../../dataset/samples/orchestra.wav --gpu 0 --model_type transfer"
      ],
      "metadata": {
        "id": "FBqSrjus-CSu"
      },
      "execution_count": null,
      "outputs": []
    }
  ]
}