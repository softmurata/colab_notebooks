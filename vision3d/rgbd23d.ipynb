{
  "nbformat": 4,
  "nbformat_minor": 0,
  "metadata": {
    "colab": {
      "provenance": [],
      "authorship_tag": "ABX9TyPJj2aoOTl7fLRgErQsWMPe",
      "include_colab_link": true
    },
    "kernelspec": {
      "name": "python3",
      "display_name": "Python 3"
    },
    "language_info": {
      "name": "python"
    },
    "widgets": {
      "application/vnd.jupyter.widget-state+json": {
        "479784b0a28a41bfb73058968b5d86cd": {
          "model_module": "@jupyter-widgets/controls",
          "model_name": "HBoxModel",
          "model_module_version": "1.5.0",
          "state": {
            "_dom_classes": [],
            "_model_module": "@jupyter-widgets/controls",
            "_model_module_version": "1.5.0",
            "_model_name": "HBoxModel",
            "_view_count": null,
            "_view_module": "@jupyter-widgets/controls",
            "_view_module_version": "1.5.0",
            "_view_name": "HBoxView",
            "box_style": "",
            "children": [
              "IPY_MODEL_3a4ba410fde84d0f91ff34191236b9ba",
              "IPY_MODEL_33ddb7b04b0f4a378ca7e787b669f1f6",
              "IPY_MODEL_17612665f6a64d689366d0848330aead"
            ],
            "layout": "IPY_MODEL_157f2c6c9425471aa01c8e8410bd8994"
          }
        },
        "3a4ba410fde84d0f91ff34191236b9ba": {
          "model_module": "@jupyter-widgets/controls",
          "model_name": "HTMLModel",
          "model_module_version": "1.5.0",
          "state": {
            "_dom_classes": [],
            "_model_module": "@jupyter-widgets/controls",
            "_model_module_version": "1.5.0",
            "_model_name": "HTMLModel",
            "_view_count": null,
            "_view_module": "@jupyter-widgets/controls",
            "_view_module_version": "1.5.0",
            "_view_name": "HTMLView",
            "description": "",
            "description_tooltip": null,
            "layout": "IPY_MODEL_120dcbbf6a7143388cd5a446cca95637",
            "placeholder": "​",
            "style": "IPY_MODEL_29de9a1ce76a493bb341e572f2c04a68",
            "value": "100%"
          }
        },
        "33ddb7b04b0f4a378ca7e787b669f1f6": {
          "model_module": "@jupyter-widgets/controls",
          "model_name": "FloatProgressModel",
          "model_module_version": "1.5.0",
          "state": {
            "_dom_classes": [],
            "_model_module": "@jupyter-widgets/controls",
            "_model_module_version": "1.5.0",
            "_model_name": "FloatProgressModel",
            "_view_count": null,
            "_view_module": "@jupyter-widgets/controls",
            "_view_module_version": "1.5.0",
            "_view_name": "ProgressView",
            "bar_style": "success",
            "description": "",
            "description_tooltip": null,
            "layout": "IPY_MODEL_97e9e039bcfc4b76a3b04f717d34527d",
            "max": 1376378527,
            "min": 0,
            "orientation": "horizontal",
            "style": "IPY_MODEL_0cc649e55c1a433c9fbd592fbaeccac6",
            "value": 1376378527
          }
        },
        "17612665f6a64d689366d0848330aead": {
          "model_module": "@jupyter-widgets/controls",
          "model_name": "HTMLModel",
          "model_module_version": "1.5.0",
          "state": {
            "_dom_classes": [],
            "_model_module": "@jupyter-widgets/controls",
            "_model_module_version": "1.5.0",
            "_model_name": "HTMLModel",
            "_view_count": null,
            "_view_module": "@jupyter-widgets/controls",
            "_view_module_version": "1.5.0",
            "_view_name": "HTMLView",
            "description": "",
            "description_tooltip": null,
            "layout": "IPY_MODEL_2738679bf0cc4861bbb6f249098be8e1",
            "placeholder": "​",
            "style": "IPY_MODEL_e0a2b1ff685448148df68a177c082480",
            "value": " 1.28G/1.28G [02:59&lt;00:00, 9.71MB/s]"
          }
        },
        "157f2c6c9425471aa01c8e8410bd8994": {
          "model_module": "@jupyter-widgets/base",
          "model_name": "LayoutModel",
          "model_module_version": "1.2.0",
          "state": {
            "_model_module": "@jupyter-widgets/base",
            "_model_module_version": "1.2.0",
            "_model_name": "LayoutModel",
            "_view_count": null,
            "_view_module": "@jupyter-widgets/base",
            "_view_module_version": "1.2.0",
            "_view_name": "LayoutView",
            "align_content": null,
            "align_items": null,
            "align_self": null,
            "border": null,
            "bottom": null,
            "display": null,
            "flex": null,
            "flex_flow": null,
            "grid_area": null,
            "grid_auto_columns": null,
            "grid_auto_flow": null,
            "grid_auto_rows": null,
            "grid_column": null,
            "grid_gap": null,
            "grid_row": null,
            "grid_template_areas": null,
            "grid_template_columns": null,
            "grid_template_rows": null,
            "height": null,
            "justify_content": null,
            "justify_items": null,
            "left": null,
            "margin": null,
            "max_height": null,
            "max_width": null,
            "min_height": null,
            "min_width": null,
            "object_fit": null,
            "object_position": null,
            "order": null,
            "overflow": null,
            "overflow_x": null,
            "overflow_y": null,
            "padding": null,
            "right": null,
            "top": null,
            "visibility": null,
            "width": null
          }
        },
        "120dcbbf6a7143388cd5a446cca95637": {
          "model_module": "@jupyter-widgets/base",
          "model_name": "LayoutModel",
          "model_module_version": "1.2.0",
          "state": {
            "_model_module": "@jupyter-widgets/base",
            "_model_module_version": "1.2.0",
            "_model_name": "LayoutModel",
            "_view_count": null,
            "_view_module": "@jupyter-widgets/base",
            "_view_module_version": "1.2.0",
            "_view_name": "LayoutView",
            "align_content": null,
            "align_items": null,
            "align_self": null,
            "border": null,
            "bottom": null,
            "display": null,
            "flex": null,
            "flex_flow": null,
            "grid_area": null,
            "grid_auto_columns": null,
            "grid_auto_flow": null,
            "grid_auto_rows": null,
            "grid_column": null,
            "grid_gap": null,
            "grid_row": null,
            "grid_template_areas": null,
            "grid_template_columns": null,
            "grid_template_rows": null,
            "height": null,
            "justify_content": null,
            "justify_items": null,
            "left": null,
            "margin": null,
            "max_height": null,
            "max_width": null,
            "min_height": null,
            "min_width": null,
            "object_fit": null,
            "object_position": null,
            "order": null,
            "overflow": null,
            "overflow_x": null,
            "overflow_y": null,
            "padding": null,
            "right": null,
            "top": null,
            "visibility": null,
            "width": null
          }
        },
        "29de9a1ce76a493bb341e572f2c04a68": {
          "model_module": "@jupyter-widgets/controls",
          "model_name": "DescriptionStyleModel",
          "model_module_version": "1.5.0",
          "state": {
            "_model_module": "@jupyter-widgets/controls",
            "_model_module_version": "1.5.0",
            "_model_name": "DescriptionStyleModel",
            "_view_count": null,
            "_view_module": "@jupyter-widgets/base",
            "_view_module_version": "1.2.0",
            "_view_name": "StyleView",
            "description_width": ""
          }
        },
        "97e9e039bcfc4b76a3b04f717d34527d": {
          "model_module": "@jupyter-widgets/base",
          "model_name": "LayoutModel",
          "model_module_version": "1.2.0",
          "state": {
            "_model_module": "@jupyter-widgets/base",
            "_model_module_version": "1.2.0",
            "_model_name": "LayoutModel",
            "_view_count": null,
            "_view_module": "@jupyter-widgets/base",
            "_view_module_version": "1.2.0",
            "_view_name": "LayoutView",
            "align_content": null,
            "align_items": null,
            "align_self": null,
            "border": null,
            "bottom": null,
            "display": null,
            "flex": null,
            "flex_flow": null,
            "grid_area": null,
            "grid_auto_columns": null,
            "grid_auto_flow": null,
            "grid_auto_rows": null,
            "grid_column": null,
            "grid_gap": null,
            "grid_row": null,
            "grid_template_areas": null,
            "grid_template_columns": null,
            "grid_template_rows": null,
            "height": null,
            "justify_content": null,
            "justify_items": null,
            "left": null,
            "margin": null,
            "max_height": null,
            "max_width": null,
            "min_height": null,
            "min_width": null,
            "object_fit": null,
            "object_position": null,
            "order": null,
            "overflow": null,
            "overflow_x": null,
            "overflow_y": null,
            "padding": null,
            "right": null,
            "top": null,
            "visibility": null,
            "width": null
          }
        },
        "0cc649e55c1a433c9fbd592fbaeccac6": {
          "model_module": "@jupyter-widgets/controls",
          "model_name": "ProgressStyleModel",
          "model_module_version": "1.5.0",
          "state": {
            "_model_module": "@jupyter-widgets/controls",
            "_model_module_version": "1.5.0",
            "_model_name": "ProgressStyleModel",
            "_view_count": null,
            "_view_module": "@jupyter-widgets/base",
            "_view_module_version": "1.2.0",
            "_view_name": "StyleView",
            "bar_color": null,
            "description_width": ""
          }
        },
        "2738679bf0cc4861bbb6f249098be8e1": {
          "model_module": "@jupyter-widgets/base",
          "model_name": "LayoutModel",
          "model_module_version": "1.2.0",
          "state": {
            "_model_module": "@jupyter-widgets/base",
            "_model_module_version": "1.2.0",
            "_model_name": "LayoutModel",
            "_view_count": null,
            "_view_module": "@jupyter-widgets/base",
            "_view_module_version": "1.2.0",
            "_view_name": "LayoutView",
            "align_content": null,
            "align_items": null,
            "align_self": null,
            "border": null,
            "bottom": null,
            "display": null,
            "flex": null,
            "flex_flow": null,
            "grid_area": null,
            "grid_auto_columns": null,
            "grid_auto_flow": null,
            "grid_auto_rows": null,
            "grid_column": null,
            "grid_gap": null,
            "grid_row": null,
            "grid_template_areas": null,
            "grid_template_columns": null,
            "grid_template_rows": null,
            "height": null,
            "justify_content": null,
            "justify_items": null,
            "left": null,
            "margin": null,
            "max_height": null,
            "max_width": null,
            "min_height": null,
            "min_width": null,
            "object_fit": null,
            "object_position": null,
            "order": null,
            "overflow": null,
            "overflow_x": null,
            "overflow_y": null,
            "padding": null,
            "right": null,
            "top": null,
            "visibility": null,
            "width": null
          }
        },
        "e0a2b1ff685448148df68a177c082480": {
          "model_module": "@jupyter-widgets/controls",
          "model_name": "DescriptionStyleModel",
          "model_module_version": "1.5.0",
          "state": {
            "_model_module": "@jupyter-widgets/controls",
            "_model_module_version": "1.5.0",
            "_model_name": "DescriptionStyleModel",
            "_view_count": null,
            "_view_module": "@jupyter-widgets/base",
            "_view_module_version": "1.2.0",
            "_view_name": "StyleView",
            "description_width": ""
          }
        }
      }
    }
  },
  "cells": [
    {
      "cell_type": "markdown",
      "metadata": {
        "id": "view-in-github",
        "colab_type": "text"
      },
      "source": [
        "<a href=\"https://colab.research.google.com/github/softmurata/colab_notebooks/blob/main/vision3d/rgbd23d.ipynb\" target=\"_parent\"><img src=\"https://colab.research.google.com/assets/colab-badge.svg\" alt=\"Open In Colab\"/></a>"
      ]
    },
    {
      "cell_type": "code",
      "execution_count": null,
      "metadata": {
        "id": "NiAetc93v479"
      },
      "outputs": [],
      "source": [
        "!pip install open3d"
      ]
    },
    {
      "cell_type": "code",
      "source": [
        "!pip install timm\n",
        "!pip install ExifRead"
      ],
      "metadata": {
        "id": "louGMtMqwhcx"
      },
      "execution_count": null,
      "outputs": []
    },
    {
      "cell_type": "code",
      "source": [
        "import open3d as o3d\n",
        "import PIL\n",
        "import exifread\n",
        "import torch"
      ],
      "metadata": {
        "id": "N2RU46fLw_NF"
      },
      "execution_count": 3,
      "outputs": []
    },
    {
      "cell_type": "code",
      "source": [
        "def create_intrinsic(image_path, default_focal_length=35., sensor_width=36):\n",
        "    image = PIL.Image.open(image_path)\n",
        "    img_width, img_height = image.size\n",
        "    max_side = max(img_width, img_height)\n",
        "    min_side = min(img_width, img_height)\n",
        "    with open(image_path, 'rb') as f:\n",
        "        tags = exifread.process_file(f, details=False)\n",
        "    if 'EXIF FocalLengthIn35mmFilm' in tags:\n",
        "        focal_length = tags['EXIF FocalLengthIn35mmFilm'].values[0]\n",
        "    else:\n",
        "        print('Could not determine focal length; defaulting to 35.')\n",
        "        focal_length = default_focal_length\n",
        "    fx = focal_length * max_side / sensor_width\n",
        "    # For pinhole cameras fx and fy will be the same.\n",
        "    fy = fx\n",
        "    cx = max_side / 2.\n",
        "    cy = min_side / 2.\n",
        "    return o3d.camera.PinholeCameraIntrinsic(max_side, min_side, fx, fy, cx, cy)"
      ],
      "metadata": {
        "id": "d6_CkmQRw9Rp"
      },
      "execution_count": 4,
      "outputs": []
    },
    {
      "cell_type": "code",
      "source": [
        "filename = \"room002.jpeg\"\n",
        "intrinsic = create_intrinsic(filename)"
      ],
      "metadata": {
        "id": "si5zsRb5xX78"
      },
      "execution_count": 5,
      "outputs": []
    },
    {
      "cell_type": "code",
      "source": [
        "intrinsic"
      ],
      "metadata": {
        "colab": {
          "base_uri": "https://localhost:8080/"
        },
        "id": "buu0npqexbpc",
        "outputId": "65af0f4d-fe72-4cc9-e290-3373001ebcb8"
      },
      "execution_count": 6,
      "outputs": [
        {
          "output_type": "execute_result",
          "data": {
            "text/plain": [
              "PinholeCameraIntrinsic with width = 1000 and height = 667.\n",
              "Access intrinsics with intrinsic_matrix."
            ]
          },
          "metadata": {},
          "execution_count": 6
        }
      ]
    },
    {
      "cell_type": "code",
      "source": [
        "#@title parameters\n",
        "max_depth = 0.25\n",
        "model = 'DPT_Large'  # ['DPT_Large', 'DPT_Hybrid', 'MiDaS_small']"
      ],
      "metadata": {
        "id": "qcjQ8a7AxtcE"
      },
      "execution_count": 7,
      "outputs": []
    },
    {
      "cell_type": "code",
      "source": [
        "#@title midas\n",
        "midas = torch.hub.load('intel-isl/MiDaS', model)\n",
        "\n",
        "device = torch.device('cuda') if torch.cuda.is_available() else torch.device('cpu')\n",
        "midas.to(device)\n",
        "midas.eval()\n",
        "\n",
        "midas_transforms = torch.hub.load('intel-isl/MiDaS', 'transforms')\n",
        "\n",
        "if model == 'DPT_Large' or model == 'DPT_Hybrid':\n",
        "  transform = midas_transforms.dpt_transform\n",
        "else:\n",
        "  transform = midas_transforms.small_transform"
      ],
      "metadata": {
        "colab": {
          "base_uri": "https://localhost:8080/",
          "height": 156,
          "referenced_widgets": [
            "479784b0a28a41bfb73058968b5d86cd",
            "3a4ba410fde84d0f91ff34191236b9ba",
            "33ddb7b04b0f4a378ca7e787b669f1f6",
            "17612665f6a64d689366d0848330aead",
            "157f2c6c9425471aa01c8e8410bd8994",
            "120dcbbf6a7143388cd5a446cca95637",
            "29de9a1ce76a493bb341e572f2c04a68",
            "97e9e039bcfc4b76a3b04f717d34527d",
            "0cc649e55c1a433c9fbd592fbaeccac6",
            "2738679bf0cc4861bbb6f249098be8e1",
            "e0a2b1ff685448148df68a177c082480"
          ]
        },
        "id": "mXFSZHD4xkOg",
        "outputId": "c6aa8587-237c-448c-9547-09cded8a05d2"
      },
      "execution_count": 8,
      "outputs": [
        {
          "output_type": "stream",
          "name": "stderr",
          "text": [
            "/usr/local/lib/python3.8/dist-packages/torch/hub.py:267: UserWarning: You are about to download and run code from an untrusted repository. In a future release, this won't be allowed. To add the repository to your trusted list, change the command to {calling_fn}(..., trust_repo=False) and a command prompt will appear asking for an explicit confirmation of trust, or load(..., trust_repo=True), which will assume that the prompt is to be answered with 'yes'. You can also use load(..., trust_repo='check') which will only prompt for confirmation if the repo is not already trusted. This will eventually be the default behaviour\n",
            "  warnings.warn(\n",
            "Downloading: \"https://github.com/intel-isl/MiDaS/zipball/master\" to /root/.cache/torch/hub/master.zip\n",
            "Downloading: \"https://github.com/isl-org/MiDaS/releases/download/v3/dpt_large_384.pt\" to /root/.cache/torch/hub/checkpoints/dpt_large_384.pt\n"
          ]
        },
        {
          "output_type": "display_data",
          "data": {
            "text/plain": [
              "  0%|          | 0.00/1.28G [00:00<?, ?B/s]"
            ],
            "application/vnd.jupyter.widget-view+json": {
              "version_major": 2,
              "version_minor": 0,
              "model_id": "479784b0a28a41bfb73058968b5d86cd"
            }
          },
          "metadata": {}
        },
        {
          "output_type": "stream",
          "name": "stderr",
          "text": [
            "Using cache found in /root/.cache/torch/hub/intel-isl_MiDaS_master\n"
          ]
        }
      ]
    },
    {
      "cell_type": "code",
      "source": [
        "import cv2\n",
        "import numpy as np"
      ],
      "metadata": {
        "id": "iyhYfMcxyI93"
      },
      "execution_count": 9,
      "outputs": []
    },
    {
      "cell_type": "code",
      "source": [
        "filename = \"room002.jpeg\"\n",
        "img = cv2.imread(filename)\n",
        "img = cv2.cvtColor(img, cv2.COLOR_BGR2RGB)\n",
        "\n",
        "input_batch = transform(img).to(device)\n",
        "\n",
        "with torch.no_grad():\n",
        "  prediction = midas(input_batch)\n",
        "  prediction = torch.nn.functional.interpolate(\n",
        "            prediction.unsqueeze(1),\n",
        "            size=img.shape[:2],\n",
        "            mode='bicubic',\n",
        "            align_corners=False,\n",
        "        ).squeeze()\n",
        "\n",
        "depth = prediction.cpu().numpy()"
      ],
      "metadata": {
        "id": "2EiDHV3Xx9jm"
      },
      "execution_count": 31,
      "outputs": []
    },
    {
      "cell_type": "code",
      "source": [
        "intrinsic = create_intrinsic(filename)\n",
        "\n",
        "focal = intrinsic.intrinsic_matrix[0, 0]\n",
        "depth = focal / depth\n",
        "\n",
        "max_depth = max_depth * depth.max()\n",
        "depth[depth >= max_depth] = 0"
      ],
      "metadata": {
        "id": "3Gnbh5qKyO0e"
      },
      "execution_count": 33,
      "outputs": []
    },
    {
      "cell_type": "code",
      "source": [],
      "metadata": {
        "id": "4slB-_nqySoe"
      },
      "execution_count": null,
      "outputs": []
    },
    {
      "cell_type": "code",
      "source": [
        "\"\"\"\n",
        "Open3DにRGB-D画像入力\n",
        "\"\"\"\n",
        "color = o3d.io.read_image(filename)\n",
        "depth = o3d.geometry.Image(depth)\n",
        "rgbd_image = o3d.geometry.RGBDImage.create_from_color_and_depth(\n",
        "    color, depth)\n",
        "print(rgbd_image)\n",
        "pcd = o3d.geometry.PointCloud.create_from_rgbd_image(\n",
        "    rgbd_image,\n",
        "    o3d.camera.PinholeCameraIntrinsic(\n",
        "        o3d.camera.PinholeCameraIntrinsicParameters.PrimeSenseDefault))\n",
        "# Flip it, otherwise the pointcloud will be upside down\n",
        "pcd.transform([[1, 0, 0, 0], [0, -1, 0, 0], [0, 0, -1, 0], [0, 0, 0, 1]])"
      ],
      "metadata": {
        "colab": {
          "base_uri": "https://localhost:8080/"
        },
        "id": "4UxrsugMv__K",
        "outputId": "d51e9885-8be7-4d1b-86b0-c2809f852237"
      },
      "execution_count": 34,
      "outputs": [
        {
          "output_type": "stream",
          "name": "stdout",
          "text": [
            "RGBDImage of size \n",
            "Color image : 1000x667, with 1 channels.\n",
            "Depth image : 1000x667, with 1 channels.\n",
            "Use numpy.asarray to access buffer data.\n"
          ]
        },
        {
          "output_type": "execute_result",
          "data": {
            "text/plain": [
              "PointCloud with 645685 points."
            ]
          },
          "metadata": {},
          "execution_count": 34
        }
      ]
    },
    {
      "cell_type": "code",
      "source": [
        "# cannot display on colab? what?\n",
        "import plotly.graph_objects as go"
      ],
      "metadata": {
        "id": "JxARCxdp2-z7"
      },
      "execution_count": 27,
      "outputs": []
    },
    {
      "cell_type": "code",
      "source": [
        "def draw(geometries):\n",
        "    graph_obj = []\n",
        "\n",
        "    for gm in geometries:\n",
        "        geometry_type = gm.get_geometry_type()\n",
        "        \n",
        "        if geometry_type == o3d.geometry.Geometry.Type.PointCloud:\n",
        "            pts = np.asarray(gm.points)\n",
        "            clr = None  #for colors\n",
        "            if gm.has_colors():\n",
        "                clr = np.asarray(gm.colors)\n",
        "            elif gm.has_normals():\n",
        "                clr = (0.5, 0.5, 0.5) + np.asarray(gm.normals) * 0.5\n",
        "            else:\n",
        "                gm.paint_uniform_color((1.0, 0.0, 0.0))\n",
        "                clr = np.asarray(gm.colors)\n",
        "\n",
        "            sc = go.Scatter3d(x=pts[:,0], y=pts[:,1], z=pts[:,2], mode='markers', marker=dict(size=1, color=clr))\n",
        "            graph_obj.append(sc)\n",
        "\n",
        "        if geometry_type == o3d.geometry.Geometry.Type.TriangleMesh:\n",
        "            tri = np.asarray(gm.triangles)\n",
        "            vert = np.asarray(gm.vertices)\n",
        "            clr = None\n",
        "            if gm.has_triangle_normals():\n",
        "                clr = (0.5, 0.5, 0.5) + np.asarray(gm.triangle_normals) * 0.5\n",
        "                clr = tuple(map(tuple, clr))\n",
        "            else:\n",
        "                clr = (1.0, 0.0, 0.0)\n",
        "            \n",
        "            mesh = go.Mesh3d(x=vert[:,0], y=vert[:,1], z=vert[:,2], i=tri[:,0], j=tri[:,1], k=tri[:,2], facecolor=clr, opacity=0.50)\n",
        "            graph_obj.append(mesh)\n",
        "        \n",
        "    fig = go.Figure(\n",
        "        data=graph_obj,\n",
        "        layout=dict(\n",
        "            scene=dict(\n",
        "                xaxis=dict(visible=False),\n",
        "                yaxis=dict(visible=False),\n",
        "                zaxis=dict(visible=False)\n",
        "            )\n",
        "        )\n",
        "    )\n",
        "    fig.show()"
      ],
      "metadata": {
        "id": "-DV459VA37O2"
      },
      "execution_count": 28,
      "outputs": []
    },
    {
      "cell_type": "code",
      "source": [
        "o3d.visualization.draw_geometries = draw # replace function\n",
        "o3d.visualization.draw_geometries([pcd])"
      ],
      "metadata": {
        "id": "0MM1KhFdwLiK"
      },
      "execution_count": 29,
      "outputs": []
    },
    {
      "cell_type": "code",
      "source": [
        "o3d.io.write_point_cloud(\"room002.ply\", pcd, write_ascii=False, compressed=False, print_progress=False)"
      ],
      "metadata": {
        "colab": {
          "base_uri": "https://localhost:8080/"
        },
        "id": "LFDQSwse4T4U",
        "outputId": "387fc115-ce2d-466a-aa17-531bc46a5765"
      },
      "execution_count": 35,
      "outputs": [
        {
          "output_type": "execute_result",
          "data": {
            "text/plain": [
              "True"
            ]
          },
          "metadata": {},
          "execution_count": 35
        }
      ]
    },
    {
      "cell_type": "code",
      "source": [
        "!pip install plyfile"
      ],
      "metadata": {
        "id": "8QavCAQZ9UR-"
      },
      "execution_count": null,
      "outputs": []
    },
    {
      "cell_type": "code",
      "source": [
        "import numpy as np\n",
        "import pandas as pd\n",
        "from plyfile import PlyData\n",
        "\n",
        "def conver_ply(input_path, output_path):\n",
        "    plydata = PlyData.read(input_path)  # read file\n",
        "    data = plydata.elements[0].data  # read data\n",
        "    data_pd = pd.DataFrame(data)  # convert to DataFrame\n",
        "    data_np = np.zeros(data_pd.shape, dtype=np.float)  # initialize array to store data\n",
        "    property_names = data[0].dtype.names  # read names of properties\n",
        "    for i, name in enumerate(\n",
        "            property_names):  # read data by property\n",
        "        data_np[:, i] = data_pd[name]\n",
        "    data_np.astype(np.float32).tofile(output_path)"
      ],
      "metadata": {
        "id": "33ZcStYp9NYT"
      },
      "execution_count": 37,
      "outputs": []
    },
    {
      "cell_type": "code",
      "source": [
        "conver_ply('/content/roomplan002.ply', '/content/roomplan002.bin')"
      ],
      "metadata": {
        "colab": {
          "base_uri": "https://localhost:8080/"
        },
        "id": "0zXHQMG09TZX",
        "outputId": "b72987df-bdfe-4d96-9905-f18852455809"
      },
      "execution_count": 43,
      "outputs": [
        {
          "output_type": "stream",
          "name": "stderr",
          "text": [
            "<ipython-input-37-34a90c8ab136>:9: DeprecationWarning:\n",
            "\n",
            "`np.float` is a deprecated alias for the builtin `float`. To silence this warning, use `float` by itself. Doing this will not modify any behavior and is safe. If you specifically wanted the numpy scalar type, use `np.float64` here.\n",
            "Deprecated in NumPy 1.20; for more details and guidance: https://numpy.org/devdocs/release/1.20.0-notes.html#deprecations\n",
            "\n"
          ]
        }
      ]
    },
    {
      "cell_type": "code",
      "source": [
        "!wget https://camo.qiitausercontent.com/a8d788734c43a226b7f382effaa284d52cdf894b/68747470733a2f2f71696974612d696d6167652d73746f72652e73332e61702d6e6f727468656173742d312e616d617a6f6e6177732e636f6d2f302f313136343137332f37393863306630392d396639302d323166632d383136632d6138643866636665353862392e6a706567 -O room.jpg"
      ],
      "metadata": {
        "colab": {
          "base_uri": "https://localhost:8080/"
        },
        "id": "ZfsYEm6F5wTi",
        "outputId": "b21b501f-f440-4d26-f605-7629388f6fed"
      },
      "execution_count": 23,
      "outputs": [
        {
          "output_type": "stream",
          "name": "stdout",
          "text": [
            "--2023-03-07 07:09:46--  https://camo.qiitausercontent.com/a8d788734c43a226b7f382effaa284d52cdf894b/68747470733a2f2f71696974612d696d6167652d73746f72652e73332e61702d6e6f727468656173742d312e616d617a6f6e6177732e636f6d2f302f313136343137332f37393863306630392d396639302d323166632d383136632d6138643866636665353862392e6a706567\n",
            "Resolving camo.qiitausercontent.com (camo.qiitausercontent.com)... 13.35.24.83, 13.35.24.3, 13.35.24.59, ...\n",
            "Connecting to camo.qiitausercontent.com (camo.qiitausercontent.com)|13.35.24.83|:443... connected.\n",
            "HTTP request sent, awaiting response... 200 OK\n",
            "Length: 45632 (45K) [image/jpeg]\n",
            "Saving to: ‘room.jpg’\n",
            "\n",
            "room.jpg            100%[===================>]  44.56K  --.-KB/s    in 0.004s  \n",
            "\n",
            "2023-03-07 07:09:46 (11.2 MB/s) - ‘room.jpg’ saved [45632/45632]\n",
            "\n"
          ]
        }
      ]
    },
    {
      "cell_type": "code",
      "source": [
        "# poisson disk sampling\n",
        "Mesh = o3d.io.read_triangle_mesh(\"roomplan002.obj\")\n",
        "# Calculation of normal vector   \n",
        "Mesh.compute_vertex_normals()\n",
        "\n",
        "# Mesh to Point Cloud by sample_points_poisson_disk\n",
        "pcd = Mesh.sample_points_poisson_disk(number_of_points=30000, init_factor=5)\n",
        "o3d.io.write_point_cloud(\"roomplan002.ply\", pcd)"
      ],
      "metadata": {
        "colab": {
          "base_uri": "https://localhost:8080/"
        },
        "id": "49CA5Ry_FchJ",
        "outputId": "857ea1e2-529c-4465-c84c-efe72fe0a216"
      },
      "execution_count": 42,
      "outputs": [
        {
          "output_type": "execute_result",
          "data": {
            "text/plain": [
              "True"
            ]
          },
          "metadata": {},
          "execution_count": 42
        }
      ]
    }
  ]
}