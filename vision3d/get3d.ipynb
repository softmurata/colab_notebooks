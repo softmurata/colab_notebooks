{
  "nbformat": 4,
  "nbformat_minor": 0,
  "metadata": {
    "colab": {
      "provenance": [],
      "authorship_tag": "ABX9TyN1EM51QZEcRo0SVnXl04WR",
      "include_colab_link": true
    },
    "kernelspec": {
      "name": "python3",
      "display_name": "Python 3"
    },
    "language_info": {
      "name": "python"
    },
    "accelerator": "GPU",
    "gpuClass": "standard"
  },
  "cells": [
    {
      "cell_type": "markdown",
      "metadata": {
        "id": "view-in-github",
        "colab_type": "text"
      },
      "source": [
        "<a href=\"https://colab.research.google.com/github/softmurata/colab_notebooks/blob/main/vision3d/get3d.ipynb\" target=\"_parent\"><img src=\"https://colab.research.google.com/assets/colab-badge.svg\" alt=\"Open In Colab\"/></a>"
      ]
    },
    {
      "cell_type": "code",
      "execution_count": null,
      "metadata": {
        "id": "3m57o-CvcE0Q"
      },
      "outputs": [],
      "source": [
        "!nvidia-smi"
      ]
    },
    {
      "cell_type": "code",
      "source": [
        "from google.colab import drive\n",
        "drive.mount('/content/drive')"
      ],
      "metadata": {
        "id": "-5FxDVigd6CF"
      },
      "execution_count": null,
      "outputs": []
    },
    {
      "cell_type": "code",
      "source": [
        "#@title setup\n",
        "import os\n",
        "os.chdir('/content')"
      ],
      "metadata": {
        "id": "P-_BVCBdfbBN"
      },
      "execution_count": null,
      "outputs": []
    },
    {
      "cell_type": "code",
      "source": [
        "# https://docs.conda.io/en/latest/miniconda.html\n",
        "%env PYTHONPATH=\n",
        "!echo $PYTHONPATH\n",
        "! wget https://repo.anaconda.com/miniconda/Miniconda3-py38_22.11.1-1-Linux-x86_64.sh\n",
        "! chmod +x Miniconda3-py38_22.11.1-1-Linux-x86_64.sh\n",
        "! bash ./Miniconda3-py38_22.11.1-1-Linux-x86_64.sh -b -f -p /usr/local/\n",
        "!conda install --channel defaults conda python=3.8 --yes\n",
        "!conda update --channel defaults --all --yes"
      ],
      "metadata": {
        "id": "AvKLldnPe8Nh"
      },
      "execution_count": null,
      "outputs": []
    },
    {
      "cell_type": "code",
      "source": [
        "!git clone https://github.com/nv-tlabs/GET3D.git"
      ],
      "metadata": {
        "id": "z0qLMOIgcMFz"
      },
      "execution_count": null,
      "outputs": []
    },
    {
      "cell_type": "code",
      "source": [
        "import os\n",
        "os.chdir(\"/content/GET3D\")\n",
        "!mkdir cache; cd cache"
      ],
      "metadata": {
        "id": "w0qbD2wgcXwO"
      },
      "execution_count": null,
      "outputs": []
    },
    {
      "cell_type": "code",
      "source": [
        "!cd cache && wget https://api.ngc.nvidia.com/v2/models/nvidia/research/stylegan3/versions/1/files/metrics/inception-2015-12-05.pkl"
      ],
      "metadata": {
        "id": "4GGVU-FHckLc"
      },
      "execution_count": null,
      "outputs": []
    },
    {
      "cell_type": "code",
      "source": [
        "!conda create -n get3d python=3.8\n",
        "!conda activate get3d\n",
        "!pip install torch==1.9.0+cu111 torchvision==0.10.0+cu111 torchaudio==0.9.0 -f https://download.pytorch.org/whl/torch_stable.html\n",
        "!pip install ninja xatlas gdown\n",
        "!pip install git+https://github.com/NVlabs/nvdiffrast/\n",
        "!pip install meshzoo ipdb imageio gputil h5py point-cloud-utils imageio imageio-ffmpeg==0.4.4 pyspng==0.1.0\n",
        "!pip install urllib3\n",
        "!pip install scipy\n",
        "!pip install click\n",
        "!pip install tqdm\n",
        "!pip install opencv-python==4.5.4.58"
      ],
      "metadata": {
        "id": "chMxQupCct5k"
      },
      "execution_count": null,
      "outputs": []
    },
    {
      "cell_type": "code",
      "source": [
        "!ls\n",
        "os.chdir('/content/GET3D')"
      ],
      "metadata": {
        "id": "7teYoHHNgjaz"
      },
      "execution_count": null,
      "outputs": []
    },
    {
      "cell_type": "code",
      "source": [
        "# @title only mesh\n",
        "!python train_3d.py --outdir=save_inference_results/shapenet_car  --gpus=1 --batch=4 --gamma=40 --data_camera_mode shapenet_car  --dmtet_scale 1.0  --use_shapenet_split 1  --one_3d_generator 1  --fp32 0 --inference_vis 1 --resume_pretrain /content/drive/MyDrive/get3dckpt/shapenet_car.pt"
      ],
      "metadata": {
        "id": "MFUiPtp6eqF3"
      },
      "execution_count": null,
      "outputs": []
    },
    {
      "cell_type": "code",
      "source": [
        "#@title texture mesh with color\n",
        "!pip uninstall -y numpy\n",
        "!pip install numpy==1.19"
      ],
      "metadata": {
        "id": "Afl1a-lLlSXk"
      },
      "execution_count": null,
      "outputs": []
    },
    {
      "cell_type": "code",
      "source": [
        "# with color  --inference_to_generate_textured_mesh 1\n",
        "!python train_3d.py --outdir=save_inference_results/shapenet_car  --gpus=1 --batch=4 --gamma=40 --data_camera_mode shapenet_car  --dmtet_scale 1.0  --use_shapenet_split 1  --one_3d_generator 1  --fp32 0 --inference_vis 1 --resume_pretrain /content/drive/MyDrive/get3dckpt/shapenet_car.pt  --inference_to_generate_textured_mesh 1"
      ],
      "metadata": {
        "id": "GEFHHr7SjDDv"
      },
      "execution_count": null,
      "outputs": []
    }
  ]
}