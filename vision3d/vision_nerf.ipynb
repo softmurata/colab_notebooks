{
  "nbformat": 4,
  "nbformat_minor": 0,
  "metadata": {
    "colab": {
      "provenance": [],
      "authorship_tag": "ABX9TyMc4rbgDdKQd6PtEphOH8FM",
      "include_colab_link": true
    },
    "kernelspec": {
      "name": "python3",
      "display_name": "Python 3"
    },
    "language_info": {
      "name": "python"
    },
    "accelerator": "GPU",
    "gpuClass": "standard"
  },
  "cells": [
    {
      "cell_type": "markdown",
      "metadata": {
        "id": "view-in-github",
        "colab_type": "text"
      },
      "source": [
        "<a href=\"https://colab.research.google.com/github/softmurata/colab_notebooks/blob/main/vision3d/vision_nerf.ipynb\" target=\"_parent\"><img src=\"https://colab.research.google.com/assets/colab-badge.svg\" alt=\"Open In Colab\"/></a>"
      ]
    },
    {
      "cell_type": "code",
      "source": [
        "!nvidia-smi"
      ],
      "metadata": {
        "id": "W3U2YMO4zfrl"
      },
      "execution_count": null,
      "outputs": []
    },
    {
      "cell_type": "code",
      "source": [
        "!git clone https://github.com/ken2576/vision-nerf.git"
      ],
      "metadata": {
        "id": "6m6LdCb2z2uL"
      },
      "execution_count": null,
      "outputs": []
    },
    {
      "cell_type": "code",
      "source": [
        "import os\n",
        "os.chdir(\"/content/vision-nerf\")"
      ],
      "metadata": {
        "id": "LP1E44bMzt-B"
      },
      "execution_count": null,
      "outputs": []
    },
    {
      "cell_type": "code",
      "source": [
        "!pip install opencv-python imageio imageio-ffmpeg ipdb timm configargparse einops tensorboardX"
      ],
      "metadata": {
        "id": "I3KHOQfj1o0X"
      },
      "execution_count": null,
      "outputs": []
    },
    {
      "cell_type": "code",
      "source": [
        "!mkdir checkpoints\n",
        "!mkdir examples\n",
        "!mkdir results"
      ],
      "metadata": {
        "id": "r-EKYc4V4WzN"
      },
      "execution_count": null,
      "outputs": []
    },
    {
      "cell_type": "code",
      "source": [
        "from google.colab import drive\n",
        "drive.mount('/content/drive')"
      ],
      "metadata": {
        "colab": {
          "base_uri": "https://localhost:8080/"
        },
        "id": "JfyXfzo74cU6",
        "outputId": "28a0da4b-a6ca-4bd6-80a3-bef759a85637"
      },
      "execution_count": null,
      "outputs": [
        {
          "output_type": "stream",
          "name": "stdout",
          "text": [
            "Mounted at /content/drive\n"
          ]
        }
      ]
    },
    {
      "cell_type": "code",
      "source": [
        "os.chdir(\"/content\")\n",
        "!git clone https://github.com/sxyu/pixel-nerf.git"
      ],
      "metadata": {
        "id": "86tYlenI5u0S"
      },
      "execution_count": null,
      "outputs": []
    },
    {
      "cell_type": "code",
      "source": [
        "os.chdir(\"/content/pixel-nerf\")\n",
        "!pip install -r requirements.txt"
      ],
      "metadata": {
        "id": "A9m43cEe78GF"
      },
      "execution_count": null,
      "outputs": []
    },
    {
      "cell_type": "code",
      "source": [
        "!python -m pip install 'git+https://github.com/facebookresearch/detectron2.git'"
      ],
      "metadata": {
        "id": "ac5nXW6o8clQ"
      },
      "execution_count": null,
      "outputs": []
    },
    {
      "cell_type": "code",
      "source": [
        "# preprocess for real data by pixel-nerf\n",
        "!python scripts/preproc.py"
      ],
      "metadata": {
        "id": "I6EcjyaP8Kz4"
      },
      "execution_count": null,
      "outputs": []
    },
    {
      "cell_type": "code",
      "source": [
        "# generate real car data by vision-nerf\n",
        "os.chdir(\"/content/vision-nerf\")\n",
        "!python gen_real.py --config ./configs/render_real.txt"
      ],
      "metadata": {
        "id": "HaSJuS4L5lKj"
      },
      "execution_count": null,
      "outputs": []
    },
    {
      "cell_type": "code",
      "source": [
        "# もし3Dモデルが欲しければoutputに出てきた写真たちをnerf studioにかけるといける\n",
        "# https://docs.nerf.studio/en/latest/quickstart/first_nerf.html"
      ],
      "metadata": {
        "id": "xoyuLRIGH5Lh"
      },
      "execution_count": null,
      "outputs": []
    }
  ]
}