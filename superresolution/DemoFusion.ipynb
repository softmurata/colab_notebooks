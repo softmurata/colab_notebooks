{
  "nbformat": 4,
  "nbformat_minor": 0,
  "metadata": {
    "colab": {
      "provenance": [],
      "gpuType": "T4",
      "authorship_tag": "ABX9TyMToUfvMJgM30imupDMVT0a",
      "include_colab_link": true
    },
    "kernelspec": {
      "name": "python3",
      "display_name": "Python 3"
    },
    "language_info": {
      "name": "python"
    },
    "accelerator": "GPU"
  },
  "cells": [
    {
      "cell_type": "markdown",
      "metadata": {
        "id": "view-in-github",
        "colab_type": "text"
      },
      "source": [
        "<a href=\"https://colab.research.google.com/github/softmurata/colab_notebooks/blob/main/superresolution/DemoFusion.ipynb\" target=\"_parent\"><img src=\"https://colab.research.google.com/assets/colab-badge.svg\" alt=\"Open In Colab\"/></a>"
      ]
    },
    {
      "cell_type": "markdown",
      "source": [
        "Installation"
      ],
      "metadata": {
        "id": "AmCFz0Y8iD-y"
      }
    },
    {
      "cell_type": "code",
      "execution_count": null,
      "metadata": {
        "id": "gXqo3RVch-o2"
      },
      "outputs": [],
      "source": [
        "%cd /content\n",
        "!wget https://github.com/camenduru/DemoFusion/raw/img/pipeline_demofusion_sdxl.py -O /content/pipeline_demofusion_sdxl.py\n",
        "\n",
        "!pip install -q diffusers accelerate gradio gradio_imageslider"
      ]
    },
    {
      "cell_type": "markdown",
      "source": [
        "Utils function"
      ],
      "metadata": {
        "id": "KNBb_hM1iKCz"
      }
    },
    {
      "cell_type": "code",
      "source": [
        "import gradio as gr\n",
        "from pipeline_demofusion_sdxl import DemoFusionSDXLPipeline\n",
        "from gradio_imageslider import ImageSlider\n",
        "import torch, gc\n",
        "from torchvision import transforms\n",
        "from PIL import Image\n",
        "\n",
        "def load_and_process_image(pil_image):\n",
        "    transform = transforms.Compose(\n",
        "        [\n",
        "            transforms.Resize((1024, 1024)),\n",
        "            transforms.ToTensor(),\n",
        "            transforms.Normalize(mean=[0.5, 0.5, 0.5], std=[0.5, 0.5, 0.5]),\n",
        "        ]\n",
        "    )\n",
        "    image = transform(pil_image)\n",
        "    image = image.unsqueeze(0).half()\n",
        "    return image\n",
        "\n",
        "\n",
        "def pad_image(image):\n",
        "    w, h = image.size\n",
        "    if w == h:\n",
        "        return image\n",
        "    elif w > h:\n",
        "        new_image = Image.new(image.mode, (w, w), (0, 0, 0))\n",
        "        pad_w = 0\n",
        "        pad_h = (w - h) // 2\n",
        "        new_image.paste(image, (0, pad_h))\n",
        "        return new_image\n",
        "    else:\n",
        "        new_image = Image.new(image.mode, (h, h), (0, 0, 0))\n",
        "        pad_w = (h - w) // 2\n",
        "        pad_h = 0\n",
        "        new_image.paste(image, (pad_w, 0))\n",
        "        return new_image\n",
        "\n",
        "def generate_images(prompt, negative_prompt, height, width, num_inference_steps, guidance_scale, cosine_scale_1, cosine_scale_2, cosine_scale_3, sigma, view_batch_size, stride, seed, input_image):\n",
        "    padded_image = pad_image(input_image).resize((1024, 1024)).convert(\"RGB\")\n",
        "    image_lr = load_and_process_image(padded_image).to('cuda')\n",
        "    model_ckpt = \"camenduru/DemoFusion\"\n",
        "    pipe = DemoFusionSDXLPipeline.from_pretrained(model_ckpt, torch_dtype=torch.float16)\n",
        "    pipe = pipe.to(\"cuda\")\n",
        "    generator = torch.Generator(device='cuda')\n",
        "    generator = generator.manual_seed(int(seed))\n",
        "    images = pipe(prompt, negative_prompt=negative_prompt, generator=generator,\n",
        "                  height=int(height), width=int(width), view_batch_size=int(view_batch_size), stride=int(stride),\n",
        "                  num_inference_steps=int(num_inference_steps), guidance_scale=guidance_scale,\n",
        "                  cosine_scale_1=cosine_scale_1, cosine_scale_2=cosine_scale_2, cosine_scale_3=cosine_scale_3, sigma=sigma,\n",
        "                  multi_decoder=True, show_image=False, lowvram=True, image_lr=image_lr\n",
        "                 )\n",
        "    for i, image in enumerate(images):\n",
        "      image.save('image_'+str(i)+'.png')\n",
        "    pipe = None\n",
        "    gc.collect()\n",
        "    torch.cuda.empty_cache()\n",
        "    return (images[0], images[-1])"
      ],
      "metadata": {
        "id": "LhnfWWSfiLwb"
      },
      "execution_count": 2,
      "outputs": []
    },
    {
      "cell_type": "markdown",
      "source": [
        "WebDemo"
      ],
      "metadata": {
        "id": "ASc4HrhmiOcS"
      }
    },
    {
      "cell_type": "code",
      "source": [
        "with gr.Blocks(title=f\"DemoFusion\") as demo:\n",
        "    with gr.Column():\n",
        "      with gr.Row():\n",
        "        with gr.Group():\n",
        "          image_input = gr.Image(type=\"pil\", label=\"Input Image\")\n",
        "          prompt = gr.Textbox(label=\"Prompt\", value=\"8k high definition\")\n",
        "          negative_prompt = gr.Textbox(label=\"Negative Prompt\", value=\"blurry, ugly, duplicate, poorly drawn, deformed, mosaic\")\n",
        "          width = gr.Slider(minimum=1024, maximum=4096, step=1024, value=2048, label=\"Width\")\n",
        "          height = gr.Slider(minimum=1024, maximum=4096, step=1024, value=2048, label=\"Height\")\n",
        "          num_inference_steps = gr.Slider(minimum=10, maximum=100, step=1, value=50, label=\"Num Inference Steps\")\n",
        "          guidance_scale = gr.Slider(minimum=1, maximum=20, step=0.1, value=7.5, label=\"Guidance Scale\")\n",
        "          cosine_scale_1 = gr.Slider(minimum=0, maximum=5, step=0.1, value=3, label=\"Cosine Scale 1\")\n",
        "          cosine_scale_2 = gr.Slider(minimum=0, maximum=5, step=0.1, value=1, label=\"Cosine Scale 2\")\n",
        "          cosine_scale_3 = gr.Slider(minimum=0, maximum=5, step=0.1, value=1, label=\"Cosine Scale 3\")\n",
        "          sigma = gr.Slider(minimum=0.1, maximum=1, step=0.1, value=0.8, label=\"Sigma\")\n",
        "          view_batch_size = gr.Slider(minimum=4, maximum=32, step=4, value=4, label=\"View Batch Size\")\n",
        "          stride = gr.Slider(minimum=8, maximum=96, step=8, value=64, label=\"Stride\")\n",
        "          seed = gr.Number(label=\"Seed\", value=2013)\n",
        "          button = gr.Button()\n",
        "        output_images = ImageSlider(show_label=False)\n",
        "    button.click(fn=generate_images, inputs=[prompt, negative_prompt, height, width, num_inference_steps, guidance_scale, cosine_scale_1, cosine_scale_2, cosine_scale_3, sigma, view_batch_size, stride, seed, image_input], outputs=[output_images], show_progress=True)\n",
        "demo.queue().launch(inline=False, share=True, debug=True)"
      ],
      "metadata": {
        "id": "ds6Pf69riPfO"
      },
      "execution_count": null,
      "outputs": []
    },
    {
      "cell_type": "code",
      "source": [
        "# ２０分くらい推論にかかる"
      ],
      "metadata": {
        "id": "bjXqhE91mOZF"
      },
      "execution_count": null,
      "outputs": []
    }
  ]
}