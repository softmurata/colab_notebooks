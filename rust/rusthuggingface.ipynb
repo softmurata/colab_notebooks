{
  "nbformat": 4,
  "nbformat_minor": 0,
  "metadata": {
    "colab": {
      "provenance": [],
      "gpuType": "T4",
      "authorship_tag": "ABX9TyNfwY4UqrNWs0ciwVtAZCc8",
      "include_colab_link": true
    },
    "kernelspec": {
      "name": "python3",
      "display_name": "Python 3"
    },
    "language_info": {
      "name": "python"
    },
    "accelerator": "GPU"
  },
  "cells": [
    {
      "cell_type": "markdown",
      "metadata": {
        "id": "view-in-github",
        "colab_type": "text"
      },
      "source": [
        "<a href=\"https://colab.research.google.com/github/softmurata/colab_notebooks/blob/main/rust/rusthuggingface.ipynb\" target=\"_parent\"><img src=\"https://colab.research.google.com/assets/colab-badge.svg\" alt=\"Open In Colab\"/></a>"
      ]
    },
    {
      "cell_type": "markdown",
      "source": [
        "[Docs](https://github.com/yaminabeworks/qiitakiji/blob/main/hello_rust.ipynb)"
      ],
      "metadata": {
        "id": "Y477HPn9wAz8"
      }
    },
    {
      "cell_type": "markdown",
      "source": [
        "Installation Rust"
      ],
      "metadata": {
        "id": "FVoJW8LRvIm4"
      }
    },
    {
      "cell_type": "code",
      "execution_count": null,
      "metadata": {
        "id": "gA3n7mSJu10w"
      },
      "outputs": [],
      "source": [
        "# run this once, then reload, and then skip this\n",
        "# !apt install rustc\n",
        "# !gdown --id 1PULtTc-2e9z4bswh_SQqL5oy_4JpfV7c\n",
        "# !chmod +x evcxr_jupyter\n",
        "# !./evcxr_jupyter --install\n",
        "# !apt install cargo"
      ]
    },
    {
      "cell_type": "code",
      "source": [
        "# !wget https://static.rust-lang.org/rustup/rustup-init.sh\n",
        "# !sh rustup-init.sh -y\n",
        "\n",
        "!curl --proto '=https' --tlsv1.2 -sSf https://sh.rustup.rs | sh -s -- -y\n",
        "!cp /root/.cargo/bin/* /usr/local/bin"
      ],
      "metadata": {
        "id": "u4fWoTQex-Ow"
      },
      "execution_count": null,
      "outputs": []
    },
    {
      "cell_type": "code",
      "source": [
        "!rustc --version"
      ],
      "metadata": {
        "colab": {
          "base_uri": "https://localhost:8080/"
        },
        "id": "MOSK_gpgzKs0",
        "outputId": "dce54e02-0ba8-411c-810b-fe2850922e33"
      },
      "execution_count": 2,
      "outputs": [
        {
          "output_type": "stream",
          "name": "stdout",
          "text": [
            "rustc 1.71.1 (eb26296b5 2023-08-03)\n"
          ]
        }
      ]
    },
    {
      "cell_type": "markdown",
      "source": [
        "Runtime Rust"
      ],
      "metadata": {
        "id": "jgGHuy1hwiHY"
      }
    },
    {
      "cell_type": "code",
      "source": [
        "%%writefile main.rs\n",
        "fn main() {\n",
        "    // 世界よ、こんにちは\n",
        "    println!(\"hello world\");\n",
        "}"
      ],
      "metadata": {
        "id": "jAYOvxdlvgHW"
      },
      "execution_count": null,
      "outputs": []
    },
    {
      "cell_type": "code",
      "source": [
        "!rustc main.rs; ./main"
      ],
      "metadata": {
        "id": "hQCL99rLvWOA"
      },
      "execution_count": null,
      "outputs": []
    },
    {
      "cell_type": "markdown",
      "source": [
        "Build new project with cargo"
      ],
      "metadata": {
        "id": "T7qR1KQvEB27"
      }
    },
    {
      "cell_type": "code",
      "source": [
        "!cargo --version"
      ],
      "metadata": {
        "id": "FCZaQfcqwgQW"
      },
      "execution_count": null,
      "outputs": []
    },
    {
      "cell_type": "code",
      "source": [
        "# packageの作成\n",
        "!cargo new hello_cargo --bin"
      ],
      "metadata": {
        "id": "LAOY2J5gwnnd"
      },
      "execution_count": null,
      "outputs": []
    },
    {
      "cell_type": "code",
      "source": [
        "%%writefile /content/hello_cargo/src/main.rs\n",
        "fn main() {\n",
        "    // 世界よ、こんにちは\n",
        "    println!(\"hello world\");\n",
        "}"
      ],
      "metadata": {
        "colab": {
          "base_uri": "https://localhost:8080/"
        },
        "id": "8ZGZ_dTcwzr_",
        "outputId": "5f24f320-b4f6-426d-905d-26642c322033"
      },
      "execution_count": 11,
      "outputs": [
        {
          "output_type": "stream",
          "name": "stdout",
          "text": [
            "Overwriting /content/hello_cargo/src/main.rs\n"
          ]
        }
      ]
    },
    {
      "cell_type": "code",
      "source": [
        "%cd /content/hello_cargo/\n",
        "# !cargo build\n",
        "!cargo run"
      ],
      "metadata": {
        "id": "N8oqpKS9w7kd"
      },
      "execution_count": null,
      "outputs": []
    },
    {
      "cell_type": "markdown",
      "source": [
        "Huggingface candle"
      ],
      "metadata": {
        "id": "bQ9sMF52xMCs"
      }
    },
    {
      "cell_type": "code",
      "source": [
        "%cd /content\n",
        "!git clone https://github.com/huggingface/candle.git"
      ],
      "metadata": {
        "id": "ihrcayMlxNbD"
      },
      "execution_count": null,
      "outputs": []
    },
    {
      "cell_type": "code",
      "source": [
        "%cd /content/candle\n",
        "!cargo run --example whisper --release --features cuda"
      ],
      "metadata": {
        "id": "PVzGdgWpwJE6"
      },
      "execution_count": null,
      "outputs": []
    },
    {
      "cell_type": "code",
      "source": [
        "# build and run assign input format\n",
        "!cargo run --example whisper --release --features cuda -- --input /content/test.wav"
      ],
      "metadata": {
        "id": "PgrmTHV72RKk"
      },
      "execution_count": null,
      "outputs": []
    },
    {
      "cell_type": "code",
      "source": [
        "# change sample rate\n",
        "!ffmpeg -i /content/audio.wav -ar 16000 /content/test.wav"
      ],
      "metadata": {
        "id": "fQeq4ShU3mYH"
      },
      "execution_count": null,
      "outputs": []
    },
    {
      "cell_type": "code",
      "source": [
        "%cd /content/candle\n",
        "!target/release/examples/whisper #  --input /content/test.wav"
      ],
      "metadata": {
        "colab": {
          "base_uri": "https://localhost:8080/"
        },
        "id": "TezhOXkA3C9D",
        "outputId": "8f9c578b-b492-43ac-dd56-f7eef2c867b9"
      },
      "execution_count": 14,
      "outputs": [
        {
          "output_type": "stream",
          "name": "stdout",
          "text": [
            "/content/candle\n",
            "No audio file submitted: Downloading https://huggingface.co/datasets/Narsil/candle_demo/blob/main/samples_jfk.wav\n",
            "loaded mel filters [80, 201]\n",
            "loaded wav data: Header { audio_format: 1, channel_count: 1, sampling_rate: 16000, bytes_per_second: 32000, bytes_per_sample: 2, bits_per_sample: 16 }\n",
            "pcm data loaded 176000\n",
            "loaded mel: [1, 80, 3000]\n",
            "audio features: [1, 1500, 384]\n",
            "3000: Segment { start: 0.0, duration: 30.0, dr: DecodingResult { tokens: [50257, 50363, 843, 523, 616, 5891, 3399, 1265, 407, 644, 534, 1499, 460, 466, 329, 345, 1265, 644, 345, 460, 466, 329, 534, 1499, 13, 50903, 50256], text: \" And so my fellow Americans ask not what your country can do for you ask what you can do for your country.\", avg_logprob: -0.330563396634537, no_speech_prob: 0.017772126942873, temperature: 0.0, compression_ratio: NaN } }, in 319.97019ms\n"
          ]
        }
      ]
    }
  ]
}