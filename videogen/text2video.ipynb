{
  "nbformat": 4,
  "nbformat_minor": 0,
  "metadata": {
    "colab": {
      "provenance": [],
      "authorship_tag": "ABX9TyO8E3Uw2qLVezCYEAXdSqfX",
      "include_colab_link": true
    },
    "kernelspec": {
      "name": "python3",
      "display_name": "Python 3"
    },
    "language_info": {
      "name": "python"
    },
    "accelerator": "GPU",
    "gpuClass": "standard"
  },
  "cells": [
    {
      "cell_type": "markdown",
      "metadata": {
        "id": "view-in-github",
        "colab_type": "text"
      },
      "source": [
        "<a href=\"https://colab.research.google.com/github/softmurata/colab_notebooks/blob/main/videogen/text2video.ipynb\" target=\"_parent\"><img src=\"https://colab.research.google.com/assets/colab-badge.svg\" alt=\"Open In Colab\"/></a>"
      ]
    },
    {
      "cell_type": "code",
      "source": [
        "# RefDocs\n",
        "# https://huggingface.co/damo-vilab/modelscope-damo-text-to-video-synthesis\n",
        "# https://self-development.info/%E3%83%86%E3%82%AD%E3%82%B9%E3%83%88%E3%81%8B%E3%82%89%E5%8B%95%E7%94%BB%E3%82%92%E7%94%9F%E6%88%90%E3%81%99%E3%82%8B%E3%80%90text-to-video-synthesis%E3%80%91/"
      ],
      "metadata": {
        "id": "IvFdg5oucJ9H"
      },
      "execution_count": null,
      "outputs": []
    },
    {
      "cell_type": "code",
      "execution_count": null,
      "metadata": {
        "id": "yXk6I-o0OlgF"
      },
      "outputs": [],
      "source": [
        "!pip install modelscope\n",
        "!pip install open_clip_torch"
      ]
    },
    {
      "cell_type": "code",
      "source": [
        "!pip install pytorch_lightning"
      ],
      "metadata": {
        "id": "zJcmbm8jbxvl"
      },
      "execution_count": null,
      "outputs": []
    },
    {
      "cell_type": "code",
      "source": [
        "# cannot work on google colab free plan"
      ],
      "metadata": {
        "id": "BpAQvs7LeiEK"
      },
      "execution_count": null,
      "outputs": []
    },
    {
      "cell_type": "code",
      "source": [
        "import pathlib\n",
        "from huggingface_hub import snapshot_download\n",
        "\n",
        "from modelscope.pipelines import pipeline\n",
        "from modelscope.outputs import OutputKeys\n",
        "\n",
        "model_dir = pathlib.Path('weights')\n",
        "snapshot_download('damo-vilab/modelscope-damo-text-to-video-synthesis',\n",
        "                   repo_type='model', local_dir=model_dir)\n",
        "\n",
        "pipe = pipeline('text-to-video-synthesis', model_dir.as_posix())\n",
        "test_text = {\n",
        "        'text': 'A panda eating bamboo on a rock.',\n",
        "    }\n",
        "output_video_path = pipe(test_text,)[OutputKeys.OUTPUT_VIDEO]\n",
        "print('output_video_path:', output_video_path)"
      ],
      "metadata": {
        "id": "3UF15K2IO0tj"
      },
      "execution_count": null,
      "outputs": []
    },
    {
      "cell_type": "code",
      "source": [
        "from modelscope.pipelines import pipeline\n",
        "from modelscope.outputs import OutputKeys\n",
        "\n",
        "p = pipeline('text-to-video-synthesis', 'damo/text-to-video-synthesis')\n",
        "test_text = {\n",
        "        'text': 'A panda eating bamboo on a rock.',\n",
        "    }\n",
        "output_video_path = p(test_text,)[OutputKeys.OUTPUT_VIDEO]\n",
        "print('output_video_path:', output_video_path)"
      ],
      "metadata": {
        "colab": {
          "base_uri": "https://localhost:8080/"
        },
        "id": "aEu54oAggaz_",
        "outputId": "70c71ce6-6601-4111-9dd9-0cec31799eb7"
      },
      "execution_count": null,
      "outputs": [
        {
          "output_type": "stream",
          "name": "stderr",
          "text": [
            "2023-03-20 07:05:42,229 - modelscope - INFO - PyTorch version 1.13.1+cu116 Found.\n",
            "2023-03-20 07:05:42,242 - modelscope - INFO - TensorFlow version 2.11.0 Found.\n",
            "2023-03-20 07:05:42,244 - modelscope - INFO - Loading ast index from /root/.cache/modelscope/ast_indexer\n",
            "2023-03-20 07:05:42,402 - modelscope - INFO - Loading done! Current index file version is 1.4.1, with md5 8eae41b9e1136de7862b792e46f74319 and a total number of 842 components indexed\n",
            "2023-03-20 07:06:03,037 - modelscope - INFO - Model revision not specified, use the latest revision: v1.0.3\n",
            "2023-03-20 07:06:03,990 - modelscope - INFO - initiate model from /root/.cache/modelscope/hub/damo/text-to-video-synthesis\n",
            "2023-03-20 07:06:03,991 - modelscope - INFO - initiate model from location /root/.cache/modelscope/hub/damo/text-to-video-synthesis.\n",
            "2023-03-20 07:06:03,997 - modelscope - INFO - initialize model from /root/.cache/modelscope/hub/damo/text-to-video-synthesis\n"
          ]
        }
      ]
    }
  ]
}