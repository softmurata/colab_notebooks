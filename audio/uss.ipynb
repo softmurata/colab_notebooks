{
  "nbformat": 4,
  "nbformat_minor": 0,
  "metadata": {
    "colab": {
      "provenance": [],
      "gpuType": "T4",
      "authorship_tag": "ABX9TyNfAyQlwUjv37aASiQ+rWO6",
      "include_colab_link": true
    },
    "kernelspec": {
      "name": "python3",
      "display_name": "Python 3"
    },
    "language_info": {
      "name": "python"
    },
    "accelerator": "GPU",
    "gpuClass": "standard"
  },
  "cells": [
    {
      "cell_type": "markdown",
      "metadata": {
        "id": "view-in-github",
        "colab_type": "text"
      },
      "source": [
        "<a href=\"https://colab.research.google.com/github/softmurata/colab_notebooks/blob/main/audio/uss.ipynb\" target=\"_parent\"><img src=\"https://colab.research.google.com/assets/colab-badge.svg\" alt=\"Open In Colab\"/></a>"
      ]
    },
    {
      "cell_type": "code",
      "execution_count": null,
      "metadata": {
        "id": "TKwm0oFmXeda"
      },
      "outputs": [],
      "source": [
        "# !git clone https://github.com/bytedance/uss.git\n",
        "!pip install uss"
      ]
    },
    {
      "cell_type": "code",
      "source": [
        "!wget -O \"harry_potter.flac\" \"https://huggingface.co/RSNuts/Universal_Source_Separation/resolve/main/uss_material/harry_potter.flac\""
      ],
      "metadata": {
        "id": "7A3jJvD_XtL-"
      },
      "execution_count": null,
      "outputs": []
    },
    {
      "cell_type": "code",
      "source": [
        "!uss -i \"harry_potter.flac\""
      ],
      "metadata": {
        "id": "5PdZu0_EXyu6"
      },
      "execution_count": null,
      "outputs": []
    },
    {
      "cell_type": "code",
      "source": [
        "!uss -i \"harry_potter.flac\" --class_ids 0 1 2 3 4"
      ],
      "metadata": {
        "id": "LNBMKoYNa_hp"
      },
      "execution_count": null,
      "outputs": []
    },
    {
      "cell_type": "markdown",
      "source": [
        "Display results"
      ],
      "metadata": {
        "id": "N4YulPaeczEn"
      }
    },
    {
      "cell_type": "code",
      "source": [
        "import IPython\n",
        "IPython.display.Audio(\"/content/separated_results/harry_potter/level=1/Animal.wav\", rate=16000, normalize=True)"
      ],
      "metadata": {
        "id": "PSO3X1B0cxeS"
      },
      "execution_count": null,
      "outputs": []
    },
    {
      "cell_type": "code",
      "source": [
        "IPython.display.Audio(\"/content/separated_results/harry_potter/level=1/Human sounds.wav\", rate=16000, normalize=True)"
      ],
      "metadata": {
        "id": "sDj-IGpSfyBM"
      },
      "execution_count": null,
      "outputs": []
    },
    {
      "cell_type": "code",
      "source": [
        "IPython.display.Audio(\"/content/separated_results/harry_potter/level=2/Music mood.wav\", rate=16000, normalize=True)"
      ],
      "metadata": {
        "id": "TS8UNidSg7fK"
      },
      "execution_count": null,
      "outputs": []
    },
    {
      "cell_type": "markdown",
      "source": [
        "Audio Results"
      ],
      "metadata": {
        "id": "XsusbUMagE1l"
      }
    },
    {
      "cell_type": "code",
      "source": [
        "!sudo apt-get install poppler-utils"
      ],
      "metadata": {
        "id": "04-hrGyRgRf9"
      },
      "execution_count": null,
      "outputs": []
    },
    {
      "cell_type": "code",
      "source": [
        "!pdftoppm /content/_zz_1.pdf level1 -png\n",
        "!pdftoppm /content/_zz_2.pdf level2 -png\n",
        "!pdftoppm /content/_zz_3.pdf level3 -png"
      ],
      "metadata": {
        "id": "dkBjP6-SgGN3"
      },
      "execution_count": 26,
      "outputs": []
    },
    {
      "cell_type": "code",
      "source": [
        "from PIL import Image\n",
        "display(Image.open(\"/content/level1-1.png\"))\n",
        "display(Image.open(\"/content/level2-1.png\"))\n",
        "display(Image.open(\"/content/level3-1.png\"))"
      ],
      "metadata": {
        "id": "mJkarZp3gdsY"
      },
      "execution_count": null,
      "outputs": []
    }
  ]
}