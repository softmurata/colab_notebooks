{
  "nbformat": 4,
  "nbformat_minor": 0,
  "metadata": {
    "colab": {
      "provenance": [],
      "gpuType": "T4",
      "authorship_tag": "ABX9TyOMoQ6W1WACPrDHseGFQXv9",
      "include_colab_link": true
    },
    "kernelspec": {
      "name": "python3",
      "display_name": "Python 3"
    },
    "language_info": {
      "name": "python"
    },
    "accelerator": "GPU"
  },
  "cells": [
    {
      "cell_type": "markdown",
      "metadata": {
        "id": "view-in-github",
        "colab_type": "text"
      },
      "source": [
        "<a href=\"https://colab.research.google.com/github/softmurata/colab_notebooks/blob/main/llm/vicuna13b_v1_3_preview.ipynb\" target=\"_parent\"><img src=\"https://colab.research.google.com/assets/colab-badge.svg\" alt=\"Open In Colab\"/></a>"
      ]
    },
    {
      "cell_type": "markdown",
      "source": [
        "Installation"
      ],
      "metadata": {
        "id": "Exw-h1UHCHHA"
      }
    },
    {
      "cell_type": "code",
      "execution_count": null,
      "metadata": {
        "id": "8Ppvi1fUBnqC"
      },
      "outputs": [],
      "source": [
        "!pip install -q auto-gptq"
      ]
    },
    {
      "cell_type": "markdown",
      "source": [
        "Load model"
      ],
      "metadata": {
        "id": "abi51sMlCKio"
      }
    },
    {
      "cell_type": "code",
      "source": [
        "from transformers import AutoTokenizer, pipeline, logging\n",
        "from auto_gptq import AutoGPTQForCausalLM, BaseQuantizeConfig\n",
        "import argparse\n",
        "\n",
        "model_name_or_path = \"TheBloke/vicuna-13b-v1.3-GPTQ\"\n",
        "model_basename = \"vicuna-13b-v1.3-GPTQ-4bit-128g.no-act.order\"\n",
        "\n",
        "use_triton = False\n",
        "\n",
        "tokenizer = AutoTokenizer.from_pretrained(model_name_or_path, use_fast=True)\n",
        "\n",
        "model = AutoGPTQForCausalLM.from_quantized(model_name_or_path,\n",
        "        model_basename=model_basename,\n",
        "        use_safetensors=True,\n",
        "        trust_remote_code=False,\n",
        "        device=\"cuda:0\",\n",
        "        use_triton=use_triton,\n",
        "        quantize_config=None)\n"
      ],
      "metadata": {
        "id": "rz-IUg4pCLcw"
      },
      "execution_count": null,
      "outputs": []
    },
    {
      "cell_type": "markdown",
      "source": [
        "Inference"
      ],
      "metadata": {
        "id": "cubhgAncCSij"
      }
    },
    {
      "cell_type": "code",
      "source": [
        "# Note: check the prompt template is correct for this model.\n",
        "prompt = \"格上相手に闘うサッカーの戦術を考えて\"\n",
        "prompt_template=f'''USER: {prompt}\n",
        "ASSISTANT:'''\n",
        "\n",
        "print(\"\\n\\n*** Generate:\")\n",
        "\n",
        "input_ids = tokenizer(prompt_template, return_tensors='pt').input_ids.cuda()\n",
        "output = model.generate(inputs=input_ids, temperature=0.7, max_new_tokens=512)\n",
        "print(tokenizer.decode(output[0], skip_special_tokens=True)[len(prompt_template):])"
      ],
      "metadata": {
        "colab": {
          "base_uri": "https://localhost:8080/"
        },
        "id": "3wyzdHPlCTKK",
        "outputId": "992645ff-a50b-4c29-8ae4-3eb0ee0b75b1"
      },
      "execution_count": 6,
      "outputs": [
        {
          "output_type": "stream",
          "name": "stdout",
          "text": [
            "\n",
            "\n",
            "*** Generate:\n",
            " 格上相手に闘うサッカーの戦術には、以下のようなものがあります。\n",
            "\n",
            "1. ジャンプ攻防 (Jump tackle)\n",
            "ジャンプ攻防は、ジャンプして相手のボールを取り違掛かりする攻防手法です。ジャンプ攻防は、相手がボールを持っている際に、自身が相手に近づいてジャンプして相手のボールを取り違掛かりすることで、相手に対してボールを取り離すことができます。\n",
            "2. ジャンプ押し (Jump push)\n",
            "ジャンプ押しは、ジャンプして相手を押し違掛かりする攻防手法です。ジャンプ押しは、相手がボールを持っている際に、自身が相手に近づいてジャンプして相手を押し違掛かりすることで、相手に対してボールを取り離すことができます。\n",
            "3. ジャンプ撃砲 (Jump header)\n",
            "ジャンプ撃砲は、ジャンプしてボールを撃砲する攻防手法です。ジャンプ撃砲は、自身がボールを持っている際に、ジャンプして相手の頭部を撃砲することで、相手に対してボールを取り離すことができます。\n",
            "4. ジャンプ蹴り切り (Jump slide\n"
          ]
        }
      ]
    }
  ]
}