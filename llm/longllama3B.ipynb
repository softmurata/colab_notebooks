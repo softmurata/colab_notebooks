{
  "nbformat": 4,
  "nbformat_minor": 0,
  "metadata": {
    "colab": {
      "provenance": [],
      "gpuType": "T4",
      "authorship_tag": "ABX9TyOVSjxWXJirRuLUXpRu5LjP",
      "include_colab_link": true
    },
    "kernelspec": {
      "name": "python3",
      "display_name": "Python 3"
    },
    "language_info": {
      "name": "python"
    },
    "accelerator": "GPU"
  },
  "cells": [
    {
      "cell_type": "markdown",
      "metadata": {
        "id": "view-in-github",
        "colab_type": "text"
      },
      "source": [
        "<a href=\"https://colab.research.google.com/github/softmurata/colab_notebooks/blob/main/llm/longllama3B.ipynb\" target=\"_parent\"><img src=\"https://colab.research.google.com/assets/colab-badge.svg\" alt=\"Open In Colab\"/></a>"
      ]
    },
    {
      "cell_type": "markdown",
      "source": [
        "Installation"
      ],
      "metadata": {
        "id": "-UICzXILbOh-"
      }
    },
    {
      "cell_type": "code",
      "execution_count": null,
      "metadata": {
        "id": "GSIdwvMfaF-w"
      },
      "outputs": [],
      "source": [
        "!pip install --upgrade pip\n",
        "!pip install transformers==4.30  sentencepiece accelerate -q"
      ]
    },
    {
      "cell_type": "markdown",
      "source": [
        "Load model"
      ],
      "metadata": {
        "id": "8_013kZpbV-h"
      }
    },
    {
      "cell_type": "code",
      "source": [
        "import torch\n",
        "from transformers import LlamaTokenizer, AutoModelForCausalLM\n",
        "\n",
        "MODEL_PATH = 'syzymon/long_llama_3b'\n",
        "TOKENIZER_PATH = 'syzymon/long_llama_3b'\n",
        "# to fit into colab GPU we will use reduced precision\n",
        "TORCH_DTYPE = torch.bfloat16\n",
        "\n",
        "if torch.cuda.is_available():\n",
        "    device = torch.device(\"cuda\")\n",
        "else:\n",
        "    device = torch.device(\"cpu\")\n",
        "\n",
        "tokenizer = LlamaTokenizer.from_pretrained(TOKENIZER_PATH)\n",
        "\n",
        "model = AutoModelForCausalLM.from_pretrained(MODEL_PATH,\n",
        "                                            torch_dtype=TORCH_DTYPE,\n",
        "                                            device_map=device,\n",
        "                                            trust_remote_code=True,\n",
        "                                            # mem_attention_grouping is used\n",
        "                                            # to trade speed for memory usage\n",
        "                                            # for details see the section Additional configuration\n",
        "                                            mem_attention_grouping=(1, 2048))\n",
        "model.eval()"
      ],
      "metadata": {
        "id": "LcN29Sq1bSb8"
      },
      "execution_count": null,
      "outputs": []
    },
    {
      "cell_type": "markdown",
      "source": [
        "Inference"
      ],
      "metadata": {
        "id": "eAOXZE3Gbe7Y"
      }
    },
    {
      "cell_type": "code",
      "source": [
        "from transformers import TextStreamer\n",
        "streamer = TextStreamer(tokenizer)\n",
        "\n",
        "prompt = \"My name is Julien and I like to\"\n",
        "input_ids = tokenizer(prompt, return_tensors=\"pt\").input_ids\n",
        "input_ids = input_ids.to(device)\n",
        "\n",
        "torch.manual_seed(60)\n",
        "generation_output = model.generate(\n",
        "    input_ids=input_ids,\n",
        "    max_new_tokens=256,\n",
        "    num_beams=1,\n",
        "    last_context_length=1792,\n",
        "    do_sample=True,\n",
        "    temperature=1.0,\n",
        "    streamer=streamer,\n",
        ")"
      ],
      "metadata": {
        "id": "bGFaWQVxbf7E"
      },
      "execution_count": null,
      "outputs": []
    },
    {
      "cell_type": "code",
      "source": [
        "prompt = '''You act as a prompt generator. Please do the classification task like the following examples.\n",
        "\n",
        "Prompt: replace chair into sofa at the left side\n",
        "Output: {\"part\": \"left\", \"source object\": [\"chair\"], \"target object\": [\"sofa\"]}\n",
        "\n",
        "Prompt: change wooden table into white table in the right part\n",
        "Output: {\"part\": \"right\", \"source object\": [\"wooden table\"], \"target object\": [\"white table\"]}\n",
        "\n",
        "Prompt: replace blue chair and red sofa into yellow table and green chair at the bottom\n",
        "Output: {\"part\": \"bottom\", \"source object\": [\"blue chair\", \"red sofa\"], \"target object\": [\"yellow table\", \"green chair\"]}\n",
        "\n",
        "Prompt: replace sofa and shelf into chair and picture at the right side in the room\n",
        "Output:'''\n",
        "input_ids = tokenizer(prompt, return_tensors=\"pt\").input_ids\n",
        "input_ids = input_ids.to(device)\n",
        "generation_output = model.generate(\n",
        "    input_ids=input_ids,\n",
        "    max_new_tokens=256,\n",
        "    num_beams=1,\n",
        "    last_context_length=128,\n",
        "    do_sample=True,\n",
        "    temperature=1.0,\n",
        "    # streamer=streamer,\n",
        ")\n",
        "print(tokenizer.decode(generation_output[0], skip_special_tokens=True))"
      ],
      "metadata": {
        "id": "zp47eI_kdEiE"
      },
      "execution_count": null,
      "outputs": []
    }
  ]
}