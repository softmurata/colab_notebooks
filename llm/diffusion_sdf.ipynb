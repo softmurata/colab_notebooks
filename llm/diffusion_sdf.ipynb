{
  "nbformat": 4,
  "nbformat_minor": 0,
  "metadata": {
    "colab": {
      "provenance": [],
      "gpuType": "T4",
      "authorship_tag": "ABX9TyNSI2/8bXTtTYdzWez47L4t",
      "include_colab_link": true
    },
    "kernelspec": {
      "name": "python3",
      "display_name": "Python 3"
    },
    "language_info": {
      "name": "python"
    },
    "accelerator": "GPU"
  },
  "cells": [
    {
      "cell_type": "markdown",
      "metadata": {
        "id": "view-in-github",
        "colab_type": "text"
      },
      "source": [
        "<a href=\"https://colab.research.google.com/github/softmurata/colab_notebooks/blob/main/llm/diffusion_sdf.ipynb\" target=\"_parent\"><img src=\"https://colab.research.google.com/assets/colab-badge.svg\" alt=\"Open In Colab\"/></a>"
      ]
    },
    {
      "cell_type": "markdown",
      "source": [
        "Installation"
      ],
      "metadata": {
        "id": "S11UriWgdfl-"
      }
    },
    {
      "cell_type": "code",
      "execution_count": null,
      "metadata": {
        "id": "UV3owsHdNygT"
      },
      "outputs": [],
      "source": [
        "!git clone https://github.com/ttlmh/Diffusion-SDF.git"
      ]
    },
    {
      "cell_type": "code",
      "source": [
        "%cd /content/Diffusion-SDF"
      ],
      "metadata": {
        "id": "W9PRZlyFOmDM"
      },
      "execution_count": null,
      "outputs": []
    },
    {
      "cell_type": "code",
      "source": [
        "import yaml\n",
        "import re\n",
        " \n",
        "# バージョン指定の有無\n",
        "version = True\n",
        "# yamlファイル\n",
        "yaml_path = \"diffusionsdf.yml\"\n",
        " \n",
        "with open(yaml_path) as data:\n",
        "    yaml_obj = yaml.safe_load(data)\n",
        " \n",
        "    requirements = []\n",
        "    for dep in yaml_obj['dependencies']:\n",
        "        if isinstance(dep, str):\n",
        "            dep_l = re.split('=', dep)\n",
        "            # 除外対象\n",
        "            res = re.match('python|pip|setuptools', dep)\n",
        "            if res is None:\n",
        "                if version and len(dep_l) == 2:\n",
        "                    requirements.append(dep_l[0] + '==' + dep_l[1])\n",
        "                else:\n",
        "                    requirements.append(dep_l[0])\n",
        "        else:\n",
        "            for preq in dep.get('pip', []):\n",
        "                preq_s = re.sub('>=|<=|>|<|==', '#', preq)\n",
        "                preq_s_l = re.split('#', preq_s)\n",
        " \n",
        "                if preq_s_l[0]:\n",
        "                    res = re.match('-e', preq_s_l[0])\n",
        "                    if res is None:\n",
        "                        new_string = preq_s_l[0]\n",
        "                    else:\n",
        "                        new_string = preq.lstrip(\"-e | -e .\")\n",
        "                        new_string = new_string.strip()\n",
        " \n",
        "                if version:\n",
        "                    new_string = preq.lstrip(\"-e | -e .\")\n",
        "                    requirements.append(new_string)\n",
        "                else:\n",
        "                    requirements.append(new_string)\n",
        " \n",
        "with open('requirements.txt', 'w') as fp:\n",
        "    for requirement in requirements:\n",
        "        print(requirement, file=fp)"
      ],
      "metadata": {
        "id": "s_oEAwaWOoNK"
      },
      "execution_count": 4,
      "outputs": []
    },
    {
      "cell_type": "code",
      "source": [
        "!pip install git+https://github.com/openai/CLIP.git@main#egg=clip\n",
        "!pip install transformers pytorch-lightning open3d\n",
        "!pip install omegaconf einops PyMCubes pyglet pyopengl kornia\n",
        "!pip install trimesh chamferdist\n",
        "!pip install \"git+https://github.com/facebookresearch/pytorch3d.git@stable\""
      ],
      "metadata": {
        "id": "CmcJgAg8O1-Y"
      },
      "execution_count": null,
      "outputs": []
    },
    {
      "cell_type": "markdown",
      "source": [
        "Download model"
      ],
      "metadata": {
        "id": "6Ns-yL1KdiFf"
      }
    },
    {
      "cell_type": "code",
      "source": [
        "%cd /content/Diffusion-SDF\n",
        "!mkdir ckpt\n",
        "%cd /content/Diffusion-SDF/ckpt\n",
        "!gdown https://drive.google.com/u/0/uc?id=18MxWYf6IItYOxUzdM5LiWb8dr9zSwA-2&export=download&confirm=t&uuid=6e4c7c1f-96e5-4594-a9c5-99c733d155d7&at=AKKF8vyiXlIzYktkzvWqkRJqsYTh:1685577652480\n",
        "!gdown https://drive.google.com/u/0/uc?id=1Cno18LFR_V24oCLxwmTJttdBu7AyP1aa&export=download&confirm=t&uuid=5a5fd1ac-8019-466f-9894-9761ddf4b8c8&at=AKKF8vzc7oNZD_G7Veab6IVGGzBp:1685577710507"
      ],
      "metadata": {
        "id": "RO9hiTv5QZCZ"
      },
      "execution_count": null,
      "outputs": []
    },
    {
      "cell_type": "code",
      "source": [
        "# issue\n",
        "# https://github.com/AUTOMATIC1111/stable-diffusion-webui/discussions/4111\n",
        "# /content/Diffusion-SDF/models/voxdiff/models/diffusion/ddpm_3d.py -> \n",
        "\"\"\"\n",
        "# from pytorch_lightning.utilities.distributed import rank_zero_only\n",
        "from pytorch_lightning.utilities.rank_zero import rank_zero_only\n",
        "\"\"\""
      ],
      "metadata": {
        "id": "nMGs6ck0Z2ZT"
      },
      "execution_count": null,
      "outputs": []
    },
    {
      "cell_type": "code",
      "source": [
        "%cd /content/Diffusion-SDF\n",
        "!python txt2sdf.py --prompt \"an artistic bookshelf\" --save_obj"
      ],
      "metadata": {
        "id": "pBPQgGozQ_jl"
      },
      "execution_count": null,
      "outputs": []
    },
    {
      "cell_type": "code",
      "source": [
        "import IPython\n",
        "\n",
        "\n",
        "out_filename = '/content/Diffusion-SDF/outputs/txt2sdf-samples/an-artistic-bookshelf/voxdiff-uinu.ckpt.gif'\n",
        "IPython.display.Image(out_filename, format='png')"
      ],
      "metadata": {
        "id": "22SqNiVsaPys"
      },
      "execution_count": null,
      "outputs": []
    }
  ]
}