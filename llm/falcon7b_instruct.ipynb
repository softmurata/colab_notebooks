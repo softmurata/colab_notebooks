{
  "nbformat": 4,
  "nbformat_minor": 0,
  "metadata": {
    "colab": {
      "provenance": [],
      "gpuType": "T4",
      "authorship_tag": "ABX9TyNEissTaxbhhcSI5Q9xZPXg",
      "include_colab_link": true
    },
    "kernelspec": {
      "name": "python3",
      "display_name": "Python 3"
    },
    "language_info": {
      "name": "python"
    },
    "accelerator": "GPU"
  },
  "cells": [
    {
      "cell_type": "markdown",
      "metadata": {
        "id": "view-in-github",
        "colab_type": "text"
      },
      "source": [
        "<a href=\"https://colab.research.google.com/github/softmurata/colab_notebooks/blob/main/llm/falcon7b_instruct.ipynb\" target=\"_parent\"><img src=\"https://colab.research.google.com/assets/colab-badge.svg\" alt=\"Open In Colab\"/></a>"
      ]
    },
    {
      "cell_type": "markdown",
      "source": [
        "Installation"
      ],
      "metadata": {
        "id": "2O_IAONDOmib"
      }
    },
    {
      "cell_type": "code",
      "execution_count": null,
      "metadata": {
        "id": "MCn6yrGxA7Xv"
      },
      "outputs": [],
      "source": [
        "# Download model\n",
        "!git clone https://huggingface.co/TheBloke/falcon-7b-instruct-GPTQ/\n",
        "\n",
        "%cd /content\n",
        "!git clone https://github.com/PanQiWei/AutoGPTQ\n",
        "%cd AutoGPTQ\n",
        "!pip install . # This step requires CUDA toolkit installed\n",
        "\n",
        "!pip install einops"
      ]
    },
    {
      "cell_type": "markdown",
      "source": [
        "Load model"
      ],
      "metadata": {
        "id": "sNwrJzBuBkMO"
      }
    },
    {
      "cell_type": "code",
      "source": [
        "import torch\n",
        "from transformers import AutoTokenizer\n",
        "from auto_gptq import AutoGPTQForCausalLM\n",
        "\n",
        "# Download the model from HF and store it locally, then reference its location here:\n",
        "quantized_model_dir = \"/content/falcon-7b-instruct-GPTQ\"\n",
        "\n",
        "from transformers import AutoTokenizer\n",
        "tokenizer = AutoTokenizer.from_pretrained(quantized_model_dir, use_fast=False)\n",
        "\n",
        "model = AutoGPTQForCausalLM.from_quantized(quantized_model_dir, device=\"cuda:0\", use_triton=False, use_safetensors=True, torch_dtype=torch.float32, trust_remote_code=True)\n"
      ],
      "metadata": {
        "id": "2xJQNYt0BZln"
      },
      "execution_count": null,
      "outputs": []
    },
    {
      "cell_type": "markdown",
      "source": [
        "Inference"
      ],
      "metadata": {
        "id": "ksr617lJBly1"
      }
    },
    {
      "cell_type": "code",
      "source": [
        "prompt = \"Write a story about llamas\"\n",
        "prompt_template = f\"### Instruction: {prompt}\\n### Response:\"\n",
        "\n",
        "tokens = tokenizer(prompt_template, return_tensors=\"pt\").to(\"cuda:0\").input_ids\n",
        "output = model.generate(input_ids=tokens, max_new_tokens=100, do_sample=True, temperature=0.8)\n",
        "print(tokenizer.decode(output[0]))"
      ],
      "metadata": {
        "id": "lwm-JvUhBi-Y"
      },
      "execution_count": null,
      "outputs": []
    },
    {
      "cell_type": "code",
      "source": [
        "prompt = \"日本で有名なアニメについて教えて\"\n",
        "prompt_template = f\"### Instruction: {prompt}\\n### Response:\"\n",
        "\n",
        "tokens = tokenizer(prompt_template, return_tensors=\"pt\").to(\"cuda:0\").input_ids\n",
        "output = model.generate(input_ids=tokens, max_new_tokens=100, do_sample=True, temperature=0.8)\n",
        "print(tokenizer.decode(output[0]))"
      ],
      "metadata": {
        "id": "1ivqR3T1GFsZ"
      },
      "execution_count": null,
      "outputs": []
    }
  ]
}