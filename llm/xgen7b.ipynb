{
  "nbformat": 4,
  "nbformat_minor": 0,
  "metadata": {
    "colab": {
      "provenance": [],
      "gpuType": "T4",
      "authorship_tag": "ABX9TyOmADEcgBuQxy67eECJZYxc",
      "include_colab_link": true
    },
    "kernelspec": {
      "name": "python3",
      "display_name": "Python 3"
    },
    "language_info": {
      "name": "python"
    },
    "accelerator": "GPU"
  },
  "cells": [
    {
      "cell_type": "markdown",
      "metadata": {
        "id": "view-in-github",
        "colab_type": "text"
      },
      "source": [
        "<a href=\"https://colab.research.google.com/github/softmurata/colab_notebooks/blob/main/llm/xgen7b.ipynb\" target=\"_parent\"><img src=\"https://colab.research.google.com/assets/colab-badge.svg\" alt=\"Open In Colab\"/></a>"
      ]
    },
    {
      "cell_type": "markdown",
      "source": [
        "Installation"
      ],
      "metadata": {
        "id": "GrDOgv4gVrAG"
      }
    },
    {
      "cell_type": "code",
      "execution_count": null,
      "metadata": {
        "id": "LIB2SUzPUreM"
      },
      "outputs": [],
      "source": [
        "!pip install auto-gptq\n",
        "!pip install tiktoken"
      ]
    },
    {
      "cell_type": "markdown",
      "source": [
        "Load model"
      ],
      "metadata": {
        "id": "-dv_jLzYVsaZ"
      }
    },
    {
      "cell_type": "code",
      "source": [
        "from transformers import AutoTokenizer\n",
        "from auto_gptq import AutoGPTQForCausalLM\n",
        "\n",
        "model_name_or_path = \"SearchUnify-ML/xgen-7b-8k-open-instruct-gptq\"\n",
        "model_basename = \"gptq_model-4bit-128g\"\n",
        "\n",
        "use_triton = False\n",
        "\n",
        "tokenizer = AutoTokenizer.from_pretrained(model_name_or_path,\n",
        "                                          use_fast=False,\n",
        "                                          trust_remote_code=True)\n",
        "\n",
        "model = AutoGPTQForCausalLM.from_quantized(model_name_or_path,\n",
        "                                           model_basename=model_basename,\n",
        "                                           use_safetensors=False,\n",
        "                                           trust_remote_code=True,\n",
        "                                           device=\"cuda:0\",\n",
        "                                           use_triton=use_triton)"
      ],
      "metadata": {
        "id": "X3CFoSJtU0Sz"
      },
      "execution_count": null,
      "outputs": []
    },
    {
      "cell_type": "markdown",
      "source": [
        "inference"
      ],
      "metadata": {
        "id": "jXZB78T5Vtzd"
      }
    },
    {
      "cell_type": "code",
      "source": [
        "# Note: check the prompt template is correct for this model.\n",
        "prompt = \"Explain the rules of field hockey to a novice.\"\n",
        "prompt_template = f'''### Instruction: {prompt}\n",
        "### Response:'''\n",
        "\n",
        "print(\"\\n\\n*** Generate:\")\n",
        "\n",
        "input_ids = tokenizer(prompt_template, return_tensors='pt').input_ids.cuda()\n",
        "output = model.generate(inputs=input_ids, temperature=0.3, max_new_tokens=512)\n",
        "print(f\"\\n\\n {tokenizer.decode(output[0]).split('### Response:')[1]}\")"
      ],
      "metadata": {
        "id": "iugOTrnKVafo"
      },
      "execution_count": null,
      "outputs": []
    },
    {
      "cell_type": "code",
      "source": [
        "prompt = \"Please summarize the following context within 50 words. \\ Context: Field hockey is a popular sport around the world, known as hockey in many countries. In field hockey, two teams play against each other on a field with sticks and a ball. The primary objective of the game is to score goals by hitting the ball into the opposing team's goal with the flat side of the stick. The game is played outside on a grass field, with players attempting to use their sticks to hit the ball into the goal with a series of strikes. Field hockey sticks are usually around 4 to 5 inches wide and around 3 feet long. The sticks have a round end and a flat or rounded face. The ball used in field hockey is similar to a soccer ball but has a longer, more rounded shape. Players must use the flat side of the stick to hit the ball and direct it into the goal. The game is played with a goalkeeper and two forwards who are the only players allowed to handle the ball with their hands. Field hockey sticks have a round end that is designed to make a rounded striking surface on the end of the stick. Players hit the ball with the rounded striking surface of the stick to direct it into the goal. Field hockey sticks have a round striking face that helps players direct the ball into the goal. Players hit the ball with the rounded striking face of the stick to direct it into the goal. Field hockey sticks have a round striking face that helps players direct the ball into the goal. Players hit the ball with the rounded striking face of the stick to direct it into the goal. Field hockey sticks have a round striking face that helps players direct the ball into the goal. Players hit the ball with the rounded striking face of the stick to direct it into the goal. Field hockey sticks have a round striking face that helps players direct the ball into the goal. Players hit the ball with the rounded striking face of the stick to direct it into the goal. Field hockey sticks have a round striking face that helps players direct the ball into the goal. Players hit the ball with the rounded striking face of the stick to direct it into the goal. Field hockey sticks have a round striking face that helps players direct the ball into the goal. Players hit the ball with the rounded striking face of the stick to direct it into the goal. Field hockey sticks have a round striking face that helps players direct the ball into the goal. Players hit the ball with the rounded striking face of the stick to direct it into the goal. Field hockey sticks have a round striking face that helps players direct the ball into the goal. Players hit the ball\"\n",
        "prompt_template = f'''### Instruction: {prompt}\n",
        "### Response:'''\n",
        "\n",
        "input_ids = tokenizer(prompt_template, return_tensors='pt').input_ids.cuda()\n",
        "output = model.generate(inputs=input_ids, temperature=0.6, max_new_tokens=512)\n",
        "print(f\"\\n\\n {tokenizer.decode(output[0], skip_special_tokens=True).split('### Response:')[1]}\")"
      ],
      "metadata": {
        "id": "d6aWhiNoXRFa"
      },
      "execution_count": null,
      "outputs": []
    }
  ]
}