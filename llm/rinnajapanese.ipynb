{
  "nbformat": 4,
  "nbformat_minor": 0,
  "metadata": {
    "colab": {
      "provenance": [],
      "gpuType": "T4",
      "authorship_tag": "ABX9TyMpLT/5F4T1b2AaLaxrI4dv",
      "include_colab_link": true
    },
    "kernelspec": {
      "name": "python3",
      "display_name": "Python 3"
    },
    "language_info": {
      "name": "python"
    },
    "accelerator": "GPU",
    "gpuClass": "standard"
  },
  "cells": [
    {
      "cell_type": "markdown",
      "metadata": {
        "id": "view-in-github",
        "colab_type": "text"
      },
      "source": [
        "<a href=\"https://colab.research.google.com/github/softmurata/colab_notebooks/blob/main/llm/rinnajapanese.ipynb\" target=\"_parent\"><img src=\"https://colab.research.google.com/assets/colab-badge.svg\" alt=\"Open In Colab\"/></a>"
      ]
    },
    {
      "cell_type": "markdown",
      "source": [
        "Installation"
      ],
      "metadata": {
        "id": "L90rnsTppjn8"
      }
    },
    {
      "cell_type": "code",
      "source": [
        "!pip install transformers accelerate sentencepiece"
      ],
      "metadata": {
        "id": "NTESy7pEpk5K"
      },
      "execution_count": null,
      "outputs": []
    },
    {
      "cell_type": "markdown",
      "source": [
        "Load model"
      ],
      "metadata": {
        "id": "5JNS5iBUpxga"
      }
    },
    {
      "cell_type": "code",
      "source": [
        "import torch\n",
        "from transformers import AutoTokenizer, AutoModelForCausalLM\n",
        "\n",
        "tokenizer = AutoTokenizer.from_pretrained(\"rinna/japanese-gpt-neox-3.6b-instruction-sft\", use_fast=False)\n",
        "model = AutoModelForCausalLM.from_pretrained(\"rinna/japanese-gpt-neox-3.6b-instruction-sft\", device_map=\"auto\", torch_dtype=torch.float16)  # memory error\n",
        "\n",
        "if torch.cuda.is_available():\n",
        "    model = model.to(\"cuda\")"
      ],
      "metadata": {
        "id": "4Sz9b7GOpyUw"
      },
      "execution_count": 3,
      "outputs": []
    },
    {
      "cell_type": "code",
      "source": [
        "prompt = [\n",
        "    {\n",
        "        \"speaker\": \"ユーザー\",\n",
        "        \"text\": \"日本のおすすめの観光地を教えてください。\"\n",
        "    },  # instruction\n",
        "    {\n",
        "        \"speaker\": \"システム\",\n",
        "        \"text\": \"どの地域の観光地が知りたいですか？\"\n",
        "    }, # first answer\n",
        "    {\n",
        "        \"speaker\": \"ユーザー\",\n",
        "        \"text\": \"渋谷の観光地を教えてください。\"\n",
        "    } # first question\n",
        "]\n",
        "prompt = [\n",
        "    f\"{uttr['speaker']}: {uttr['text']}\"\n",
        "    for uttr in prompt\n",
        "]\n",
        "prompt = \"<NL>\".join(prompt)\n",
        "prompt = (\n",
        "    prompt\n",
        "    + \"<NL>\"\n",
        "    + \"システム: \"\n",
        ")\n",
        "print(prompt)"
      ],
      "metadata": {
        "id": "oiSGMHvfqDgr",
        "colab": {
          "base_uri": "https://localhost:8080/"
        },
        "outputId": "604bd924-de19-46b1-dc82-2278bf941702"
      },
      "execution_count": 4,
      "outputs": [
        {
          "output_type": "stream",
          "name": "stdout",
          "text": [
            "ユーザー: 日本のおすすめの観光地を教えてください。<NL>システム: どの地域の観光地が知りたいですか？<NL>ユーザー: 渋谷の観光地を教えてください。<NL>システム: \n"
          ]
        }
      ]
    },
    {
      "cell_type": "code",
      "source": [
        "token_ids = tokenizer.encode(prompt, add_special_tokens=False, return_tensors=\"pt\")\n",
        "\n",
        "with torch.no_grad():\n",
        "    output_ids = model.generate(\n",
        "        token_ids.to(model.device),\n",
        "        do_sample=True,\n",
        "        max_new_tokens=256,\n",
        "        temperature=0.7,\n",
        "        pad_token_id=tokenizer.pad_token_id,\n",
        "        bos_token_id=tokenizer.bos_token_id,\n",
        "        eos_token_id=tokenizer.eos_token_id\n",
        "    )\n",
        "\n",
        "output = tokenizer.decode(output_ids.tolist()[0][token_ids.size(1):])\n",
        "output = output.replace(\"<NL>\", \"\\n\")\n",
        "print(output)"
      ],
      "metadata": {
        "id": "nSRdZg74p7aO",
        "colab": {
          "base_uri": "https://localhost:8080/"
        },
        "outputId": "7f73f7c0-9c89-4f9e-c418-c727c18687a8"
      },
      "execution_count": 9,
      "outputs": [
        {
          "output_type": "stream",
          "name": "stdout",
          "text": [
            "わかりました。まずは、ハチ公像やスクランブル交差点、また日本食のレストランに行くことをおすすめします。</s>\n"
          ]
        }
      ]
    }
  ]
}