{
  "nbformat": 4,
  "nbformat_minor": 0,
  "metadata": {
    "colab": {
      "provenance": [],
      "gpuType": "T4",
      "authorship_tag": "ABX9TyOw3dmBJITmevyIn7YiW7ai",
      "include_colab_link": true
    },
    "kernelspec": {
      "name": "python3",
      "display_name": "Python 3"
    },
    "language_info": {
      "name": "python"
    },
    "accelerator": "GPU"
  },
  "cells": [
    {
      "cell_type": "markdown",
      "metadata": {
        "id": "view-in-github",
        "colab_type": "text"
      },
      "source": [
        "<a href=\"https://colab.research.google.com/github/softmurata/colab_notebooks/blob/main/llm/e5largeembedding.ipynb\" target=\"_parent\"><img src=\"https://colab.research.google.com/assets/colab-badge.svg\" alt=\"Open In Colab\"/></a>"
      ]
    },
    {
      "cell_type": "markdown",
      "source": [
        "[Blog](https://hironsan.hatenablog.com/entry/2023/07/05/073150)"
      ],
      "metadata": {
        "id": "rWnoWTpW_BvC"
      }
    },
    {
      "cell_type": "markdown",
      "source": [
        "Installation"
      ],
      "metadata": {
        "id": "74_1Jh2cAUI1"
      }
    },
    {
      "cell_type": "code",
      "execution_count": null,
      "metadata": {
        "id": "tYgKaIKf89bf"
      },
      "outputs": [],
      "source": [
        "!pip install -q transformers accelerate bitsandbytes"
      ]
    },
    {
      "cell_type": "markdown",
      "source": [
        "Load model"
      ],
      "metadata": {
        "id": "eKXPDyYGAWV9"
      }
    },
    {
      "cell_type": "code",
      "source": [
        "import torch.nn.functional as F\n",
        "from torch import Tensor\n",
        "from transformers import AutoTokenizer, AutoModel\n",
        "\n",
        "\n",
        "def average_pool(last_hidden_states: Tensor, attention_mask: Tensor) -> Tensor:\n",
        "    last_hidden = last_hidden_states.masked_fill(~attention_mask[..., None].bool(), 0.0)\n",
        "    return last_hidden.sum(dim=1) / attention_mask.sum(dim=1)[..., None]\n",
        "\n",
        "tokenizer = AutoTokenizer.from_pretrained('intfloat/multilingual-e5-small')\n",
        "model = AutoModel.from_pretrained('intfloat/multilingual-e5-small')"
      ],
      "metadata": {
        "id": "g6eqB-gk9TSe"
      },
      "execution_count": null,
      "outputs": []
    },
    {
      "cell_type": "markdown",
      "source": [
        "Inference"
      ],
      "metadata": {
        "id": "sFo3gnc2AXUv"
      }
    },
    {
      "cell_type": "code",
      "source": [
        "import torch.nn as nn\n",
        "\n",
        "input_texts = [\n",
        "    'query: ここの宿は駅から車で３０分かかります。温泉があって気持ちいいです。',\n",
        "    'query: 宿から駅までは３０分かかります。車が一番いいです。温泉からの見晴らしが最高です。',\n",
        "    'query: 宿からのアクセスは車が一番良くて、温泉までは６０分かかります。見晴らしは最高です。'\n",
        "]\n",
        "\n",
        "batch_dict = tokenizer(input_texts, max_length=512, padding=True, truncation=True, return_tensors='pt')\n",
        "outputs = model(**batch_dict)\n",
        "embeddings = average_pool(outputs.last_hidden_state, batch_dict['attention_mask'])\n",
        "\n",
        "cos = nn.CosineSimilarity(dim=-1, eps=1e-6)\n",
        "output1 = cos(embeddings[0], embeddings[1])\n",
        "output2 = cos(embeddings[0], embeddings[2])\n",
        "print(output1.detach().cpu().numpy(), output2.detach().cpu().numpy())"
      ],
      "metadata": {
        "colab": {
          "base_uri": "https://localhost:8080/"
        },
        "id": "Y27lNZng9bX6",
        "outputId": "9ff99f37-f0b1-406d-a2f6-608abb5029bd"
      },
      "execution_count": 20,
      "outputs": [
        {
          "output_type": "stream",
          "name": "stdout",
          "text": [
            "0.9467675 0.9253449\n"
          ]
        }
      ]
    }
  ]
}