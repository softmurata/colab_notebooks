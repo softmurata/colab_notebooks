{
  "nbformat": 4,
  "nbformat_minor": 0,
  "metadata": {
    "colab": {
      "provenance": [],
      "gpuType": "T4",
      "authorship_tag": "ABX9TyNBcoZNsGgEk3zNxkx3sIIc",
      "include_colab_link": true
    },
    "kernelspec": {
      "name": "python3",
      "display_name": "Python 3"
    },
    "language_info": {
      "name": "python"
    },
    "accelerator": "GPU"
  },
  "cells": [
    {
      "cell_type": "markdown",
      "metadata": {
        "id": "view-in-github",
        "colab_type": "text"
      },
      "source": [
        "<a href=\"https://colab.research.google.com/github/softmurata/colab_notebooks/blob/main/llm/OpenAssistantLlama213B.ipynb\" target=\"_parent\"><img src=\"https://colab.research.google.com/assets/colab-badge.svg\" alt=\"Open In Colab\"/></a>"
      ]
    },
    {
      "cell_type": "markdown",
      "source": [
        "GPTQ"
      ],
      "metadata": {
        "id": "wGmzk4JJjMKs"
      }
    },
    {
      "cell_type": "code",
      "execution_count": null,
      "metadata": {
        "id": "XbfS6WqWalHX"
      },
      "outputs": [],
      "source": [
        "!pip install -q auto-gptq"
      ]
    },
    {
      "cell_type": "code",
      "source": [
        "from transformers import AutoTokenizer, pipeline, logging\n",
        "from auto_gptq import AutoGPTQForCausalLM, BaseQuantizeConfig\n",
        "\n",
        "model_name_or_path = \"TheBloke/OpenAssistant-Llama2-13B-Orca-8K-3319-GPTQ\"\n",
        "model_basename = \"gptq_model-4bit-128g\"\n",
        "\n",
        "use_triton = False\n",
        "\n",
        "tokenizer = AutoTokenizer.from_pretrained(model_name_or_path, use_fast=True)\n",
        "\n",
        "model = AutoGPTQForCausalLM.from_quantized(model_name_or_path,\n",
        "        model_basename=model_basename,\n",
        "        use_safetensors=True,\n",
        "        trust_remote_code=False,\n",
        "        device=\"cuda:0\",\n",
        "        use_triton=use_triton,\n",
        "        quantize_config=None)"
      ],
      "metadata": {
        "id": "aysWlOgRgTFh"
      },
      "execution_count": null,
      "outputs": []
    },
    {
      "cell_type": "code",
      "source": [
        "system_message = \"You are a helpful, respectful and honest assistant. Always answer as helpfully as possible, while being safe. Your answers should not include any harmful, unethical, racist, sexist, toxic, dangerous, or illegal content. Please ensure that your responses are socially unbiased and positive in nature. If a question does not make any sense, or is not factually coherent, explain why instead of answering something not correct. If you don't know the answer to a question, please don't share false information.\"\n",
        "prompt = \"日本語でAIについての文章を書いて\"\n",
        "prompt_template=f'''<|system|>{system_message}</s><|prompter|>{prompt}</s><|assistant|>\n",
        "'''\n",
        "\n",
        "print(\"\\n\\n*** Generate:\")\n",
        "\n",
        "input_ids = tokenizer(prompt_template, return_tensors='pt').input_ids.cuda()\n",
        "output = model.generate(inputs=input_ids, temperature=0.7, max_new_tokens=512)\n",
        "print(tokenizer.decode(output[0], skip_special_tokens=True)[len(prompt_template):])"
      ],
      "metadata": {
        "id": "Hl7Xm5KngfIT"
      },
      "execution_count": null,
      "outputs": []
    },
    {
      "cell_type": "markdown",
      "source": [
        "LlamaCpp"
      ],
      "metadata": {
        "id": "gs10vgdOgSBm"
      }
    },
    {
      "cell_type": "code",
      "source": [
        "!pip install llama-cpp-python"
      ],
      "metadata": {
        "id": "JGHYdZ3Sblh-"
      },
      "execution_count": null,
      "outputs": []
    },
    {
      "cell_type": "code",
      "source": [
        "# !wget https://huggingface.co/TheBloke/OpenAssistant-Llama2-13B-Orca-8K-3319-GGML/resolve/main/openassistant-llama2-13b-orca-8k-3319.ggmlv3.q2_K.bin -P /content\n",
        "!wget https://huggingface.co/TheBloke/OpenAssistant-Llama2-13B-Orca-8K-3319-GGML/resolve/main/openassistant-llama2-13b-orca-8k-3319.ggmlv3.q4_1.bin -P /content"
      ],
      "metadata": {
        "id": "cR7cvywXbyS5"
      },
      "execution_count": null,
      "outputs": []
    },
    {
      "cell_type": "code",
      "source": [
        "from llama_cpp import Llama\n",
        "\n",
        "llm = Llama(model_path=\"/content/openassistant-llama2-13b-orca-8k-3319.ggmlv3.q4_1.bin\")"
      ],
      "metadata": {
        "id": "dllnAENpbqi0"
      },
      "execution_count": null,
      "outputs": []
    },
    {
      "cell_type": "code",
      "source": [
        "# prompt\n",
        "system_message = \"You are a helpful, respectful and honest assistant. Always answer as helpfully as possible, while being safe. Your answers should not include any harmful, unethical, racist, sexist, toxic, dangerous, or illegal content. Please ensure that your responses are socially unbiased and positive in nature. If a question does not make any sense, or is not factually coherent, explain why instead of answering something not correct. If you don't know the answer to a question, please don't share false information.\"\n",
        "user_prompt = \"Please write the presentation about the latest AI within 200 words\"\n",
        "prompt = f\"\"\"<|system|>{system_message}</s><|prompter|>{user_prompt}</s><|assistant|>\"\"\"\n",
        "\n",
        "# inference\n",
        "output = llm(\n",
        "    prompt,\n",
        "    temperature=0.1,\n",
        "    stop=[\"<|system|>\", \"<|prompter|>\", \"<|assistant|>\", \"</s>\"],\n",
        "    # echo=True,\n",
        ")\n",
        "print(output[\"choices\"][0][\"text\"])"
      ],
      "metadata": {
        "id": "Og8rwp1jcYGA"
      },
      "execution_count": null,
      "outputs": []
    },
    {
      "cell_type": "code",
      "source": [
        "# プロンプトの準備\n",
        "prompt = \"\"\"### Instruction: Please write the presentation about the latest AI within 200 words.\n",
        "### Response:\"\"\"\n",
        "\n",
        "# 推論の実行\n",
        "output = llm(\n",
        "    prompt,\n",
        "    temperature=0.1,\n",
        "    stop=[\"Instruction:\", \"Input:\", \"Response:\", \"\\n\"],\n",
        "    echo=True,\n",
        ")\n",
        "print(output[\"choices\"][0][\"text\"])"
      ],
      "metadata": {
        "id": "R0rnV9MNehoB"
      },
      "execution_count": null,
      "outputs": []
    }
  ]
}