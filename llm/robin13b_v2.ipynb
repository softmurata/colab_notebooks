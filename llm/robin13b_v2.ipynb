{
  "nbformat": 4,
  "nbformat_minor": 0,
  "metadata": {
    "colab": {
      "provenance": [],
      "gpuType": "T4",
      "authorship_tag": "ABX9TyPpLLau6I3ffVxlH1qYWc/Q",
      "include_colab_link": true
    },
    "kernelspec": {
      "name": "python3",
      "display_name": "Python 3"
    },
    "language_info": {
      "name": "python"
    },
    "accelerator": "GPU"
  },
  "cells": [
    {
      "cell_type": "markdown",
      "metadata": {
        "id": "view-in-github",
        "colab_type": "text"
      },
      "source": [
        "<a href=\"https://colab.research.google.com/github/softmurata/colab_notebooks/blob/main/llm/robin13b_v2.ipynb\" target=\"_parent\"><img src=\"https://colab.research.google.com/assets/colab-badge.svg\" alt=\"Open In Colab\"/></a>"
      ]
    },
    {
      "cell_type": "markdown",
      "source": [
        "Installation"
      ],
      "metadata": {
        "id": "Nh32C2DriQr4"
      }
    },
    {
      "cell_type": "code",
      "execution_count": null,
      "metadata": {
        "id": "C7Tlv7qNiLLa"
      },
      "outputs": [],
      "source": [
        "!pip install auto-gptq\n",
        "!pip install xformers"
      ]
    },
    {
      "cell_type": "markdown",
      "source": [
        "Load model"
      ],
      "metadata": {
        "id": "CrGtEWiqiXDK"
      }
    },
    {
      "cell_type": "code",
      "source": [
        "from transformers import AutoTokenizer, pipeline, logging\n",
        "from auto_gptq import AutoGPTQForCausalLM, BaseQuantizeConfig\n",
        "import argparse\n",
        "\n",
        "model_name_or_path = \"TheBloke/robin-13B-v2-GPTQ\"\n",
        "model_basename = \"robin-13b-GPTQ-4bit-128g.no-act.order\"\n",
        "\n",
        "use_triton = False\n",
        "\n",
        "# tokenizer = AutoTokenizer.from_pretrained(model_name_or_path)\n",
        "# Issue: https://github.com/huggingface/transformers/issues/22762\n",
        "tokenizer = AutoTokenizer.from_pretrained(model_name_or_path, unk_token=\"<unk>\",\n",
        "                                                    bos_token=\"<s>\",\n",
        "                                                    eos_token=\"</s>\")\n",
        "\n",
        "model = AutoGPTQForCausalLM.from_quantized(model_name_or_path,\n",
        "        model_basename=model_basename,\n",
        "        use_safetensors=True,\n",
        "        trust_remote_code=False,\n",
        "        device=\"cuda:0\",\n",
        "        use_triton=use_triton,\n",
        "        quantize_config=None)\n"
      ],
      "metadata": {
        "id": "NC3PoBlKiWah"
      },
      "execution_count": null,
      "outputs": []
    },
    {
      "cell_type": "markdown",
      "source": [
        "Inference"
      ],
      "metadata": {
        "id": "GM-wRhKmiX1Z"
      }
    },
    {
      "cell_type": "code",
      "source": [
        "# Note: check the prompt template is correct for this model.\n",
        "prompt = \"Tell me about AI\"\n",
        "prompt_template=f'''###Human: {prompt}\n",
        "###Assistant:'''\n",
        "\n",
        "print(\"\\n\\n*** Generate:\")\n",
        "\n",
        "input_ids = tokenizer(prompt_template, return_tensors='pt').input_ids.cuda()\n",
        "output = model.generate(inputs=input_ids, temperature=0.7, max_new_tokens=512)\n",
        "print(tokenizer.decode(output[0], skip_special_tokens=True)[len(prompt_template):])"
      ],
      "metadata": {
        "id": "PM10xTqSiY67"
      },
      "execution_count": null,
      "outputs": []
    },
    {
      "cell_type": "code",
      "source": [
        "prompt_template='''You act as a prompt generator. Please do the classification task like the following examples.\n",
        "\n",
        "###Human: change wooden table into white table in the right part\n",
        "###Assistant: {\"part\": \"right\", \"source object\": [\"wooden table\"], \"target object\": [\"white table\"]}\n",
        "\n",
        "###Human: replace blue chair and red sofa into yellow table and green chair at the bottom\n",
        "###Assistant: {\"part\": \"bottom\", \"source object\": [\"blue chair\", \"red sofa\"], \"target object\": [\"yellow table\", \"green chair\"]}\n",
        "\n",
        "###Human: replace chair into sofa at the left side\n",
        "###Assistant:{\"part\": \"left\", \"source object\": [\"chair\"], \"target object\": [\"sofa\"]}\n",
        "\n",
        "###Human: replace sofa and shelf into chair and picture at the right side in the room\n",
        "###Assistant:'''\n",
        "\n",
        "print(\"\\n\\n*** Generate:\")\n",
        "\n",
        "input_ids = tokenizer(prompt_template, return_tensors='pt').input_ids.cuda()\n",
        "output = model.generate(inputs=input_ids, temperature=0.7, max_new_tokens=512)\n",
        "print(tokenizer.decode(output[0], skip_special_tokens=True)[len(prompt_template):])"
      ],
      "metadata": {
        "id": "3XIXCSPQq3cJ"
      },
      "execution_count": null,
      "outputs": []
    }
  ]
}