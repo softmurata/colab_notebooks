{
  "nbformat": 4,
  "nbformat_minor": 0,
  "metadata": {
    "colab": {
      "provenance": [],
      "gpuType": "T4",
      "authorship_tag": "ABX9TyMgsZ8Q2oqSSWpNTt5Wof07",
      "include_colab_link": true
    },
    "kernelspec": {
      "name": "python3",
      "display_name": "Python 3"
    },
    "language_info": {
      "name": "python"
    },
    "accelerator": "GPU"
  },
  "cells": [
    {
      "cell_type": "markdown",
      "metadata": {
        "id": "view-in-github",
        "colab_type": "text"
      },
      "source": [
        "<a href=\"https://colab.research.google.com/github/softmurata/colab_notebooks/blob/main/llm/opencalm7b_8bit.ipynb\" target=\"_parent\"><img src=\"https://colab.research.google.com/assets/colab-badge.svg\" alt=\"Open In Colab\"/></a>"
      ]
    },
    {
      "cell_type": "markdown",
      "source": [
        "Installation"
      ],
      "metadata": {
        "id": "Uzpq06e9Ixp4"
      }
    },
    {
      "cell_type": "code",
      "execution_count": null,
      "metadata": {
        "id": "AvCftOQUIpkz"
      },
      "outputs": [],
      "source": [
        "!pip install -q -U bitsandbytes\n",
        "!pip install -q -U git+https://github.com/huggingface/transformers.git\n",
        "!pip install -q -U git+https://github.com/huggingface/accelerate.git"
      ]
    },
    {
      "cell_type": "markdown",
      "source": [
        "Load model"
      ],
      "metadata": {
        "id": "WPHsTAutJevv"
      }
    },
    {
      "cell_type": "code",
      "source": [
        "import torch\n",
        "from transformers import AutoTokenizer, AutoModelForCausalLM\n",
        "\n",
        "MODEL_ID = \"kyo-takano/open-calm-7b-8bit\"\n",
        "model = AutoModelForCausalLM.from_pretrained(MODEL_ID)\n",
        "tokenizer = AutoTokenizer.from_pretrained(MODEL_ID)"
      ],
      "metadata": {
        "id": "Oq9xF3H5I4pA"
      },
      "execution_count": null,
      "outputs": []
    },
    {
      "cell_type": "code",
      "source": [
        "inputs = tokenizer(\"最新のAI技術は、\", return_tensors=\"pt\").to(model.device)\n",
        "with torch.no_grad():\n",
        "    tokens = model.generate(\n",
        "        **inputs,\n",
        "        max_new_tokens=256,\n",
        "        do_sample=True,\n",
        "        temperature=0.7,\n",
        "        top_p=0.9,\n",
        "        repetition_penalty=1.05,\n",
        "        pad_token_id=tokenizer.pad_token_id,\n",
        "    )\n",
        "    \n",
        "output = tokenizer.decode(tokens[0], skip_special_tokens=True)\n",
        "print(output)"
      ],
      "metadata": {
        "colab": {
          "base_uri": "https://localhost:8080/"
        },
        "id": "S4rDJM9xI7sU",
        "outputId": "7f5217b6-9ba2-4c45-9318-aaeca7f230b3"
      },
      "execution_count": 4,
      "outputs": [
        {
          "output_type": "stream",
          "name": "stdout",
          "text": [
            "最新のAI技術は、今までよりもはるかに多くの情報を抽出し、これまで以上に正確で迅速に結果を出すことを可能にしています。しかし、すべての人間の行動パターンを分析する自動化が人間の仕事を奪うという主張は、完全に的外れです。\n",
            "この考え方では、コンピューターがより高度な機械学習と深層学習を実行できるようになったため、システム全体のパフォーマンスが向上しただけになります。そして、それは私たちが「考える」能力を向上させるのではなく、むしろ、私たちから仕事を奪っているのです。\n",
            "人工知能は確かに生活のあらゆる側面に変化をもたらしていますが、実際に何をしているのかを理解するには、もっと基本的なレベルまで掘り下げる必要があります。たとえば、GoogleやIBMなどの企業は、アルゴリズムをさまざまな分野に適用しています。彼らの機械学習システムは、多くの場合、自動車のブレーキを自動的に調整するために使用されます。また、小売店のレジ係の代わりに、スマートショッピングカートが買い物客を追跡します。これらはほんの一例ですが、これらの企業が取り組んでいることはどれも、人間の考え方で機能するものばかりです。つまり、私たちの経済や社会に影響を及ぼすような問題を解決しようとしているということです。一方、スタートアップ企業や非テクノロジー企業の多くは、私たちにメリットがある方法で機械を活用する方法を見つけようとしています。これは、人々が仕事をしながら新しいアイデアを生み出すのを助けるだけでなく、人々をより効率的に管理するのにも役立ちます。\n"
          ]
        }
      ]
    },
    {
      "cell_type": "code",
      "source": [
        "inputs = tokenizer(\"Q:日本で一番有名なアニメは？\\n A:\", return_tensors=\"pt\").to(model.device)\n",
        "with torch.no_grad():\n",
        "    tokens = model.generate(\n",
        "        **inputs,\n",
        "        max_new_tokens=256,\n",
        "        do_sample=True,\n",
        "        temperature=0.7,\n",
        "        top_p=0.9,\n",
        "        repetition_penalty=1.05,\n",
        "        pad_token_id=tokenizer.pad_token_id,\n",
        "    )\n",
        "    \n",
        "output = tokenizer.decode(tokens[0], skip_special_tokens=True)\n",
        "print(output)"
      ],
      "metadata": {
        "colab": {
          "base_uri": "https://localhost:8080/"
        },
        "id": "KN89oqelKsKM",
        "outputId": "73247199-916f-4e2d-ba28-bcf335d7cd16"
      },
      "execution_count": 5,
      "outputs": [
        {
          "output_type": "stream",
          "name": "stdout",
          "text": [
            "Q:日本で一番有名なアニメは?\n",
            " A:ワンピース、ドラゴンボール、NARUTO。中でもワンピースは日本の代表だと思います。  (*^o^*)ノ゙-★☆アリガト♪\n"
          ]
        }
      ]
    }
  ]
}