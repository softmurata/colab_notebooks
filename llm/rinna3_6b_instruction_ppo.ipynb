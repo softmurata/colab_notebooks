{
  "nbformat": 4,
  "nbformat_minor": 0,
  "metadata": {
    "colab": {
      "provenance": [],
      "gpuType": "T4",
      "authorship_tag": "ABX9TyPkR/hE911opeuC6ynYIAoa",
      "include_colab_link": true
    },
    "kernelspec": {
      "name": "python3",
      "display_name": "Python 3"
    },
    "language_info": {
      "name": "python"
    },
    "accelerator": "GPU"
  },
  "cells": [
    {
      "cell_type": "markdown",
      "metadata": {
        "id": "view-in-github",
        "colab_type": "text"
      },
      "source": [
        "<a href=\"https://colab.research.google.com/github/softmurata/colab_notebooks/blob/main/llm/rinna3_6b_instruction_ppo.ipynb\" target=\"_parent\"><img src=\"https://colab.research.google.com/assets/colab-badge.svg\" alt=\"Open In Colab\"/></a>"
      ]
    },
    {
      "cell_type": "markdown",
      "source": [
        "Installation"
      ],
      "metadata": {
        "id": "d4cMk1igX4_O"
      }
    },
    {
      "cell_type": "code",
      "execution_count": null,
      "metadata": {
        "id": "7hjYRkGuVlXz"
      },
      "outputs": [],
      "source": [
        "!pip install transformers accelerate bitsandbytes sentencepiece"
      ]
    },
    {
      "cell_type": "markdown",
      "source": [
        "Load model"
      ],
      "metadata": {
        "id": "XapwBXpnX88w"
      }
    },
    {
      "cell_type": "code",
      "source": [
        "import torch\n",
        "from transformers import AutoModelForCausalLM, AutoTokenizer\n",
        "\n",
        "model_name = \"rinna/japanese-gpt-neox-3.6b-instruction-ppo\"\n",
        "tokenizer = AutoTokenizer.from_pretrained(model_name, use_fast=False)\n",
        "model = AutoModelForCausalLM.from_pretrained(\n",
        "    model_name,\n",
        "    device_map={\"\": 0},\n",
        "    # load_in_4bit=True,\n",
        "    load_in_8bit=True,\n",
        "    # torch_dtype=torch.float16,\n",
        ")"
      ],
      "metadata": {
        "id": "bhGyRtCGVvUg"
      },
      "execution_count": null,
      "outputs": []
    },
    {
      "cell_type": "code",
      "source": [
        "last_prompt = \"\"\n",
        "while True:\n",
        "\n",
        "    user_input = input(\"ユーザー: \")\n",
        "    if user_input == \"\":\n",
        "        break\n",
        "\n",
        "    prompt = last_prompt + \"<NL>ユーザー: \" + user_input + \"<NL>システム: \"\n",
        "    token_ids = tokenizer.encode(\n",
        "        prompt, add_special_tokens=False, return_tensors=\"pt\")\n",
        "\n",
        "    with torch.no_grad():\n",
        "        output_ids = model.generate(\n",
        "            token_ids.to(model.device),\n",
        "            do_sample=True,\n",
        "            max_new_tokens=128,\n",
        "            temperature=0.7,\n",
        "            repetition_penalty=1.1,\n",
        "            pad_token_id=tokenizer.pad_token_id,\n",
        "            bos_token_id=tokenizer.bos_token_id,\n",
        "            eos_token_id=tokenizer.eos_token_id\n",
        "        )\n",
        "    output = tokenizer.decode(output_ids.tolist()[0][token_ids.size(1):])\n",
        "\n",
        "    last_prompt = prompt + \"システム: \" + output\n",
        "    output = output.replace(\"<NL>\", \"\\n\")\n",
        "    output = \"りんな: \" + output.replace(\"</s>\", \"\")\n",
        "    print(output)"
      ],
      "metadata": {
        "colab": {
          "base_uri": "https://localhost:8080/"
        },
        "id": "wMEd_1fDV2kQ",
        "outputId": "ef51b73b-c733-4ebc-870b-aa7f5bff80f1"
      },
      "execution_count": 2,
      "outputs": [
        {
          "name": "stdout",
          "output_type": "stream",
          "text": [
            "ユーザー: 日本で\n",
            "りんな: 日本政府は、20年のオリンピック・パラリンピック競技大会を成功裏に開催するために重要な役割を果たしました。\n",
            "ユーザー: 重要な役割について教えて\n",
            "りんな: もちろんです。オリンピック・パラリンピック競技大会は、世界の国々が協力して世界的なスポーツイベントを開催する重要な機会です。日本オリンピック委員会や国内競技連盟など、数多くの組織によって運営されています。これらの組織には、オリンピック・パラリンピック競技大会に関連するさまざまな法律や規制があります。オリンピック・パラリンピック競技大会は、世界から訪れるアスリートや観客にとって非常に重要で印象的です。\n",
            "ユーザー: どんな選手が出たの？\n",
            "りんな: まず、アメリカのホッケーリーグでプレーする最も注目すべき選手を紹介します。1人目は、アメリカのホッケーリーグを代表するフォワードであるアイバン・モレスモです。彼は、アメリカのホッケーリーグで歴代3位の得点数を誇る優れたプレイヤーであり、ホッケーの殿堂入りも果たしています。また、彼はホッケーのアメリカ代表としても非常に重要な存在です。2人目は、カナダのホッケーリーグでプレーするセンターのダニエル・ボーダーマンです。ボーダーマンは、ホッケーのカナダ代表としても非常に重要な存在です。3人目は、スイスのホッケーリーグでプレーするゴールキーパーのマルコス・ボネーラです。ボネーラは、ホッケーのスイス\n",
            "ユーザー: サッカーでは\n",
            "りんな: サッカーでも、ホッケーと同様に優れたフォワードやミッドフィールダーが活躍しています。最も有名な選手には、ドイツのブンデスリーガでプレーするマリオ・ゲッツェと、イタリアのセリエAでプレーする長友佑都がいます。\n",
            "ユーザー: \n"
          ]
        }
      ]
    }
  ]
}