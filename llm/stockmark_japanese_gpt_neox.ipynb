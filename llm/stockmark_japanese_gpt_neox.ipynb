{
  "nbformat": 4,
  "nbformat_minor": 0,
  "metadata": {
    "colab": {
      "provenance": [],
      "gpuType": "T4",
      "authorship_tag": "ABX9TyOtmnNp1Cw/T1UUHuBbuJmP",
      "include_colab_link": true
    },
    "kernelspec": {
      "name": "python3",
      "display_name": "Python 3"
    },
    "language_info": {
      "name": "python"
    },
    "accelerator": "GPU"
  },
  "cells": [
    {
      "cell_type": "markdown",
      "metadata": {
        "id": "view-in-github",
        "colab_type": "text"
      },
      "source": [
        "<a href=\"https://colab.research.google.com/github/softmurata/colab_notebooks/blob/main/llm/stockmark_japanese_gpt_neox.ipynb\" target=\"_parent\"><img src=\"https://colab.research.google.com/assets/colab-badge.svg\" alt=\"Open In Colab\"/></a>"
      ]
    },
    {
      "cell_type": "markdown",
      "source": [
        "Installation"
      ],
      "metadata": {
        "id": "NPWNWuqjCWmb"
      }
    },
    {
      "cell_type": "code",
      "execution_count": null,
      "metadata": {
        "id": "PIUgloZxB_Hn"
      },
      "outputs": [],
      "source": [
        "!pip install -q transformers accelerate bitsandbytes sentencepiece"
      ]
    },
    {
      "cell_type": "markdown",
      "source": [
        "Load model"
      ],
      "metadata": {
        "id": "MvzN2JaTCSoA"
      }
    },
    {
      "cell_type": "code",
      "source": [
        "import torch\n",
        "from transformers import AutoModelForCausalLM, AutoTokenizer\n",
        "\n",
        "# Use torch.bfloat16 for A100 GPU and torch.flaot16 for the older generation GPUs\n",
        "torch_dtype = torch.bfloat16 if torch.cuda.is_available() and hasattr(torch.cuda, \"is_bf16_supported\") and torch.cuda.is_bf16_supported() else torch.float16\n",
        "\n",
        "model = AutoModelForCausalLM.from_pretrained(\"stockmark/gpt-neox-japanese-1.4b\", device_map=\"auto\", torch_dtype=torch_dtype)\n",
        "tokenizer = AutoTokenizer.from_pretrained(\"stockmark/gpt-neox-japanese-1.4b\")\n"
      ],
      "metadata": {
        "id": "64gJpEvfCNsI"
      },
      "execution_count": null,
      "outputs": []
    },
    {
      "cell_type": "markdown",
      "source": [
        "Inference"
      ],
      "metadata": {
        "id": "HlC7bgUoCUMQ"
      }
    },
    {
      "cell_type": "code",
      "source": [
        "inputs = tokenizer(\"株式会社ソフトバンクについて教えて\", return_tensors=\"pt\").to(model.device)\n",
        "with torch.no_grad():\n",
        "    tokens = model.generate(\n",
        "        **inputs,\n",
        "        max_new_tokens=256,\n",
        "        repetition_penalty=1.1\n",
        "    )\n",
        "\n",
        "output = tokenizer.decode(tokens[0], skip_special_tokens=True)\n",
        "print(output)"
      ],
      "metadata": {
        "id": "g912saIsCPRc"
      },
      "execution_count": null,
      "outputs": []
    }
  ]
}