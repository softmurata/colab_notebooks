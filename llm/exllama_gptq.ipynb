{
  "nbformat": 4,
  "nbformat_minor": 0,
  "metadata": {
    "colab": {
      "provenance": [],
      "gpuType": "T4",
      "authorship_tag": "ABX9TyNF7LaQ1raOZjZk/On+uJVu",
      "include_colab_link": true
    },
    "kernelspec": {
      "name": "python3",
      "display_name": "Python 3"
    },
    "language_info": {
      "name": "python"
    },
    "accelerator": "GPU"
  },
  "cells": [
    {
      "cell_type": "markdown",
      "metadata": {
        "id": "view-in-github",
        "colab_type": "text"
      },
      "source": [
        "<a href=\"https://colab.research.google.com/github/softmurata/colab_notebooks/blob/main/llm/exllama_gptq.ipynb\" target=\"_parent\"><img src=\"https://colab.research.google.com/assets/colab-badge.svg\" alt=\"Open In Colab\"/></a>"
      ]
    },
    {
      "cell_type": "markdown",
      "source": [
        "Installation"
      ],
      "metadata": {
        "id": "aFP7GiCFHcfo"
      }
    },
    {
      "cell_type": "code",
      "execution_count": null,
      "metadata": {
        "id": "qKEDFUAIHXQs"
      },
      "outputs": [],
      "source": [
        "!git clone https://github.com/oobabooga/text-generation-webui\n",
        "%cd text-generation-webui\n",
        "!pip install -r requirements.txt\n",
        "\n",
        "!pip install safetensors sentencepiece ninja\n",
        "!mkdir /content/text-generation-webui/repositories\n",
        "%cd repositories\n",
        "!git clone https://github.com/turboderp/exllama"
      ]
    },
    {
      "cell_type": "markdown",
      "source": [
        "Download model"
      ],
      "metadata": {
        "id": "OW6-mazEHqAH"
      }
    },
    {
      "cell_type": "code",
      "source": [
        "%cd /content/text-generation-webui\n",
        "!python download-model.py TheBloke/vicuna-13b-v1.3-GPTQ"
      ],
      "metadata": {
        "id": "ZqNw-4MBHmzM"
      },
      "execution_count": null,
      "outputs": []
    },
    {
      "cell_type": "markdown",
      "source": [
        "Start webUI"
      ],
      "metadata": {
        "id": "LiM5gIrGHrK1"
      }
    },
    {
      "cell_type": "code",
      "source": [
        "!python3 server.py --model TheBloke_vicuna-13b-v1.3-GPTQ --chat --share --auto-devices --loader exllama"
      ],
      "metadata": {
        "id": "EjJf1aeRHosR"
      },
      "execution_count": null,
      "outputs": []
    }
  ]
}