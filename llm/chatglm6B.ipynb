{
  "nbformat": 4,
  "nbformat_minor": 0,
  "metadata": {
    "colab": {
      "provenance": [],
      "gpuType": "T4",
      "authorship_tag": "ABX9TyO6s1AxdO2TjmuiFcMl+TPn",
      "include_colab_link": true
    },
    "kernelspec": {
      "name": "python3",
      "display_name": "Python 3"
    },
    "language_info": {
      "name": "python"
    },
    "accelerator": "GPU"
  },
  "cells": [
    {
      "cell_type": "markdown",
      "metadata": {
        "id": "view-in-github",
        "colab_type": "text"
      },
      "source": [
        "<a href=\"https://colab.research.google.com/github/softmurata/colab_notebooks/blob/main/llm/chatglm6B.ipynb\" target=\"_parent\"><img src=\"https://colab.research.google.com/assets/colab-badge.svg\" alt=\"Open In Colab\"/></a>"
      ]
    },
    {
      "cell_type": "markdown",
      "source": [
        "Installation"
      ],
      "metadata": {
        "id": "ihJa6xVmEW8y"
      }
    },
    {
      "cell_type": "code",
      "execution_count": null,
      "metadata": {
        "id": "f012UJq-AEgY"
      },
      "outputs": [],
      "source": [
        "# !pip install -q protobuf==3.20.0 transformers==4.27.1 icetk cpm_kernels\n",
        "!pip install -q transformers==4.27.1 icetk cpm_kernels protobuf==3.20.3"
      ]
    },
    {
      "cell_type": "markdown",
      "source": [
        "Load model"
      ],
      "metadata": {
        "id": "7XsZw5REEY0i"
      }
    },
    {
      "cell_type": "code",
      "source": [
        "from transformers import AutoTokenizer, AutoModel\n",
        "tokenizer = AutoTokenizer.from_pretrained(\"THUDM/chatglm-6b\", trust_remote_code=True)\n",
        "# model = AutoModel.from_pretrained(\"THUDM/chatglm-6b\", trust_remote_code=True).half().cuda()\n",
        "model = AutoModel.from_pretrained(\"THUDM/chatglm-6b-int4\", trust_remote_code=True).half().cuda()"
      ],
      "metadata": {
        "id": "v1E5Qs91AQWU"
      },
      "execution_count": null,
      "outputs": []
    },
    {
      "cell_type": "markdown",
      "source": [
        "Inference"
      ],
      "metadata": {
        "id": "YEmyWXpqEaBG"
      }
    },
    {
      "cell_type": "code",
      "source": [
        "prompt = \"告诉我有关人工智能的事\"\n",
        "response, history = model.chat(tokenizer, prompt, history=[])\n",
        "print(response)"
      ],
      "metadata": {
        "id": "_uNHwj-YAZah"
      },
      "execution_count": null,
      "outputs": []
    }
  ]
}