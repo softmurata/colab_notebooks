{
  "nbformat": 4,
  "nbformat_minor": 0,
  "metadata": {
    "colab": {
      "provenance": [],
      "gpuType": "T4",
      "authorship_tag": "ABX9TyPcR8dGb5QOUoa3qbthuhk0",
      "include_colab_link": true
    },
    "kernelspec": {
      "name": "python3",
      "display_name": "Python 3"
    },
    "language_info": {
      "name": "python"
    },
    "accelerator": "GPU"
  },
  "cells": [
    {
      "cell_type": "markdown",
      "metadata": {
        "id": "view-in-github",
        "colab_type": "text"
      },
      "source": [
        "<a href=\"https://colab.research.google.com/github/softmurata/colab_notebooks/blob/main/llm/baichuan7b.ipynb\" target=\"_parent\"><img src=\"https://colab.research.google.com/assets/colab-badge.svg\" alt=\"Open In Colab\"/></a>"
      ]
    },
    {
      "cell_type": "code",
      "execution_count": null,
      "metadata": {
        "id": "64INsENXydE3"
      },
      "outputs": [],
      "source": [
        "!pip uninstall -y auto-gptq\n",
        "!git clone -b Baichuan https://github.com/LaaZa/AutoGPTQ baichuan_AutoGPTQ\n",
        "%cd baichuan_AutoGPTQ\n",
        "!GITHUB_ACTIONS=true pip install .\n",
        "!pip install sentencepiece"
      ]
    },
    {
      "cell_type": "code",
      "source": [
        "from transformers import AutoTokenizer\n",
        "from auto_gptq import AutoGPTQForCausalLM\n",
        "\n",
        "model_name_or_path = \"TheBloke/baichuan-7B-GPTQ\"\n",
        "\n",
        "tokenizer = AutoTokenizer.from_pretrained(model_name_or_path, trust_remote_code=True)\n",
        "\n",
        "model = AutoGPTQForCausalLM.from_quantized(model_name_or_path,\n",
        "        use_safetensors=True,\n",
        "        device_map=\"auto\",\n",
        "        trust_remote_code=True)"
      ],
      "metadata": {
        "id": "-L1U497PylrR"
      },
      "execution_count": null,
      "outputs": []
    },
    {
      "cell_type": "code",
      "source": [
        "# This is the example from the Baichuan README\n",
        "inputs = tokenizer('Hamlet->Shakespeare\\nOne Hundred Years of Solitude->', return_tensors='pt')\n",
        "inputs = inputs.to('cuda:0')\n",
        "pred = model.generate(**inputs, max_new_tokens=64,repetition_penalty=1.1)\n",
        "print(tokenizer.decode(pred.cpu()[0], skip_special_tokens=True))"
      ],
      "metadata": {
        "id": "RxOJtiRiytY-"
      },
      "execution_count": null,
      "outputs": []
    },
    {
      "cell_type": "code",
      "source": [
        "# write presentation\n",
        "prompt = \"USER:Please write presentation about the latest AI.\\nASSISTANT:\"\n",
        "inputs = tokenizer(prompt, return_tensors='pt')\n",
        "inputs = inputs.to('cuda:0')\n",
        "pred = model.generate(**inputs, max_new_tokens=512,repetition_penalty=1.1)\n",
        "print(tokenizer.decode(pred.cpu()[0], skip_special_tokens=True))"
      ],
      "metadata": {
        "id": "66McalE5yuA0"
      },
      "execution_count": null,
      "outputs": []
    },
    {
      "cell_type": "code",
      "source": [
        "# text conversion\n",
        "prompt = \"\"\"You act as a prompt convertor. Please do the prompt conversion like the following examples.\n",
        "\n",
        "Prompt: a blue chair, european style\n",
        "Output: {\"color\": \"blue\", \"object\": \"chair\", \"style\": \"european\" }\n",
        "\n",
        "Prompt: a red great couch, narutal style\n",
        "Output: {\"color\": \"red\", \"object\": \"great couch\", \"style\": \"natural\" }\n",
        "\n",
        "Prompt: a green wide table, british style\n",
        "Output: \"\"\"\n",
        "inputs = tokenizer(prompt, return_tensors='pt')\n",
        "inputs = inputs.to('cuda:0')\n",
        "pred = model.generate(**inputs, max_new_tokens=512,repetition_penalty=1.1)\n",
        "print(tokenizer.decode(pred.cpu()[0], skip_special_tokens=True))"
      ],
      "metadata": {
        "id": "byGU38hs7NNr"
      },
      "execution_count": null,
      "outputs": []
    },
    {
      "cell_type": "code",
      "source": [
        "# japanese\n",
        "prompt = \"USER: 日本で一番有名な山について教えて\\n ASSISTANT:\"\n",
        "inputs = tokenizer(prompt, return_tensors='pt')\n",
        "inputs = inputs.to('cuda:0')\n",
        "pred = model.generate(**inputs, max_new_tokens=512,repetition_penalty=1.1)\n",
        "print(tokenizer.decode(pred.cpu()[0], skip_special_tokens=True))"
      ],
      "metadata": {
        "id": "SB0Od3qE89AL"
      },
      "execution_count": null,
      "outputs": []
    }
  ]
}