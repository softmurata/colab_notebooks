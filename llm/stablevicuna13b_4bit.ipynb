{
  "nbformat": 4,
  "nbformat_minor": 0,
  "metadata": {
    "colab": {
      "provenance": [],
      "gpuType": "T4",
      "authorship_tag": "ABX9TyMo8haa3UcYI3L9fkw1Vcbd",
      "include_colab_link": true
    },
    "kernelspec": {
      "name": "python3",
      "display_name": "Python 3"
    },
    "language_info": {
      "name": "python"
    },
    "accelerator": "GPU",
    "gpuClass": "standard"
  },
  "cells": [
    {
      "cell_type": "markdown",
      "metadata": {
        "id": "view-in-github",
        "colab_type": "text"
      },
      "source": [
        "<a href=\"https://colab.research.google.com/github/softmurata/colab_notebooks/blob/main/llm/stablevicuna13b_4bit.ipynb\" target=\"_parent\"><img src=\"https://colab.research.google.com/assets/colab-badge.svg\" alt=\"Open In Colab\"/></a>"
      ]
    },
    {
      "cell_type": "markdown",
      "source": [
        "Installation for 4bit webui"
      ],
      "metadata": {
        "id": "Bg3OHLBP2RMv"
      }
    },
    {
      "cell_type": "code",
      "execution_count": null,
      "metadata": {
        "id": "t8rnTQVu2Ksl"
      },
      "outputs": [],
      "source": [
        "!git clone https://github.com/oobabooga/text-generation-webui\n",
        "%cd text-generation-webui\n",
        "!pip install -r requirements.txt\n",
        "!git clone https://github.com/oobabooga/GPTQ-for-LLaMa.git -b cuda\n",
        "%cd GPTQ-for-LLaMa\n",
        "!python setup_cuda.py install\n",
        "!cp -r /content/text-generation-webui/GPTQ-for-LLaMa/* /content/text-generation-webui/"
      ]
    },
    {
      "cell_type": "markdown",
      "source": [
        "Stable Vicuna 13B setup"
      ],
      "metadata": {
        "id": "2gz_lMJ_2T-s"
      }
    },
    {
      "cell_type": "code",
      "source": [
        "# download model\n",
        "%cd /content/text-generation-webui\n",
        "!python download-model.py TheBloke/stable-vicuna-13B-GPTQ"
      ],
      "metadata": {
        "id": "7TpnlbNt2V5y"
      },
      "execution_count": null,
      "outputs": []
    },
    {
      "cell_type": "code",
      "source": [
        "# setup webui\n",
        "%cd /content/text-generation-webui\n",
        "# !python3 server.py --model anon8231489123_vicuna-13b-GPTQ-4bit-128g --wbits 4 --group 128 --chat --share --auto-devices  --model_type=llama\n",
        "!python3 server.py --model TheBloke_stable-vicuna-13B-GPTQ --wbits 4 --group 128 --chat --share --auto-devices  --model_type=llama"
      ],
      "metadata": {
        "id": "bFYMHKHE2X_u"
      },
      "execution_count": null,
      "outputs": []
    }
  ]
}