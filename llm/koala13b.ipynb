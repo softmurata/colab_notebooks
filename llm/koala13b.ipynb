{
  "nbformat": 4,
  "nbformat_minor": 0,
  "metadata": {
    "colab": {
      "provenance": [],
      "authorship_tag": "ABX9TyOgFjLHoO6sc+URgb8dIXYw",
      "include_colab_link": true
    },
    "kernelspec": {
      "name": "python3",
      "display_name": "Python 3"
    },
    "language_info": {
      "name": "python"
    }
  },
  "cells": [
    {
      "cell_type": "markdown",
      "metadata": {
        "id": "view-in-github",
        "colab_type": "text"
      },
      "source": [
        "<a href=\"https://colab.research.google.com/github/softmurata/colab_notebooks/blob/main/llm/koala13b.ipynb\" target=\"_parent\"><img src=\"https://colab.research.google.com/assets/colab-badge.svg\" alt=\"Open In Colab\"/></a>"
      ]
    },
    {
      "cell_type": "markdown",
      "source": [
        "Installation"
      ],
      "metadata": {
        "id": "4v_w2Eca-7Nh"
      }
    },
    {
      "cell_type": "code",
      "execution_count": null,
      "metadata": {
        "id": "5wOyh1X--13w"
      },
      "outputs": [],
      "source": [
        "!git clone https://github.com/oobabooga/text-generation-webui\n",
        "%cd text-generation-webui\n",
        "!pip install -r requirements.txt\n",
        "!git clone https://github.com/oobabooga/GPTQ-for-LLaMa.git -b cuda\n",
        "%cd GPTQ-for-LLaMa\n",
        "!python setup_cuda.py install\n",
        "!cp -r /content/text-generation-webui/GPTQ-for-LLaMa/* /content/text-generation-webui/"
      ]
    },
    {
      "cell_type": "markdown",
      "source": [
        "Inference"
      ],
      "metadata": {
        "id": "2B8-jWzw-83e"
      }
    },
    {
      "cell_type": "code",
      "source": [
        "%cd /content/text-generation-webui\n",
        "!python download-model.py TheBloke/koala-13B-GPTQ-4bit-128g # 4bit/koala-13B-GPTQ-4bit-128g"
      ],
      "metadata": {
        "id": "41--v0wo-_W2"
      },
      "execution_count": null,
      "outputs": []
    },
    {
      "cell_type": "code",
      "source": [
        "%cd /content/text-generation-webui\n",
        "# !python3 server.py --model 4bit_koala-13B-GPTQ-4bit-128g --wbits 4 --group 128 --chat --share --auto-devices  --model_type=llama\n",
        "!python3 server.py --model TheBloke_koala-13B-GPTQ-4bit-128g --wbits 4 --group 128 --chat --share --auto-devices  --model_type=llama"
      ],
      "metadata": {
        "id": "etPxVWH3_BYy"
      },
      "execution_count": null,
      "outputs": []
    }
  ]
}