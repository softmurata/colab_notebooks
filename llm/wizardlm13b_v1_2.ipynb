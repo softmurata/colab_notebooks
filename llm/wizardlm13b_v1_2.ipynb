{
  "nbformat": 4,
  "nbformat_minor": 0,
  "metadata": {
    "colab": {
      "provenance": [],
      "gpuType": "T4",
      "authorship_tag": "ABX9TyODSspGa1eqKopUjEvWQ45p",
      "include_colab_link": true
    },
    "kernelspec": {
      "name": "python3",
      "display_name": "Python 3"
    },
    "language_info": {
      "name": "python"
    },
    "accelerator": "GPU"
  },
  "cells": [
    {
      "cell_type": "markdown",
      "metadata": {
        "id": "view-in-github",
        "colab_type": "text"
      },
      "source": [
        "<a href=\"https://colab.research.google.com/github/softmurata/colab_notebooks/blob/main/llm/wizardlm13b_v1_2.ipynb\" target=\"_parent\"><img src=\"https://colab.research.google.com/assets/colab-badge.svg\" alt=\"Open In Colab\"/></a>"
      ]
    },
    {
      "cell_type": "markdown",
      "source": [
        "Installation"
      ],
      "metadata": {
        "id": "ptP-ZvaVr1DM"
      }
    },
    {
      "cell_type": "code",
      "execution_count": null,
      "metadata": {
        "id": "f5qOCIQcmKZ_"
      },
      "outputs": [],
      "source": [
        "!pip install auto-gptq"
      ]
    },
    {
      "cell_type": "markdown",
      "source": [
        "Load model"
      ],
      "metadata": {
        "id": "Uv_TJN59r2J-"
      }
    },
    {
      "cell_type": "code",
      "source": [
        "from transformers import AutoTokenizer, pipeline, logging\n",
        "from auto_gptq import AutoGPTQForCausalLM, BaseQuantizeConfig\n",
        "\n",
        "model_name_or_path = \"TheBloke/WizardLM-13B-V1.2-GPTQ\"\n",
        "model_basename = \"gptq_model-4bit-128g\"\n",
        "\n",
        "use_triton = False\n",
        "\n",
        "tokenizer = AutoTokenizer.from_pretrained(model_name_or_path, use_fast=True)\n",
        "\n",
        "model = AutoGPTQForCausalLM.from_quantized(model_name_or_path,\n",
        "        model_basename=model_basename,\n",
        "        use_safetensors=True,\n",
        "        trust_remote_code=False,\n",
        "        device=\"cuda:0\",\n",
        "        use_triton=use_triton,\n",
        "        quantize_config=None)"
      ],
      "metadata": {
        "id": "gdFyR16tmZXr"
      },
      "execution_count": null,
      "outputs": []
    },
    {
      "cell_type": "markdown",
      "source": [
        "Inference"
      ],
      "metadata": {
        "id": "BhJWVGWzr3I_"
      }
    },
    {
      "cell_type": "code",
      "source": [
        "prompt = \"日本語でAIに関するプレゼンテーションを書いてほしい\"\n",
        "prompt_template=f'''A chat between a curious user and an artificial intelligence assistant. The assistant gives helpful, detailed, and polite answers to the user's questions.\n",
        "\n",
        "USER: {prompt}\n",
        "ASSISTANT:\n",
        "'''\n",
        "\n",
        "print(\"\\n\\n*** Generate:\")\n",
        "\n",
        "input_ids = tokenizer(prompt_template, return_tensors='pt').input_ids.cuda()\n",
        "output = model.generate(inputs=input_ids, temperature=0.7, max_new_tokens=512)\n",
        "print(tokenizer.decode(output[0], skip_special_tokens=True)[len(prompt_template):])"
      ],
      "metadata": {
        "id": "k2JReFEHm72z"
      },
      "execution_count": null,
      "outputs": []
    },
    {
      "cell_type": "code",
      "source": [
        "prompt_template = \"\"\"You act as a prompt generator. Please do the classification task like the following examples.\n",
        "\n",
        "Prompt: replace chair into sofa at the left side\n",
        "Output: {\"part\": \"left\", \"source object\": [\"chair\"], \"target object\": [\"sofa\"]}\n",
        "\n",
        "Prompt: change wooden table into white table in the right part\n",
        "Output: {\"part\": \"right\", \"source object\": [\"wooden table\"], \"target object\": [\"white table\"]}\n",
        "\n",
        "Prompt: replace blue chair and red sofa into yellow table and green chair at the bottom\n",
        "Output: {\"part\": \"bottom\", \"source object\": [\"blue chair\", \"red sofa\"], \"target object\": [\"yellow table\", \"green chair\"]}\n",
        "\n",
        "Prompt: replace sofa and shelf into chair and picture at the right side in the room\n",
        "Output:\"\"\"\n",
        "\n",
        "print(\"\\n\\n*** Generate:\")\n",
        "\n",
        "input_ids = tokenizer(prompt_template, return_tensors='pt').input_ids.cuda()\n",
        "output = model.generate(inputs=input_ids, temperature=0.7, max_new_tokens=512)\n",
        "print(tokenizer.decode(output[0], skip_special_tokens=True)[len(prompt_template):])\n"
      ],
      "metadata": {
        "id": "Ts7VkgUXtR56"
      },
      "execution_count": null,
      "outputs": []
    }
  ]
}