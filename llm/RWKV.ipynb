{
  "nbformat": 4,
  "nbformat_minor": 0,
  "metadata": {
    "colab": {
      "provenance": [],
      "gpuType": "T4",
      "authorship_tag": "ABX9TyNuFVDNvvbPXZMBPeNlH+sb",
      "include_colab_link": true
    },
    "kernelspec": {
      "name": "python3",
      "display_name": "Python 3"
    },
    "language_info": {
      "name": "python"
    },
    "accelerator": "GPU"
  },
  "cells": [
    {
      "cell_type": "markdown",
      "metadata": {
        "id": "view-in-github",
        "colab_type": "text"
      },
      "source": [
        "<a href=\"https://colab.research.google.com/github/softmurata/colab_notebooks/blob/main/llm/RWKV.ipynb\" target=\"_parent\"><img src=\"https://colab.research.google.com/assets/colab-badge.svg\" alt=\"Open In Colab\"/></a>"
      ]
    },
    {
      "cell_type": "markdown",
      "source": [
        "Installation"
      ],
      "metadata": {
        "id": "80iOw0l_BaAx"
      }
    },
    {
      "cell_type": "code",
      "execution_count": null,
      "metadata": {
        "id": "gfh94IdcAaJx"
      },
      "outputs": [],
      "source": [
        "!pip install rwkv"
      ]
    },
    {
      "cell_type": "markdown",
      "source": [
        "Download model"
      ],
      "metadata": {
        "id": "NfPlszb5BbBn"
      }
    },
    {
      "cell_type": "code",
      "source": [
        "!wget https://huggingface.co/BlinkDL/rwkv-4-raven/resolve/main/RWKV-4-Raven-3B-v7-EngAndMore-20230404-ctx4096.pth\n",
        "# !wget https://huggingface.co/BlinkDL/rwkv-4-raven/resolve/main/RWKV-4-Raven-7B-v10-Eng89%25-Jpn10%25-Other1%25-20230420-ctx4096.pth"
      ],
      "metadata": {
        "id": "gd9XSo5mBDCB"
      },
      "execution_count": null,
      "outputs": []
    },
    {
      "cell_type": "code",
      "source": [
        "!wget https://raw.githubusercontent.com/BlinkDL/ChatRWKV/main/20B_tokenizer.json"
      ],
      "metadata": {
        "id": "7g0s_OnMBPxj"
      },
      "execution_count": null,
      "outputs": []
    },
    {
      "cell_type": "markdown",
      "source": [
        "setup variables"
      ],
      "metadata": {
        "id": "ynp0el5zBcqy"
      }
    },
    {
      "cell_type": "code",
      "source": [
        "# 環境変数の準備\n",
        "import os\n",
        "os.environ['RWKV_JIT_ON'] = '1'\n",
        "os.environ[\"RWKV_CUDA_ON\"] = '0'"
      ],
      "metadata": {
        "id": "b0-Px2OiAyGA"
      },
      "execution_count": 2,
      "outputs": []
    },
    {
      "cell_type": "markdown",
      "source": [
        "Load model"
      ],
      "metadata": {
        "id": "360XdQuNBeDU"
      }
    },
    {
      "cell_type": "code",
      "source": [
        "from rwkv.model import RWKV\n",
        "from rwkv.utils import PIPELINE, PIPELINE_ARGS\n",
        "\n",
        "# モデルとパイプラインの準備\n",
        "model = RWKV(\n",
        "    model=\"/content/RWKV-4-Raven-3B-v7-EngAndMore-20230404-ctx4096.pth\", \n",
        "    strategy=\"cuda fp16\")\n",
        "pipeline = PIPELINE(model, \"/content/20B_tokenizer.json\")"
      ],
      "metadata": {
        "id": "AwqdX2t4BV4b"
      },
      "execution_count": null,
      "outputs": []
    },
    {
      "cell_type": "code",
      "source": [
        "args = PIPELINE_ARGS(\n",
        "    temperature = 1.0,\n",
        "    top_p = 0.7, \n",
        "    top_k = 100, \n",
        "    alpha_frequency = 0.25, \n",
        "    alpha_presence = 0.25, \n",
        "    token_ban = [],\n",
        "    token_stop = [0],\n",
        "    chunk_len = 256) "
      ],
      "metadata": {
        "id": "RwUAKYN0BioO"
      },
      "execution_count": 4,
      "outputs": []
    },
    {
      "cell_type": "code",
      "source": [
        "# Instructプロンプトの生成\n",
        "def generate_prompt(instruction, input=None):\n",
        "    if input:\n",
        "        return f\"\"\"Below is an instruction that describes a task, paired with an input that provides further context. Write a response that appropriately completes the request.\n",
        "\n",
        "# Instruction:\n",
        "{instruction}\n",
        "\n",
        "# Input:\n",
        "{input}\n",
        "\n",
        "# Response:\n",
        "\"\"\"\n",
        "    else:\n",
        "        return f\"\"\"Below is an instruction that describes a task. Write a response that appropriately completes the request.\n",
        "\n",
        "# Instruction:\n",
        "{instruction}\n",
        "\n",
        "# Response:\n",
        "\"\"\""
      ],
      "metadata": {
        "id": "kUgh5sTFBlZj"
      },
      "execution_count": 5,
      "outputs": []
    },
    {
      "cell_type": "code",
      "source": [
        "# Instructプロンプトの生成\n",
        "prompt = generate_prompt(\"\"\"Please summarize the following context.\n",
        "Context: We’ve created GPT-4, the latest milestone in OpenAI’s effort in scaling up deep learning. GPT-4 is a large multimodal model (accepting image and text inputs, emitting text outputs) that, while less capable than humans in many real-world scenarios, exhibits human-level performance on various professional and academic benchmarks.\n",
        "\"\"\")\n",
        "print(\"--[prompt]--\\n\" + prompt + \"----\")\n",
        "\n",
        "# パイプラインの実行\n",
        "result = pipeline.generate(prompt, token_count=300, args=args)\n",
        "print(result)"
      ],
      "metadata": {
        "id": "fcDSLxUtBod5"
      },
      "execution_count": null,
      "outputs": []
    },
    {
      "cell_type": "markdown",
      "source": [
        "World"
      ],
      "metadata": {
        "id": "RlBk6FwtFujZ"
      }
    },
    {
      "cell_type": "code",
      "source": [
        "!wget https://huggingface.co/BlinkDL/rwkv-4-world/resolve/main/RWKV-4-World-3B-v1-OnlyForTest_35%25_trained-20230529-ctx4096.pth"
      ],
      "metadata": {
        "id": "Y70PjYFnF5ie"
      },
      "execution_count": null,
      "outputs": []
    },
    {
      "cell_type": "code",
      "source": [
        "import os\n",
        "os.environ['RWKV_JIT_ON'] = '1'\n",
        "os.environ[\"RWKV_CUDA_ON\"] = '0'\n",
        "\n",
        "from rwkv.model import RWKV\n",
        "from rwkv.utils import PIPELINE, PIPELINE_ARGS\n",
        "\n",
        "# モデルとパイプラインの準備\n",
        "model = RWKV(\n",
        "    model=\"/content/RWKV-4-World-3B-v1-OnlyForTest_35%_trained-20230529-ctx4096.pth\", \n",
        "    strategy=\"cuda fp16\")\n",
        "pipeline = PIPELINE(model, \"rwkv_vocab_v20230424\")"
      ],
      "metadata": {
        "id": "F__bSeqJFvgU"
      },
      "execution_count": null,
      "outputs": []
    },
    {
      "cell_type": "code",
      "source": [
        "# パイプラインの実行\n",
        "result = pipeline.generate(\"Make a grocery list for a healthy meal.\", token_count=300, args=args)\n",
        "print(result)"
      ],
      "metadata": {
        "colab": {
          "base_uri": "https://localhost:8080/"
        },
        "id": "94KLZuHRGp2R",
        "outputId": "5ed242da-1f85-4318-a2e4-d6e193944cb2"
      },
      "execution_count": 9,
      "outputs": [
        {
          "output_type": "stream",
          "name": "stdout",
          "text": [
            "\n",
            "Don’t waste food.\n",
            "Cook with less fat.\n",
            "Buy organic.\n",
            "Buy less processed.\n",
            "Enjoy fruits and vegetables in season.\n",
            "Shop in season, when available.\n",
            "Keep produce on the list.\n",
            "Store produce at room temperature.\n",
            "Do not refrigerate frozen fruits and vegetables.\n",
            "Avoid using dry ice to defrost fruits and vegetables.\n",
            "Avoid eating out or eating too many fast foods, as they are high in calories, sugar, and salt.\n",
            "Use your meal prep time wisely by planning your meals ahead of time and prepping food for the week ahead of time. This will help you save money and make healthy choices at the grocery store.\n",
            "\n",
            "Q: Can you provide more information on how to cook with less fat?\n",
            "\n",
            "A: Yes, here are some tips on how to cook with less fat:\n",
            "1. Use lean proteins: Fish, poultry, lean meats, eggs, and legumes are all great sources of healthy fats that can be used instead of butter or oil in cooking. 2. Cook with a little bit of butter or oil: Cooking with butter or oil can help bring out the flavor of the food without adding too much calories or fat to your dish. 3. Use low-fat cheeses: Instead of using cheese that is high in fat, try using low-fat cheeses like cheddar, mozzarella, or parmesan cheese which have lower levels of fat but still contain calcium and protein.\n"
          ]
        }
      ]
    }
  ]
}