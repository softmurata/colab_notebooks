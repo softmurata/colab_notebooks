{
  "nbformat": 4,
  "nbformat_minor": 0,
  "metadata": {
    "colab": {
      "provenance": [],
      "gpuType": "T4",
      "authorship_tag": "ABX9TyOW1yQcwNpUZh81JP6MnNTf",
      "include_colab_link": true
    },
    "kernelspec": {
      "name": "python3",
      "display_name": "Python 3"
    },
    "language_info": {
      "name": "python"
    },
    "accelerator": "GPU",
    "gpuClass": "standard"
  },
  "cells": [
    {
      "cell_type": "markdown",
      "metadata": {
        "id": "view-in-github",
        "colab_type": "text"
      },
      "source": [
        "<a href=\"https://colab.research.google.com/github/softmurata/colab_notebooks/blob/main/llm/text_generation_webui_lora.ipynb\" target=\"_parent\"><img src=\"https://colab.research.google.com/assets/colab-badge.svg\" alt=\"Open In Colab\"/></a>"
      ]
    },
    {
      "cell_type": "markdown",
      "source": [
        "Installation"
      ],
      "metadata": {
        "id": "QYERFfZ7AyBP"
      }
    },
    {
      "cell_type": "code",
      "execution_count": null,
      "metadata": {
        "id": "BBTkCTXyAhM4"
      },
      "outputs": [],
      "source": [
        "!git clone https://github.com/oobabooga/text-generation-webui\n",
        "%cd text-generation-webui\n",
        "!pip install -r requirements.txt"
      ]
    },
    {
      "cell_type": "markdown",
      "source": [
        "Download model"
      ],
      "metadata": {
        "id": "9mHL4q1gGZps"
      }
    },
    {
      "cell_type": "code",
      "source": [
        "%cd /content/text-generation-webui/\n",
        "!python download-model.py tloen/alpaca-lora-7b\n",
        "!python download-model.py decapoda-research/llama-7b-hf"
      ],
      "metadata": {
        "id": "1SkY_baVBxIT"
      },
      "execution_count": null,
      "outputs": []
    },
    {
      "cell_type": "markdown",
      "source": [
        "Start WebUI"
      ],
      "metadata": {
        "id": "6gda9K6JGazI"
      }
    },
    {
      "cell_type": "code",
      "source": [
        "%cd /content/text-generation-webui/\n",
        "!python server.py --model decapoda-research_llama-7b-hf --lora tloen_alpaca-lora-7b --auto-devices --chat --share"
      ],
      "metadata": {
        "id": "DDA9W9pZB855"
      },
      "execution_count": null,
      "outputs": []
    }
  ]
}