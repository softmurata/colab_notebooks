{
  "nbformat": 4,
  "nbformat_minor": 0,
  "metadata": {
    "colab": {
      "provenance": [],
      "gpuType": "T4",
      "authorship_tag": "ABX9TyOmCRAFU9h603ZZVrBBLZfB",
      "include_colab_link": true
    },
    "kernelspec": {
      "name": "python3",
      "display_name": "Python 3"
    },
    "language_info": {
      "name": "python"
    },
    "accelerator": "GPU",
    "gpuClass": "standard"
  },
  "cells": [
    {
      "cell_type": "markdown",
      "metadata": {
        "id": "view-in-github",
        "colab_type": "text"
      },
      "source": [
        "<a href=\"https://colab.research.google.com/github/softmurata/colab_notebooks/blob/main/llm/llmasachatbot.ipynb\" target=\"_parent\"><img src=\"https://colab.research.google.com/assets/colab-badge.svg\" alt=\"Open In Colab\"/></a>"
      ]
    },
    {
      "cell_type": "code",
      "execution_count": null,
      "metadata": {
        "id": "IbloCGik_r-0"
      },
      "outputs": [],
      "source": [
        "!git clone https://github.com/deep-diver/LLM-As-Chatbot.git\n",
        "%cd LLM-As-Chatbot\n",
        "!pip install -r requirements.txt"
      ]
    },
    {
      "cell_type": "code",
      "source": [
        "#@title Choose models\n",
        "\n",
        "base_model = 'decapoda-research/llama-13b-hf' #@param [\"decapoda-research/llama-7b-hf\", \"decapoda-research/llama-13b-hf\", \"decapoda-research/llama-30b-hf\"]\n",
        "finetuned_model = 'chansung/alpaca-lora-13b' #@param [\"tloen/alpaca-lora-7b\", \"chansung/alpaca-lora-13b\", \"chansung/koalpaca-lora-13b\", \"chansung/alpaca-lora-30b\"]"
      ],
      "metadata": {
        "id": "UO4CGsDyARXi"
      },
      "execution_count": 2,
      "outputs": []
    },
    {
      "cell_type": "markdown",
      "source": [
        "Start WebuI"
      ],
      "metadata": {
        "id": "scuQCexRAuxq"
      }
    },
    {
      "cell_type": "code",
      "source": [
        "!python app.py --base-url $base_model --ft-ckpt-url $finetuned_model --share --chat-only-mode "
      ],
      "metadata": {
        "id": "r88UBiK_AuFq"
      },
      "execution_count": null,
      "outputs": []
    },
    {
      "cell_type": "markdown",
      "source": [
        "Advanced"
      ],
      "metadata": {
        "id": "zRv4dKwmCl3y"
      }
    },
    {
      "cell_type": "code",
      "source": [
        "!git clone https://github.com/deep-diver/LLM-As-Chatbot.git\n",
        "%cd LLM-As-Chatbot\n",
        "!pip install bitsandbytes datasets loralib sentencepiece git+https://github.com/huggingface/transformers.git git+https://github.com/huggingface/peft.git gradio bingbong git+https://github.com/huggingface/optimum.git tokenizers==0.13.3 einops protobuf==3.20.*"
      ],
      "metadata": {
        "id": "0k1LMTQ9OdVB"
      },
      "execution_count": null,
      "outputs": []
    },
    {
      "cell_type": "code",
      "source": [
        "%cd /content/LLM-As-Chatbot\n",
        "BASE_URL= \"lmsys/fastchat-t5-3b-v1.0\"\n",
        "\n",
        "!python app.py --base-url $BASE_URL --share --chat-only-mode"
      ],
      "metadata": {
        "id": "0ektXfWQCnPj"
      },
      "execution_count": null,
      "outputs": []
    }
  ]
}