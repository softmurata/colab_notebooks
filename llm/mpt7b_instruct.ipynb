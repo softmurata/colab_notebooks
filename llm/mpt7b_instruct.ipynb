{
  "nbformat": 4,
  "nbformat_minor": 0,
  "metadata": {
    "colab": {
      "provenance": [],
      "gpuType": "T4",
      "authorship_tag": "ABX9TyPyjUnSANZck5HhfNbVYM9x",
      "include_colab_link": true
    },
    "kernelspec": {
      "name": "python3",
      "display_name": "Python 3"
    },
    "language_info": {
      "name": "python"
    },
    "accelerator": "GPU"
  },
  "cells": [
    {
      "cell_type": "markdown",
      "metadata": {
        "id": "view-in-github",
        "colab_type": "text"
      },
      "source": [
        "<a href=\"https://colab.research.google.com/github/softmurata/colab_notebooks/blob/main/llm/mpt7b_instruct.ipynb\" target=\"_parent\"><img src=\"https://colab.research.google.com/assets/colab-badge.svg\" alt=\"Open In Colab\"/></a>"
      ]
    },
    {
      "cell_type": "markdown",
      "source": [
        "Installation"
      ],
      "metadata": {
        "id": "YS29nXeCzi2e"
      }
    },
    {
      "cell_type": "code",
      "execution_count": null,
      "metadata": {
        "id": "hD_ztUqRuc_G"
      },
      "outputs": [],
      "source": [
        "!CT_CUBLAS=1 pip install ctransformers --no-binary ctransformers\n",
        "!pip install langchain"
      ]
    },
    {
      "cell_type": "markdown",
      "source": [
        "Download model"
      ],
      "metadata": {
        "id": "--0lul8Rzj8f"
      }
    },
    {
      "cell_type": "code",
      "source": [
        "!wget https://huggingface.co/TheBloke/MPT-7B-Instruct-GGML/resolve/main/mpt-7b-instruct.ggmlv3.q5_0.bin"
      ],
      "metadata": {
        "id": "JadljY4Evi5v"
      },
      "execution_count": null,
      "outputs": []
    },
    {
      "cell_type": "markdown",
      "source": [
        "Load model"
      ],
      "metadata": {
        "id": "W7m4gtjGzlUG"
      }
    },
    {
      "cell_type": "code",
      "source": [
        "from ctransformers.langchain import CTransformers\n",
        "llm = CTransformers(model='/content/mpt-7b-instruct.ggmlv3.q5_0.bin',\n",
        "                    model_type='mpt')"
      ],
      "metadata": {
        "id": "1UJA4o0ozoE8"
      },
      "execution_count": null,
      "outputs": []
    },
    {
      "cell_type": "markdown",
      "source": [
        "Inference"
      ],
      "metadata": {
        "id": "HlOLVKMy5YqH"
      }
    },
    {
      "cell_type": "code",
      "source": [
        "from langchain import PromptTemplate, LLMChain\n",
        "template = \"\"\"Question: {question}\n",
        "Answer:\"\"\"\n",
        "prompt = PromptTemplate(template=template, input_variables=[\"question\"])\n",
        "llm_chain = LLMChain(prompt=prompt, llm=llm)"
      ],
      "metadata": {
        "id": "7tCcrdT5v63t"
      },
      "execution_count": 6,
      "outputs": []
    },
    {
      "cell_type": "code",
      "source": [
        "response = llm_chain.run(\"What is AI?\")\n",
        "print(response)"
      ],
      "metadata": {
        "id": "8PT-P0ojwuJ4"
      },
      "execution_count": null,
      "outputs": []
    },
    {
      "cell_type": "code",
      "source": [
        "response = llm_chain.run(\"日本について教えて\")\n",
        "print(\"response:\", response)"
      ],
      "metadata": {
        "id": "FbgtIN27xI-j"
      },
      "execution_count": null,
      "outputs": []
    },
    {
      "cell_type": "markdown",
      "source": [
        "Retrieval QA"
      ],
      "metadata": {
        "id": "_dq5iH4XzU1U"
      }
    },
    {
      "cell_type": "code",
      "source": [
        "!pip install InstructorEmbedding sentence_transformers\n",
        "!pip install faiss-cpu"
      ],
      "metadata": {
        "id": "9Fg6qKZq0g1C"
      },
      "execution_count": null,
      "outputs": []
    },
    {
      "cell_type": "code",
      "source": [
        "from langchain.vectorstores import FAISS\n",
        "from ctransformers.langchain import CTransformers\n",
        "from langchain.chains import RetrievalQA\n",
        "from langchain.embeddings import HuggingFaceInstructEmbeddings\n",
        "from langchain.document_loaders import TextLoader"
      ],
      "metadata": {
        "id": "rjyiYxqdzctC"
      },
      "execution_count": 1,
      "outputs": []
    },
    {
      "cell_type": "code",
      "source": [
        "# faiss.txt\n",
        "\"\"\"\n",
        "In this article, we tried out ImageBind, a MultiModality AI toolset from MetaAI. The examples provided on their official website for Image, Audio, and Text showed impressive accuracy in classification. It is a remarkable achievement. We also attempted to use Depth data with the help of the DPT large depth estimator, but encountered some issues that need to be resolved. However, this algorithm could be widely applicable if the issues are resolved. It is a good point that MetaAI is not solely relying on LLM to solve their problems.\n",
        "\n",
        "We plan to continue posting articles on LLM, Diffusion model, Image Analysis, and 3D in the future, so please stay tuned for more.\n",
        "\"\"\""
      ],
      "metadata": {
        "id": "CGlj89yxzxd4"
      },
      "execution_count": null,
      "outputs": []
    },
    {
      "cell_type": "code",
      "source": [
        "llm = CTransformers(model='/content/mpt-7b-instruct.ggmlv3.q5_0.bin',\n",
        "                    model_type='mpt')\n",
        "instructor_embeddings = HuggingFaceInstructEmbeddings(model_name=\"sentence-transformers/all-MiniLM-L6-v2\",\n",
        "                                                      model_kwargs={\"device\": \"cpu\"})\n",
        "\n",
        "# ドキュメントの読み込み\n",
        "loader = TextLoader(\"/content/faiss.txt\")\n",
        "documents = loader.load()\n",
        "\n",
        "db = FAISS.from_documents(documents, instructor_embeddings)\n",
        "# db = FAISS.load_local(\"faiss_index\", instructor_embeddings)\n",
        "retriever = db.as_retriever(search_kwargs={\"k\": 1})\n",
        "\n",
        "qa_chain = RetrievalQA.from_chain_type(llm=llm,\n",
        "                                  chain_type=\"stuff\",\n",
        "                                  retriever=retriever)"
      ],
      "metadata": {
        "id": "N_FyeO4WzXJO"
      },
      "execution_count": null,
      "outputs": []
    },
    {
      "cell_type": "code",
      "source": [
        "qa_chain.run(\"What is ImageBind？\")"
      ],
      "metadata": {
        "id": "MH5PRERZ0E3v"
      },
      "execution_count": null,
      "outputs": []
    }
  ]
}