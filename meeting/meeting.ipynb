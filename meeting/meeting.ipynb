{
  "nbformat": 4,
  "nbformat_minor": 0,
  "metadata": {
    "colab": {
      "provenance": [],
      "authorship_tag": "ABX9TyP0a87hH9zwUtskD62lOE8F",
      "include_colab_link": true
    },
    "kernelspec": {
      "name": "python3",
      "display_name": "Python 3"
    },
    "language_info": {
      "name": "python"
    },
    "accelerator": "GPU",
    "gpuClass": "standard",
    "widgets": {
      "application/vnd.jupyter.widget-state+json": {
        "baf21554d4cd4638b4d932a429b796c3": {
          "model_module": "@jupyter-widgets/controls",
          "model_name": "HBoxModel",
          "model_module_version": "1.5.0",
          "state": {
            "_dom_classes": [],
            "_model_module": "@jupyter-widgets/controls",
            "_model_module_version": "1.5.0",
            "_model_name": "HBoxModel",
            "_view_count": null,
            "_view_module": "@jupyter-widgets/controls",
            "_view_module_version": "1.5.0",
            "_view_name": "HBoxView",
            "box_style": "",
            "children": [
              "IPY_MODEL_6ed8caf1da8946d78c9954966ad6c680",
              "IPY_MODEL_a8c0a5ca1c6e4d53a13761e658845adc",
              "IPY_MODEL_11c7591d73d14d0a950819cd9053d3aa"
            ],
            "layout": "IPY_MODEL_b62e9d83392744e79d972b813ed0f972"
          }
        },
        "6ed8caf1da8946d78c9954966ad6c680": {
          "model_module": "@jupyter-widgets/controls",
          "model_name": "HTMLModel",
          "model_module_version": "1.5.0",
          "state": {
            "_dom_classes": [],
            "_model_module": "@jupyter-widgets/controls",
            "_model_module_version": "1.5.0",
            "_model_name": "HTMLModel",
            "_view_count": null,
            "_view_module": "@jupyter-widgets/controls",
            "_view_module_version": "1.5.0",
            "_view_name": "HTMLView",
            "description": "",
            "description_tooltip": null,
            "layout": "IPY_MODEL_6267f47461804e4cb90eb2ab46ff0c35",
            "placeholder": "​",
            "style": "IPY_MODEL_cd9629af60784a9c8f878805af9f5e6f",
            "value": "Downloading: 100%"
          }
        },
        "a8c0a5ca1c6e4d53a13761e658845adc": {
          "model_module": "@jupyter-widgets/controls",
          "model_name": "FloatProgressModel",
          "model_module_version": "1.5.0",
          "state": {
            "_dom_classes": [],
            "_model_module": "@jupyter-widgets/controls",
            "_model_module_version": "1.5.0",
            "_model_name": "FloatProgressModel",
            "_view_count": null,
            "_view_module": "@jupyter-widgets/controls",
            "_view_module_version": "1.5.0",
            "_view_name": "ProgressView",
            "bar_style": "success",
            "description": "",
            "description_tooltip": null,
            "layout": "IPY_MODEL_b0061b37e6ee4d5c99e2b20adfde9eb4",
            "max": 96383626,
            "min": 0,
            "orientation": "horizontal",
            "style": "IPY_MODEL_8ca977ef64f346bca26168fec718025f",
            "value": 96383626
          }
        },
        "11c7591d73d14d0a950819cd9053d3aa": {
          "model_module": "@jupyter-widgets/controls",
          "model_name": "HTMLModel",
          "model_module_version": "1.5.0",
          "state": {
            "_dom_classes": [],
            "_model_module": "@jupyter-widgets/controls",
            "_model_module_version": "1.5.0",
            "_model_name": "HTMLModel",
            "_view_count": null,
            "_view_module": "@jupyter-widgets/controls",
            "_view_module_version": "1.5.0",
            "_view_name": "HTMLView",
            "description": "",
            "description_tooltip": null,
            "layout": "IPY_MODEL_82628e6f90724fcabf6c3c5253b15538",
            "placeholder": "​",
            "style": "IPY_MODEL_d7f5b43ffc42408dae482c05704b7286",
            "value": " 96.4M/96.4M [00:01&lt;00:00, 76.9MB/s]"
          }
        },
        "b62e9d83392744e79d972b813ed0f972": {
          "model_module": "@jupyter-widgets/base",
          "model_name": "LayoutModel",
          "model_module_version": "1.2.0",
          "state": {
            "_model_module": "@jupyter-widgets/base",
            "_model_module_version": "1.2.0",
            "_model_name": "LayoutModel",
            "_view_count": null,
            "_view_module": "@jupyter-widgets/base",
            "_view_module_version": "1.2.0",
            "_view_name": "LayoutView",
            "align_content": null,
            "align_items": null,
            "align_self": null,
            "border": null,
            "bottom": null,
            "display": null,
            "flex": null,
            "flex_flow": null,
            "grid_area": null,
            "grid_auto_columns": null,
            "grid_auto_flow": null,
            "grid_auto_rows": null,
            "grid_column": null,
            "grid_gap": null,
            "grid_row": null,
            "grid_template_areas": null,
            "grid_template_columns": null,
            "grid_template_rows": null,
            "height": null,
            "justify_content": null,
            "justify_items": null,
            "left": null,
            "margin": null,
            "max_height": null,
            "max_width": null,
            "min_height": null,
            "min_width": null,
            "object_fit": null,
            "object_position": null,
            "order": null,
            "overflow": null,
            "overflow_x": null,
            "overflow_y": null,
            "padding": null,
            "right": null,
            "top": null,
            "visibility": null,
            "width": null
          }
        },
        "6267f47461804e4cb90eb2ab46ff0c35": {
          "model_module": "@jupyter-widgets/base",
          "model_name": "LayoutModel",
          "model_module_version": "1.2.0",
          "state": {
            "_model_module": "@jupyter-widgets/base",
            "_model_module_version": "1.2.0",
            "_model_name": "LayoutModel",
            "_view_count": null,
            "_view_module": "@jupyter-widgets/base",
            "_view_module_version": "1.2.0",
            "_view_name": "LayoutView",
            "align_content": null,
            "align_items": null,
            "align_self": null,
            "border": null,
            "bottom": null,
            "display": null,
            "flex": null,
            "flex_flow": null,
            "grid_area": null,
            "grid_auto_columns": null,
            "grid_auto_flow": null,
            "grid_auto_rows": null,
            "grid_column": null,
            "grid_gap": null,
            "grid_row": null,
            "grid_template_areas": null,
            "grid_template_columns": null,
            "grid_template_rows": null,
            "height": null,
            "justify_content": null,
            "justify_items": null,
            "left": null,
            "margin": null,
            "max_height": null,
            "max_width": null,
            "min_height": null,
            "min_width": null,
            "object_fit": null,
            "object_position": null,
            "order": null,
            "overflow": null,
            "overflow_x": null,
            "overflow_y": null,
            "padding": null,
            "right": null,
            "top": null,
            "visibility": null,
            "width": null
          }
        },
        "cd9629af60784a9c8f878805af9f5e6f": {
          "model_module": "@jupyter-widgets/controls",
          "model_name": "DescriptionStyleModel",
          "model_module_version": "1.5.0",
          "state": {
            "_model_module": "@jupyter-widgets/controls",
            "_model_module_version": "1.5.0",
            "_model_name": "DescriptionStyleModel",
            "_view_count": null,
            "_view_module": "@jupyter-widgets/base",
            "_view_module_version": "1.2.0",
            "_view_name": "StyleView",
            "description_width": ""
          }
        },
        "b0061b37e6ee4d5c99e2b20adfde9eb4": {
          "model_module": "@jupyter-widgets/base",
          "model_name": "LayoutModel",
          "model_module_version": "1.2.0",
          "state": {
            "_model_module": "@jupyter-widgets/base",
            "_model_module_version": "1.2.0",
            "_model_name": "LayoutModel",
            "_view_count": null,
            "_view_module": "@jupyter-widgets/base",
            "_view_module_version": "1.2.0",
            "_view_name": "LayoutView",
            "align_content": null,
            "align_items": null,
            "align_self": null,
            "border": null,
            "bottom": null,
            "display": null,
            "flex": null,
            "flex_flow": null,
            "grid_area": null,
            "grid_auto_columns": null,
            "grid_auto_flow": null,
            "grid_auto_rows": null,
            "grid_column": null,
            "grid_gap": null,
            "grid_row": null,
            "grid_template_areas": null,
            "grid_template_columns": null,
            "grid_template_rows": null,
            "height": null,
            "justify_content": null,
            "justify_items": null,
            "left": null,
            "margin": null,
            "max_height": null,
            "max_width": null,
            "min_height": null,
            "min_width": null,
            "object_fit": null,
            "object_position": null,
            "order": null,
            "overflow": null,
            "overflow_x": null,
            "overflow_y": null,
            "padding": null,
            "right": null,
            "top": null,
            "visibility": null,
            "width": null
          }
        },
        "8ca977ef64f346bca26168fec718025f": {
          "model_module": "@jupyter-widgets/controls",
          "model_name": "ProgressStyleModel",
          "model_module_version": "1.5.0",
          "state": {
            "_model_module": "@jupyter-widgets/controls",
            "_model_module_version": "1.5.0",
            "_model_name": "ProgressStyleModel",
            "_view_count": null,
            "_view_module": "@jupyter-widgets/base",
            "_view_module_version": "1.2.0",
            "_view_name": "StyleView",
            "bar_color": null,
            "description_width": ""
          }
        },
        "82628e6f90724fcabf6c3c5253b15538": {
          "model_module": "@jupyter-widgets/base",
          "model_name": "LayoutModel",
          "model_module_version": "1.2.0",
          "state": {
            "_model_module": "@jupyter-widgets/base",
            "_model_module_version": "1.2.0",
            "_model_name": "LayoutModel",
            "_view_count": null,
            "_view_module": "@jupyter-widgets/base",
            "_view_module_version": "1.2.0",
            "_view_name": "LayoutView",
            "align_content": null,
            "align_items": null,
            "align_self": null,
            "border": null,
            "bottom": null,
            "display": null,
            "flex": null,
            "flex_flow": null,
            "grid_area": null,
            "grid_auto_columns": null,
            "grid_auto_flow": null,
            "grid_auto_rows": null,
            "grid_column": null,
            "grid_gap": null,
            "grid_row": null,
            "grid_template_areas": null,
            "grid_template_columns": null,
            "grid_template_rows": null,
            "height": null,
            "justify_content": null,
            "justify_items": null,
            "left": null,
            "margin": null,
            "max_height": null,
            "max_width": null,
            "min_height": null,
            "min_width": null,
            "object_fit": null,
            "object_position": null,
            "order": null,
            "overflow": null,
            "overflow_x": null,
            "overflow_y": null,
            "padding": null,
            "right": null,
            "top": null,
            "visibility": null,
            "width": null
          }
        },
        "d7f5b43ffc42408dae482c05704b7286": {
          "model_module": "@jupyter-widgets/controls",
          "model_name": "DescriptionStyleModel",
          "model_module_version": "1.5.0",
          "state": {
            "_model_module": "@jupyter-widgets/controls",
            "_model_module_version": "1.5.0",
            "_model_name": "DescriptionStyleModel",
            "_view_count": null,
            "_view_module": "@jupyter-widgets/base",
            "_view_module_version": "1.2.0",
            "_view_name": "StyleView",
            "description_width": ""
          }
        },
        "f5b90888c86b444ea5cdfa1fe9440245": {
          "model_module": "@jupyter-widgets/controls",
          "model_name": "HBoxModel",
          "model_module_version": "1.5.0",
          "state": {
            "_dom_classes": [],
            "_model_module": "@jupyter-widgets/controls",
            "_model_module_version": "1.5.0",
            "_model_name": "HBoxModel",
            "_view_count": null,
            "_view_module": "@jupyter-widgets/controls",
            "_view_module_version": "1.5.0",
            "_view_name": "HBoxView",
            "box_style": "",
            "children": [
              "IPY_MODEL_b65a8f9d0eb34b9e9978303a3e12f1f4",
              "IPY_MODEL_b63657ceed0a45dd8b63f0c81cf2f0d7",
              "IPY_MODEL_3b9b6ba182c147f2994f627714c0c9b1"
            ],
            "layout": "IPY_MODEL_6c561d7bcff3474297ce2f90c65fa789"
          }
        },
        "b65a8f9d0eb34b9e9978303a3e12f1f4": {
          "model_module": "@jupyter-widgets/controls",
          "model_name": "HTMLModel",
          "model_module_version": "1.5.0",
          "state": {
            "_dom_classes": [],
            "_model_module": "@jupyter-widgets/controls",
            "_model_module_version": "1.5.0",
            "_model_name": "HTMLModel",
            "_view_count": null,
            "_view_module": "@jupyter-widgets/controls",
            "_view_module_version": "1.5.0",
            "_view_name": "HTMLView",
            "description": "",
            "description_tooltip": null,
            "layout": "IPY_MODEL_207d9805e4634359a8c547e40f1f171a",
            "placeholder": "​",
            "style": "IPY_MODEL_302b290036dc473493f0d9b7e71345c1",
            "value": "Downloading: 100%"
          }
        },
        "b63657ceed0a45dd8b63f0c81cf2f0d7": {
          "model_module": "@jupyter-widgets/controls",
          "model_name": "FloatProgressModel",
          "model_module_version": "1.5.0",
          "state": {
            "_dom_classes": [],
            "_model_module": "@jupyter-widgets/controls",
            "_model_module_version": "1.5.0",
            "_model_name": "FloatProgressModel",
            "_view_count": null,
            "_view_module": "@jupyter-widgets/controls",
            "_view_module_version": "1.5.0",
            "_view_name": "ProgressView",
            "bar_style": "success",
            "description": "",
            "description_tooltip": null,
            "layout": "IPY_MODEL_07c715873b7e48258661f6904c97c7b1",
            "max": 1996,
            "min": 0,
            "orientation": "horizontal",
            "style": "IPY_MODEL_d4074ea6091e4b81a6f44daf80a396ca",
            "value": 1996
          }
        },
        "3b9b6ba182c147f2994f627714c0c9b1": {
          "model_module": "@jupyter-widgets/controls",
          "model_name": "HTMLModel",
          "model_module_version": "1.5.0",
          "state": {
            "_dom_classes": [],
            "_model_module": "@jupyter-widgets/controls",
            "_model_module_version": "1.5.0",
            "_model_name": "HTMLModel",
            "_view_count": null,
            "_view_module": "@jupyter-widgets/controls",
            "_view_module_version": "1.5.0",
            "_view_name": "HTMLView",
            "description": "",
            "description_tooltip": null,
            "layout": "IPY_MODEL_6704b248a9294c3185b8d414639b4833",
            "placeholder": "​",
            "style": "IPY_MODEL_4a2c33f367f24a56acbdc1e70da31a3c",
            "value": " 2.00k/2.00k [00:00&lt;00:00, 94.5kB/s]"
          }
        },
        "6c561d7bcff3474297ce2f90c65fa789": {
          "model_module": "@jupyter-widgets/base",
          "model_name": "LayoutModel",
          "model_module_version": "1.2.0",
          "state": {
            "_model_module": "@jupyter-widgets/base",
            "_model_module_version": "1.2.0",
            "_model_name": "LayoutModel",
            "_view_count": null,
            "_view_module": "@jupyter-widgets/base",
            "_view_module_version": "1.2.0",
            "_view_name": "LayoutView",
            "align_content": null,
            "align_items": null,
            "align_self": null,
            "border": null,
            "bottom": null,
            "display": null,
            "flex": null,
            "flex_flow": null,
            "grid_area": null,
            "grid_auto_columns": null,
            "grid_auto_flow": null,
            "grid_auto_rows": null,
            "grid_column": null,
            "grid_gap": null,
            "grid_row": null,
            "grid_template_areas": null,
            "grid_template_columns": null,
            "grid_template_rows": null,
            "height": null,
            "justify_content": null,
            "justify_items": null,
            "left": null,
            "margin": null,
            "max_height": null,
            "max_width": null,
            "min_height": null,
            "min_width": null,
            "object_fit": null,
            "object_position": null,
            "order": null,
            "overflow": null,
            "overflow_x": null,
            "overflow_y": null,
            "padding": null,
            "right": null,
            "top": null,
            "visibility": null,
            "width": null
          }
        },
        "207d9805e4634359a8c547e40f1f171a": {
          "model_module": "@jupyter-widgets/base",
          "model_name": "LayoutModel",
          "model_module_version": "1.2.0",
          "state": {
            "_model_module": "@jupyter-widgets/base",
            "_model_module_version": "1.2.0",
            "_model_name": "LayoutModel",
            "_view_count": null,
            "_view_module": "@jupyter-widgets/base",
            "_view_module_version": "1.2.0",
            "_view_name": "LayoutView",
            "align_content": null,
            "align_items": null,
            "align_self": null,
            "border": null,
            "bottom": null,
            "display": null,
            "flex": null,
            "flex_flow": null,
            "grid_area": null,
            "grid_auto_columns": null,
            "grid_auto_flow": null,
            "grid_auto_rows": null,
            "grid_column": null,
            "grid_gap": null,
            "grid_row": null,
            "grid_template_areas": null,
            "grid_template_columns": null,
            "grid_template_rows": null,
            "height": null,
            "justify_content": null,
            "justify_items": null,
            "left": null,
            "margin": null,
            "max_height": null,
            "max_width": null,
            "min_height": null,
            "min_width": null,
            "object_fit": null,
            "object_position": null,
            "order": null,
            "overflow": null,
            "overflow_x": null,
            "overflow_y": null,
            "padding": null,
            "right": null,
            "top": null,
            "visibility": null,
            "width": null
          }
        },
        "302b290036dc473493f0d9b7e71345c1": {
          "model_module": "@jupyter-widgets/controls",
          "model_name": "DescriptionStyleModel",
          "model_module_version": "1.5.0",
          "state": {
            "_model_module": "@jupyter-widgets/controls",
            "_model_module_version": "1.5.0",
            "_model_name": "DescriptionStyleModel",
            "_view_count": null,
            "_view_module": "@jupyter-widgets/base",
            "_view_module_version": "1.2.0",
            "_view_name": "StyleView",
            "description_width": ""
          }
        },
        "07c715873b7e48258661f6904c97c7b1": {
          "model_module": "@jupyter-widgets/base",
          "model_name": "LayoutModel",
          "model_module_version": "1.2.0",
          "state": {
            "_model_module": "@jupyter-widgets/base",
            "_model_module_version": "1.2.0",
            "_model_name": "LayoutModel",
            "_view_count": null,
            "_view_module": "@jupyter-widgets/base",
            "_view_module_version": "1.2.0",
            "_view_name": "LayoutView",
            "align_content": null,
            "align_items": null,
            "align_self": null,
            "border": null,
            "bottom": null,
            "display": null,
            "flex": null,
            "flex_flow": null,
            "grid_area": null,
            "grid_auto_columns": null,
            "grid_auto_flow": null,
            "grid_auto_rows": null,
            "grid_column": null,
            "grid_gap": null,
            "grid_row": null,
            "grid_template_areas": null,
            "grid_template_columns": null,
            "grid_template_rows": null,
            "height": null,
            "justify_content": null,
            "justify_items": null,
            "left": null,
            "margin": null,
            "max_height": null,
            "max_width": null,
            "min_height": null,
            "min_width": null,
            "object_fit": null,
            "object_position": null,
            "order": null,
            "overflow": null,
            "overflow_x": null,
            "overflow_y": null,
            "padding": null,
            "right": null,
            "top": null,
            "visibility": null,
            "width": null
          }
        },
        "d4074ea6091e4b81a6f44daf80a396ca": {
          "model_module": "@jupyter-widgets/controls",
          "model_name": "ProgressStyleModel",
          "model_module_version": "1.5.0",
          "state": {
            "_model_module": "@jupyter-widgets/controls",
            "_model_module_version": "1.5.0",
            "_model_name": "ProgressStyleModel",
            "_view_count": null,
            "_view_module": "@jupyter-widgets/base",
            "_view_module_version": "1.2.0",
            "_view_name": "StyleView",
            "bar_color": null,
            "description_width": ""
          }
        },
        "6704b248a9294c3185b8d414639b4833": {
          "model_module": "@jupyter-widgets/base",
          "model_name": "LayoutModel",
          "model_module_version": "1.2.0",
          "state": {
            "_model_module": "@jupyter-widgets/base",
            "_model_module_version": "1.2.0",
            "_model_name": "LayoutModel",
            "_view_count": null,
            "_view_module": "@jupyter-widgets/base",
            "_view_module_version": "1.2.0",
            "_view_name": "LayoutView",
            "align_content": null,
            "align_items": null,
            "align_self": null,
            "border": null,
            "bottom": null,
            "display": null,
            "flex": null,
            "flex_flow": null,
            "grid_area": null,
            "grid_auto_columns": null,
            "grid_auto_flow": null,
            "grid_auto_rows": null,
            "grid_column": null,
            "grid_gap": null,
            "grid_row": null,
            "grid_template_areas": null,
            "grid_template_columns": null,
            "grid_template_rows": null,
            "height": null,
            "justify_content": null,
            "justify_items": null,
            "left": null,
            "margin": null,
            "max_height": null,
            "max_width": null,
            "min_height": null,
            "min_width": null,
            "object_fit": null,
            "object_position": null,
            "order": null,
            "overflow": null,
            "overflow_x": null,
            "overflow_y": null,
            "padding": null,
            "right": null,
            "top": null,
            "visibility": null,
            "width": null
          }
        },
        "4a2c33f367f24a56acbdc1e70da31a3c": {
          "model_module": "@jupyter-widgets/controls",
          "model_name": "DescriptionStyleModel",
          "model_module_version": "1.5.0",
          "state": {
            "_model_module": "@jupyter-widgets/controls",
            "_model_module_version": "1.5.0",
            "_model_name": "DescriptionStyleModel",
            "_view_count": null,
            "_view_module": "@jupyter-widgets/base",
            "_view_module_version": "1.2.0",
            "_view_name": "StyleView",
            "description_width": ""
          }
        }
      }
    }
  },
  "cells": [
    {
      "cell_type": "markdown",
      "metadata": {
        "id": "view-in-github",
        "colab_type": "text"
      },
      "source": [
        "<a href=\"https://colab.research.google.com/github/softmurata/colab_notebooks/blob/main/meeting/meeting.ipynb\" target=\"_parent\"><img src=\"https://colab.research.google.com/assets/colab-badge.svg\" alt=\"Open In Colab\"/></a>"
      ]
    },
    {
      "cell_type": "code",
      "execution_count": null,
      "metadata": {
        "id": "lvYZ2y5ETR_K"
      },
      "outputs": [],
      "source": [
        "!python3 -m pip install -U yt-dlp"
      ]
    },
    {
      "cell_type": "code",
      "source": [
        "!yt-dlp -x --audio-format wav \"https://youtu.be/2MQHBPApza8\""
      ],
      "metadata": {
        "id": "DKivDBvaTk7K"
      },
      "execution_count": null,
      "outputs": []
    },
    {
      "cell_type": "code",
      "source": [
        "!pip install git+https://github.com/openai/whisper.git\n",
        "!pip install pyannote.audio"
      ],
      "metadata": {
        "id": "THoU9lrQT6gb"
      },
      "execution_count": null,
      "outputs": []
    },
    {
      "cell_type": "code",
      "source": [
        "import whisper\n",
        "model = whisper.load_model(\"large\")"
      ],
      "metadata": {
        "id": "eF_9gHPVUACd",
        "colab": {
          "base_uri": "https://localhost:8080/"
        },
        "outputId": "6ebadd41-4721-443e-829b-aa5aed4ad09a"
      },
      "execution_count": null,
      "outputs": [
        {
          "output_type": "stream",
          "name": "stderr",
          "text": [
            "100%|█████████████████████████████████████| 2.87G/2.87G [00:52<00:00, 58.6MiB/s]\n"
          ]
        }
      ]
    },
    {
      "cell_type": "code",
      "source": [
        "# Hugging face access token\n",
        "TOKEN=\"\""
      ],
      "metadata": {
        "id": "3Lw6zZWFVniA"
      },
      "execution_count": null,
      "outputs": []
    },
    {
      "cell_type": "code",
      "source": [
        "!huggingface-cli login"
      ],
      "metadata": {
        "id": "GsmlLAjXXUlG"
      },
      "execution_count": null,
      "outputs": []
    },
    {
      "cell_type": "code",
      "source": [
        "from pyannote.audio import Audio\n",
        "from pyannote.audio import Pipeline\n",
        "\n",
        "pipeline = Pipeline.from_pretrained(\"pyannote/speaker-diarization@2.1\", use_auth_token=True)\n",
        "\n",
        "audio_file = \"test.wav\"\n",
        "diarization = pipeline(audio_file)\n",
        "\n",
        "audio = Audio(sample_rate=16000, mono=True)\n",
        "\n",
        "speaker_text_dict = {}\n",
        "\n",
        "for segment, _, speaker in diarization.itertracks(yield_label=True):\n",
        "    waveform, sample_rate = audio.crop(audio_file, segment)\n",
        "    text = model.transcribe(waveform.squeeze().numpy())[\"text\"]\n",
        "    if speaker in speaker_text_dict.keys():\n",
        "          speaker_text_dict[speaker].append({\"start\": segment.start, \"end\": segment.end, \"text\": text})\n",
        "    else:\n",
        "          speaker_text_dict[speaker] = [{\"start\": segment.start, \"end\": segment.end, \"text\": text}]\n",
        "    print(f\"[{segment.start:03.1f}s - {segment.end:03.1f}s] {speaker}: {text}\")"
      ],
      "metadata": {
        "id": "tIjk__aLUX74"
      },
      "execution_count": null,
      "outputs": []
    },
    {
      "cell_type": "code",
      "source": [
        "import json\n",
        "with open(\"output.json\", \"w\") as f:\n",
        "  json.dump(speaker_text_dict, f, indent=2, ensure_ascii=False)"
      ],
      "metadata": {
        "id": "_WAgheTWpW3d"
      },
      "execution_count": null,
      "outputs": []
    },
    {
      "cell_type": "code",
      "source": [
        "with open(\"output.json\", \"r\") as f:\n",
        "  dic = json.load(f)\n",
        "print(dic[\"SPEAKER_00\"])"
      ],
      "metadata": {
        "id": "bWVJI_VxqKvM"
      },
      "execution_count": null,
      "outputs": []
    },
    {
      "cell_type": "code",
      "source": [
        "from pyannote.core import Segment\n",
        "import scipy\n",
        "from scipy.io.wavfile import write\n",
        "\n",
        "sf = 16000\n",
        "\n",
        "print(len(dic.keys()))\n",
        "\n",
        "speaker_id = \"SPEAKER_02\"\n",
        "spec_sp00_dic = dic[speaker_id][10]\n",
        "segment = Segment(spec_sp00_dic[\"start\"],  spec_sp00_dic[\"end\"])\n",
        "waveform, sample_rate = audio.crop(audio_file, segment)\n",
        "wave = waveform.squeeze().numpy()\n",
        "\n",
        "scipy.io.wavfile.write(filename='naretor.wav', rate=sf, data=wave)\n"
      ],
      "metadata": {
        "id": "30mHeSUCvzOL"
      },
      "execution_count": null,
      "outputs": []
    },
    {
      "cell_type": "code",
      "source": [
        "# @title Refinement"
      ],
      "metadata": {
        "id": "rfwLyi8cyS5o"
      },
      "execution_count": null,
      "outputs": []
    },
    {
      "cell_type": "code",
      "source": [
        "from pyannote.audio import Model\n",
        "model = Model.from_pretrained(\"pyannote/embedding\", \n",
        "                              use_auth_token=True)  # もし失敗したらhuggingface-login"
      ],
      "metadata": {
        "colab": {
          "base_uri": "https://localhost:8080/",
          "height": 81,
          "referenced_widgets": [
            "baf21554d4cd4638b4d932a429b796c3",
            "6ed8caf1da8946d78c9954966ad6c680",
            "a8c0a5ca1c6e4d53a13761e658845adc",
            "11c7591d73d14d0a950819cd9053d3aa",
            "b62e9d83392744e79d972b813ed0f972",
            "6267f47461804e4cb90eb2ab46ff0c35",
            "cd9629af60784a9c8f878805af9f5e6f",
            "b0061b37e6ee4d5c99e2b20adfde9eb4",
            "8ca977ef64f346bca26168fec718025f",
            "82628e6f90724fcabf6c3c5253b15538",
            "d7f5b43ffc42408dae482c05704b7286",
            "f5b90888c86b444ea5cdfa1fe9440245",
            "b65a8f9d0eb34b9e9978303a3e12f1f4",
            "b63657ceed0a45dd8b63f0c81cf2f0d7",
            "3b9b6ba182c147f2994f627714c0c9b1",
            "6c561d7bcff3474297ce2f90c65fa789",
            "207d9805e4634359a8c547e40f1f171a",
            "302b290036dc473493f0d9b7e71345c1",
            "07c715873b7e48258661f6904c97c7b1",
            "d4074ea6091e4b81a6f44daf80a396ca",
            "6704b248a9294c3185b8d414639b4833",
            "4a2c33f367f24a56acbdc1e70da31a3c"
          ]
        },
        "id": "vQFmOPFYxc8D",
        "outputId": "42d56c2b-6ec0-4136-e975-a1cc0c764097"
      },
      "execution_count": null,
      "outputs": [
        {
          "output_type": "display_data",
          "data": {
            "text/plain": [
              "Downloading:   0%|          | 0.00/96.4M [00:00<?, ?B/s]"
            ],
            "application/vnd.jupyter.widget-view+json": {
              "version_major": 2,
              "version_minor": 0,
              "model_id": "baf21554d4cd4638b4d932a429b796c3"
            }
          },
          "metadata": {}
        },
        {
          "output_type": "display_data",
          "data": {
            "text/plain": [
              "Downloading:   0%|          | 0.00/2.00k [00:00<?, ?B/s]"
            ],
            "application/vnd.jupyter.widget-view+json": {
              "version_major": 2,
              "version_minor": 0,
              "model_id": "f5b90888c86b444ea5cdfa1fe9440245"
            }
          },
          "metadata": {}
        }
      ]
    },
    {
      "cell_type": "code",
      "source": [
        "from pyannote.core import Segment\n",
        "from pyannote.audio import Inference\n",
        "\n",
        "\n",
        "inference = Inference(model, window=\"whole\")"
      ],
      "metadata": {
        "id": "l4Vw_ClGxl5v"
      },
      "execution_count": null,
      "outputs": []
    },
    {
      "cell_type": "code",
      "source": [
        "# @title change meeting parameters\n",
        "speaker_dict = {\"kawasaki.wav\": \"川崎宗則\", \"darubish.wav\": \"ダルビッシュ有\", \"naretor.wav\": \"ナレーター\"}\n",
        "\n",
        "kawasaki_embed = inference(\"kawasaki.wav\")\n",
        "darubish_embed = inference(\"darubish.wav\")\n",
        "naretor_embed = inference(\"naretor.wav\")"
      ],
      "metadata": {
        "id": "9TC9aGN7xYiO"
      },
      "execution_count": null,
      "outputs": []
    },
    {
      "cell_type": "code",
      "source": [
        "import numpy as np\n",
        "from numpy.linalg import norm\n",
        "\n",
        "def cosine_simularity(A, B):\n",
        "  # compute cosine similarity\n",
        "  cosine = np.dot(A,B)/(norm(A)*norm(B))\n",
        "\n",
        "  return cosine"
      ],
      "metadata": {
        "id": "91nk0H4Fx9vL"
      },
      "execution_count": null,
      "outputs": []
    },
    {
      "cell_type": "code",
      "source": [
        "with open(\"output.json\", \"r\") as f:\n",
        "  output_dic = json.load(f)"
      ],
      "metadata": {
        "id": "4acc01BRyjID"
      },
      "execution_count": null,
      "outputs": []
    },
    {
      "cell_type": "code",
      "source": [
        "def get_speaker_embed(speaker_id, inference, audio_file, output_dic):\n",
        "  idx = 10\n",
        "  speaker_segment = [output_dic[speaker_id][idx][\"start\"], output_dic[speaker_id][idx][\"end\"]]\n",
        "  excerpt_speaker= Segment(speaker_segment[0], speaker_segment[1])\n",
        "  embedding_speaker = inference.crop(audio_file, excerpt_speaker)\n",
        "  return embedding_speaker"
      ],
      "metadata": {
        "id": "yinRIzCCx-yu"
      },
      "execution_count": null,
      "outputs": []
    },
    {
      "cell_type": "code",
      "source": [
        "def calculate_similarity(embed_list, ref_embed):\n",
        "  cosine_sim_list = []\n",
        "  for embed in embed_list:\n",
        "    cosine_sim = cosine_simularity(embed, ref_embed)\n",
        "    cosine_sim_list.append(cosine_sim)\n",
        "\n",
        "  return np.argmax(cosine_sim_list)"
      ],
      "metadata": {
        "id": "Dp95jdhuz9kt"
      },
      "execution_count": null,
      "outputs": []
    },
    {
      "cell_type": "code",
      "source": [
        "embedding_speaker00 = get_speaker_embed(\"SPEAKER_00\", inference, audio_file, output_dic)\n",
        "embedding_speaker01 = get_speaker_embed(\"SPEAKER_01\", inference, audio_file, output_dic)\n",
        "embedding_speaker02 = get_speaker_embed(\"SPEAKER_02\", inference, audio_file, output_dic)"
      ],
      "metadata": {
        "id": "MkqCVN9GzVRR"
      },
      "execution_count": null,
      "outputs": []
    },
    {
      "cell_type": "code",
      "source": [
        "speaker_dict = {\"kawasaki\": \"川崎宗則\", \"darubish\": \"ダルビッシュ有\", \"naretor\": \"ナレーター\"}\n",
        "embed_list = [embedding_speaker00, embedding_speaker01, embedding_speaker02]\n",
        "\n",
        "darubish_id = calculate_similarity(embed_list, darubish_embed)\n",
        "kawasaki_id = calculate_similarity(embed_list, kawasaki_embed)\n",
        "naretor_id = calculate_similarity(embed_list, naretor_embed)\n",
        "\n",
        "related_dict = {\"kawasaki\": kawasaki_id, \"darubish\": darubish_id, \"naretor\": naretor_id}\n",
        "\n",
        "ans_speaker_dict = {}\n",
        "for key, value in related_dict.items():\n",
        "  ans_speaker_dict[value] = speaker_dict[key]\n",
        "\n",
        "print(ans_speaker_dict)"
      ],
      "metadata": {
        "colab": {
          "base_uri": "https://localhost:8080/"
        },
        "id": "pT253wUK0a3E",
        "outputId": "e1eee279-fb20-4704-edef-5a8bf97e0c9b"
      },
      "execution_count": null,
      "outputs": [
        {
          "output_type": "stream",
          "name": "stdout",
          "text": [
            "darubish: 1  kawaski:  0  naretor:  2\n"
          ]
        }
      ]
    },
    {
      "cell_type": "code",
      "source": [
        "# @title 音声類似度検索\n",
        "from pyannote.audio import Model\n",
        "model = Model.from_pretrained(\"pyannote/embedding\", \n",
        "                              use_auth_token=True)  # もし失敗したらhuggingface-login"
      ],
      "metadata": {
        "id": "0GKldH3sYdwj"
      },
      "execution_count": null,
      "outputs": []
    },
    {
      "cell_type": "code",
      "source": [
        "from pyannote.core import Segment\n",
        "from pyannote.audio import Inference\n",
        "\n",
        "\n",
        "inference = Inference(model, window=\"whole\")"
      ],
      "metadata": {
        "id": "D9SH0ISNbG0E"
      },
      "execution_count": null,
      "outputs": []
    },
    {
      "cell_type": "code",
      "source": [
        "# base speaker wav (今回は話者２)\n",
        "base_speaker_audio = Segment(287.1, 298)\n",
        "embedding_base_speaker = inference.crop(audio_file, base_speaker_audio)"
      ],
      "metadata": {
        "id": "Qp6TZWcYclDm"
      },
      "execution_count": null,
      "outputs": []
    },
    {
      "cell_type": "code",
      "source": [
        "# speaker 00\n",
        "speaker00_segment = [310.9, 316.9]\n",
        "excerpt_speaker00= Segment(speaker00_segment[0], speaker00_segment[1])\n",
        "embedding_speaker00 = inference.crop(audio_file, excerpt_speaker00)\n",
        "\n",
        "# speaker 01\n",
        "speaker01_segment = [336.8, 347.2]\n",
        "excerpt_speaker01= Segment(speaker01_segment[0], speaker01_segment[1])\n",
        "embedding_speaker01 = inference.crop(audio_file, excerpt_speaker01)\n",
        "\n",
        "# speaker 02\n",
        "speaker02_segment = [17.2, 20.3]\n",
        "excerpt_speaker02= Segment(speaker02_segment[0], speaker02_segment[1])\n",
        "embedding_speaker02 = inference.crop(audio_file, excerpt_speaker02)\n"
      ],
      "metadata": {
        "id": "K5o-fx8hhe4y"
      },
      "execution_count": null,
      "outputs": []
    },
    {
      "cell_type": "code",
      "source": [
        "import numpy as np\n",
        "from numpy.linalg import norm\n",
        "\n",
        "def cosine_simularity(A, B):\n",
        "  # compute cosine similarity\n",
        "  cosine = np.dot(A,B)/(norm(A)*norm(B))\n",
        "\n",
        "  return cosine\n",
        "\n",
        "speaker_dict = {0: \"川崎宗則\", 1: \"ダルビッシュ有\", 2: \"ナレーター\"}\n",
        "\n",
        "# 類似度を計算\n",
        "cosine00 = cosine_simularity(embedding_speaker00, embedding_base_speaker)\n",
        "cosine01 = cosine_simularity(embedding_speaker01, embedding_base_speaker)\n",
        "cosine02 = cosine_simularity(embedding_speaker02, embedding_base_speaker)\n",
        "# print(\"Cosine Similarity:\", cosine00, cosine01, cosine02)\n",
        "cosine_sim_list = [cosine00, cosine01, cosine02]\n",
        "\n",
        "speaker = speaker_dict[np.argmax(cosine_sim_list)]\n",
        "print(\"speaker: \", speaker)"
      ],
      "metadata": {
        "colab": {
          "base_uri": "https://localhost:8080/"
        },
        "id": "epnoWbuqhCEp",
        "outputId": "b53bccff-b985-4aa0-98fb-5a164b012521"
      },
      "execution_count": null,
      "outputs": [
        {
          "output_type": "stream",
          "name": "stdout",
          "text": [
            "speaker:  ナレーター\n"
          ]
        }
      ]
    },
    {
      "cell_type": "code",
      "source": [
        "# Example for simularity search\n",
        "from pyannote.audio import Inference\n",
        "inference = Inference(model, window=\"whole\")\n",
        "\n",
        "embedding1 = inference(\"speaker1.wav\")\n",
        "embedding2 = inference(\"speaker2.wav\")\n",
        "# `embeddingX` is (1 x D) numpy array extracted from the file as a whole.\n",
        "\n",
        "from scipy.spatial.distance import cdist\n",
        "distance = cdist(embedding1, embedding2, metric=\"cosine\")[0,0]"
      ],
      "metadata": {
        "id": "pg3CCdZaZddh"
      },
      "execution_count": null,
      "outputs": []
    }
  ]
}