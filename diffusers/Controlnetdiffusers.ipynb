{
  "nbformat": 4,
  "nbformat_minor": 0,
  "metadata": {
    "colab": {
      "provenance": [],
      "gpuType": "T4",
      "authorship_tag": "ABX9TyM1ODxHgvYWbWHqob1ITeSj",
      "include_colab_link": true
    },
    "kernelspec": {
      "name": "python3",
      "display_name": "Python 3"
    },
    "language_info": {
      "name": "python"
    },
    "accelerator": "GPU"
  },
  "cells": [
    {
      "cell_type": "markdown",
      "metadata": {
        "id": "view-in-github",
        "colab_type": "text"
      },
      "source": [
        "<a href=\"https://colab.research.google.com/github/softmurata/colab_notebooks/blob/main/diffusers/Controlnetdiffusers.ipynb\" target=\"_parent\"><img src=\"https://colab.research.google.com/assets/colab-badge.svg\" alt=\"Open In Colab\"/></a>"
      ]
    },
    {
      "cell_type": "markdown",
      "source": [
        "[Github](https://github.com/lllyasviel/ControlNet-v1-1-nightly)\n",
        "\n",
        "[usage](https://huggingface.co/lllyasviel/sd-controlnet-depth)\n",
        "\n",
        "[Annotator](https://github.com/patrickvonplaten/controlnet_aux)\n"
      ],
      "metadata": {
        "id": "d3LwVJtzT_1i"
      }
    },
    {
      "cell_type": "markdown",
      "source": [
        "Installation"
      ],
      "metadata": {
        "id": "OYZBQd3ZTe0b"
      }
    },
    {
      "cell_type": "code",
      "execution_count": null,
      "metadata": {
        "id": "GPCQ6tp_S7hq"
      },
      "outputs": [],
      "source": [
        "!pip install -q diffusers accelerate transformers controlnet_aux"
      ]
    },
    {
      "cell_type": "markdown",
      "source": [
        "Get Demo Data"
      ],
      "metadata": {
        "id": "2zXVb5hwT1kh"
      }
    },
    {
      "cell_type": "code",
      "source": [
        "!wget https://images.thdstatic.com/productImages/091e153a-245e-4f21-ab67-ac5dbc3437b8/svn/dark-grey-lifestyle-solutions-sofas-couches-ccwenks3m26dgra-64_600.jpg -O /content/sofa.jpg"
      ],
      "metadata": {
        "id": "5pQo4VzBT3X2"
      },
      "execution_count": null,
      "outputs": []
    },
    {
      "cell_type": "markdown",
      "source": [
        "Load model"
      ],
      "metadata": {
        "id": "DSSR1yTOU8Rj"
      }
    },
    {
      "cell_type": "code",
      "source": [
        "from diffusers import StableDiffusionControlNetPipeline, ControlNetModel\n",
        "import torch\n",
        "from diffusers import UniPCMultistepScheduler\n",
        "\n",
        "\n",
        "\n",
        "# controlnet = ControlNetModel.from_pretrained(\"lllyasviel/control_v11p_sd15_canny\", torch_dtype=torch.float16)\n",
        "controlnet = ControlNetModel.from_pretrained(\"lllyasviel/control_v11p_sd15_mlsd\", torch_dtype=torch.float16)\n",
        "# controlnet = ControlNetModel.from_pretrained(\"lllyasviel/control_v11f1p_sd15_depth\", torch_dtype=torch.float16)\n",
        "pipe = StableDiffusionControlNetPipeline.from_pretrained(\n",
        "    \"SG161222/Realistic_Vision_V5.1_noVAE\", controlnet=controlnet, torch_dtype=torch.float16\n",
        ").to(\"cuda\")\n",
        "\n",
        "pipe.scheduler = UniPCMultistepScheduler.from_config(pipe.scheduler.config)"
      ],
      "metadata": {
        "id": "AGJZ4ytxTv40"
      },
      "execution_count": null,
      "outputs": []
    },
    {
      "cell_type": "markdown",
      "source": [
        "Load estimator"
      ],
      "metadata": {
        "id": "U54cLgyLVnUe"
      }
    },
    {
      "cell_type": "code",
      "source": [
        "from controlnet_aux import HEDdetector, MidasDetector, MLSDdetector, OpenposeDetector, PidiNetDetector, NormalBaeDetector, LineartDetector, LineartAnimeDetector, CannyDetector, ContentShuffleDetector, ZoeDetector, MediapipeFaceDetector, SamDetector, LeresDetector, DWposeDetector\n",
        "from transformers import pipeline\n",
        "# load checkpoints\n",
        "# hed = HEDdetector.from_pretrained(\"lllyasviel/Annotators\")\n",
        "midas = pipeline('depth-estimation')\n",
        "mlsd = MLSDdetector.from_pretrained(\"lllyasviel/Annotators\")\n",
        "# open_pose = OpenposeDetector.from_pretrained(\"lllyasviel/Annotators\")\n",
        "# pidi = PidiNetDetector.from_pretrained(\"lllyasviel/Annotators\")\n",
        "# normal_bae = NormalBaeDetector.from_pretrained(\"lllyasviel/Annotators\")\n",
        "# lineart = LineartDetector.from_pretrained(\"lllyasviel/Annotators\")\n",
        "# lineart_anime = LineartAnimeDetector.from_pretrained(\"lllyasviel/Annotators\")\n",
        "# zoe = ZoeDetector.from_pretrained(\"lllyasviel/Annotators\")\n",
        "# sam = SamDetector.from_pretrained(\"ybelkada/segment-anything\", subfolder=\"checkpoints\")\n",
        "# mobile_sam = SamDetector.from_pretrained(\"dhkim2810/MobileSAM\", model_type=\"vit_t\", filename=\"mobile_sam.pt\")\n",
        "# leres = LeresDetector.from_pretrained(\"lllyasviel/Annotators\")"
      ],
      "metadata": {
        "id": "Kjp5YJ7GVocN"
      },
      "execution_count": null,
      "outputs": []
    },
    {
      "cell_type": "markdown",
      "source": [
        "Main function"
      ],
      "metadata": {
        "id": "1kmHcHW1Vj3x"
      }
    },
    {
      "cell_type": "code",
      "source": [
        "import cv2\n",
        "from PIL import Image\n",
        "import numpy as np\n",
        "\n",
        "image_path = \"/content/sofa.jpg\"\n",
        "image = Image.open(image_path)\n",
        "bh, bw = image.size\n",
        "\n",
        "image = image.resize((512, 512))\n",
        "\n",
        "\n",
        "\n",
        "# for canny\n",
        "# low_threshold = 100\n",
        "# high_threshold = 200\n",
        "\n",
        "# image = np.array(image)\n",
        "# image = cv2.Canny(image, low_threshold, high_threshold)\n",
        "# image = image[:, :, None]\n",
        "# image = np.concatenate([image, image, image], axis=2)\n",
        "# pre_image = Image.fromarray(image)\n",
        "\n",
        "# for mlsd\n",
        "pre_image = mlsd(image)\n",
        "pre_image = pre_image.resize((512, 512))\n",
        "\n",
        "# for depth\n",
        "# pre_image = midas(image)[\"depth\"]\n",
        "# pre_image = np.array(pre_image)\n",
        "# pre_image = pre_image[:, :, None]\n",
        "# pre_image = np.concatenate([pre_image, pre_image, pre_image], axis=2)\n",
        "# pre_image = Image.fromarray(pre_image)\n",
        "\n",
        "\n",
        "\n",
        "prompt = \"milky sofa\"\n",
        "generator = torch.Generator(device=\"cpu\").manual_seed(-1)\n",
        "\n",
        "new_image = pipe(\n",
        "    prompt,\n",
        "    pre_image,\n",
        "    negative_prompt=\"monochrome, lowres, bad anatomy, worst quality, low quality\",\n",
        "    num_inference_steps=20,\n",
        "    generator=generator,\n",
        ").images[0]\n",
        "\n",
        "display(new_image)"
      ],
      "metadata": {
        "id": "s4Zv1m5uTq77"
      },
      "execution_count": null,
      "outputs": []
    },
    {
      "cell_type": "code",
      "source": [
        "new_image.resize((bh, bw)).save(\"/content/sofa_white.jpg\")"
      ],
      "metadata": {
        "id": "NxFRzfCXg0V7"
      },
      "execution_count": null,
      "outputs": []
    }
  ]
}