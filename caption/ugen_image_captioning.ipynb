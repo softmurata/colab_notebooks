{
  "nbformat": 4,
  "nbformat_minor": 0,
  "metadata": {
    "colab": {
      "provenance": [],
      "gpuType": "T4",
      "authorship_tag": "ABX9TyObYfX3ruFXMdoDJG1QKckT",
      "include_colab_link": true
    },
    "kernelspec": {
      "name": "python3",
      "display_name": "Python 3"
    },
    "language_info": {
      "name": "python"
    },
    "accelerator": "GPU"
  },
  "cells": [
    {
      "cell_type": "markdown",
      "metadata": {
        "id": "view-in-github",
        "colab_type": "text"
      },
      "source": [
        "<a href=\"https://colab.research.google.com/github/softmurata/colab_notebooks/blob/main/caption/ugen_image_captioning.ipynb\" target=\"_parent\"><img src=\"https://colab.research.google.com/assets/colab-badge.svg\" alt=\"Open In Colab\"/></a>"
      ]
    },
    {
      "cell_type": "code",
      "execution_count": null,
      "metadata": {
        "id": "5rbftIQKwCCZ"
      },
      "outputs": [],
      "source": [
        "%cd /content\n",
        "!git clone -b dev https://github.com/camenduru/ugen-image-captioning-hf\n",
        "%cd /content/ugen-image-captioning-hf\n",
        "!pip install -q gradio uform"
      ]
    },
    {
      "cell_type": "code",
      "source": [
        "# cpu\n",
        "%cd /content/ugen-image-captioning-hf\n",
        "!python app.py"
      ],
      "metadata": {
        "id": "keBCWOCMwGzT"
      },
      "execution_count": 3,
      "outputs": []
    },
    {
      "cell_type": "code",
      "source": [
        "%%writefile /content/ugen-image-captioning-hf/app_cuda.py\n",
        "import gradio as gr\n",
        "from uform import gen_model\n",
        "from PIL import Image\n",
        "import torch\n",
        "\n",
        "device = \"cuda\" if torch.cuda.is_available() else \"cpu\"\n",
        "\n",
        "# Load the model and processor\n",
        "model = gen_model.VLMForCausalLM.from_pretrained(\"unum-cloud/uform-gen\").to(device)\n",
        "processor = gen_model.VLMProcessor.from_pretrained(\"unum-cloud/uform-gen\")\n",
        "\n",
        "def generate_caption(image, prompt):\n",
        "    # Process the image and the prompt\n",
        "    inputs = processor(texts=[prompt], images=[image], return_tensors=\"pt\").to(device)\n",
        "\n",
        "    # Generate the output\n",
        "    with torch.inference_mode():\n",
        "        output = model.generate(\n",
        "            **inputs,\n",
        "            do_sample=False,\n",
        "            use_cache=True,\n",
        "            max_new_tokens=128,\n",
        "            eos_token_id=32001,\n",
        "            pad_token_id=processor.tokenizer.pad_token_id\n",
        "        )\n",
        "\n",
        "    prompt_len = inputs[\"input_ids\"].shape[1]\n",
        "    decoded_text = processor.batch_decode(output[:, prompt_len:])[0]\n",
        "\n",
        "    return decoded_text\n",
        "\n",
        "# Define the Gradio interface\n",
        "description = \"\"\"Quick demonstration of the new Unum uForm-gen for image captioning. Upload an image to generate a detailed caption. Modify the Prompt to change the level of detail in the caption.\n",
        "\n",
        "The model used in this app is available at [Hugging Face Model Hub](https://huggingface.co/unum-cloud/uform-gen) and the source code can be found on [GitHub](https://github.com/unum-cloud/uform).\"\"\"\n",
        "\n",
        "iface = gr.Interface(\n",
        "    fn=generate_caption,\n",
        "    inputs=[gr.Image(type=\"pil\", label=\"Upload Image\"), gr.Textbox(label=\"Prompt\", value=\"Describe the image in great detail\")],\n",
        "    outputs=gr.Textbox(label=\"Generated Caption\"),\n",
        "    description=description\n",
        ")\n",
        "\n",
        "# Launch the interface\n",
        "iface.launch(share=True)"
      ],
      "metadata": {
        "colab": {
          "base_uri": "https://localhost:8080/"
        },
        "id": "ZwDWZLnSyKcq",
        "outputId": "49d1de79-8bd7-4d3b-d014-5cd3b2ac2aaa"
      },
      "execution_count": 4,
      "outputs": [
        {
          "output_type": "stream",
          "name": "stdout",
          "text": [
            "Writing /content/ugen-image-captioning-hf/app_cuda.py\n"
          ]
        }
      ]
    },
    {
      "cell_type": "code",
      "source": [
        "# cuda\n",
        "%cd /content/ugen-image-captioning-hf\n",
        "!python app.py"
      ],
      "metadata": {
        "id": "E6JQOooRyUwx"
      },
      "execution_count": null,
      "outputs": []
    }
  ]
}