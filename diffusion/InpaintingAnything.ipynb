{
  "nbformat": 4,
  "nbformat_minor": 0,
  "metadata": {
    "colab": {
      "provenance": [],
      "gpuType": "T4",
      "authorship_tag": "ABX9TyO384dMSKgRw5WMLlyynyZj",
      "include_colab_link": true
    },
    "kernelspec": {
      "name": "python3",
      "display_name": "Python 3"
    },
    "language_info": {
      "name": "python"
    },
    "accelerator": "GPU",
    "gpuClass": "standard"
  },
  "cells": [
    {
      "cell_type": "markdown",
      "metadata": {
        "id": "view-in-github",
        "colab_type": "text"
      },
      "source": [
        "<a href=\"https://colab.research.google.com/github/softmurata/colab_notebooks/blob/main/diffusion/InpaintingAnything.ipynb\" target=\"_parent\"><img src=\"https://colab.research.google.com/assets/colab-badge.svg\" alt=\"Open In Colab\"/></a>"
      ]
    },
    {
      "cell_type": "markdown",
      "source": [
        "Installation"
      ],
      "metadata": {
        "id": "8LXEe4WQr3Xh"
      }
    },
    {
      "cell_type": "code",
      "execution_count": null,
      "metadata": {
        "id": "yGsZ9ZVWrSYj"
      },
      "outputs": [],
      "source": [
        "%cd /content\n",
        " \n",
        "!git clone https://github.com/geekyutao/Inpaint-Anything.git\n",
        " \n",
        "%cd /content/Inpaint-Anything"
      ]
    },
    {
      "cell_type": "code",
      "source": [
        "# torchtext.legacy solve: https://github.com/Stability-AI/stablediffusion/issues/8\n",
        "%cd /content/Inpaint-Anything\n",
        " \n",
        "!pip uninstall yellowbrick imbalanced-learn -y\n",
        "!python -m pip install -e segment_anything\n",
        "!python -m pip install pyyaml tqdm easydict==1.9.0 scikit-image scikit-learn albumentations==0.5.2 hydra-core==1.1.0 pytorch-lightning==1.8.3.post0 tabulate kornia==0.5.0 webdataset packaging wldhx.yadisk-direct\n",
        "!python -m pip install yellowbrick imbalanced-learn\n",
        "!pip install huggingface-hub"
      ],
      "metadata": {
        "id": "LiRBvJqWsIau"
      },
      "execution_count": null,
      "outputs": []
    },
    {
      "cell_type": "markdown",
      "source": [
        "Download pretrained models"
      ],
      "metadata": {
        "id": "Zu9UrWGXsT9i"
      }
    },
    {
      "cell_type": "code",
      "source": [
        "%cd /content/Inpaint-Anything\n",
        " \n",
        "!mkdir -p pretrained_models\n",
        " \n",
        "!wget -c https://dl.fbaipublicfiles.com/segment_anything/sam_vit_h_4b8939.pth \\\n",
        "      -O ./pretrained_models/sam_vit_h_4b8939.pth\n",
        " \n",
        "# ダウンロード不安定なためHuggingFace使用\n",
        "# !curl -L $(yadisk-direct https://disk.yandex.ru/d/ouP6l8VJ0HpMZg) -o big-lama.zip\n",
        "# !unzip big-lama.zip\n",
        "# !mv big-lama ./pretrained_models\n",
        "!mkdir -p pretrained_models/big-lama/models\n",
        "!wget -c https://huggingface.co/camenduru/big-lama/resolve/main/big-lama/models/best.ckpt \\\n",
        "      -O pretrained_models/big-lama/models/best.ckpt\n",
        "!wget -c https://huggingface.co/camenduru/big-lama/raw/main/big-lama/config.yaml \\\n",
        "      -O pretrained_models/big-lama/config.yaml"
      ],
      "metadata": {
        "id": "bbv1lqj_sV4c"
      },
      "execution_count": null,
      "outputs": []
    },
    {
      "cell_type": "markdown",
      "source": [
        "Import Library"
      ],
      "metadata": {
        "id": "arVmeQHwsLgX"
      }
    },
    {
      "cell_type": "code",
      "source": [
        "import cv2\n",
        "from google.colab.patches import cv2_imshow\n",
        " \n",
        "from PIL import Image\n",
        "import matplotlib.pyplot as plt"
      ],
      "metadata": {
        "id": "AEbq7NjBsK2t"
      },
      "execution_count": 3,
      "outputs": []
    },
    {
      "cell_type": "code",
      "source": [
        "point_x = 58 #@param {type:\"slider\", min:0, max:800, step:1}\n",
        "point_y = 688 #@param {type:\"slider\", min:0, max:800, step:1}\n",
        " \n",
        "img = cv2.imread('/content/Inpaint-Anything/example/remove-anything/person.jpg')\n",
        " \n",
        "cv2.circle(\n",
        "    img,  \n",
        "    (point_x, point_y), # 座標\n",
        "    5,                  # 円の半径 \n",
        "    (0,0,255),          # カラー\n",
        "    -1                  # 太さ\n",
        "    ) \n",
        " \n",
        "cv2_imshow(img)"
      ],
      "metadata": {
        "id": "PiAhKqxW2XyP"
      },
      "execution_count": null,
      "outputs": []
    },
    {
      "cell_type": "code",
      "source": [
        "%cd /content/Inpaint-Anything\n",
        " \n",
        "!python remove_anything.py \\\n",
        "    --input_img /content/Inpaint-Anything/example/remove-anything/person.jpg \\\n",
        "    --point_coords {point_x} {point_y} \\\n",
        "    --coords_type key_in \\\n",
        "    --point_labels 1 \\\n",
        "    --dilate_kernel_size 15 \\\n",
        "    --output_dir ./results \\\n",
        "    --sam_model_type \"vit_h\" \\\n",
        "    --sam_ckpt ./pretrained_models/sam_vit_h_4b8939.pth \\\n",
        "    --lama_config ./lama/configs/prediction/default.yaml \\\n",
        "    --lama_ckpt ./pretrained_models/big-lama/"
      ],
      "metadata": {
        "id": "s0R3o6aH2Qz6"
      },
      "execution_count": null,
      "outputs": []
    },
    {
      "cell_type": "code",
      "source": [
        "# display results\n",
        "from PIL import Image\n",
        "display(Image.open(\"/content/Inpaint-Anything/results/person/inpainted_with_mask_2.png\"))"
      ],
      "metadata": {
        "id": "7bt6VJ4F3JL1"
      },
      "execution_count": null,
      "outputs": []
    },
    {
      "cell_type": "markdown",
      "source": [
        "Replace Anything"
      ],
      "metadata": {
        "id": "jzAr1F_v4IQD"
      }
    },
    {
      "cell_type": "code",
      "source": [
        "!python -m pip install diffusers transformers accelerate scipy safetensors"
      ],
      "metadata": {
        "id": "E3EUJ-OQ4JeK"
      },
      "execution_count": null,
      "outputs": []
    },
    {
      "cell_type": "code",
      "source": [
        "%cd /content/Inpaint-Anything\n",
        "\n",
        "!python fill_anything.py \\\n",
        "    --input_img ./example/fill-anything/sample1.png \\\n",
        "    --coords_type key_in \\\n",
        "    --point_coords 750 500 \\\n",
        "    --point_labels 1 \\\n",
        "    --text_prompt \"a teddy bear on a bench\" \\\n",
        "    --dilate_kernel_size 50 \\\n",
        "    --output_dir ./results \\\n",
        "    --sam_model_type \"vit_h\" \\\n",
        "    --sam_ckpt ./pretrained_models/sam_vit_h_4b8939.pth"
      ],
      "metadata": {
        "id": "-YIZtD554OAx"
      },
      "execution_count": null,
      "outputs": []
    },
    {
      "cell_type": "code",
      "source": [
        "display(Image.open(\"/content/Inpaint-Anything/example/fill-anything/sample1.png\"))"
      ],
      "metadata": {
        "id": "6hCGDDGW5cVw"
      },
      "execution_count": null,
      "outputs": []
    },
    {
      "cell_type": "code",
      "source": [
        "display(Image.open(\"/content/Inpaint-Anything/results/sample1/filled_with_mask_1.png\"))"
      ],
      "metadata": {
        "id": "fLZfKfRi5MgA"
      },
      "execution_count": null,
      "outputs": []
    }
  ]
}