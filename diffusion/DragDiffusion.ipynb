{
  "nbformat": 4,
  "nbformat_minor": 0,
  "metadata": {
    "colab": {
      "provenance": [],
      "gpuType": "T4",
      "authorship_tag": "ABX9TyPRcyJCLiMiz0p8r42b3pV+",
      "include_colab_link": true
    },
    "kernelspec": {
      "name": "python3",
      "display_name": "Python 3"
    },
    "language_info": {
      "name": "python"
    },
    "accelerator": "GPU"
  },
  "cells": [
    {
      "cell_type": "markdown",
      "metadata": {
        "id": "view-in-github",
        "colab_type": "text"
      },
      "source": [
        "<a href=\"https://colab.research.google.com/github/softmurata/colab_notebooks/blob/main/diffusion/DragDiffusion.ipynb\" target=\"_parent\"><img src=\"https://colab.research.google.com/assets/colab-badge.svg\" alt=\"Open In Colab\"/></a>"
      ]
    },
    {
      "cell_type": "markdown",
      "source": [
        "Installation"
      ],
      "metadata": {
        "id": "pNwvCHY9ifdk"
      }
    },
    {
      "cell_type": "code",
      "execution_count": null,
      "metadata": {
        "id": "iHz6ALG6VzqE"
      },
      "outputs": [],
      "source": [
        "!git clone https://github.com/Yujun-Shi/DragDiffusion.git"
      ]
    },
    {
      "cell_type": "code",
      "source": [
        "!pip install -q gradio pytorch-lightning omegaconf streamlit einops transformers kornia open_clip_torch streamlit-drawable-canvas==0.8.0 torchmetrics basicsr moviepy tensorboardX\n",
        "!pip install -q accelerate==0.17.0\n",
        "!pip install -q diffusers==0.17.1\n",
        "!pip install -q bitsandbytes"
      ],
      "metadata": {
        "id": "M9NP5Yx5WEeW"
      },
      "execution_count": null,
      "outputs": []
    },
    {
      "cell_type": "markdown",
      "source": [
        "Train Lora"
      ],
      "metadata": {
        "id": "6t0gUwu2ieTQ"
      }
    },
    {
      "cell_type": "code",
      "source": [
        "!rm -rf /root/.cache/huggingface/accelerate/default_config.yaml"
      ],
      "metadata": {
        "id": "rCEa9QTmcSLG"
      },
      "execution_count": 1,
      "outputs": []
    },
    {
      "cell_type": "code",
      "source": [
        "%cd /content/DragDiffusion\n",
        "\n",
        "from accelerate.utils import write_basic_config\n",
        "write_basic_config()\n",
        "\n",
        "MODEL_NAME=\"runwayml/stable-diffusion-v1-5\"\n",
        "INSTANCE_DIR=\"lora/samples/sculpture\"\n",
        "OUTPUT_DIR=\"lora/lora_ckpt/sculpture_lora\"\n",
        "\n",
        "!python lora/train_dreambooth_lora.py \\\n",
        "  --pretrained_model_name_or_path=$MODEL_NAME  \\\n",
        "  --instance_data_dir=$INSTANCE_DIR \\\n",
        "  --output_dir=$OUTPUT_DIR \\\n",
        "  --instance_prompt=\"a photo of a sculpture\" \\\n",
        "  --resolution=512 \\\n",
        "  --train_batch_size=1 \\\n",
        "  --gradient_accumulation_steps=1 \\\n",
        "  --mixed_precision=\"fp16\" \\\n",
        "  --use_8bit_adam \\\n",
        "  --learning_rate=5e-6 \\\n",
        "  --lr_scheduler=\"constant\" \\\n",
        "  --lr_warmup_steps=0 \\\n",
        "  --max_train_steps=600 \\\n",
        "  --seed=\"0\""
      ],
      "metadata": {
        "id": "Zo5Lqj7Uajjb"
      },
      "execution_count": null,
      "outputs": []
    },
    {
      "cell_type": "markdown",
      "source": [
        "Edit WebUI"
      ],
      "metadata": {
        "id": "-EKwnpkyij1q"
      }
    },
    {
      "cell_type": "code",
      "source": [
        "%cd /content/DragDiffusion\n",
        "!python drag_ui_real.py"
      ],
      "metadata": {
        "id": "yVTKOfpgeKy-"
      },
      "execution_count": null,
      "outputs": []
    }
  ]
}