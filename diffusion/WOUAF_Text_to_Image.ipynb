{
  "nbformat": 4,
  "nbformat_minor": 0,
  "metadata": {
    "colab": {
      "provenance": [],
      "gpuType": "T4",
      "authorship_tag": "ABX9TyMurgPMl47LfvIAXmsTrNG1",
      "include_colab_link": true
    },
    "kernelspec": {
      "name": "python3",
      "display_name": "Python 3"
    },
    "language_info": {
      "name": "python"
    },
    "accelerator": "GPU"
  },
  "cells": [
    {
      "cell_type": "markdown",
      "metadata": {
        "id": "view-in-github",
        "colab_type": "text"
      },
      "source": [
        "<a href=\"https://colab.research.google.com/github/softmurata/colab_notebooks/blob/main/diffusion/WOUAF_Text_to_Image.ipynb\" target=\"_parent\"><img src=\"https://colab.research.google.com/assets/colab-badge.svg\" alt=\"Open In Colab\"/></a>"
      ]
    },
    {
      "cell_type": "markdown",
      "source": [
        "Installation"
      ],
      "metadata": {
        "id": "7psaSOl5zblt"
      }
    },
    {
      "cell_type": "code",
      "execution_count": null,
      "metadata": {
        "id": "pt9Bjsm5vlRc"
      },
      "outputs": [],
      "source": [
        "!git clone https://huggingface.co/spaces/wouaf/WOUAF-Text-to-Image\n",
        "!pip install -q diffusers==0.16.0 accelerate==0.18.0 transformers==4.30.1 gradio==3.34.0 gradio_client==0.2.7\n",
        "%cd /content\n",
        "!wget https://github.com/ninja-build/ninja/releases/download/v1.11.1/ninja-linux.zip\n",
        "!unzip ninja-linux.zip -d /usr/local/bin/\n",
        "!update-alternatives --install /usr/bin/ninja ninja /usr/local/bin/ninja 1 --force"
      ]
    },
    {
      "cell_type": "markdown",
      "source": [
        "Start webUI"
      ],
      "metadata": {
        "id": "nNdZgfRfzcnT"
      }
    },
    {
      "cell_type": "code",
      "source": [
        "%cd /content/WOUAF-Text-to-Image\n",
        "!python app.py"
      ],
      "metadata": {
        "id": "UW7nHGyCwC7z"
      },
      "execution_count": null,
      "outputs": []
    },
    {
      "cell_type": "code",
      "source": [
        "# ninja tips\n",
        "# issue -> https://github.com/zhanghang1989/PyTorch-Encoding/issues/167\n",
        "# wget https://github.com/ninja-build/ninja/releases/download/v1.11.1/ninja-linux.zip\n",
        "# sudo unzip ninja-linux.zip -d /usr/local/bin/\n",
        "# sudo update-alternatives --install /usr/bin/ninja ninja /usr/local/bin/ninja 1 --force"
      ],
      "metadata": {
        "id": "Aq3Sc8t5xPrr"
      },
      "execution_count": null,
      "outputs": []
    }
  ]
}