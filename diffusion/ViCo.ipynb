{
  "nbformat": 4,
  "nbformat_minor": 0,
  "metadata": {
    "colab": {
      "provenance": [],
      "gpuType": "T4",
      "authorship_tag": "ABX9TyO7oD0JttzfFw+m4zPQlHuC",
      "include_colab_link": true
    },
    "kernelspec": {
      "name": "python3",
      "display_name": "Python 3"
    },
    "language_info": {
      "name": "python"
    },
    "accelerator": "GPU"
  },
  "cells": [
    {
      "cell_type": "markdown",
      "metadata": {
        "id": "view-in-github",
        "colab_type": "text"
      },
      "source": [
        "<a href=\"https://colab.research.google.com/github/softmurata/colab_notebooks/blob/main/diffusion/ViCo.ipynb\" target=\"_parent\"><img src=\"https://colab.research.google.com/assets/colab-badge.svg\" alt=\"Open In Colab\"/></a>"
      ]
    },
    {
      "cell_type": "markdown",
      "source": [
        "Installation"
      ],
      "metadata": {
        "id": "TbGeBa7nvdXF"
      }
    },
    {
      "cell_type": "code",
      "execution_count": null,
      "metadata": {
        "id": "uSf43P7ttmaC"
      },
      "outputs": [],
      "source": [
        "!git clone https://github.com/haoosz/ViCo.git"
      ]
    },
    {
      "cell_type": "code",
      "source": [
        "%cd /content/ViCo/\n",
        "!pip install pudb imageio imageio-ffmpeg pytorch-lightning omegaconf test-tube streamlit setuptools==59.5.0 pillow==9.0.1 einops torch-fidelity==0.3.0 transformers torchmetrics kornia==0.6\n",
        "!pip install -e git+https://github.com/CompVis/taming-transformers.git@master#egg=taming-transformers\n",
        "!pip install -e git+https://github.com/openai/CLIP.git@main#egg=clip\n",
        "!pip install -e ."
      ],
      "metadata": {
        "id": "P5jmH9rEt9Z1"
      },
      "execution_count": null,
      "outputs": []
    },
    {
      "cell_type": "markdown",
      "source": [
        "Download models and samples"
      ],
      "metadata": {
        "id": "apJlGjPCvfP5"
      }
    },
    {
      "cell_type": "code",
      "source": [
        "!wget https://huggingface.co/CompVis/stable-diffusion-v-1-4-original/resolve/main/sd-v1-4.ckpt -P /content/ViCo/models/ldm/stable-diffusion-v1"
      ],
      "metadata": {
        "id": "vqS4IuufupIX"
      },
      "execution_count": null,
      "outputs": []
    },
    {
      "cell_type": "code",
      "source": [
        "%cd /content/ViCo\n",
        "import gdown\n",
        "\n",
        "# get sample images\n",
        "url = \"https://drive.google.com/drive/folders/1m8TCsY-C1tIOflHtWnFzTbw2C6dq67mC\"\n",
        "gdown.download_folder(url, quiet=True, use_cookies=False)\n",
        "\n",
        "# get pretrained checkpoint\n",
        "url = \"https://drive.google.com/drive/folders/1I9BJpTLEGueK2hCaR2RKdQrlTrtF24lC\"\n",
        "gdown.download_folder(url, quiet=True, use_cookies=False)"
      ],
      "metadata": {
        "id": "GC0VAHEqu7i6"
      },
      "execution_count": null,
      "outputs": []
    },
    {
      "cell_type": "code",
      "source": [
        "# Please change /content/ViCo/ldm/models/diffusion/ddpm.py\n",
        "\"\"\"\n",
        "# from pytorch_lightning.utilities.distributed import rank_zero_only\n",
        "from pytorch_lightning.utilities.rank_zero import rank_zero_only\n",
        "\n",
        "\"\"\""
      ],
      "metadata": {
        "id": "k9UdII7kzkO3"
      },
      "execution_count": null,
      "outputs": []
    },
    {
      "cell_type": "markdown",
      "source": [
        "Inference"
      ],
      "metadata": {
        "id": "Eov3idFDvhZJ"
      }
    },
    {
      "cell_type": "code",
      "source": [
        "# inference\n",
        "%cd /content/ViCo\n",
        "\n",
        "REF_IMAGE_PATH = \"/content/ViCo/images/batman/1.jpg\"\n",
        "CHECKPOINT_PATH = \"/content/ViCo/ckpt/batman\"\n",
        "OUTPUT_PATH = \"/content/outputs/badman\"\n",
        "\n",
        "!python scripts/vico_txt2img.py \\\n",
        "--ddim_eta 0.0  --n_samples 2  --n_iter 2  --scale 7.5  --ddim_steps 50  \\\n",
        "--ckpt_path models/ldm/stable-diffusion-v1/sd-v1-4.ckpt  \\\n",
        "--image_path $REF_IMAGE_PATH \\\n",
        "--ft_path $CHECKPOINT_PATH \\\n",
        "--load_step 399 \\\n",
        "--prompt \"a photo of * on the beach\" \\\n",
        "--outdir $OUTPUT_PATH"
      ],
      "metadata": {
        "id": "RYMw2lM4vZRI"
      },
      "execution_count": null,
      "outputs": []
    },
    {
      "cell_type": "code",
      "source": [
        "from PIL import Image\n",
        "display(Image.open(\"/content/outputs/badman/a-photo-of-*-on-the-beach.jpg\"))"
      ],
      "metadata": {
        "id": "lcPJaHMwyoDA"
      },
      "execution_count": null,
      "outputs": []
    },
    {
      "cell_type": "code",
      "source": [
        "display(Image.open(REF_IMAGE_PATH))"
      ],
      "metadata": {
        "id": "nN26Q9vvzV4T"
      },
      "execution_count": null,
      "outputs": []
    },
    {
      "cell_type": "code",
      "source": [],
      "metadata": {
        "id": "yh3lijhzzVo2"
      },
      "execution_count": null,
      "outputs": []
    }
  ]
}