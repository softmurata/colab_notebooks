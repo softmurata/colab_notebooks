{
  "nbformat": 4,
  "nbformat_minor": 0,
  "metadata": {
    "colab": {
      "provenance": [],
      "gpuType": "T4",
      "authorship_tag": "ABX9TyMDnV+F3mwfGBG2UiewjCNJ",
      "include_colab_link": true
    },
    "kernelspec": {
      "name": "python3",
      "display_name": "Python 3"
    },
    "language_info": {
      "name": "python"
    },
    "accelerator": "GPU"
  },
  "cells": [
    {
      "cell_type": "markdown",
      "metadata": {
        "id": "view-in-github",
        "colab_type": "text"
      },
      "source": [
        "<a href=\"https://colab.research.google.com/github/softmurata/colab_notebooks/blob/main/diffusion/GlyphControl.ipynb\" target=\"_parent\"><img src=\"https://colab.research.google.com/assets/colab-badge.svg\" alt=\"Open In Colab\"/></a>"
      ]
    },
    {
      "cell_type": "markdown",
      "source": [
        "Installation"
      ],
      "metadata": {
        "id": "TVpzULfVmEo3"
      }
    },
    {
      "cell_type": "code",
      "execution_count": null,
      "metadata": {
        "id": "29jvANdmdADH"
      },
      "outputs": [],
      "source": [
        "!git clone https://github.com/AIGText/GlyphControl-release.git\n",
        "%cd GlyphControl-release\n",
        "!pip install omegaconf tqdm gradio einops pytorch-lightning transformers open_clip_torch ninja triton Levenshtein easyocr xformers==0.0.21.dev541"
      ]
    },
    {
      "cell_type": "markdown",
      "source": [
        "Download model"
      ],
      "metadata": {
        "id": "_Kbx4_z1mLY4"
      }
    },
    {
      "cell_type": "code",
      "source": [
        "!wget https://huggingface.co/spaces/AIGText/GlyphControl/resolve/main/checkpoints/laion10M_epoch_6_model_wo_ema.ckpt -P /content/GlyphControl-release/checkpoints"
      ],
      "metadata": {
        "id": "i7fMjaU6do7d"
      },
      "execution_count": null,
      "outputs": []
    },
    {
      "cell_type": "code",
      "source": [
        "# change this line\n",
        "# /content/GlyphControl-release/ldm/models/diffusion/ddpm.py, 20\n",
        "# from pytorch_lightning.utilities.rank_zero import rank_zero_only "
      ],
      "metadata": {
        "id": "ZZE8ZsemfVmt"
      },
      "execution_count": null,
      "outputs": []
    },
    {
      "cell_type": "code",
      "source": [
        "# change this line\n",
        "# /content/GlyphControl-release/scripts/rendertext_tool.py, 24\n",
        "\"\"\"\n",
        "if ckpt.endswith(\"model_states.pt\"):\n",
        "  # sd = torch.load(ckpt, map_location='cpu')[\"module\"]\n",
        "  sd = torch.load(ckpt, map_location='cuda')[\"module\"]\n",
        "else:\n",
        "  # sd = load_state_dict(ckpt, location='cpu')\n",
        "  sd = load_state_dict(ckpt, location='cuda')\n",
        "\"\"\""
      ],
      "metadata": {
        "id": "e0QoJr1bhlht"
      },
      "execution_count": null,
      "outputs": []
    },
    {
      "cell_type": "markdown",
      "source": [
        "人物＋文字"
      ],
      "metadata": {
        "id": "i-xCoRpUjQCp"
      }
    },
    {
      "cell_type": "code",
      "source": [
        "%cd /content/GlyphControl-release\n",
        "!python inference.py --cfg configs/config.yaml --ckpt checkpoints/laion10M_epoch_6_model_wo_ema.ckpt --save_path generated_images --glyph_instructions glyph_instructions.yaml --prompt \"a japanese man who is playing soccer\" --num_samples 2"
      ],
      "metadata": {
        "id": "GzBs5fSEeJMV"
      },
      "execution_count": null,
      "outputs": []
    },
    {
      "cell_type": "code",
      "source": [
        "from PIL import Image\n",
        "display(Image.open(\"/content/GlyphControl-release/generated_images/a japanese man who is playing soccer/Pokemon Pikachu_1.jpg\"))"
      ],
      "metadata": {
        "id": "kdHweV9yheU0"
      },
      "execution_count": null,
      "outputs": []
    },
    {
      "cell_type": "markdown",
      "source": [
        "文字だけ"
      ],
      "metadata": {
        "id": "RgJxANs5jSaF"
      }
    },
    {
      "cell_type": "code",
      "source": [
        "%cd /content/GlyphControl-release\n",
        "!python inference.py --cfg configs/config.yaml --ckpt checkpoints/laion10M_epoch_6_model_wo_ema.ckpt --save_path generated_images --glyph_instructions glyph_instructions.yaml --prompt \"a sign that says 'Pokemon Pikachu'\" --num_samples 2"
      ],
      "metadata": {
        "id": "sj40JzyljErT"
      },
      "execution_count": null,
      "outputs": []
    },
    {
      "cell_type": "code",
      "source": [
        "from PIL import Image\n",
        "display(Image.open(\"/content/GlyphControl-release/generated_images/a sign that says 'Pokemon Pikachu'/Pokemon Pikachu_1.jpg\"))"
      ],
      "metadata": {
        "id": "gfS8zi1Ej8LW"
      },
      "execution_count": null,
      "outputs": []
    }
  ]
}