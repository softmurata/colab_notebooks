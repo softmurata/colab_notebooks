{
  "nbformat": 4,
  "nbformat_minor": 0,
  "metadata": {
    "colab": {
      "provenance": [],
      "gpuType": "T4",
      "authorship_tag": "ABX9TyPTDmlIb1ci9nzhoWZFzJJv",
      "include_colab_link": true
    },
    "kernelspec": {
      "name": "python3",
      "display_name": "Python 3"
    },
    "language_info": {
      "name": "python"
    },
    "accelerator": "GPU"
  },
  "cells": [
    {
      "cell_type": "markdown",
      "metadata": {
        "id": "view-in-github",
        "colab_type": "text"
      },
      "source": [
        "<a href=\"https://colab.research.google.com/github/softmurata/colab_notebooks/blob/main/diffusion/Animaginexl.ipynb\" target=\"_parent\"><img src=\"https://colab.research.google.com/assets/colab-badge.svg\" alt=\"Open In Colab\"/></a>"
      ]
    },
    {
      "cell_type": "markdown",
      "source": [
        "Installation"
      ],
      "metadata": {
        "id": "uiTAzw8LBIae"
      }
    },
    {
      "cell_type": "code",
      "execution_count": null,
      "metadata": {
        "id": "6TzLPDkxBDAm"
      },
      "outputs": [],
      "source": [
        "!pip install -q --upgrade diffusers invisible_watermark transformers accelerate safetensors"
      ]
    },
    {
      "cell_type": "markdown",
      "source": [
        "Load pipeline"
      ],
      "metadata": {
        "id": "TsrD3GotBNVi"
      }
    },
    {
      "cell_type": "code",
      "source": [
        "import torch\n",
        "from torch import autocast\n",
        "from diffusers import StableDiffusionXLPipeline, EulerAncestralDiscreteScheduler\n",
        "\n",
        "model = \"linaqruf/animagine-xl\"\n",
        "\n",
        "pipe = StableDiffusionXLPipeline.from_pretrained(\n",
        "    model,\n",
        "    torch_dtype=torch.float16,\n",
        "    use_safetensors=True,\n",
        "    variant=\"fp16\",\n",
        "    )\n",
        "pipe.scheduler = EulerAncestralDiscreteScheduler.from_config(pipe.scheduler.config)\n",
        "pipe.to('cuda')"
      ],
      "metadata": {
        "id": "FQ0bf3AzBMPQ"
      },
      "execution_count": null,
      "outputs": []
    },
    {
      "cell_type": "markdown",
      "source": [
        "Inference"
      ],
      "metadata": {
        "id": "XE8qqKPgBOdJ"
      }
    },
    {
      "cell_type": "code",
      "source": [
        "import matplotlib.pyplot as plt\n",
        "from PIL import Image\n",
        "\n",
        "prompt = \"face focus, cute, masterpiece, best quality, 1girl, green hair, sweater, looking at viewer, upper body, beanie, outdoors, night, turtleneck\"\n",
        "negative_prompt = \"lowres, bad anatomy, bad hands, text, error, missing fingers, extra digit, fewer digits, cropped, worst quality, low quality, normal quality, jpeg artifacts, signature, watermark, username, blurry\"\n",
        "output = \"/content/anime_girl.png\"\n",
        "\n",
        "image = pipe(\n",
        "    prompt,\n",
        "    negative_prompt=negative_prompt,\n",
        "    width=1024,\n",
        "    height=1024,\n",
        "    guidance_scale=12,\n",
        "    target_size=(1024,1024),\n",
        "    original_size=(4096,4096),\n",
        "    num_inference_steps=50\n",
        "    ).images[0]\n",
        "\n",
        "image.save(output)\n",
        "image = Image.open(output)\n",
        "display(image)"
      ],
      "metadata": {
        "id": "4Jbuk-ChBPUo"
      },
      "execution_count": null,
      "outputs": []
    },
    {
      "cell_type": "markdown",
      "source": [
        "Img2Img"
      ],
      "metadata": {
        "id": "5HbqiT45Bv7o"
      }
    },
    {
      "cell_type": "code",
      "source": [
        "!wget https://images.ciatr.jp/2022/11/w_640/WrH0rVtsldH38Ac36pWG0SqtWgTi2V2B67IlF7pX.jpg -O /content/kanna.jpg"
      ],
      "metadata": {
        "id": "WRh6uqBbCpqa"
      },
      "execution_count": null,
      "outputs": []
    },
    {
      "cell_type": "code",
      "source": [
        "import torch\n",
        "from PIL import Image\n",
        "from diffusers import StableDiffusionXLImg2ImgPipeline, EulerAncestralDiscreteScheduler\n",
        "\n",
        "model = \"linaqruf/animagine-xl\"\n",
        "\n",
        "pipe = StableDiffusionXLImg2ImgPipeline.from_pretrained(\n",
        "    model,\n",
        "    torch_dtype=torch.float16,\n",
        "    use_safetensors=True,\n",
        "    variant=\"fp16\",\n",
        "    )\n",
        "pipe.scheduler = EulerAncestralDiscreteScheduler.from_config(pipe.scheduler.config)\n",
        "pipe.to('cuda')"
      ],
      "metadata": {
        "id": "-Cjy1DC8Bw5w"
      },
      "execution_count": null,
      "outputs": []
    },
    {
      "cell_type": "code",
      "source": [
        "init_image = Image.open(\"/content/kanna.jpg\").convert(\"RGB\")\n",
        "prompt = \"face focus, cute, masterpiece, best quality, 1girl, green hair, sweater, looking at viewer, upper body, beanie, outdoors, night, turtleneck\"\n",
        "negative_prompt = \"lowres, bad anatomy, bad hands, text, error, missing fingers, extra digit, fewer digits, cropped, worst quality, low quality, normal quality, jpeg artifacts, signature, watermark, username, blurry\"\n",
        "\n",
        "image = pipe(\n",
        "    prompt,\n",
        "    image=init_image,\n",
        "    guidance_scale=12,\n",
        "    target_size=(1024,1024),\n",
        "    original_size=(4096,4096),\n",
        "    num_inference_steps=50\n",
        ").images[0]\n",
        "\n",
        "display(image)"
      ],
      "metadata": {
        "id": "aPlmAS3RB_Qd"
      },
      "execution_count": null,
      "outputs": []
    }
  ]
}