{
  "nbformat": 4,
  "nbformat_minor": 0,
  "metadata": {
    "colab": {
      "provenance": [],
      "gpuType": "T4",
      "authorship_tag": "ABX9TyPfvmYw4XEikEoCtP+hBdwe",
      "include_colab_link": true
    },
    "kernelspec": {
      "name": "python3",
      "display_name": "Python 3"
    },
    "language_info": {
      "name": "python"
    },
    "accelerator": "GPU"
  },
  "cells": [
    {
      "cell_type": "markdown",
      "metadata": {
        "id": "view-in-github",
        "colab_type": "text"
      },
      "source": [
        "<a href=\"https://colab.research.google.com/github/softmurata/colab_notebooks/blob/main/diffusion/BoxDiff.ipynb\" target=\"_parent\"><img src=\"https://colab.research.google.com/assets/colab-badge.svg\" alt=\"Open In Colab\"/></a>"
      ]
    },
    {
      "cell_type": "markdown",
      "source": [
        "[Github](https://github.com/Sierkinhane/BoxDiff)"
      ],
      "metadata": {
        "id": "lgq_4SIU9JsL"
      }
    },
    {
      "cell_type": "code",
      "source": [
        "# google colab freeだとOOMで死ぬ"
      ],
      "metadata": {
        "id": "C_dK7jJq9PCm"
      },
      "execution_count": null,
      "outputs": []
    },
    {
      "cell_type": "code",
      "source": [
        "!pip install git+https://github.com/gligen/diffusers.git"
      ],
      "metadata": {
        "id": "zg2vFmcJ526V"
      },
      "execution_count": null,
      "outputs": []
    },
    {
      "cell_type": "code",
      "source": [
        "%cd /content\n",
        "!git clone https://github.com/Sierkinhane/BoxDiff.git"
      ],
      "metadata": {
        "id": "yjX89PK26bp7"
      },
      "execution_count": null,
      "outputs": []
    },
    {
      "cell_type": "code",
      "source": [
        "!pip install -q transformers==4.26.0 accelerate pyrallis"
      ],
      "metadata": {
        "id": "RM_NvwmY6iXj"
      },
      "execution_count": null,
      "outputs": []
    },
    {
      "cell_type": "code",
      "source": [
        "%cd /content/BoxDiff\n",
        "# !CUDA_VISIBLE_DEVICES=0 python run_sd_boxdiff.py --prompt \"as the aurora lights up the sky, a herd of reindeer leisurely wanders on the grassy meadow, admiring the breathtaking view, a serene lake quietly reflects the magnificent display, and in the distance, a snow-capped mountain stands majestically, fantasy, 8k, highly detailed\" --P 0.2 --L 1 --seeds [1,2,3,4,5,6,7,8,9,10,11,12,13,14,15,16,17,18,19,21,22,23,24,25,26,27,28,29,30] --token_indices [3,12,21,30,46] --bbox [[1,3,512,202],[75,344,421,495],[1,327,508,507],[2,217,507,341],[1,135,509,242]] --refine False\n",
        "!CUDA_VISIBLE_DEVICES=0 python run_gligen_boxdiff.py --prompt \"A rabbit wearing sunglasses looks very proud\" --gligen_phrases [\"a rabbit\",\"sunglasses\"] --P 0.2 --L 1 --seeds [1,2,3,4,5,6,7,8,9] --token_indices [2,4] --bbox [[67,87,366,512],[66,130,364,262]] --refine False"
      ],
      "metadata": {
        "id": "65ygSZpp6u5I"
      },
      "execution_count": null,
      "outputs": []
    }
  ]
}