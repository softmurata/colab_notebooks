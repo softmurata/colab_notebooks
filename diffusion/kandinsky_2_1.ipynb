{
  "cells": [
    {
      "cell_type": "markdown",
      "metadata": {
        "id": "view-in-github",
        "colab_type": "text"
      },
      "source": [
        "<a href=\"https://colab.research.google.com/github/softmurata/colab_notebooks/blob/main/diffusion/kandinsky_2_1.ipynb\" target=\"_parent\"><img src=\"https://colab.research.google.com/assets/colab-badge.svg\" alt=\"Open In Colab\"/></a>"
      ]
    },
    {
      "cell_type": "markdown",
      "metadata": {
        "id": "jSPFPmVfYd9V"
      },
      "source": [
        "Installation"
      ]
    },
    {
      "cell_type": "code",
      "execution_count": null,
      "metadata": {
        "id": "vDrL7pKJYWeD"
      },
      "outputs": [],
      "source": [
        "!pip install diffusers transformers accelerate"
      ]
    },
    {
      "cell_type": "markdown",
      "metadata": {
        "id": "jhuLVjNvaRQM"
      },
      "source": [
        "Text to Image"
      ]
    },
    {
      "cell_type": "code",
      "execution_count": null,
      "metadata": {
        "id": "w8A67C9PYut9"
      },
      "outputs": [],
      "source": [
        "from diffusers import DiffusionPipeline\n",
        "import torch"
      ]
    },
    {
      "cell_type": "code",
      "execution_count": null,
      "metadata": {
        "id": "-mMlOg2nY5pp"
      },
      "outputs": [],
      "source": [
        "pipe_prior = DiffusionPipeline.from_pretrained(\"kandinsky-community/kandinsky-2-1-prior\", torch_dtype=torch.float16)\n",
        "pipe_prior.to(\"cuda\")\n",
        "t2i_pipe = DiffusionPipeline.from_pretrained(\"kandinsky-community/kandinsky-2-1\", torch_dtype=torch.float16)\n",
        "t2i_pipe.to(\"cuda\")"
      ]
    },
    {
      "cell_type": "code",
      "execution_count": null,
      "metadata": {
        "id": "exI7ABEDYzF4"
      },
      "outputs": [],
      "source": [
        "prompt = \"A alien cheeseburger creature eating itself, claymation, cinematic, moody lighting\"\n",
        "negative_prompt = \"low quality, bad quality\"\n",
        "\n",
        "generator = torch.Generator(device=\"cuda\").manual_seed(12)\n",
        "image_embeds, negative_image_embeds = pipe_prior(prompt, negative_prompt, guidance_scale=1.0, generator=generator).to_tuple()\n",
        "\n",
        "image = t2i_pipe(prompt, negative_prompt=negative_prompt, image_embeds=image_embeds, negative_image_embeds=negative_image_embeds).images[0]\n",
        "# image.save(\"cheeseburger_monster.png\")\n",
        "display(image)"
      ]
    },
    {
      "cell_type": "markdown",
      "metadata": {
        "id": "1bc0LaclaSyE"
      },
      "source": [
        "Text guided Image 2 Image"
      ]
    },
    {
      "cell_type": "code",
      "execution_count": null,
      "metadata": {
        "id": "Udf4wuWQaWnp"
      },
      "outputs": [],
      "source": [
        "from diffusers import KandinskyImg2ImgPipeline, KandinskyPriorPipeline\n",
        "import torch\n",
        "\n",
        "from PIL import Image\n",
        "import requests\n",
        "from io import BytesIO"
      ]
    },
    {
      "cell_type": "code",
      "execution_count": null,
      "metadata": {
        "id": "_gxoB0R-aUzx"
      },
      "outputs": [],
      "source": [
        "url = \"https://raw.githubusercontent.com/CompVis/stable-diffusion/main/assets/stable-samples/img2img/sketch-mountains-input.jpg\"\n",
        "response = requests.get(url)\n",
        "original_image = Image.open(BytesIO(response.content)).convert(\"RGB\")\n",
        "original_image = original_image.resize((768, 512))\n",
        "display(original_image)"
      ]
    },
    {
      "cell_type": "code",
      "execution_count": null,
      "metadata": {
        "id": "bUQxmLpeacuv"
      },
      "outputs": [],
      "source": [
        "# create prior\n",
        "pipe_prior = KandinskyPriorPipeline.from_pretrained(\n",
        "    \"kandinsky-community/kandinsky-2-1-prior\", torch_dtype=torch.float16\n",
        ")\n",
        "pipe_prior.to(\"cuda\")\n",
        "\n",
        "# create img2img pipeline\n",
        "pipe = KandinskyImg2ImgPipeline.from_pretrained(\"kandinsky-community/kandinsky-2-1\", torch_dtype=torch.float16)\n",
        "pipe.to(\"cuda\")"
      ]
    },
    {
      "cell_type": "code",
      "execution_count": null,
      "metadata": {
        "id": "mmwQIN-Pae5z"
      },
      "outputs": [],
      "source": [
        "prompt = \"A fantasy landscape, Cinematic lighting\"\n",
        "negative_prompt = \"low quality, bad quality\"\n",
        "\n",
        "generator = torch.Generator(device=\"cuda\").manual_seed(30)\n",
        "image_embeds, negative_image_embeds = pipe_prior(prompt, negative_prompt, generator=generator).to_tuple()\n",
        "\n",
        "out = pipe(\n",
        "    prompt,\n",
        "    image=original_image,\n",
        "    image_embeds=image_embeds,\n",
        "    negative_image_embeds=negative_image_embeds,\n",
        "    height=768,\n",
        "    width=768,\n",
        "    strength=0.3,\n",
        ")\n",
        "\n",
        "display(out.images[0])"
      ]
    },
    {
      "cell_type": "markdown",
      "metadata": {
        "id": "JMnt8FYoamE4"
      },
      "source": [
        "Interpolate"
      ]
    },
    {
      "cell_type": "code",
      "execution_count": null,
      "metadata": {
        "id": "TRiBi6TjanCI"
      },
      "outputs": [],
      "source": [
        "from diffusers import KandinskyPriorPipeline, KandinskyPipeline\n",
        "from diffusers.utils import load_image\n",
        "import PIL\n",
        "\n",
        "import torch"
      ]
    },
    {
      "cell_type": "code",
      "execution_count": null,
      "metadata": {
        "id": "mBQ-3TVyazlN"
      },
      "outputs": [],
      "source": [
        "img1 = load_image(\n",
        "    \"https://huggingface.co/datasets/hf-internal-testing/diffusers-images/resolve/main\" \"/kandinsky/cat.png\"\n",
        ")\n",
        "\n",
        "img2 = load_image(\n",
        "    \"https://huggingface.co/datasets/hf-internal-testing/diffusers-images/resolve/main\" \"/kandinsky/starry_night.jpeg\"\n",
        ")\n",
        "\n",
        "# add all the conditions we want to interpolate, can be either text or image\n",
        "images_texts = [\"a cat\", img1, img2]\n",
        "\n",
        "# specify the weights for each condition in images_texts\n",
        "weights = [0.3, 0.3, 0.4]"
      ]
    },
    {
      "cell_type": "code",
      "execution_count": null,
      "metadata": {
        "colab": {
          "background_save": true
        },
        "id": "BmljAzk1c8k3"
      },
      "outputs": [],
      "source": [
        "display(img1, img2)"
      ]
    },
    {
      "cell_type": "code",
      "execution_count": null,
      "metadata": {
        "id": "7q1HL_77awO6"
      },
      "outputs": [],
      "source": [
        "pipe_prior = KandinskyPriorPipeline.from_pretrained(\n",
        "    \"kandinsky-community/kandinsky-2-1-prior\", torch_dtype=torch.float16\n",
        ")\n",
        "pipe_prior.to(\"cuda\")\n",
        "\n",
        "# We can leave the prompt empty\n",
        "prompt = \"\"\n",
        "prior_out = pipe_prior.interpolate(images_texts, weights)\n",
        "\n",
        "pipe = KandinskyPipeline.from_pretrained(\"kandinsky-community/kandinsky-2-1\", torch_dtype=torch.float16)\n",
        "pipe.to(\"cuda\")\n",
        "\n",
        "image = pipe(prompt, **prior_out, height=768, width=768).images[0]\n",
        "\n",
        "display(image)"
      ]
    }
  ],
  "metadata": {
    "accelerator": "GPU",
    "colab": {
      "provenance": [],
      "authorship_tag": "ABX9TyOn0iP1KUUsS7wyoAFq03jD",
      "include_colab_link": true
    },
    "kernelspec": {
      "display_name": "Python 3",
      "name": "python3"
    },
    "language_info": {
      "name": "python"
    }
  },
  "nbformat": 4,
  "nbformat_minor": 0
}