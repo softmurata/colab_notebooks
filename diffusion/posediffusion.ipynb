{
  "nbformat": 4,
  "nbformat_minor": 0,
  "metadata": {
    "colab": {
      "provenance": [],
      "gpuType": "T4",
      "authorship_tag": "ABX9TyOp6wgEGIQD3F8Nkik0wkfB",
      "include_colab_link": true
    },
    "kernelspec": {
      "name": "python3",
      "display_name": "Python 3"
    },
    "language_info": {
      "name": "python"
    },
    "accelerator": "GPU"
  },
  "cells": [
    {
      "cell_type": "markdown",
      "metadata": {
        "id": "view-in-github",
        "colab_type": "text"
      },
      "source": [
        "<a href=\"https://colab.research.google.com/github/softmurata/colab_notebooks/blob/main/diffusion/posediffusion.ipynb\" target=\"_parent\"><img src=\"https://colab.research.google.com/assets/colab-badge.svg\" alt=\"Open In Colab\"/></a>"
      ]
    },
    {
      "cell_type": "code",
      "execution_count": 1,
      "metadata": {
        "id": "RRhqXryRuX-S",
        "colab": {
          "base_uri": "https://localhost:8080/"
        },
        "outputId": "f1dc04d9-a08e-4e4c-da3a-0a7e672b9386"
      },
      "outputs": [
        {
          "output_type": "stream",
          "name": "stdout",
          "text": [
            "Mounted at /content/drive\n"
          ]
        }
      ],
      "source": [
        "from google.colab import drive\n",
        "drive.mount('/content/drive')"
      ]
    },
    {
      "cell_type": "markdown",
      "source": [
        "Installation"
      ],
      "metadata": {
        "id": "ppS1xLwaNb6k"
      }
    },
    {
      "cell_type": "code",
      "source": [
        "!git clone https://github.com/facebookresearch/PoseDiffusion.git\n",
        "!pip install \"git+https://github.com/facebookresearch/pytorch3d.git@stable\"\n",
        "%cd PoseDiffusion\n",
        "!pip install hydra-core --upgrade\n",
        "!pip install omegaconf opencv-python einops\n",
        "\n",
        "# Install HLoc for extracting 2D matches (optional if GGS is not needed)\n",
        "!git clone --recursive https://github.com/cvg/Hierarchical-Localization.git dependency/hloc\n",
        "\n",
        "%cd dependency/hloc\n",
        "!python -m pip install -e .\n",
        "%cd ../../"
      ],
      "metadata": {
        "id": "3LqzH6KDu5fV"
      },
      "execution_count": null,
      "outputs": []
    },
    {
      "cell_type": "markdown",
      "source": [
        "Pose estimation"
      ],
      "metadata": {
        "id": "sqlOtfRNNdTX"
      }
    },
    {
      "cell_type": "code",
      "source": [
        "%cd /content/PoseDiffusion/pose_diffusion\n",
        "!python demo.py image_folder=\"samples/apple\" ckpt=\"/content/drive/MyDrive/co3d_model_Apr16.pth\""
      ],
      "metadata": {
        "colab": {
          "base_uri": "https://localhost:8080/"
        },
        "id": "VDzN46PCvo1j",
        "outputId": "22fa15d1-a67b-42b0-e3fb-242b85369ff2"
      },
      "execution_count": 6,
      "outputs": [
        {
          "output_type": "stream",
          "name": "stdout",
          "text": [
            "/content/PoseDiffusion/pose_diffusion\n",
            "/content/PoseDiffusion/pose_diffusion/demo.py:33: UserWarning: \n",
            "The version_base parameter is not specified.\n",
            "Please specify a compatability version level, or None.\n",
            "Will assume defaults for version 1.1\n",
            "  @hydra.main(config_path=\"../cfgs/\", config_name=\"default\")\n",
            "/usr/local/lib/python3.10/dist-packages/hydra/_internal/hydra.py:119: UserWarning: Future Hydra versions will no longer change working directory at job runtime by default.\n",
            "See https://hydra.cc/docs/1.2/upgrades/1.1_to_1.2/changes_to_job_working_dir/ for more information.\n",
            "  ret = run_job(\n",
            "Model Config:\n",
            "image_folder: samples/apple\n",
            "image_size: 224\n",
            "ckpt: /content/drive/MyDrive/co3d_model_Apr16.pth\n",
            "seed: 0\n",
            "GGS:\n",
            "  enable: true\n",
            "  start_step: 10\n",
            "  learning_rate: 0.01\n",
            "  iter_num: 100\n",
            "  sampson_max: 10\n",
            "  min_matches: 10\n",
            "  alpha: 0.0001\n",
            "MODEL:\n",
            "  _target_: models.PoseDiffusionModel\n",
            "  pose_encoding_type: absT_quaR_logFL\n",
            "  IMAGE_FEATURE_EXTRACTOR:\n",
            "    _target_: models.MultiScaleImageFeatureExtractor\n",
            "    freeze: false\n",
            "  DENOISER:\n",
            "    _target_: models.Denoiser\n",
            "    TRANSFORMER:\n",
            "      _target_: models.TransformerEncoderWrapper\n",
            "      d_model: 512\n",
            "      nhead: 4\n",
            "      dim_feedforward: 1024\n",
            "      num_encoder_layers: 8\n",
            "      dropout: 0.1\n",
            "      batch_first: true\n",
            "      norm_first: true\n",
            "  DIFFUSER:\n",
            "    _target_: models.GaussianDiffusion\n",
            "    beta_schedule: custom\n",
            "\n",
            "Using cache found in /root/.cache/torch/hub/facebookresearch_dino_main\n",
            "Loaded checkpoint from: /content/drive/MyDrive/co3d_model_Apr16.pth\n",
            "[2023/07/03 00:42:27 hloc INFO] Extracting local features with configuration:\n",
            "{'model': {'max_keypoints': 4096, 'name': 'superpoint', 'nms_radius': 4},\n",
            " 'output': 'feats-superpoint-n4096-r1600',\n",
            " 'preprocessing': {'grayscale': True, 'resize_max': 1600}}\n",
            "Loaded SuperPoint model\n",
            "100% 20/20 [00:03<00:00,  5.31it/s]\n",
            "[2023/07/03 00:42:30 hloc INFO] Finished exporting features.\n",
            "[2023/07/03 00:42:30 hloc INFO] Found 190 pairs.\n",
            "[2023/07/03 00:42:30 hloc INFO] Matching local features with configuration:\n",
            "{'model': {'name': 'superglue',\n",
            "           'sinkhorn_iterations': 50,\n",
            "           'weights': 'outdoor'},\n",
            " 'output': 'matches-superglue'}\n",
            "Loaded SuperGlue model (\"outdoor\" weights)\n",
            "/usr/local/lib/python3.10/dist-packages/torch/utils/data/dataloader.py:560: UserWarning: This DataLoader will create 5 worker processes in total. Our suggested max number of worker in current system is 2, which is smaller than what this DataLoader is going to create. Please be aware that excessive worker creation might get DataLoader running slow or even freeze, lower the worker number to avoid potential slowness/freeze if necessary.\n",
            "  warnings.warn(_create_warning_msg(\n",
            "100% 190/190 [00:15<00:00, 12.39it/s]\n",
            "[2023/07/03 00:42:46 hloc INFO] Finished exporting matches.\n",
            "[2023/07/03 00:42:46 hloc INFO] Creating an empty database...\n",
            "[2023/07/03 00:42:46 hloc INFO] Importing images into the database...\n",
            "[2023/07/03 00:42:46 hloc INFO] Importing features into the database...\n",
            "100% 20/20 [00:00<00:00, 1341.55it/s]\n",
            "[2023/07/03 00:42:46 hloc INFO] Importing matches into the database...\n",
            "100% 190/190 [00:00<00:00, 1025.36it/s]\n",
            "[2023/07/03 00:42:47 hloc INFO] Performing geometric verification of the matches...\n",
            "\u001b[92m=====> Sampling with GGS <=====\u001b[0m\n",
            "/usr/local/lib/python3.10/dist-packages/torch/functional.py:504: UserWarning: torch.meshgrid: in an upcoming release, it will be required to pass the indexing argument. (Triggered internally at ../aten/src/ATen/native/TensorShape.cpp:3483.)\n",
            "  return _VF.meshgrid(tensors, **kwargs)  # type: ignore[attr-defined]\n",
            "t=09 | sampson=9.633526\n",
            "t=09 | sampson=9.635119\n",
            "t=09 | sampson=9.633526\n",
            "t=09 | sampson=9.626785\n",
            "t=09 | sampson=9.620031\n",
            "t=08 | sampson=9.309773\n",
            "t=08 | sampson=9.359383\n",
            "t=08 | sampson=9.320273\n",
            "t=08 | sampson=9.269632\n",
            "t=08 | sampson=9.150236\n",
            "t=07 | sampson=8.847510\n",
            "t=07 | sampson=8.823072\n",
            "t=07 | sampson=8.718738\n",
            "t=07 | sampson=8.666028\n",
            "t=07 | sampson=8.333105\n",
            "t=06 | sampson=7.737151\n",
            "t=06 | sampson=7.737524\n",
            "t=06 | sampson=7.721776\n",
            "t=06 | sampson=7.681116\n",
            "t=06 | sampson=7.610460\n",
            "t=05 | sampson=4.951053\n",
            "t=05 | sampson=4.929837\n",
            "t=05 | sampson=4.645769\n",
            "t=05 | sampson=3.931677\n",
            "t=05 | sampson=2.546565\n",
            "t=04 | sampson=1.951204\n",
            "t=04 | sampson=1.944381\n",
            "t=04 | sampson=1.929627\n",
            "t=04 | sampson=1.908971\n",
            "t=04 | sampson=1.827491\n",
            "t=03 | sampson=1.852566\n",
            "t=03 | sampson=1.844779\n",
            "t=03 | sampson=1.827054\n",
            "t=03 | sampson=1.813478\n",
            "t=03 | sampson=1.785633\n",
            "t=02 | sampson=1.828310\n",
            "t=02 | sampson=1.826954\n",
            "t=02 | sampson=1.815459\n",
            "t=02 | sampson=1.800303\n",
            "t=02 | sampson=1.787807\n",
            "t=01 | sampson=1.873330\n",
            "t=01 | sampson=1.863467\n",
            "t=01 | sampson=1.838788\n",
            "t=01 | sampson=1.819830\n",
            "t=01 | sampson=1.778436\n",
            "t=00 | sampson=1.776855\n",
            "t=00 | sampson=1.777257\n",
            "t=00 | sampson=1.764551\n",
            "t=00 | sampson=1.759236\n",
            "t=00 | sampson=1.766052\n",
            "Time taken: 116.1257 seconds\n",
            "For samples/apple: the absolute rotation error is 2.146043 degrees.\n",
            "Without GGS, it should be smaller than 3.20 degrees.\n",
            "With GGS, it should be smaller than 2.16 degrees.\n"
          ]
        }
      ]
    }
  ]
}