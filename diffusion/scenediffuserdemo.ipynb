{
  "nbformat": 4,
  "nbformat_minor": 0,
  "metadata": {
    "colab": {
      "provenance": [],
      "gpuType": "T4",
      "authorship_tag": "ABX9TyPOuB/S96XDxaGESx07UHmR",
      "include_colab_link": true
    },
    "kernelspec": {
      "name": "python3",
      "display_name": "Python 3"
    },
    "language_info": {
      "name": "python"
    },
    "accelerator": "GPU"
  },
  "cells": [
    {
      "cell_type": "markdown",
      "metadata": {
        "id": "view-in-github",
        "colab_type": "text"
      },
      "source": [
        "<a href=\"https://colab.research.google.com/github/softmurata/colab_notebooks/blob/main/diffusion/scenediffuserdemo.ipynb\" target=\"_parent\"><img src=\"https://colab.research.google.com/assets/colab-badge.svg\" alt=\"Open In Colab\"/></a>"
      ]
    },
    {
      "cell_type": "markdown",
      "source": [],
      "metadata": {
        "id": "L92cqQmCj4MT"
      }
    },
    {
      "cell_type": "code",
      "execution_count": null,
      "metadata": {
        "id": "8K-I6LMFjzS6"
      },
      "outputs": [],
      "source": [
        "!git clone --recursive https://huggingface.co/spaces/SceneDiffuser/SceneDiffuserDemo"
      ]
    },
    {
      "cell_type": "code",
      "source": [
        "!pip uninstall pyopengl\n",
        "!pip install pyopengl==3.1.5"
      ],
      "metadata": {
        "id": "t_rzkuZI_IvZ"
      },
      "execution_count": null,
      "outputs": []
    },
    {
      "cell_type": "code",
      "source": [
        "%cd /content/SceneDiffuserDemo/\n",
        "!pip install -r requirements.txt"
      ],
      "metadata": {
        "id": "RqVUxlKflqrW"
      },
      "execution_count": null,
      "outputs": []
    },
    {
      "cell_type": "code",
      "source": [
        "!pip install -q gradio"
      ],
      "metadata": {
        "id": "BLBKO9Spt8vw"
      },
      "execution_count": null,
      "outputs": []
    },
    {
      "cell_type": "code",
      "source": [
        "# !apt install freeglut3-dev\n",
        "!apt-get install libosmesa6 libosmesa6-dev\n",
        "!apt-get update\n",
        "!apt-get install llvm-6.0 freeglut3 freeglut3-dev"
      ],
      "metadata": {
        "id": "fvY34wFk8cY8"
      },
      "execution_count": null,
      "outputs": []
    },
    {
      "cell_type": "code",
      "source": [
        "!pip install -q pyrender"
      ],
      "metadata": {
        "id": "QRNSy5TZ8C99"
      },
      "execution_count": null,
      "outputs": []
    },
    {
      "cell_type": "code",
      "source": [
        "# scenediffuser/models/visualizer.py, scenediffuser/models/environment.py\n",
        "# comment out @torch.no_grad()\n",
        "# OS Mesa error ,,\n",
        "%cd /content/SceneDiffuserDemo/\n",
        "!python app.py"
      ],
      "metadata": {
        "colab": {
          "base_uri": "https://localhost:8080/"
        },
        "id": "-I61-6lDmGKO",
        "outputId": "36222881-6d4e-4c43-ff11-e687de2152b4"
      },
      "execution_count": 9,
      "outputs": [
        {
          "output_type": "stream",
          "name": "stdout",
          "text": [
            "/content/SceneDiffuserDemo\n",
            "2023-08-15 07:35:42.278705: I tensorflow/core/platform/cpu_feature_guard.cc:182] This TensorFlow binary is optimized to use available CPU instructions in performance-critical operations.\n",
            "To enable the following instructions: AVX2 FMA, in other operations, rebuild TensorFlow with the appropriate compiler flags.\n",
            "/content/SceneDiffuserDemo/app.py:29: GradioDeprecationWarning: The `style` method is deprecated. Please set these arguments in the constructor instead.\n",
            "  image1 = gr.Gallery(label=\"Image [Result]\").style(grid=[1], height=\"50\")\n",
            "/content/SceneDiffuserDemo/app.py:29: GradioDeprecationWarning: The 'grid' parameter will be deprecated. Please use 'grid_cols' in the constructor instead.\n",
            "  image1 = gr.Gallery(label=\"Image [Result]\").style(grid=[1], height=\"50\")\n",
            "/content/SceneDiffuserDemo/app.py:48: GradioDeprecationWarning: The `style` method is deprecated. Please set these arguments in the constructor instead.\n",
            "  image2 = gr.Gallery(label=\"Image [Result]\").style(grid=[1], height=\"50\")\n",
            "/content/SceneDiffuserDemo/app.py:48: GradioDeprecationWarning: The 'grid' parameter will be deprecated. Please use 'grid_cols' in the constructor instead.\n",
            "  image2 = gr.Gallery(label=\"Image [Result]\").style(grid=[1], height=\"50\")\n",
            "/content/SceneDiffuserDemo/app.py:85: GradioDeprecationWarning: The `style` method is deprecated. Please set these arguments in the constructor instead.\n",
            "  image4 = gr.Gallery(label=\"Image [Result]\").style(grid=[1], height=\"50\")\n",
            "/content/SceneDiffuserDemo/app.py:85: GradioDeprecationWarning: The 'grid' parameter will be deprecated. Please use 'grid_cols' in the constructor instead.\n",
            "  image4 = gr.Gallery(label=\"Image [Result]\").style(grid=[1], height=\"50\")\n",
            "Running on local URL:  http://127.0.0.1:7860\n",
            "Running on public URL: https://84cc4a96a635603ffc.gradio.live\n",
            "\n",
            "This share link expires in 72 hours. For free permanent hosting and GPU upgrades, run `gradio deploy` from Terminal to deploy to Spaces (https://huggingface.co/spaces)\n",
            "Downloading model.pth: 100% 31.5M/31.5M [00:00<00:00, 43.2MB/s]\n",
            "Downloading pose_motion.zip: 100% 723M/723M [00:07<00:00, 98.9MB/s]\n",
            "100% 11/11 [00:00<00:00, 66.86it/s]\n",
            "\u001b[32m2023-08-15 07:36:31.367\u001b[0m | \u001b[1mINFO    \u001b[0m | \u001b[36mmodels.model.pointtransformer\u001b[0m:\u001b[36mload_pretrained_weight\u001b[0m:\u001b[36m231\u001b[0m - \u001b[1mLoad pretrained scene model: /root/.cache/huggingface/hub/models--SceneDiffuser--SceneDiffuser/snapshots/6ccb89714238e7eb8890fd3b7012917c2dfbaef4/weights/POINTTRANS_C_32768/model.pth\u001b[0m\n",
            "Downloading model.pth: 100% 90.8M/90.8M [00:00<00:00, 122MB/s]\n",
            "Traceback (most recent call last):\n",
            "  File \"/usr/local/lib/python3.10/dist-packages/gradio/routes.py\", line 488, in run_predict\n",
            "    output = await app.get_blocks().process_api(\n",
            "  File \"/usr/local/lib/python3.10/dist-packages/gradio/blocks.py\", line 1431, in process_api\n",
            "    result = await self.call_function(\n",
            "  File \"/usr/local/lib/python3.10/dist-packages/gradio/blocks.py\", line 1109, in call_function\n",
            "    prediction = await anyio.to_thread.run_sync(\n",
            "  File \"/usr/local/lib/python3.10/dist-packages/anyio/to_thread.py\", line 33, in run_sync\n",
            "    return await get_asynclib().run_sync_in_worker_thread(\n",
            "  File \"/usr/local/lib/python3.10/dist-packages/anyio/_backends/_asyncio.py\", line 877, in run_sync_in_worker_thread\n",
            "    return await future\n",
            "  File \"/usr/local/lib/python3.10/dist-packages/anyio/_backends/_asyncio.py\", line 807, in run\n",
            "    result = context.run(func, *args)\n",
            "  File \"/usr/local/lib/python3.10/dist-packages/gradio/utils.py\", line 706, in wrapper\n",
            "    response = f(*args, **kwargs)\n",
            "  File \"/content/SceneDiffuserDemo/interface.py\", line 184, in pose_generation\n",
            "    res = _sampling(config, scene)\n",
            "  File \"/content/SceneDiffuserDemo/interface.py\", line 108, in _sampling\n",
            "    results = visualizer.visualize(model, dataloader)\n",
            "  File \"/content/SceneDiffuserDemo/scenediffuser/models/visualizer.py\", line 468, in visualize\n",
            "    img = render_prox_scene({'scenes': [scene_mesh], 'bodies': [body_mesh]}, camera_pose, None)\n",
            "  File \"/content/SceneDiffuserDemo/scenediffuser/utils/visualize.py\", line 65, in render_prox_scene\n",
            "    r = pyrender.OffscreenRenderer(\n",
            "  File \"/usr/local/lib/python3.10/dist-packages/pyrender/offscreen.py\", line 31, in __init__\n",
            "    self._create()\n",
            "  File \"/usr/local/lib/python3.10/dist-packages/pyrender/offscreen.py\", line 149, in _create\n",
            "    self._platform.init_context()\n",
            "  File \"/usr/local/lib/python3.10/dist-packages/pyrender/platforms/osmesa.py\", line 19, in init_context\n",
            "    from OpenGL.osmesa import (\n",
            "ImportError: cannot import name 'OSMesaCreateContextAttribs' from 'OpenGL.osmesa' (/usr/local/lib/python3.10/dist-packages/OpenGL/osmesa/__init__.py)\n",
            "Keyboard interruption in main thread... closing server.\n",
            "Killing tunnel 127.0.0.1:7860 <> https://84cc4a96a635603ffc.gradio.live\n"
          ]
        }
      ]
    }
  ]
}