{
  "cells": [
    {
      "cell_type": "markdown",
      "metadata": {
        "id": "view-in-github",
        "colab_type": "text"
      },
      "source": [
        "<a href=\"https://colab.research.google.com/github/softmurata/colab_notebooks/blob/main/diffusion/Controlavideo.ipynb\" target=\"_parent\"><img src=\"https://colab.research.google.com/assets/colab-badge.svg\" alt=\"Open In Colab\"/></a>"
      ]
    },
    {
      "cell_type": "markdown",
      "source": [
        "Installation"
      ],
      "metadata": {
        "id": "bIJtx7VcjKP-"
      }
    },
    {
      "cell_type": "code",
      "execution_count": null,
      "metadata": {
        "id": "adf-IFVNbFyn"
      },
      "outputs": [],
      "source": [
        "!git clone https://github.com/Weifeng-Chen/control-a-video.git\n",
        "!pip install diffusers==0.14.0 transformers accelerate xformers decord einops"
      ]
    },
    {
      "cell_type": "markdown",
      "source": [
        "Inference"
      ],
      "metadata": {
        "id": "pl1PHyLjjMLH"
      }
    },
    {
      "cell_type": "code",
      "execution_count": null,
      "metadata": {
        "id": "Zq-jrvbQbbZL"
      },
      "outputs": [],
      "source": [
        "%cd /content/control-a-video\n",
        "!python inference.py --prompt \"a bear walking through stars, artstation\" --input_video bear.mp4 --control_mode depth"
      ]
    },
    {
      "cell_type": "markdown",
      "source": [
        "Display Results"
      ],
      "metadata": {
        "id": "UnutUvlnjNJW"
      }
    },
    {
      "cell_type": "code",
      "execution_count": null,
      "metadata": {
        "id": "RNZdaNNLd6oA"
      },
      "outputs": [],
      "source": [
        "# https://qiita.com/yusuke_s_yusuke/items/9190df94094ab0d98154\n",
        "import IPython\n",
        "\n",
        "\n",
        "out_filename = '/content/control-a-video/demo.gif'\n",
        "IPython.display.Image(out_filename, format='png')"
      ]
    },
    {
      "cell_type": "code",
      "execution_count": null,
      "metadata": {
        "colab": {
          "background_save": true
        },
        "id": "zmBRAE20f3o6"
      },
      "outputs": [],
      "source": [
        "out_filename = '/content/control-a-video/bear.gif'\n",
        "IPython.display.Image(out_filename, format='png')"
      ]
    },
    {
      "cell_type": "markdown",
      "metadata": {
        "id": "ym9ouUjTfZdc"
      },
      "source": [
        "Options"
      ]
    },
    {
      "cell_type": "code",
      "execution_count": null,
      "metadata": {
        "id": "5F-emLnifag7"
      },
      "outputs": [],
      "source": [
        "%cd /content\n",
        "!git clone https://github.com/nstevens1040/mp42gif.git\n",
        "%cd mp42gif\n",
        "!pip install -r requirements.txt"
      ]
    },
    {
      "cell_type": "code",
      "execution_count": null,
      "metadata": {
        "id": "gKCLbDDPffUM"
      },
      "outputs": [],
      "source": [
        "!python mp42gif.py --input /content/control-a-video/bear.mp4"
      ]
    }
  ],
  "metadata": {
    "accelerator": "GPU",
    "colab": {
      "provenance": [],
      "authorship_tag": "ABX9TyPKlTTFOK/d766Il3nwmWkn",
      "include_colab_link": true
    },
    "kernelspec": {
      "display_name": "Python 3",
      "name": "python3"
    },
    "language_info": {
      "name": "python"
    }
  },
  "nbformat": 4,
  "nbformat_minor": 0
}