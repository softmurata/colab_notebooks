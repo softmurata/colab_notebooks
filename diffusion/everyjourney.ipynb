{
  "nbformat": 4,
  "nbformat_minor": 0,
  "metadata": {
    "colab": {
      "provenance": [],
      "gpuType": "T4",
      "authorship_tag": "ABX9TyNTcDkgqD6p7onKq7RiUKFd",
      "include_colab_link": true
    },
    "kernelspec": {
      "name": "python3",
      "display_name": "Python 3"
    },
    "language_info": {
      "name": "python"
    },
    "accelerator": "GPU"
  },
  "cells": [
    {
      "cell_type": "markdown",
      "metadata": {
        "id": "view-in-github",
        "colab_type": "text"
      },
      "source": [
        "<a href=\"https://colab.research.google.com/github/softmurata/colab_notebooks/blob/main/diffusion/everyjourney.ipynb\" target=\"_parent\"><img src=\"https://colab.research.google.com/assets/colab-badge.svg\" alt=\"Open In Colab\"/></a>"
      ]
    },
    {
      "cell_type": "markdown",
      "source": [
        "Installation"
      ],
      "metadata": {
        "id": "u-i9GoUM4fMW"
      }
    },
    {
      "cell_type": "code",
      "execution_count": null,
      "metadata": {
        "id": "U-hasI6Zzr9W"
      },
      "outputs": [],
      "source": [
        "!pip install diffusers accelerate bitsandbytes transformers\n",
        "!pip install omegaconf"
      ]
    },
    {
      "cell_type": "markdown",
      "source": [
        "Download model"
      ],
      "metadata": {
        "id": "Dx9PIWqD4ghe"
      }
    },
    {
      "cell_type": "code",
      "source": [
        "!wget https://huggingface.co/aiartindo/Everyjourney/resolve/main/everyjourney.safetensors -P /content"
      ],
      "metadata": {
        "id": "m45aX5wY0vxm"
      },
      "execution_count": null,
      "outputs": []
    },
    {
      "cell_type": "markdown",
      "source": [
        "Load model"
      ],
      "metadata": {
        "id": "lQkHKzge4hnk"
      }
    },
    {
      "cell_type": "code",
      "source": [
        "import torch\n",
        "from diffusers import StableDiffusionPipeline\n",
        "device = \"cuda\" if torch.cuda.is_available() else \"cpu\"\n",
        "pipeline = StableDiffusionPipeline.from_ckpt('/content/everyjourney.safetensors', use_safetensors=True,torch_dtype=torch.float16).to(device)"
      ],
      "metadata": {
        "id": "tDNgHjlZ0ACB"
      },
      "execution_count": null,
      "outputs": []
    },
    {
      "cell_type": "code",
      "source": [
        "# change scheduler\n",
        "from diffusers import DPMSolverMultistepScheduler\n",
        "pipeline.scheduler = DPMSolverMultistepScheduler.from_config(pipeline.scheduler.config)"
      ],
      "metadata": {
        "id": "AZ0wMqyX3G0d"
      },
      "execution_count": 2,
      "outputs": []
    },
    {
      "cell_type": "markdown",
      "source": [
        "Inference"
      ],
      "metadata": {
        "id": "AAjjdeHq4jAd"
      }
    },
    {
      "cell_type": "code",
      "source": [
        "prompt = \"(illustration), a beautiful woman standing outdoors, depth of field, elegance, drill hair, twin drills, (blush:0.7), floating hair, petals, shining, movie poster, (colorful:1.1), hair ornament, petals, (pantyhose:1.1), ribbon, shaded face\"\n",
        "negative_prompt = \"easynegative\"\n",
        "generator = torch.Generator(device=device).manual_seed(603030400)\n",
        "image = pipeline(prompt, negative_prompt=negative_prompt, num_inference_steps=30).images[0]\n",
        "display(image)"
      ],
      "metadata": {
        "id": "WO_3j5Jg0LUS"
      },
      "execution_count": null,
      "outputs": []
    },
    {
      "cell_type": "code",
      "source": [
        "# 2.5D\n",
        "prompt = \"RAW,photorealistic, best lighting, complex pupils, detailed background, dusk, woman, solo, upper body, (close up, face focus:1.2), looking up, cowboy shot, standing, bashful, shiny skin, eyeliner, gothic eyeshadow, blush, flower, long hair, curly hair, titian hair, highly detailed skin\"\n",
        "negative_prompt = \"easynegative\"\n",
        "generator = torch.Generator(device=device).manual_seed(603030400)\n",
        "image = pipeline(prompt, negative_prompt=negative_prompt, num_inference_steps=30, guidance_scale=7.0, height=512, width=512).images[0]\n",
        "display(image)"
      ],
      "metadata": {
        "id": "hwz965UI3T_j"
      },
      "execution_count": null,
      "outputs": []
    },
    {
      "cell_type": "markdown",
      "source": [
        "affogato"
      ],
      "metadata": {
        "id": "2Pli7Zxq4ZoE"
      }
    },
    {
      "cell_type": "code",
      "source": [
        "!wget https://huggingface.co/aiartindo/Everyjourney/resolve/main/everyjourney_affogato.safetensors -P /content"
      ],
      "metadata": {
        "id": "JRKIvdkV4awC"
      },
      "execution_count": null,
      "outputs": []
    },
    {
      "cell_type": "code",
      "source": [
        "import torch\n",
        "from diffusers import StableDiffusionPipeline\n",
        "from diffusers import DPMSolverMultistepScheduler\n",
        "\n",
        "device = \"cuda\" if torch.cuda.is_available() else \"cpu\"\n",
        "pipeline = StableDiffusionPipeline.from_ckpt('/content/everyjourney_affogato.safetensors', use_safetensors=True,torch_dtype=torch.float16).to(device)\n",
        "\n",
        "pipeline.scheduler = DPMSolverMultistepScheduler.from_config(pipeline.scheduler.config)"
      ],
      "metadata": {
        "id": "KwTsfHBT4llq"
      },
      "execution_count": null,
      "outputs": []
    },
    {
      "cell_type": "code",
      "source": [
        "prompt = \"(illustration), a beautiful woman standing outdoors, depth of field, elegance, drill hair, twin drills, (blush:0.7), floating hair, petals, shining, movie poster, (colorful:1.1), hair ornament, petals, (pantyhose:1.1), ribbon, shaded face\"\n",
        "negative_prompt = \"easynegative\"\n",
        "generator = torch.Generator(device=device).manual_seed(603030400)\n",
        "image = pipeline(prompt, negative_prompt=negative_prompt, num_inference_steps=30).images[0]\n",
        "display(image)"
      ],
      "metadata": {
        "id": "cYVnt1NM4reC"
      },
      "execution_count": null,
      "outputs": []
    },
    {
      "cell_type": "code",
      "source": [
        "prompt = \"RAW, a beautiful woman standing outdoors, depth of field, elegance, drill hair, twin drills, (blush:0.7), floating hair, petals, shining, movie poster, (colorful:1.1), hair ornament, petals, (pantyhose:1.1), ribbon, shaded face\"\n",
        "negative_prompt = \"easynegative\"\n",
        "generator = torch.Generator(device=device).manual_seed(603030400)\n",
        "image = pipeline(prompt, negative_prompt=negative_prompt, num_inference_steps=30).images[0]\n",
        "display(image)"
      ],
      "metadata": {
        "id": "3xF38qoI6h2t"
      },
      "execution_count": null,
      "outputs": []
    }
  ]
}