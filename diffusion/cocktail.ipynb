{
  "nbformat": 4,
  "nbformat_minor": 0,
  "metadata": {
    "colab": {
      "provenance": [],
      "gpuType": "T4",
      "authorship_tag": "ABX9TyO91xDJ+PZmust7QasJxjs9",
      "include_colab_link": true
    },
    "kernelspec": {
      "name": "python3",
      "display_name": "Python 3"
    },
    "language_info": {
      "name": "python"
    },
    "accelerator": "GPU"
  },
  "cells": [
    {
      "cell_type": "markdown",
      "metadata": {
        "id": "view-in-github",
        "colab_type": "text"
      },
      "source": [
        "<a href=\"https://colab.research.google.com/github/softmurata/colab_notebooks/blob/main/diffusion/cocktail.ipynb\" target=\"_parent\"><img src=\"https://colab.research.google.com/assets/colab-badge.svg\" alt=\"Open In Colab\"/></a>"
      ]
    },
    {
      "cell_type": "markdown",
      "source": [
        "Installation"
      ],
      "metadata": {
        "id": "Z7syFaIOMxnY"
      }
    },
    {
      "cell_type": "code",
      "execution_count": null,
      "metadata": {
        "id": "H5HqCTIhFau9"
      },
      "outputs": [],
      "source": [
        "!git clone https://github.com/mhh0318/cocktail.git\n",
        "!pip install gradio pytorch_lightning omegaconf test-tube streamlit einops transformers kornia open_clip_torch invisible-watermark streamlit-drawable-canvas torchmetrics basicsr\n",
        "!pip install git+https://github.com/facebookresearch/detectron2.git\n",
        "!pip install xformers"
      ]
    },
    {
      "cell_type": "markdown",
      "source": [
        "Download weights"
      ],
      "metadata": {
        "id": "7KT538D7VHeQ"
      }
    },
    {
      "cell_type": "code",
      "source": [
        "# Download weights\n",
        "%cd /content/cocktail\n",
        "!wget https://huggingface.co/MichaelHu/cocktail/resolve/main/cocktail-laion-512-epoch19.ckpt"
      ],
      "metadata": {
        "id": "EPFrUWJ5F1yb"
      },
      "execution_count": null,
      "outputs": []
    },
    {
      "cell_type": "markdown",
      "source": [
        "Inference"
      ],
      "metadata": {
        "id": "UvBWKN6DVIqR"
      }
    },
    {
      "cell_type": "code",
      "source": [
        "# please edit /content/cocktail/ldm/models/diffusion/ddpm.py, 20\n",
        "# from pytorch_lightning.utilities.rank_zero import rank_zero_only\n",
        "!python inference.py 0"
      ],
      "metadata": {
        "id": "QQ9vNsA1HLQJ"
      },
      "execution_count": null,
      "outputs": []
    },
    {
      "cell_type": "code",
      "source": [
        "from PIL import Image\n",
        "display(Image.open(\"/content/cocktail/samples/results/0_sample_0.png\"))"
      ],
      "metadata": {
        "id": "GdYGm-lDMkey"
      },
      "execution_count": null,
      "outputs": []
    }
  ]
}