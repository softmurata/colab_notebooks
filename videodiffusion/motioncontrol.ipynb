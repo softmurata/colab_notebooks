{
  "nbformat": 4,
  "nbformat_minor": 0,
  "metadata": {
    "colab": {
      "provenance": [],
      "gpuType": "T4",
      "authorship_tag": "ABX9TyNjpdgE4hN9A4/4uJzEimpv",
      "include_colab_link": true
    },
    "kernelspec": {
      "name": "python3",
      "display_name": "Python 3"
    },
    "language_info": {
      "name": "python"
    },
    "accelerator": "GPU"
  },
  "cells": [
    {
      "cell_type": "markdown",
      "metadata": {
        "id": "view-in-github",
        "colab_type": "text"
      },
      "source": [
        "<a href=\"https://colab.research.google.com/github/softmurata/colab_notebooks/blob/main/videodiffusion/motioncontrol.ipynb\" target=\"_parent\"><img src=\"https://colab.research.google.com/assets/colab-badge.svg\" alt=\"Open In Colab\"/></a>"
      ]
    },
    {
      "cell_type": "code",
      "execution_count": null,
      "metadata": {
        "id": "qq2HsAdA7XxK"
      },
      "outputs": [],
      "source": [
        "!git clone https://huggingface.co/spaces/TencentARC/MotionCtrl"
      ]
    },
    {
      "cell_type": "code",
      "source": [
        "!pip install torch==1.13.1+cu117 torchvision==0.14.1+cu117 torchaudio==0.13.1 --extra-index-url https://download.pytorch.org/whl/cu117"
      ],
      "metadata": {
        "id": "1nSdsGmP77fe"
      },
      "execution_count": null,
      "outputs": []
    },
    {
      "cell_type": "code",
      "source": [
        "import torch\n",
        "torch.cuda.is_available()"
      ],
      "metadata": {
        "id": "hG2O6CKW8H7B"
      },
      "execution_count": null,
      "outputs": []
    },
    {
      "cell_type": "code",
      "source": [
        "%cd /content/MotionCtrl\n",
        "!pip install -r requirements.txt"
      ],
      "metadata": {
        "id": "Dt4zngH38C_I"
      },
      "execution_count": null,
      "outputs": []
    },
    {
      "cell_type": "code",
      "source": [
        "# CPUのメモリが足らない問題ありそう->L4, 30GBで試す\n",
        "%cd /content/MotionCtrl\n",
        "!python app.py"
      ],
      "metadata": {
        "id": "z8yPL8ZJ9N9K"
      },
      "execution_count": null,
      "outputs": []
    }
  ]
}