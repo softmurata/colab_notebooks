{
  "cells": [
    {
      "cell_type": "markdown",
      "metadata": {
        "id": "view-in-github",
        "colab_type": "text"
      },
      "source": [
        "<a href=\"https://colab.research.google.com/github/softmurata/colab_notebooks/blob/main/utilities/efficientnet_pytorch_lightning.ipynb\" target=\"_parent\"><img src=\"https://colab.research.google.com/assets/colab-badge.svg\" alt=\"Open In Colab\"/></a>"
      ]
    },
    {
      "cell_type": "code",
      "execution_count": null,
      "metadata": {
        "id": "qxlsDCYTpAPP"
      },
      "outputs": [],
      "source": [
        "import os\n",
        "import urllib.request\n",
        "import zipfile\n",
        "\n",
        "url = \"https://download.pytorch.org/tutorial/hymenoptera_data.zip\"\n",
        "save_path = \"hymenoptera_data.zip\"\n",
        "\n",
        "if not os.path.exists(save_path):\n",
        "    urllib.request.urlretrieve(url, save_path)\n",
        "\n",
        "    zip = zipfile.ZipFile(save_path)\n",
        "    zip.extractall()\n",
        "    zip.close()\n",
        "\n",
        "    os.remove(save_path)"
      ]
    },
    {
      "cell_type": "code",
      "execution_count": null,
      "metadata": {
        "id": "PSxLOsvypSW9"
      },
      "outputs": [],
      "source": [
        "!pip install pytorch-lightning\n",
        "!pip install timm"
      ]
    },
    {
      "cell_type": "code",
      "execution_count": null,
      "metadata": {
        "id": "RIfzp3AbpXEV"
      },
      "outputs": [],
      "source": [
        "# インポート\n",
        "import glob\n",
        "import random\n",
        "import pickle\n",
        "\n",
        "import numpy as np\n",
        "import pandas as pd\n",
        "import pytorch_lightning as pl\n",
        "import timm\n",
        "import torch\n",
        "import torch.nn as nn\n",
        "import torch.optim as optim\n",
        "from PIL import Image\n",
        "from pytorch_lightning.callbacks import EarlyStopping, ModelCheckpoint\n",
        "from sklearn.model_selection import train_test_split\n",
        "from torch.utils.data import DataLoader, Dataset\n",
        "from torchvision import transforms"
      ]
    },
    {
      "cell_type": "code",
      "execution_count": null,
      "metadata": {
        "id": "1xjPLu5Npapg"
      },
      "outputs": [],
      "source": [
        "# seedの固定\n",
        "def fix_seed(seed):\n",
        "    random.seed(seed)\n",
        "    np.random.seed(seed)\n",
        "    torch.manual_seed(seed)\n",
        "    torch.cuda.manual_seed_all(seed)\n",
        "    torch.backends.cudnn.deterministic = True\n",
        "\n",
        "SEED = 0\n",
        "fix_seed(SEED)"
      ]
    },
    {
      "cell_type": "code",
      "execution_count": null,
      "metadata": {
        "id": "SAsjp4AWpgVO"
      },
      "outputs": [],
      "source": [
        "#@title Define Dataset class\n",
        "class CustomDataset(Dataset):\n",
        "  def __init__(self, image_files, transform=None):\n",
        "    self.image_files = image_files  # Image path list\n",
        "    self.transform = transform\n",
        "  def __len__(self):\n",
        "    return len(self.image_files)\n",
        "  def __getitem__(self, index):\n",
        "    img_path = self.image_files[index]\n",
        "    img = Image.open(img_path)\n",
        "    if self.transform is not None:\n",
        "      img_transformed = self.transform(img)\n",
        "    # pathに含まれる文字を使用してラベリングを実施\n",
        "    if 'ants' in img_path:\n",
        "      label = 0\n",
        "    else:\n",
        "      label = 1\n",
        "    # ToDo:\n",
        "    # img_path, angle <- txt\n",
        "    # return img_transformed, angle(normalized)?\n",
        "    return img_transformed, label"
      ]
    },
    {
      "cell_type": "code",
      "execution_count": null,
      "metadata": {
        "id": "PMDq_F57rpUr"
      },
      "outputs": [],
      "source": [
        "#@title Define Lightning Data Module\n",
        "class CreateDataModule(pl.LightningDataModule):\n",
        "  def __init__(self, train_path, val_path, test_path, img_size=224, mean=(0.485, 0.456, 0.406), std=(0.229, 0.224, 0.225), batch_size=16):\n",
        "    super().__init__()\n",
        "    self.train_path = train_path\n",
        "    self.val_path = val_path\n",
        "    self.test_path = test_path\n",
        "    self.batch_size = batch_size\n",
        "\n",
        "    self.train_transform = transforms.Compose([\n",
        "        transforms.RandomResizedCrop(img_size, scale=(0.5, 1.0)),\n",
        "        transforms.RandomHorizontalFlip(),\n",
        "        transforms.ToTensor(),\n",
        "        transforms.Normalize(mean, std)\n",
        "    ])\n",
        "\n",
        "    self.val_test_transform = transforms.Compose([\n",
        "        transforms.Resize(img_size),\n",
        "        transforms.CenterCrop(img_size),\n",
        "        transforms.ToTensor(),\n",
        "        transforms.Normalize(mean, std)\n",
        "    ])\n",
        "\n",
        "  # required in case of downloading data\n",
        "  def prepare_data(self):\n",
        "    pass\n",
        "\n",
        "  def setup(self, stage=None):\n",
        "    if stage == \"fit\" or stage is None:\n",
        "      self.train_dataset = CustomDataset(self.train_path, self.train_transform)\n",
        "      self.val_dataset = CustomDataset(self.val_path, self.val_test_transform)\n",
        "    if stage == \"test\" or stage is None:\n",
        "      self.test_dataset = CustomDataset(self.test_path, self.val_test_transform)\n",
        "  def train_dataloader(self):\n",
        "    return DataLoader(self.train_dataset, batch_size=self.batch_size, shuffle=True)\n",
        "  def val_dataloader(self):\n",
        "    return DataLoader(self.val_dataset, batch_size=self.batch_size)\n",
        "  def test_dataloader(self):\n",
        "    return DataLoader(self.test_dataset, batch_size=self.batch_size)\n"
      ]
    },
    {
      "cell_type": "code",
      "execution_count": null,
      "metadata": {
        "id": "_pRC4B1gvonW"
      },
      "outputs": [],
      "source": [
        "# create DataModule Instance\n",
        "fix_seed(SEED)\n",
        "# valフォルダはtestとして使用\n",
        "test_path = [path for path in glob.glob(\"/cotent/hymenoptera_data/val/*/*.jpg\")]\n",
        "\n",
        "# trainフォルダの画像を7:3でtrain:validに分割\n",
        "modeling_path = [path for path in glob.glob(\"/content/hymenoptera_data/train/*/*.jpg\")]\n",
        "train_path, val_path = train_test_split(modeling_path, train_size=0.7)\n",
        "# インスタンスを作成\n",
        "data_module = CreateDataModule(train_path,val_path,test_path)"
      ]
    },
    {
      "cell_type": "code",
      "execution_count": null,
      "metadata": {
        "id": "b6x2q3903jGD"
      },
      "outputs": [],
      "source": [
        "#@title timm tips\n",
        "import timm\n",
        "from PIL import Image\n",
        "from torchvision import transforms\n",
        "\n",
        "model = timm.create_model(model_name=\"efficientnet_b0\", pretrained=True)\n",
        "img_size=224\n",
        "mean=(0.485, 0.456, 0.406)\n",
        "std=(0.229, 0.224, 0.225)\n",
        "\n",
        "transform = transforms.Compose([\n",
        "        transforms.Resize(img_size),\n",
        "        transforms.CenterCrop(img_size),\n",
        "        transforms.ToTensor(),\n",
        "        transforms.Normalize(mean, std)\n",
        "])\n",
        "\n",
        "\n",
        "img = Image.open(\"/content/anya.jpeg\")\n",
        "input = transform(img).unsqueeze(0)  # [batch_size, feature_size, hs, hs]\n",
        "\n",
        "fea = model.forward_features(input)"
      ]
    },
    {
      "cell_type": "code",
      "execution_count": null,
      "metadata": {
        "id": "dSNCHW6W8lTB"
      },
      "outputs": [],
      "source": [
        "fea.view(1, -1).shape"
      ]
    },
    {
      "cell_type": "code",
      "execution_count": null,
      "metadata": {
        "id": "4bOOmEDD9o0B"
      },
      "outputs": [],
      "source": [
        "import torch.nn as nn\n",
        "class AdjustHead(nn.Module):\n",
        "  def __init__(self, in_features, n_outputs):\n",
        "    super().__init__()\n",
        "    self.fc1 = nn.Linear(in_features, 100)\n",
        "    self.fc2 = nn.Linear(100, n_outputs)\n",
        "  def forward(self, x):\n",
        "    bsize = x.shape[0]\n",
        "    x = x.view(bsize, -1)\n",
        "\n",
        "    x = self.fc1(x)\n",
        "    x = self.fc2(x)\n",
        "    return x\n"
      ]
    },
    {
      "cell_type": "code",
      "execution_count": null,
      "metadata": {
        "id": "VpLGUO0R-th3"
      },
      "outputs": [],
      "source": [
        "batch_size = 1\n",
        "input_features = fea.view(batch_size, -1)\n",
        "in_features = input_features.shape[-1]\n",
        "adjust_head = AdjustHead(in_features, 1)\n",
        "output = adjust_head(input_features)"
      ]
    },
    {
      "cell_type": "code",
      "execution_count": null,
      "metadata": {
        "colab": {
          "base_uri": "https://localhost:8080/"
        },
        "id": "dHOPn83d_J1T",
        "outputId": "3e8aaeb0-becb-4b5b-8440-654945e41989"
      },
      "outputs": [
        {
          "data": {
            "text/plain": [
              "tensor([[-0.1747]], grad_fn=<AddmmBackward0>)"
            ]
          },
          "execution_count": 17,
          "metadata": {},
          "output_type": "execute_result"
        }
      ],
      "source": [
        "output"
      ]
    },
    {
      "cell_type": "code",
      "execution_count": null,
      "metadata": {
        "id": "L6RXhUvjv9Pt"
      },
      "outputs": [],
      "source": [
        "#@title Define Image Classifier\n",
        "class ImageClassifier(pl.LightningModule):\n",
        "  def __init__(self, model_name, n_classes, lr=0.0001):\n",
        "    super().__init__()\n",
        "    self.save_hyperparameters()\n",
        "\n",
        "    self.model = timm.create_model(model_name, pretrained=True)\n",
        "    self.model.classifier = nn.Linear(self.model.classifier.in_features, n_classes)\n",
        "\n",
        "    self.label_criterion = torch.nn.CrossEntropyLoss()\n",
        "    # self.mseloss = torch.nn.MSELoss\n",
        "\n",
        "    self.lr = lr\n",
        "  \n",
        "  def forward(self, imgs, labels=None):\n",
        "    preds = self.model(imgs)\n",
        "    loss = 0\n",
        "    if labels is not None:\n",
        "      loss = self.label_criterion(preds, labels)\n",
        "    return loss, preds\n",
        "\n",
        "  def training_step(self, batch, batch_idx):\n",
        "    imgs, labels = batch\n",
        "    loss, preds = self.forward(imgs=imgs, labels=labels)\n",
        "    return {'loss': loss, 'batch_preds': preds.detach(), 'batch_labels': labels.detach()}\n",
        "  \n",
        "  def validation_step(self, batch, batch_idx):\n",
        "    return self.training_step(batch, batch_idx)\n",
        "  \n",
        "  def test_step(self, batch, batch_idx):\n",
        "    return self.training_step(batch, batch_idx)\n",
        "\n",
        "  def validation_epoch_end(self, outputs, mode=\"val\"):\n",
        "    # calculate loss\n",
        "    epoch_preds = torch.cat([x['batch_preds'] for x in outputs])\n",
        "    epoch_labels = torch.cat([x['batch_labels'] for x in outputs])\n",
        "    epoch_loss = self.label_criterion(epoch_preds, epoch_labels)\n",
        "\n",
        "    self.log(f\"{mode}_loss\", epoch_loss, logger=True)\n",
        "\n",
        "    # calculate accuracy\n",
        "    num_correct = (epoch_preds.argmax(dim=1) == epoch_labels).sum().item()\n",
        "    epoch_accuracy = num_correct / len(epoch_labels)\n",
        "    self.log(f\"{mode}_accuracy\", epoch_accuracy, logger=True)\n",
        "\n",
        "  def test_epoch_end(self, outputs):\n",
        "    return self.validation_epoch_end(outputs, \"test\")\n",
        "  \n",
        "  def configure_optimizers(self):\n",
        "    parameters = self.model.parameters()\n",
        "    optimizer = optim.AdamW(lr=self.lr, params=parameters)\n",
        "    scheduler = {'scheduler': optim.lr_scheduler.StepLR(optimizer, step_size=5, gamma=0.2)}\n",
        "    return [optimizer], [scheduler]\n",
        "\n",
        "    "
      ]
    },
    {
      "cell_type": "code",
      "execution_count": null,
      "metadata": {
        "id": "gParZZt0BM7m"
      },
      "outputs": [],
      "source": [
        "model = ImageClassifier(model_name=\"efficientnet_b0\", n_classes=2)"
      ]
    },
    {
      "cell_type": "code",
      "execution_count": null,
      "metadata": {
        "colab": {
          "base_uri": "https://localhost:8080/"
        },
        "id": "OxIEIGlMBSrB",
        "outputId": "f7e11d4f-2432-4975-cd85-22db9d2c2eb3"
      },
      "outputs": [
        {
          "name": "stderr",
          "output_type": "stream",
          "text": [
            "INFO:pytorch_lightning.utilities.rank_zero:GPU available: False, used: False\n",
            "INFO:pytorch_lightning.utilities.rank_zero:TPU available: False, using: 0 TPU cores\n",
            "INFO:pytorch_lightning.utilities.rank_zero:IPU available: False, using: 0 IPUs\n",
            "INFO:pytorch_lightning.utilities.rank_zero:HPU available: False, using: 0 HPUs\n"
          ]
        }
      ],
      "source": [
        "#@title config for trainer\n",
        "# EarlyStoppingの設定\n",
        "# 3epochで'val_loss'が0.05以上減少しなければ学習をストップ\n",
        "early_stop_callback = EarlyStopping(\n",
        "    monitor='val_loss', min_delta=0.05, patience=3, mode='min')\n",
        "\n",
        "# モデルの保存先\n",
        "# epoch数に応じて、「epoch=0.ckpt」のような形で保存\n",
        "checkpoint_callback = ModelCheckpoint(\n",
        "    filename='{epoch}', monitor='val_loss', mode='min', verbose=True)\n",
        "\n",
        "# trainerの設定\n",
        "trainer = pl.Trainer(max_epochs=20,\n",
        "                     accelerator=\"cpu\",\n",
        "                     # gpus=1,\n",
        "                     callbacks=[checkpoint_callback, early_stop_callback],\n",
        "                     log_every_n_steps=10)"
      ]
    },
    {
      "cell_type": "code",
      "execution_count": null,
      "metadata": {
        "id": "unVUbPk1B3iA"
      },
      "outputs": [],
      "source": [
        "device = torch.device(\"cuda\" if torch.cuda.is_available() else \"cpu\")\n",
        "\n",
        "# 訓練開始\n",
        "trainer.fit(model, data_module)"
      ]
    },
    {
      "cell_type": "code",
      "execution_count": null,
      "metadata": {
        "id": "c4IwC3CHFMdt"
      },
      "outputs": [],
      "source": [
        "#@title inference\n",
        "best_model = ImageClassifier.load_from_checkpoint(checkpoint_callback.best_model_path)"
      ]
    },
    {
      "cell_type": "code",
      "execution_count": null,
      "metadata": {
        "id": "ofbEUBJ-GDpv"
      },
      "outputs": [],
      "source": [
        "img_size=224\n",
        "mean=(0.485, 0.456, 0.406)\n",
        "std=(0.229, 0.224, 0.225)\n",
        "\n",
        "transform = transforms.Compose([\n",
        "        transforms.Resize(img_size),\n",
        "        transforms.CenterCrop(img_size),\n",
        "        transforms.ToTensor(),\n",
        "        transforms.Normalize(mean, std)\n",
        "])\n",
        "\n",
        "\n",
        "img = Image.open(\"/content/hymenoptera_data/val/ants/10308379_1b6c72e180.jpg\")\n",
        "input = transform(img).unsqueeze(0)  # [batch_size, feature_size, hs, hs]\n",
        "result = best_model(input)"
      ]
    },
    {
      "cell_type": "code",
      "execution_count": null,
      "metadata": {
        "colab": {
          "base_uri": "https://localhost:8080/"
        },
        "id": "LRummtnzGVET",
        "outputId": "04d8b6b0-7586-41bf-a5ea-ec065cc51add"
      },
      "outputs": [
        {
          "data": {
            "text/plain": [
              "(0, tensor([[-0.2377,  0.2725]], grad_fn=<AddmmBackward0>))"
            ]
          },
          "execution_count": 45,
          "metadata": {},
          "output_type": "execute_result"
        }
      ],
      "source": [
        "result"
      ]
    },
    {
      "cell_type": "code",
      "execution_count": null,
      "metadata": {
        "id": "0CU79p6BH1Iw"
      },
      "outputs": [],
      "source": [
        "#@title Age estimation\n",
        "# https://blog.kikagaku.co.jp/google-colab-drive-mount\n",
        "from google.colab import drive\n",
        "drive.mount('/content/drive')"
      ]
    },
    {
      "cell_type": "code",
      "execution_count": null,
      "metadata": {
        "id": "dMrCQsPVIiQm"
      },
      "outputs": [],
      "source": [
        "!unzip /content/drive/MyDrive/utkface.zip"
      ]
    },
    {
      "cell_type": "code",
      "execution_count": null,
      "metadata": {
        "id": "oPrAKRakLZTK"
      },
      "outputs": [],
      "source": [
        "#@title preprocess dataset"
      ]
    },
    {
      "cell_type": "code",
      "execution_count": null,
      "metadata": {
        "id": "ntgFqjc8I5u5"
      },
      "outputs": [],
      "source": [
        "import pandas as pd\n",
        "import os"
      ]
    },
    {
      "cell_type": "code",
      "execution_count": null,
      "metadata": {
        "colab": {
          "base_uri": "https://localhost:8080/"
        },
        "id": "XoZXkL8cJCzX",
        "outputId": "1d23515f-7d01-4280-a96a-66173ce3519a"
      },
      "outputs": [
        {
          "name": "stdout",
          "output_type": "stream",
          "text": [
            "/content/UTKFace/39_1_20170116174525125.jpg.chip.jpg\n",
            "/content/UTKFace/61_1_20170109150557335.jpg.chip.jpg\n",
            "/content/UTKFace/61_1_20170109142408075.jpg.chip.jpg\n"
          ]
        }
      ],
      "source": [
        "###### 定数を定義\n",
        "DATA_DIR = '/content/UTKFace'\n",
        "IM_WIDTH = IM_HEIGHT = 198\n",
        "TRAIN_TEST_SPLIT = 0.01  # 全体の8割を訓練データ、残り2割をテストデータにする\n",
        "TRAIN_VALID_SPLIT = 0.7  # 訓練データのうち3割はバリデーションデータとして使う\n",
        "ID_GENDER_MAP = {0: 'male', 1: 'female'}  # IDから性別へ変換するマップ\n",
        "GENDER_ID_MAP = dict((g, i) for i, g in ID_GENDER_MAP.items())  # IDと性別の逆引き辞書\n",
        "ID_RACE_MAP = {0: 'white', 1: 'black', 2: 'asian', 3: 'indian', 4: 'others'}  # IDから人種へ変換するマップ\n",
        "RACE_ID_MAP = dict((r, i) for i, r in ID_RACE_MAP.items())  # IDと人種の逆引き辞書\n",
        "\n",
        "\n",
        "###### ファイル名から正解ラベルを取り出す関数\n",
        "def parse_filepath(filepath):\n",
        "    # 年齢(int)、性別(str)、人種(str) を返す\n",
        "    try:\n",
        "        path, filename = os.path.split(filepath)  # 相対パスからファイル名を取り出す\n",
        "        filename, ext = os.path.splitext(filename)  # 拡張子を除く\n",
        "        age, gender, race, _ = filename.split(\"_\")  # _は無名変数\n",
        "        return int(age), ID_GENDER_MAP[int(gender)], ID_RACE_MAP[int(race)]\n",
        "\n",
        "    except Exception as e:  # いくつか欠損値があるので例外処理をしておく\n",
        "        print(filepath)\n",
        "        return None, None, None\n",
        "\n",
        "\n",
        "###### 年齢、性別、人種、ファイル名からなるDataFrameを作成\n",
        "files = glob.glob(os.path.join(DATA_DIR, \"*.jpg\"))  # 全ての画像ファイル名をfilesという変数にまとめる\n",
        "attributes = list(map(parse_filepath, files))  # 上で作成した関数にファイル名を一つずつ入力\n",
        "\n",
        "df = pd.DataFrame(attributes)\n",
        "df['file'] = files\n",
        "df.columns = ['age', 'gender', 'race', 'file']\n",
        "df = df.dropna()  # 欠損値は3つ\n",
        "df['gender_id'] = df['gender'].map(lambda gender: GENDER_ID_MAP[gender])\n",
        "df['race_id'] = df['race'].map(lambda race: RACE_ID_MAP[race])\n",
        "\n",
        "# 10歳以下、65歳以上の人の画像は比較的少ないので使わないことにする\n",
        "df = df[(df['age'] > 10) & (df['age'] < 65)]\n",
        "# その中での最高年齢\n",
        "max_age = df['age'].max()\n",
        "min_age = df['age'].min()"
      ]
    },
    {
      "cell_type": "code",
      "execution_count": null,
      "metadata": {
        "colab": {
          "base_uri": "https://localhost:8080/",
          "height": 206
        },
        "id": "rq1NOpkLJHnt",
        "outputId": "8d77716b-493e-4fc7-8f17-3d40411e9874"
      },
      "outputs": [
        {
          "data": {
            "text/html": [
              "\n",
              "  <div id=\"df-25ceb6b4-8ce3-45e9-9156-d38b73f5a477\">\n",
              "    <div class=\"colab-df-container\">\n",
              "      <div>\n",
              "<style scoped>\n",
              "    .dataframe tbody tr th:only-of-type {\n",
              "        vertical-align: middle;\n",
              "    }\n",
              "\n",
              "    .dataframe tbody tr th {\n",
              "        vertical-align: top;\n",
              "    }\n",
              "\n",
              "    .dataframe thead th {\n",
              "        text-align: right;\n",
              "    }\n",
              "</style>\n",
              "<table border=\"1\" class=\"dataframe\">\n",
              "  <thead>\n",
              "    <tr style=\"text-align: right;\">\n",
              "      <th></th>\n",
              "      <th>age</th>\n",
              "      <th>gender</th>\n",
              "      <th>race</th>\n",
              "      <th>file</th>\n",
              "      <th>gender_id</th>\n",
              "      <th>race_id</th>\n",
              "      <th>norm_age</th>\n",
              "    </tr>\n",
              "  </thead>\n",
              "  <tbody>\n",
              "    <tr>\n",
              "      <th>0</th>\n",
              "      <td>35.0</td>\n",
              "      <td>female</td>\n",
              "      <td>asian</td>\n",
              "      <td>/content/UTKFace/35_1_2_20170116191844463.jpg....</td>\n",
              "      <td>1</td>\n",
              "      <td>2</td>\n",
              "      <td>0.452830</td>\n",
              "    </tr>\n",
              "    <tr>\n",
              "      <th>1</th>\n",
              "      <td>21.0</td>\n",
              "      <td>male</td>\n",
              "      <td>black</td>\n",
              "      <td>/content/UTKFace/21_0_1_20170120133601830.jpg....</td>\n",
              "      <td>0</td>\n",
              "      <td>1</td>\n",
              "      <td>0.188679</td>\n",
              "    </tr>\n",
              "    <tr>\n",
              "      <th>2</th>\n",
              "      <td>26.0</td>\n",
              "      <td>male</td>\n",
              "      <td>black</td>\n",
              "      <td>/content/UTKFace/26_0_1_20170117195747853.jpg....</td>\n",
              "      <td>0</td>\n",
              "      <td>1</td>\n",
              "      <td>0.283019</td>\n",
              "    </tr>\n",
              "    <tr>\n",
              "      <th>3</th>\n",
              "      <td>24.0</td>\n",
              "      <td>female</td>\n",
              "      <td>asian</td>\n",
              "      <td>/content/UTKFace/24_1_2_20170116172739067.jpg....</td>\n",
              "      <td>1</td>\n",
              "      <td>2</td>\n",
              "      <td>0.245283</td>\n",
              "    </tr>\n",
              "    <tr>\n",
              "      <th>5</th>\n",
              "      <td>17.0</td>\n",
              "      <td>male</td>\n",
              "      <td>white</td>\n",
              "      <td>/content/UTKFace/17_0_0_20170117134955265.jpg....</td>\n",
              "      <td>0</td>\n",
              "      <td>0</td>\n",
              "      <td>0.113208</td>\n",
              "    </tr>\n",
              "  </tbody>\n",
              "</table>\n",
              "</div>\n",
              "      <button class=\"colab-df-convert\" onclick=\"convertToInteractive('df-25ceb6b4-8ce3-45e9-9156-d38b73f5a477')\"\n",
              "              title=\"Convert this dataframe to an interactive table.\"\n",
              "              style=\"display:none;\">\n",
              "        \n",
              "  <svg xmlns=\"http://www.w3.org/2000/svg\" height=\"24px\"viewBox=\"0 0 24 24\"\n",
              "       width=\"24px\">\n",
              "    <path d=\"M0 0h24v24H0V0z\" fill=\"none\"/>\n",
              "    <path d=\"M18.56 5.44l.94 2.06.94-2.06 2.06-.94-2.06-.94-.94-2.06-.94 2.06-2.06.94zm-11 1L8.5 8.5l.94-2.06 2.06-.94-2.06-.94L8.5 2.5l-.94 2.06-2.06.94zm10 10l.94 2.06.94-2.06 2.06-.94-2.06-.94-.94-2.06-.94 2.06-2.06.94z\"/><path d=\"M17.41 7.96l-1.37-1.37c-.4-.4-.92-.59-1.43-.59-.52 0-1.04.2-1.43.59L10.3 9.45l-7.72 7.72c-.78.78-.78 2.05 0 2.83L4 21.41c.39.39.9.59 1.41.59.51 0 1.02-.2 1.41-.59l7.78-7.78 2.81-2.81c.8-.78.8-2.07 0-2.86zM5.41 20L4 18.59l7.72-7.72 1.47 1.35L5.41 20z\"/>\n",
              "  </svg>\n",
              "      </button>\n",
              "      \n",
              "  <style>\n",
              "    .colab-df-container {\n",
              "      display:flex;\n",
              "      flex-wrap:wrap;\n",
              "      gap: 12px;\n",
              "    }\n",
              "\n",
              "    .colab-df-convert {\n",
              "      background-color: #E8F0FE;\n",
              "      border: none;\n",
              "      border-radius: 50%;\n",
              "      cursor: pointer;\n",
              "      display: none;\n",
              "      fill: #1967D2;\n",
              "      height: 32px;\n",
              "      padding: 0 0 0 0;\n",
              "      width: 32px;\n",
              "    }\n",
              "\n",
              "    .colab-df-convert:hover {\n",
              "      background-color: #E2EBFA;\n",
              "      box-shadow: 0px 1px 2px rgba(60, 64, 67, 0.3), 0px 1px 3px 1px rgba(60, 64, 67, 0.15);\n",
              "      fill: #174EA6;\n",
              "    }\n",
              "\n",
              "    [theme=dark] .colab-df-convert {\n",
              "      background-color: #3B4455;\n",
              "      fill: #D2E3FC;\n",
              "    }\n",
              "\n",
              "    [theme=dark] .colab-df-convert:hover {\n",
              "      background-color: #434B5C;\n",
              "      box-shadow: 0px 1px 3px 1px rgba(0, 0, 0, 0.15);\n",
              "      filter: drop-shadow(0px 1px 2px rgba(0, 0, 0, 0.3));\n",
              "      fill: #FFFFFF;\n",
              "    }\n",
              "  </style>\n",
              "\n",
              "      <script>\n",
              "        const buttonEl =\n",
              "          document.querySelector('#df-25ceb6b4-8ce3-45e9-9156-d38b73f5a477 button.colab-df-convert');\n",
              "        buttonEl.style.display =\n",
              "          google.colab.kernel.accessAllowed ? 'block' : 'none';\n",
              "\n",
              "        async function convertToInteractive(key) {\n",
              "          const element = document.querySelector('#df-25ceb6b4-8ce3-45e9-9156-d38b73f5a477');\n",
              "          const dataTable =\n",
              "            await google.colab.kernel.invokeFunction('convertToInteractive',\n",
              "                                                     [key], {});\n",
              "          if (!dataTable) return;\n",
              "\n",
              "          const docLinkHtml = 'Like what you see? Visit the ' +\n",
              "            '<a target=\"_blank\" href=https://colab.research.google.com/notebooks/data_table.ipynb>data table notebook</a>'\n",
              "            + ' to learn more about interactive tables.';\n",
              "          element.innerHTML = '';\n",
              "          dataTable['output_type'] = 'display_data';\n",
              "          await google.colab.output.renderOutput(dataTable, element);\n",
              "          const docLink = document.createElement('div');\n",
              "          docLink.innerHTML = docLinkHtml;\n",
              "          element.appendChild(docLink);\n",
              "        }\n",
              "      </script>\n",
              "    </div>\n",
              "  </div>\n",
              "  "
            ],
            "text/plain": [
              "    age  gender   race                                               file  \\\n",
              "0  35.0  female  asian  /content/UTKFace/35_1_2_20170116191844463.jpg....   \n",
              "1  21.0    male  black  /content/UTKFace/21_0_1_20170120133601830.jpg....   \n",
              "2  26.0    male  black  /content/UTKFace/26_0_1_20170117195747853.jpg....   \n",
              "3  24.0  female  asian  /content/UTKFace/24_1_2_20170116172739067.jpg....   \n",
              "5  17.0    male  white  /content/UTKFace/17_0_0_20170117134955265.jpg....   \n",
              "\n",
              "   gender_id  race_id  norm_age  \n",
              "0          1        2  0.452830  \n",
              "1          0        1  0.188679  \n",
              "2          0        1  0.283019  \n",
              "3          1        2  0.245283  \n",
              "5          0        0  0.113208  "
            ]
          },
          "execution_count": 61,
          "metadata": {},
          "output_type": "execute_result"
        }
      ],
      "source": [
        "df[\"norm_age\"] = (df['age'] - df['age'].min()) / (df['age'].max() - df['age'].min())\n",
        "df.head()"
      ]
    },
    {
      "cell_type": "code",
      "execution_count": null,
      "metadata": {
        "colab": {
          "base_uri": "https://localhost:8080/"
        },
        "id": "ysJLKDcYKA1U",
        "outputId": "3c14f659-8763-483f-9b67-6b2666e4256d"
      },
      "outputs": [
        {
          "data": {
            "text/plain": [
              "18529"
            ]
          },
          "execution_count": 58,
          "metadata": {},
          "output_type": "execute_result"
        }
      ],
      "source": [
        "len(df['file'].tolist())"
      ]
    },
    {
      "cell_type": "code",
      "execution_count": null,
      "metadata": {
        "id": "h8jrI_bHKAok"
      },
      "outputs": [],
      "source": []
    },
    {
      "cell_type": "code",
      "execution_count": null,
      "metadata": {
        "id": "Ri4g2a9aJnuj"
      },
      "outputs": [],
      "source": [
        "import glob\n",
        "import random\n",
        "import pickle\n",
        "\n",
        "import numpy as np\n",
        "import pandas as pd\n",
        "import pytorch_lightning as pl\n",
        "import timm\n",
        "import torch\n",
        "import torch.nn as nn\n",
        "import torch.optim as optim\n",
        "from PIL import Image\n",
        "from pytorch_lightning.callbacks import EarlyStopping, ModelCheckpoint\n",
        "from sklearn.model_selection import train_test_split\n",
        "from torch.utils.data import DataLoader, Dataset\n",
        "from torchvision import transforms"
      ]
    },
    {
      "cell_type": "code",
      "execution_count": null,
      "metadata": {
        "id": "FocEranNJxGh"
      },
      "outputs": [],
      "source": [
        "class CustomDataset(Dataset):\n",
        "  def __init__(self, df, bound_list, transform=None):\n",
        "    self.df = df\n",
        "    self.image_files = df['file'].tolist()  # Image path list\n",
        "    self.age_list = df['norm_age'].tolist()\n",
        "    self.min_age, self.max_age = bound_list\n",
        "    self.transform = transform\n",
        "  def __len__(self):\n",
        "    return len(self.image_files)\n",
        "  def __getitem__(self, index):\n",
        "    img_path = self.image_files[index]\n",
        "    img = Image.open(img_path)\n",
        "    if self.transform is not None:\n",
        "      img_transformed = self.transform(img)\n",
        "    # pathに含まれる文字を使用してラベリングを実施\n",
        "    target_age = torch.FloatTensor([self.age_list[index]])\n",
        "    # ToDo:\n",
        "    # img_path, angle <- txt\n",
        "    # return img_transformed, angle(normalized)?\n",
        "    return img_transformed, target_age"
      ]
    },
    {
      "cell_type": "code",
      "execution_count": null,
      "metadata": {
        "id": "NLVA2vwlLXWP"
      },
      "outputs": [],
      "source": [
        "class CreateDataModule(pl.LightningDataModule):\n",
        "  def __init__(self, train_df, val_df, test_df, bound_list, img_size=224, mean=(0.485, 0.456, 0.406), std=(0.229, 0.224, 0.225), batch_size=16):\n",
        "    super().__init__()\n",
        "    self.train_df = train_df\n",
        "    self.val_df = val_df\n",
        "    self.test_df = test_df\n",
        "    self.batch_size = batch_size\n",
        "\n",
        "    self.train_transform = transforms.Compose([\n",
        "        transforms.RandomResizedCrop(img_size, scale=(0.5, 1.0)),\n",
        "        transforms.RandomHorizontalFlip(),\n",
        "        transforms.ToTensor(),\n",
        "        transforms.Normalize(mean, std)\n",
        "    ])\n",
        "\n",
        "    self.val_test_transform = transforms.Compose([\n",
        "        transforms.Resize(img_size),\n",
        "        transforms.CenterCrop(img_size),\n",
        "        transforms.ToTensor(),\n",
        "        transforms.Normalize(mean, std)\n",
        "    ])\n",
        "\n",
        "    self.bound_list = bound_list\n",
        "\n",
        "  # required in case of downloading data\n",
        "  def prepare_data(self):\n",
        "    pass\n",
        "\n",
        "  def setup(self, stage=None):\n",
        "    if stage == \"fit\" or stage is None:\n",
        "      self.train_dataset = CustomDataset(self.train_df, self.bound_list, self.train_transform)\n",
        "      self.val_dataset = CustomDataset(self.val_df, self.bound_list, self.val_test_transform)\n",
        "    if stage == \"test\" or stage is None:\n",
        "      self.test_dataset = CustomDataset(self.test_df, self.bound_list, self.val_test_transform)\n",
        "  def train_dataloader(self):\n",
        "    return DataLoader(self.train_dataset, batch_size=self.batch_size, shuffle=True)\n",
        "  def val_dataloader(self):\n",
        "    return DataLoader(self.val_dataset, batch_size=self.batch_size)\n",
        "  def test_dataloader(self):\n",
        "    return DataLoader(self.test_dataset, batch_size=self.batch_size)"
      ]
    },
    {
      "cell_type": "code",
      "execution_count": null,
      "metadata": {
        "id": "MnMFb2-RMDR0"
      },
      "outputs": [],
      "source": [
        "import random\n",
        "target_df = df.copy()\n",
        "\n",
        "train_msk = np.random.rand(len(df)) < 0.8\n",
        "val_msk = np.random.rand(len(~train_msk)) < 0.5\n",
        "test_msk = ~val_msk\n",
        "\n",
        "train_df = target_df[train_msk]\n",
        "val_df = target_df[val_msk]\n",
        "test_df = target_df[test_msk]\n",
        "\n",
        "bound_list = [min_age, max_age]\n",
        "\n",
        "print(len(train_df), len(val_df), len(test_df))\n",
        "\n",
        "# インスタンスを作成\n",
        "data_module = CreateDataModule(train_df,val_df,test_df, bound_list)"
      ]
    },
    {
      "cell_type": "code",
      "execution_count": null,
      "metadata": {
        "id": "Coq1wqPtQbos"
      },
      "outputs": [],
      "source": []
    },
    {
      "cell_type": "code",
      "execution_count": null,
      "metadata": {
        "id": "-WSjX_kBMptp"
      },
      "outputs": [],
      "source": [
        "class AdjustHead(nn.Module):\n",
        "  def __init__(self, in_features, n_outputs):\n",
        "    super().__init__()\n",
        "    self.fc1 = nn.Linear(in_features, 100)\n",
        "    self.fc2 = nn.Linear(100, n_outputs)\n",
        "  def forward(self, x):\n",
        "    bsize = x.shape[0]\n",
        "    x = x.view(bsize, -1)\n",
        "\n",
        "    x = self.fc1(x)\n",
        "    x = self.fc2(x)\n",
        "    x = nn.Sigmoid()(x)\n",
        "    return x\n",
        "\n",
        "class AgeEstimator(pl.LightningModule):\n",
        "  def __init__(self, model_name, n_outputs, lr=0.0001):\n",
        "    super().__init__()\n",
        "    self.save_hyperparameters()\n",
        "\n",
        "    self.model = timm.create_model(model_name, pretrained=True)\n",
        "    in_features = self.model.classifier.in_features * 7 * 7\n",
        "    self.adjust_head = AdjustHead(in_features, n_outputs)\n",
        "\n",
        "    # self.label_criterion = torch.nn.CrossEntropyLoss()\n",
        "    self.criterion = torch.nn.MSELoss()\n",
        "\n",
        "    self.lr = lr\n",
        "  \n",
        "  def forward(self, imgs, targets=None):\n",
        "    \n",
        "    ef_preds = self.model.forward_features(imgs)\n",
        "    preds = self.adjust_head(ef_preds)\n",
        "    loss = 0\n",
        "    if targets is not None:\n",
        "      loss = self.criterion(preds, targets)\n",
        "    return loss, preds\n",
        "\n",
        "  def training_step(self, batch, batch_idx):\n",
        "    imgs, targets = batch\n",
        "    loss, preds = self.forward(imgs=imgs, targets=targets)\n",
        "    return {'loss': loss, 'batch_preds': preds.detach(), 'batch_targets': targets.detach()}\n",
        "  \n",
        "  def validation_step(self, batch, batch_idx):\n",
        "    return self.training_step(batch, batch_idx)\n",
        "  \n",
        "  def test_step(self, batch, batch_idx):\n",
        "    return self.training_step(batch, batch_idx)\n",
        "\n",
        "  def validation_epoch_end(self, outputs, mode=\"val\"):\n",
        "    # calculate loss\n",
        "    epoch_preds = torch.cat([x['batch_preds'] for x in outputs])\n",
        "    epoch_targets = torch.cat([x['batch_targets'] for x in outputs])\n",
        "    epoch_loss = self.criterion(epoch_preds, epoch_targets)\n",
        "\n",
        "    self.log(f\"{mode}_loss\", epoch_loss, logger=True)\n",
        "\n",
        "  def test_epoch_end(self, outputs):\n",
        "    return self.validation_epoch_end(outputs, \"test\")\n",
        "  \n",
        "  def configure_optimizers(self):\n",
        "    parameters = list(self.model.parameters()) + list(self.adjust_head.parameters())\n",
        "    optimizer = optim.AdamW(lr=self.lr, params=parameters)\n",
        "    scheduler = {'scheduler': optim.lr_scheduler.StepLR(optimizer, step_size=5, gamma=0.2)}\n",
        "    return [optimizer], [scheduler]"
      ]
    },
    {
      "cell_type": "code",
      "execution_count": null,
      "metadata": {
        "id": "sfK4XUIGOaGd"
      },
      "outputs": [],
      "source": [
        "model = AgeEstimator(model_name=\"efficientnet_b0\", n_outputs=1)"
      ]
    },
    {
      "cell_type": "code",
      "execution_count": null,
      "metadata": {
        "id": "XHaAcM55Ooqz"
      },
      "outputs": [],
      "source": [
        "# EarlyStoppingの設定\n",
        "# 3epochで'val_loss'が0.05以上減少しなければ学習をストップ\n",
        "early_stop_callback = EarlyStopping(\n",
        "    monitor='val_loss', min_delta=0.05, patience=3, mode='min')\n",
        "\n",
        "# モデルの保存先\n",
        "# epoch数に応じて、「epoch=0.ckpt」のような形で保存\n",
        "checkpoint_callback = ModelCheckpoint(\n",
        "    filename='{epoch}', monitor='val_loss', mode='min', verbose=True)\n",
        "\n",
        "# trainerの設定\n",
        "trainer = pl.Trainer(max_epochs=20,\n",
        "                     accelerator=\"cpu\",\n",
        "                     # gpus=1,\n",
        "                     callbacks=[checkpoint_callback, early_stop_callback],\n",
        "                     log_every_n_steps=10)"
      ]
    },
    {
      "cell_type": "code",
      "execution_count": null,
      "metadata": {
        "id": "Va3cHJMkVEDU"
      },
      "outputs": [],
      "source": [
        "!rm -rf /content/lightning_logs"
      ]
    },
    {
      "cell_type": "code",
      "execution_count": null,
      "metadata": {
        "colab": {
          "background_save": true
        },
        "id": "eAhXcJNbOyHq"
      },
      "outputs": [],
      "source": [
        "# 訓練開始\n",
        "trainer.fit(model, data_module)"
      ]
    },
    {
      "cell_type": "code",
      "execution_count": null,
      "metadata": {
        "id": "BG6Ei6noVdVM"
      },
      "outputs": [],
      "source": [
        "#@title Problem tips\n",
        "# Timm: https://towardsdatascience.com/getting-started-with-pytorch-image-models-timm-a-practitioners-guide-4e77b4bf9055\n",
        "# dataframe split: https://stackoverflow.com/questions/24147278/how-do-i-create-test-and-train-samples-from-one-dataframe-with-pandas\n",
        "# model parameters: https://tzmi.hatenablog.com/entry/2021/04/30/105227\n",
        "# float tensor: https://note.nkmk.me/python-pytorch-dtype-to/"
      ]
    }
  ],
  "metadata": {
    "colab": {
      "provenance": [],
      "authorship_tag": "ABX9TyO72f/w2FS49J3a1mIPRwO4",
      "include_colab_link": true
    },
    "kernelspec": {
      "display_name": "Python 3",
      "name": "python3"
    },
    "language_info": {
      "name": "python"
    }
  },
  "nbformat": 4,
  "nbformat_minor": 0
}