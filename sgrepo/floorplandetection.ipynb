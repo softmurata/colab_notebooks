{
  "nbformat": 4,
  "nbformat_minor": 0,
  "metadata": {
    "colab": {
      "provenance": [],
      "authorship_tag": "ABX9TyPjMdfoIP7p0Dr3xUhREXLo",
      "include_colab_link": true
    },
    "kernelspec": {
      "name": "python3",
      "display_name": "Python 3"
    },
    "language_info": {
      "name": "python"
    },
    "accelerator": "GPU",
    "gpuClass": "standard"
  },
  "cells": [
    {
      "cell_type": "markdown",
      "metadata": {
        "id": "view-in-github",
        "colab_type": "text"
      },
      "source": [
        "<a href=\"https://colab.research.google.com/github/softmurata/colab_notebooks/blob/main/sgrepo/floorplandetection.ipynb\" target=\"_parent\"><img src=\"https://colab.research.google.com/assets/colab-badge.svg\" alt=\"Open In Colab\"/></a>"
      ]
    },
    {
      "cell_type": "markdown",
      "source": [
        "Installation"
      ],
      "metadata": {
        "id": "9zMV-Gw_ZKNn"
      }
    },
    {
      "cell_type": "code",
      "execution_count": null,
      "metadata": {
        "id": "KNwSvOiXqgNk"
      },
      "outputs": [],
      "source": [
        "!git clone https://github.com/rbg-research/Floor-Plan-Detection.git\n",
        "%cd Floor-Plan-Detection"
      ]
    },
    {
      "cell_type": "code",
      "source": [
        "import os\n",
        "\n",
        "#downloading weights\n",
        "\n",
        "!gdown 'https://drive.google.com/uc?id=1gRB7ez1e4H7a9Y09lLqRuna0luZO5VRK'"
      ],
      "metadata": {
        "id": "khjVq-86qv76"
      },
      "execution_count": null,
      "outputs": []
    },
    {
      "cell_type": "code",
      "source": [
        "#downloading blender\n",
        "\n",
        "blender_url =  \"https://ftp.nluug.nl/pub/graphics/blender/release/Blender2.93/blender-2.93.1-linux-x64.tar.xz\"\n",
        "base_url = os.path.basename(blender_url)\n",
        "blender_version=\"blender2.93\"\n",
        "!mkdir $blender_version\n",
        "!wget -nc $blender_url\n",
        "!tar -xkf $base_url -C ./$blender_version --strip-components=1\n",
        "!rm blender-2.93.1-linux-x64.tar.xz"
      ],
      "metadata": {
        "id": "JdIaw42ZrOAR"
      },
      "execution_count": null,
      "outputs": []
    },
    {
      "cell_type": "code",
      "source": [
        "!pip install pyfiglet\n",
        "!pip install lmdb svgpathtools"
      ],
      "metadata": {
        "id": "avnW9b5qroyB"
      },
      "execution_count": null,
      "outputs": []
    },
    {
      "cell_type": "markdown",
      "source": [
        "prepare Demo data"
      ],
      "metadata": {
        "id": "Ui4wtFiUWuns"
      }
    },
    {
      "cell_type": "code",
      "source": [
        "# !wget https://cdn.img-asp.jp/cms/51033_2_480_1000_1.jpg -O /content/madori.jpg\n",
        "!wget https://suumo.jp/article/oyakudachi/wp-content/uploads/2019/03/madorizu_sub04.jpg -O /content/madori.jpg"
      ],
      "metadata": {
        "colab": {
          "base_uri": "https://localhost:8080/"
        },
        "id": "uw-35HuQWx_x",
        "outputId": "e594bbb5-007c-4511-9076-08c57d7b1e15"
      },
      "execution_count": 1,
      "outputs": [
        {
          "output_type": "stream",
          "name": "stdout",
          "text": [
            "--2023-06-30 08:21:43--  https://suumo.jp/article/oyakudachi/wp-content/uploads/2019/03/madorizu_sub04.jpg\n",
            "Resolving suumo.jp (suumo.jp)... 160.17.3.13\n",
            "Connecting to suumo.jp (suumo.jp)|160.17.3.13|:443... connected.\n",
            "HTTP request sent, awaiting response... 200 OK\n",
            "Length: 124710 (122K) [image/jpeg]\n",
            "Saving to: ‘/content/madori.jpg’\n",
            "\n",
            "/content/madori.jpg 100%[===================>] 121.79K   547KB/s    in 0.2s    \n",
            "\n",
            "2023-06-30 08:21:43 (547 KB/s) - ‘/content/madori.jpg’ saved [124710/124710]\n",
            "\n"
          ]
        }
      ]
    },
    {
      "cell_type": "markdown",
      "source": [
        "Inference"
      ],
      "metadata": {
        "id": "EW7uDNqjWxIE"
      }
    },
    {
      "cell_type": "code",
      "source": [
        "%cd /content/Floor-Plan-Detection"
      ],
      "metadata": {
        "colab": {
          "base_uri": "https://localhost:8080/"
        },
        "id": "SEEr-BaOZRYL",
        "outputId": "390fe259-ee0a-496c-d641-0df827414f53"
      },
      "execution_count": 4,
      "outputs": [
        {
          "output_type": "stream",
          "name": "stdout",
          "text": [
            "/content/Floor-Plan-Detection\n"
          ]
        }
      ]
    },
    {
      "cell_type": "code",
      "source": [
        "# Add outer folder\n",
        "# Adds higher directory to python modules path.\n",
        "\n",
        "# Import library\n",
        "from utils.FloorplanToBlenderLib import *\n",
        "\n",
        "# Other necessary libraries\n",
        "import numpy as np"
      ],
      "metadata": {
        "id": "yA0nAnPZq3XV"
      },
      "execution_count": 5,
      "outputs": []
    },
    {
      "cell_type": "code",
      "source": [
        "# Import library\n",
        "from utils.FloorplanToBlenderLib import *\n",
        "\n",
        "import cv2 # for image gathering\n",
        "import numpy as np\n",
        "\n",
        "# for visualize\n",
        "from PIL import Image\n",
        "from IPython.display import display\n",
        "\n",
        "img_path = \"/content/madori.jpg\"\n",
        "\n",
        "# Read floorplan image\n",
        "img = cv2.imread(img_path)\n",
        "\n",
        "# Create blank image\n",
        "height, width, channels = img.shape\n",
        "blank_image = np.zeros((height,width,3), np.uint8)\n",
        "\n",
        "# Grayscale image\n",
        "gray = cv2.cvtColor(img,cv2.COLOR_BGR2GRAY)\n",
        "\n",
        "# detect outer Contours (simple floor or roof solution), paint them red on blank_image\n",
        "contour, img = detect.detectOuterContours(gray, blank_image, color=(255,0,0))\n",
        "\n",
        "# Display\n",
        "display(Image.fromarray(img))"
      ],
      "metadata": {
        "colab": {
          "base_uri": "https://localhost:8080/",
          "height": 647
        },
        "id": "LqihdpCyr-rZ",
        "outputId": "c39a4d31-492a-45c0-a124-d6dd1a69f767"
      },
      "execution_count": 6,
      "outputs": [
        {
          "output_type": "display_data",
          "data": {
            "text/plain": [
              "<PIL.Image.Image image mode=RGB size=650x630 at 0x7F0DD106BBE0>"
            ],
            "image/png": "[encoded data removed]"
          },
          "metadata": {}
        }
      ]
    },
    {
      "cell_type": "code",
      "source": [
        "img = cv2.imread(img_path)\n",
        "\n",
        "    # grayscale image\n",
        "gray = cv2.cvtColor(img,cv2.COLOR_BGR2GRAY)\n",
        "\n",
        "# create verts (points 3d), points to use in mesh creations\n",
        "verts = []\n",
        "# create faces for each plane, describe order to create mesh points\n",
        "faces = []\n",
        "\n",
        "# Height of waLL\n",
        "height = 0.999\n",
        "\n",
        "# Scale pixel value to 3d pos\n",
        "scale = 100\n",
        "\n",
        "gray = detect.wall_filter(gray)\n",
        "\n",
        "gray = ~gray\n",
        "\n",
        "rooms, colored_rooms = detect.find_rooms(gray.copy())\n",
        "\n",
        "gray_rooms =  cv2.cvtColor(colored_rooms,cv2.COLOR_BGR2GRAY)\n",
        "\n",
        "# get box positions for rooms\n",
        "boxes, gray_rooms = detect.detectPreciseBoxes(gray_rooms, gray_rooms)\n",
        "display(Image.fromarray(colored_rooms))\n",
        "\n",
        " #Create verts\n",
        "room_count = 0\n",
        "for box in boxes:\n",
        "    verts.extend([transform.scale_point_to_vector(box, scale, height)])\n",
        "    room_count+= 1\n",
        "\n",
        "# create faces\n",
        "for room in verts:\n",
        "    count = 0\n",
        "    temp = ()\n",
        "    for pos in room:\n",
        "        temp = temp + (count,)\n",
        "        count += 1\n",
        "    faces.append([(temp)])"
      ],
      "metadata": {
        "colab": {
          "base_uri": "https://localhost:8080/",
          "height": 647
        },
        "id": "aJhJa6P6sCbS",
        "outputId": "b46db228-8021-4664-dc50-48b1b5fa2101"
      },
      "execution_count": 7,
      "outputs": [
        {
          "output_type": "display_data",
          "data": {
            "text/plain": [
              "<PIL.Image.Image image mode=RGB size=650x630 at 0x7F0DF99CFB80>"
            ],
            "image/png": "[encoded data removed]"
          },
          "metadata": {}
        }
      ]
    },
    {
      "cell_type": "code",
      "source": [
        "'''\n",
        "    Generate wall data file for floorplan\n",
        "    @Param img_path, path to input file\n",
        "    @Param info, boolean if data should be printed\n",
        "    @Return shape\n",
        "    '''\n",
        "from utils.FloorplanToBlenderLib import *\n",
        "# Read floorplan image\n",
        "img = cv2.imread(img_path)\n",
        "\n",
        "# grayscale image\n",
        "gray = cv2.cvtColor(img,cv2.COLOR_BGR2GRAY)\n",
        "\n",
        "# create wall image (filter out small objects from image)\n",
        "wall_img = detect.wall_filter(gray)\n",
        "\n",
        "# detect walls\n",
        "boxes, img = detect.detectPreciseBoxes(wall_img)\n",
        "\n",
        "display(Image.fromarray(wall_img))\n",
        "\n",
        "# create verts (points 3d), points to use in mesh creations\n",
        "verts = []\n",
        "# create faces for each plane, describe order to create mesh points\n",
        "faces = []\n",
        "\n",
        "# Height of waLL\n",
        "wall_height = 1\n",
        "\n",
        "# Scale pixel value to 3d pos\n",
        "scale = 100\n",
        "\n",
        "# Convert boxes to verts and faces\n",
        "verts, faces, wall_amount = transform.create_nx4_verts_and_faces(boxes, wall_height, scale)\n",
        "\n",
        "# Create top walls verts\n",
        "verts = []\n",
        "for box in boxes:\n",
        "    verts.extend([transform.scale_point_to_vector(box, scale, 0)])\n",
        "\n",
        "# create faces\n",
        "faces = []\n",
        "for room in verts:\n",
        "    count = 0\n",
        "    temp = ()\n",
        "    for _ in room:\n",
        "        temp = temp + (count,)\n",
        "        count += 1\n",
        "    faces.append([(temp)])"
      ],
      "metadata": {
        "colab": {
          "base_uri": "https://localhost:8080/",
          "height": 647
        },
        "id": "BUtcb3PAs0bv",
        "outputId": "05241f94-8f77-4b91-e8c7-55eac22b5715"
      },
      "execution_count": 8,
      "outputs": [
        {
          "output_type": "display_data",
          "data": {
            "text/plain": [
              "<PIL.Image.Image image mode=L size=650x630 at 0x7F0DF99CE860>"
            ],
            "image/png": "[encoded data removed]"
          },
          "metadata": {}
        }
      ]
    },
    {
      "cell_type": "code",
      "source": [
        "%cd /content/Floor-Plan-Detection/"
      ],
      "metadata": {
        "colab": {
          "base_uri": "https://localhost:8080/"
        },
        "id": "tewjcTYqtZfc",
        "outputId": "c498c923-7692-40e5-8951-bd6722caad60"
      },
      "execution_count": 9,
      "outputs": [
        {
          "output_type": "stream",
          "name": "stdout",
          "text": [
            "/content/Floor-Plan-Detection\n"
          ]
        }
      ]
    },
    {
      "cell_type": "code",
      "source": [
        "# utils/plotting.pyの610, 611行目をコメントアウトする。"
      ],
      "metadata": {
        "id": "fQ0AqveXNoYM"
      },
      "execution_count": null,
      "outputs": []
    },
    {
      "cell_type": "code",
      "source": [
        "import sys\n",
        "sys.path.append(\"..\") # Adds higher directory to python modules path.\n",
        "\n",
        "# Import library\n",
        "from utils.FloorplanToBlenderLib import *\n",
        "import numpy as np\n",
        "import matplotlib.pyplot as plt\n",
        "import matplotlib.image as mpimg\n",
        "import torch\n",
        "import torch.nn.functional as F\n",
        "import cv2\n",
        "from torch.utils.data import DataLoader\n",
        "\n",
        "from model import get_model\n",
        "from utils.loaders import FloorplanSVG, DictToTensor, Compose, RotateNTurns\n",
        "from utils.plotting import segmentation_plot, polygons_to_image, draw_junction_from_dict,           discrete_cmap\n",
        "discrete_cmap()\n",
        "from utils.post_prosessing import split_prediction, get_polygons, split_validation\n",
        "from mpl_toolkits.axes_grid1 import AxesGrid\n",
        "\n",
        "rot = RotateNTurns()\n",
        "room_classes = [\"Background\", \"Outdoor\", \"Wall\", \"Kitchen\", \"Living Room\" ,\"Bed Room\", \"Bath\",\n",
        "                \"Entry\", \"Railing\", \"Storage\", \"Garage\", \"Undefined\"]\n",
        "icon_classes = [\"No Icon\", \"Window\", \"Door\", \"Closet\", \"Electrical Applience\" ,\"Toilet\", \"Sink\",\n",
        "                \"Sauna Bench\", \"Fire Place\", \"Bathtub\", \"Chimney\"]\n",
        "\n",
        "model = get_model('hg_furukawa_original', 51)\n",
        "n_classes = 44\n",
        "split = [21, 12, 11]\n",
        "model.conv4_ = torch.nn.Conv2d(256, n_classes, bias=True, kernel_size=1)\n",
        "model.upsample = torch.nn.ConvTranspose2d(n_classes, n_classes, kernel_size=4, stride=4)\n",
        "checkpoint = torch.load('model_best_val_loss_var.pkl')\n",
        "\n",
        "model.load_state_dict(checkpoint['model_state'])\n",
        "model.eval()\n",
        "model.cuda()"
      ],
      "metadata": {
        "colab": {
          "base_uri": "https://localhost:8080/"
        },
        "id": "MaIX9ZsQs9ew",
        "outputId": "e7817446-f540-4be2-de17-c2b4a1fa788d"
      },
      "execution_count": 10,
      "outputs": [
        {
          "output_type": "execute_result",
          "data": {
            "text/plain": [
              "hg_furukawa_original(\n",
              "  (conv1_): Conv2d(3, 64, kernel_size=(7, 7), stride=(2, 2), padding=(3, 3))\n",
              "  (bn1): BatchNorm2d(64, eps=1e-05, momentum=0.1, affine=True, track_running_stats=True)\n",
              "  (relu1): ReLU(inplace=True)\n",
              "  (r01): Residual(\n",
              "    (bn): BatchNorm2d(64, eps=1e-05, momentum=0.1, affine=True, track_running_stats=True)\n",
              "    (relu): ReLU(inplace=True)\n",
              "    (conv1): Conv2d(64, 64, kernel_size=(1, 1), stride=(1, 1))\n",
              "    (bn1): BatchNorm2d(64, eps=1e-05, momentum=0.1, affine=True, track_running_stats=True)\n",
              "    (conv2): Conv2d(64, 64, kernel_size=(3, 3), stride=(1, 1), padding=(1, 1))\n",
              "    (bn2): BatchNorm2d(64, eps=1e-05, momentum=0.1, affine=True, track_running_stats=True)\n",
              "    (conv3): Conv2d(64, 128, kernel_size=(1, 1), stride=(1, 1))\n",
              "    (conv4): Conv2d(64, 128, kernel_size=(1, 1), stride=(1, 1))\n",
              "  )\n",
              "  (maxpool): MaxPool2d(kernel_size=2, stride=2, padding=0, dilation=1, ceil_mode=False)\n",
              "  (r02): Residual(\n",
              "    (bn): BatchNorm2d(128, eps=1e-05, momentum=0.1, affine=True, track_running_stats=True)\n",
              "    (relu): ReLU(inplace=True)\n",
              "    (conv1): Conv2d(128, 64, kernel_size=(1, 1), stride=(1, 1))\n",
              "    (bn1): BatchNorm2d(64, eps=1e-05, momentum=0.1, affine=True, track_running_stats=True)\n",
              "    (conv2): Conv2d(64, 64, kernel_size=(3, 3), stride=(1, 1), padding=(1, 1))\n",
              "    (bn2): BatchNorm2d(64, eps=1e-05, momentum=0.1, affine=True, track_running_stats=True)\n",
              "    (conv3): Conv2d(64, 128, kernel_size=(1, 1), stride=(1, 1))\n",
              "  )\n",
              "  (r03): Residual(\n",
              "    (bn): BatchNorm2d(128, eps=1e-05, momentum=0.1, affine=True, track_running_stats=True)\n",
              "    (relu): ReLU(inplace=True)\n",
              "    (conv1): Conv2d(128, 64, kernel_size=(1, 1), stride=(1, 1))\n",
              "    (bn1): BatchNorm2d(64, eps=1e-05, momentum=0.1, affine=True, track_running_stats=True)\n",
              "    (conv2): Conv2d(64, 64, kernel_size=(3, 3), stride=(1, 1), padding=(1, 1))\n",
              "    (bn2): BatchNorm2d(64, eps=1e-05, momentum=0.1, affine=True, track_running_stats=True)\n",
              "    (conv3): Conv2d(64, 128, kernel_size=(1, 1), stride=(1, 1))\n",
              "  )\n",
              "  (r04): Residual(\n",
              "    (bn): BatchNorm2d(128, eps=1e-05, momentum=0.1, affine=True, track_running_stats=True)\n",
              "    (relu): ReLU(inplace=True)\n",
              "    (conv1): Conv2d(128, 128, kernel_size=(1, 1), stride=(1, 1))\n",
              "    (bn1): BatchNorm2d(128, eps=1e-05, momentum=0.1, affine=True, track_running_stats=True)\n",
              "    (conv2): Conv2d(128, 128, kernel_size=(3, 3), stride=(1, 1), padding=(1, 1))\n",
              "    (bn2): BatchNorm2d(128, eps=1e-05, momentum=0.1, affine=True, track_running_stats=True)\n",
              "    (conv3): Conv2d(128, 256, kernel_size=(1, 1), stride=(1, 1))\n",
              "    (conv4): Conv2d(128, 256, kernel_size=(1, 1), stride=(1, 1))\n",
              "  )\n",
              "  (maxpool1): MaxPool2d(kernel_size=2, stride=2, padding=0, dilation=1, ceil_mode=False)\n",
              "  (r11_a): Residual(\n",
              "    (bn): BatchNorm2d(256, eps=1e-05, momentum=0.1, affine=True, track_running_stats=True)\n",
              "    (relu): ReLU(inplace=True)\n",
              "    (conv1): Conv2d(256, 128, kernel_size=(1, 1), stride=(1, 1))\n",
              "    (bn1): BatchNorm2d(128, eps=1e-05, momentum=0.1, affine=True, track_running_stats=True)\n",
              "    (conv2): Conv2d(128, 128, kernel_size=(3, 3), stride=(1, 1), padding=(1, 1))\n",
              "    (bn2): BatchNorm2d(128, eps=1e-05, momentum=0.1, affine=True, track_running_stats=True)\n",
              "    (conv3): Conv2d(128, 256, kernel_size=(1, 1), stride=(1, 1))\n",
              "  )\n",
              "  (r12_a): Residual(\n",
              "    (bn): BatchNorm2d(256, eps=1e-05, momentum=0.1, affine=True, track_running_stats=True)\n",
              "    (relu): ReLU(inplace=True)\n",
              "    (conv1): Conv2d(256, 128, kernel_size=(1, 1), stride=(1, 1))\n",
              "    (bn1): BatchNorm2d(128, eps=1e-05, momentum=0.1, affine=True, track_running_stats=True)\n",
              "    (conv2): Conv2d(128, 128, kernel_size=(3, 3), stride=(1, 1), padding=(1, 1))\n",
              "    (bn2): BatchNorm2d(128, eps=1e-05, momentum=0.1, affine=True, track_running_stats=True)\n",
              "    (conv3): Conv2d(128, 256, kernel_size=(1, 1), stride=(1, 1))\n",
              "  )\n",
              "  (r13_a): Residual(\n",
              "    (bn): BatchNorm2d(256, eps=1e-05, momentum=0.1, affine=True, track_running_stats=True)\n",
              "    (relu): ReLU(inplace=True)\n",
              "    (conv1): Conv2d(256, 128, kernel_size=(1, 1), stride=(1, 1))\n",
              "    (bn1): BatchNorm2d(128, eps=1e-05, momentum=0.1, affine=True, track_running_stats=True)\n",
              "    (conv2): Conv2d(128, 128, kernel_size=(3, 3), stride=(1, 1), padding=(1, 1))\n",
              "    (bn2): BatchNorm2d(128, eps=1e-05, momentum=0.1, affine=True, track_running_stats=True)\n",
              "    (conv3): Conv2d(128, 256, kernel_size=(1, 1), stride=(1, 1))\n",
              "  )\n",
              "  (maxpool2): MaxPool2d(kernel_size=2, stride=2, padding=0, dilation=1, ceil_mode=False)\n",
              "  (r21_a): Residual(\n",
              "    (bn): BatchNorm2d(256, eps=1e-05, momentum=0.1, affine=True, track_running_stats=True)\n",
              "    (relu): ReLU(inplace=True)\n",
              "    (conv1): Conv2d(256, 128, kernel_size=(1, 1), stride=(1, 1))\n",
              "    (bn1): BatchNorm2d(128, eps=1e-05, momentum=0.1, affine=True, track_running_stats=True)\n",
              "    (conv2): Conv2d(128, 128, kernel_size=(3, 3), stride=(1, 1), padding=(1, 1))\n",
              "    (bn2): BatchNorm2d(128, eps=1e-05, momentum=0.1, affine=True, track_running_stats=True)\n",
              "    (conv3): Conv2d(128, 256, kernel_size=(1, 1), stride=(1, 1))\n",
              "  )\n",
              "  (r22_a): Residual(\n",
              "    (bn): BatchNorm2d(256, eps=1e-05, momentum=0.1, affine=True, track_running_stats=True)\n",
              "    (relu): ReLU(inplace=True)\n",
              "    (conv1): Conv2d(256, 128, kernel_size=(1, 1), stride=(1, 1))\n",
              "    (bn1): BatchNorm2d(128, eps=1e-05, momentum=0.1, affine=True, track_running_stats=True)\n",
              "    (conv2): Conv2d(128, 128, kernel_size=(3, 3), stride=(1, 1), padding=(1, 1))\n",
              "    (bn2): BatchNorm2d(128, eps=1e-05, momentum=0.1, affine=True, track_running_stats=True)\n",
              "    (conv3): Conv2d(128, 256, kernel_size=(1, 1), stride=(1, 1))\n",
              "  )\n",
              "  (r23_a): Residual(\n",
              "    (bn): BatchNorm2d(256, eps=1e-05, momentum=0.1, affine=True, track_running_stats=True)\n",
              "    (relu): ReLU(inplace=True)\n",
              "    (conv1): Conv2d(256, 128, kernel_size=(1, 1), stride=(1, 1))\n",
              "    (bn1): BatchNorm2d(128, eps=1e-05, momentum=0.1, affine=True, track_running_stats=True)\n",
              "    (conv2): Conv2d(128, 128, kernel_size=(3, 3), stride=(1, 1), padding=(1, 1))\n",
              "    (bn2): BatchNorm2d(128, eps=1e-05, momentum=0.1, affine=True, track_running_stats=True)\n",
              "    (conv3): Conv2d(128, 256, kernel_size=(1, 1), stride=(1, 1))\n",
              "  )\n",
              "  (maxpool3): MaxPool2d(kernel_size=2, stride=2, padding=0, dilation=1, ceil_mode=False)\n",
              "  (r31_a): Residual(\n",
              "    (bn): BatchNorm2d(256, eps=1e-05, momentum=0.1, affine=True, track_running_stats=True)\n",
              "    (relu): ReLU(inplace=True)\n",
              "    (conv1): Conv2d(256, 128, kernel_size=(1, 1), stride=(1, 1))\n",
              "    (bn1): BatchNorm2d(128, eps=1e-05, momentum=0.1, affine=True, track_running_stats=True)\n",
              "    (conv2): Conv2d(128, 128, kernel_size=(3, 3), stride=(1, 1), padding=(1, 1))\n",
              "    (bn2): BatchNorm2d(128, eps=1e-05, momentum=0.1, affine=True, track_running_stats=True)\n",
              "    (conv3): Conv2d(128, 256, kernel_size=(1, 1), stride=(1, 1))\n",
              "  )\n",
              "  (r32_a): Residual(\n",
              "    (bn): BatchNorm2d(256, eps=1e-05, momentum=0.1, affine=True, track_running_stats=True)\n",
              "    (relu): ReLU(inplace=True)\n",
              "    (conv1): Conv2d(256, 128, kernel_size=(1, 1), stride=(1, 1))\n",
              "    (bn1): BatchNorm2d(128, eps=1e-05, momentum=0.1, affine=True, track_running_stats=True)\n",
              "    (conv2): Conv2d(128, 128, kernel_size=(3, 3), stride=(1, 1), padding=(1, 1))\n",
              "    (bn2): BatchNorm2d(128, eps=1e-05, momentum=0.1, affine=True, track_running_stats=True)\n",
              "    (conv3): Conv2d(128, 256, kernel_size=(1, 1), stride=(1, 1))\n",
              "  )\n",
              "  (r33_a): Residual(\n",
              "    (bn): BatchNorm2d(256, eps=1e-05, momentum=0.1, affine=True, track_running_stats=True)\n",
              "    (relu): ReLU(inplace=True)\n",
              "    (conv1): Conv2d(256, 128, kernel_size=(1, 1), stride=(1, 1))\n",
              "    (bn1): BatchNorm2d(128, eps=1e-05, momentum=0.1, affine=True, track_running_stats=True)\n",
              "    (conv2): Conv2d(128, 128, kernel_size=(3, 3), stride=(1, 1), padding=(1, 1))\n",
              "    (bn2): BatchNorm2d(128, eps=1e-05, momentum=0.1, affine=True, track_running_stats=True)\n",
              "    (conv3): Conv2d(128, 256, kernel_size=(1, 1), stride=(1, 1))\n",
              "  )\n",
              "  (maxpool4): MaxPool2d(kernel_size=2, stride=2, padding=0, dilation=1, ceil_mode=False)\n",
              "  (r41_a): Residual(\n",
              "    (bn): BatchNorm2d(256, eps=1e-05, momentum=0.1, affine=True, track_running_stats=True)\n",
              "    (relu): ReLU(inplace=True)\n",
              "    (conv1): Conv2d(256, 128, kernel_size=(1, 1), stride=(1, 1))\n",
              "    (bn1): BatchNorm2d(128, eps=1e-05, momentum=0.1, affine=True, track_running_stats=True)\n",
              "    (conv2): Conv2d(128, 128, kernel_size=(3, 3), stride=(1, 1), padding=(1, 1))\n",
              "    (bn2): BatchNorm2d(128, eps=1e-05, momentum=0.1, affine=True, track_running_stats=True)\n",
              "    (conv3): Conv2d(128, 256, kernel_size=(1, 1), stride=(1, 1))\n",
              "  )\n",
              "  (r42_a): Residual(\n",
              "    (bn): BatchNorm2d(256, eps=1e-05, momentum=0.1, affine=True, track_running_stats=True)\n",
              "    (relu): ReLU(inplace=True)\n",
              "    (conv1): Conv2d(256, 128, kernel_size=(1, 1), stride=(1, 1))\n",
              "    (bn1): BatchNorm2d(128, eps=1e-05, momentum=0.1, affine=True, track_running_stats=True)\n",
              "    (conv2): Conv2d(128, 128, kernel_size=(3, 3), stride=(1, 1), padding=(1, 1))\n",
              "    (bn2): BatchNorm2d(128, eps=1e-05, momentum=0.1, affine=True, track_running_stats=True)\n",
              "    (conv3): Conv2d(128, 256, kernel_size=(1, 1), stride=(1, 1))\n",
              "  )\n",
              "  (r43_a): Residual(\n",
              "    (bn): BatchNorm2d(256, eps=1e-05, momentum=0.1, affine=True, track_running_stats=True)\n",
              "    (relu): ReLU(inplace=True)\n",
              "    (conv1): Conv2d(256, 128, kernel_size=(1, 1), stride=(1, 1))\n",
              "    (bn1): BatchNorm2d(128, eps=1e-05, momentum=0.1, affine=True, track_running_stats=True)\n",
              "    (conv2): Conv2d(128, 128, kernel_size=(3, 3), stride=(1, 1), padding=(1, 1))\n",
              "    (bn2): BatchNorm2d(128, eps=1e-05, momentum=0.1, affine=True, track_running_stats=True)\n",
              "    (conv3): Conv2d(128, 256, kernel_size=(1, 1), stride=(1, 1))\n",
              "  )\n",
              "  (r44_a): Residual(\n",
              "    (bn): BatchNorm2d(256, eps=1e-05, momentum=0.1, affine=True, track_running_stats=True)\n",
              "    (relu): ReLU(inplace=True)\n",
              "    (conv1): Conv2d(256, 256, kernel_size=(1, 1), stride=(1, 1))\n",
              "    (bn1): BatchNorm2d(256, eps=1e-05, momentum=0.1, affine=True, track_running_stats=True)\n",
              "    (conv2): Conv2d(256, 256, kernel_size=(3, 3), stride=(1, 1), padding=(1, 1))\n",
              "    (bn2): BatchNorm2d(256, eps=1e-05, momentum=0.1, affine=True, track_running_stats=True)\n",
              "    (conv3): Conv2d(256, 512, kernel_size=(1, 1), stride=(1, 1))\n",
              "    (conv4): Conv2d(256, 512, kernel_size=(1, 1), stride=(1, 1))\n",
              "  )\n",
              "  (r45_a): Residual(\n",
              "    (bn): BatchNorm2d(512, eps=1e-05, momentum=0.1, affine=True, track_running_stats=True)\n",
              "    (relu): ReLU(inplace=True)\n",
              "    (conv1): Conv2d(512, 256, kernel_size=(1, 1), stride=(1, 1))\n",
              "    (bn1): BatchNorm2d(256, eps=1e-05, momentum=0.1, affine=True, track_running_stats=True)\n",
              "    (conv2): Conv2d(256, 256, kernel_size=(3, 3), stride=(1, 1), padding=(1, 1))\n",
              "    (bn2): BatchNorm2d(256, eps=1e-05, momentum=0.1, affine=True, track_running_stats=True)\n",
              "    (conv3): Conv2d(256, 512, kernel_size=(1, 1), stride=(1, 1))\n",
              "  )\n",
              "  (upsample4): ConvTranspose2d(512, 512, kernel_size=(2, 2), stride=(2, 2))\n",
              "  (r41_b): Residual(\n",
              "    (bn): BatchNorm2d(256, eps=1e-05, momentum=0.1, affine=True, track_running_stats=True)\n",
              "    (relu): ReLU(inplace=True)\n",
              "    (conv1): Conv2d(256, 128, kernel_size=(1, 1), stride=(1, 1))\n",
              "    (bn1): BatchNorm2d(128, eps=1e-05, momentum=0.1, affine=True, track_running_stats=True)\n",
              "    (conv2): Conv2d(128, 128, kernel_size=(3, 3), stride=(1, 1), padding=(1, 1))\n",
              "    (bn2): BatchNorm2d(128, eps=1e-05, momentum=0.1, affine=True, track_running_stats=True)\n",
              "    (conv3): Conv2d(128, 256, kernel_size=(1, 1), stride=(1, 1))\n",
              "  )\n",
              "  (r42_b): Residual(\n",
              "    (bn): BatchNorm2d(256, eps=1e-05, momentum=0.1, affine=True, track_running_stats=True)\n",
              "    (relu): ReLU(inplace=True)\n",
              "    (conv1): Conv2d(256, 128, kernel_size=(1, 1), stride=(1, 1))\n",
              "    (bn1): BatchNorm2d(128, eps=1e-05, momentum=0.1, affine=True, track_running_stats=True)\n",
              "    (conv2): Conv2d(128, 128, kernel_size=(3, 3), stride=(1, 1), padding=(1, 1))\n",
              "    (bn2): BatchNorm2d(128, eps=1e-05, momentum=0.1, affine=True, track_running_stats=True)\n",
              "    (conv3): Conv2d(128, 256, kernel_size=(1, 1), stride=(1, 1))\n",
              "  )\n",
              "  (r43_b): Residual(\n",
              "    (bn): BatchNorm2d(256, eps=1e-05, momentum=0.1, affine=True, track_running_stats=True)\n",
              "    (relu): ReLU(inplace=True)\n",
              "    (conv1): Conv2d(256, 256, kernel_size=(1, 1), stride=(1, 1))\n",
              "    (bn1): BatchNorm2d(256, eps=1e-05, momentum=0.1, affine=True, track_running_stats=True)\n",
              "    (conv2): Conv2d(256, 256, kernel_size=(3, 3), stride=(1, 1), padding=(1, 1))\n",
              "    (bn2): BatchNorm2d(256, eps=1e-05, momentum=0.1, affine=True, track_running_stats=True)\n",
              "    (conv3): Conv2d(256, 512, kernel_size=(1, 1), stride=(1, 1))\n",
              "    (conv4): Conv2d(256, 512, kernel_size=(1, 1), stride=(1, 1))\n",
              "  )\n",
              "  (r4_): Residual(\n",
              "    (bn): BatchNorm2d(512, eps=1e-05, momentum=0.1, affine=True, track_running_stats=True)\n",
              "    (relu): ReLU(inplace=True)\n",
              "    (conv1): Conv2d(512, 256, kernel_size=(1, 1), stride=(1, 1))\n",
              "    (bn1): BatchNorm2d(256, eps=1e-05, momentum=0.1, affine=True, track_running_stats=True)\n",
              "    (conv2): Conv2d(256, 256, kernel_size=(3, 3), stride=(1, 1), padding=(1, 1))\n",
              "    (bn2): BatchNorm2d(256, eps=1e-05, momentum=0.1, affine=True, track_running_stats=True)\n",
              "    (conv3): Conv2d(256, 512, kernel_size=(1, 1), stride=(1, 1))\n",
              "  )\n",
              "  (upsample3): ConvTranspose2d(512, 512, kernel_size=(2, 2), stride=(2, 2))\n",
              "  (r31_b): Residual(\n",
              "    (bn): BatchNorm2d(256, eps=1e-05, momentum=0.1, affine=True, track_running_stats=True)\n",
              "    (relu): ReLU(inplace=True)\n",
              "    (conv1): Conv2d(256, 128, kernel_size=(1, 1), stride=(1, 1))\n",
              "    (bn1): BatchNorm2d(128, eps=1e-05, momentum=0.1, affine=True, track_running_stats=True)\n",
              "    (conv2): Conv2d(128, 128, kernel_size=(3, 3), stride=(1, 1), padding=(1, 1))\n",
              "    (bn2): BatchNorm2d(128, eps=1e-05, momentum=0.1, affine=True, track_running_stats=True)\n",
              "    (conv3): Conv2d(128, 256, kernel_size=(1, 1), stride=(1, 1))\n",
              "  )\n",
              "  (r32_b): Residual(\n",
              "    (bn): BatchNorm2d(256, eps=1e-05, momentum=0.1, affine=True, track_running_stats=True)\n",
              "    (relu): ReLU(inplace=True)\n",
              "    (conv1): Conv2d(256, 128, kernel_size=(1, 1), stride=(1, 1))\n",
              "    (bn1): BatchNorm2d(128, eps=1e-05, momentum=0.1, affine=True, track_running_stats=True)\n",
              "    (conv2): Conv2d(128, 128, kernel_size=(3, 3), stride=(1, 1), padding=(1, 1))\n",
              "    (bn2): BatchNorm2d(128, eps=1e-05, momentum=0.1, affine=True, track_running_stats=True)\n",
              "    (conv3): Conv2d(128, 256, kernel_size=(1, 1), stride=(1, 1))\n",
              "  )\n",
              "  (r33_b): Residual(\n",
              "    (bn): BatchNorm2d(256, eps=1e-05, momentum=0.1, affine=True, track_running_stats=True)\n",
              "    (relu): ReLU(inplace=True)\n",
              "    (conv1): Conv2d(256, 256, kernel_size=(1, 1), stride=(1, 1))\n",
              "    (bn1): BatchNorm2d(256, eps=1e-05, momentum=0.1, affine=True, track_running_stats=True)\n",
              "    (conv2): Conv2d(256, 256, kernel_size=(3, 3), stride=(1, 1), padding=(1, 1))\n",
              "    (bn2): BatchNorm2d(256, eps=1e-05, momentum=0.1, affine=True, track_running_stats=True)\n",
              "    (conv3): Conv2d(256, 512, kernel_size=(1, 1), stride=(1, 1))\n",
              "    (conv4): Conv2d(256, 512, kernel_size=(1, 1), stride=(1, 1))\n",
              "  )\n",
              "  (r3_): Residual(\n",
              "    (bn): BatchNorm2d(512, eps=1e-05, momentum=0.1, affine=True, track_running_stats=True)\n",
              "    (relu): ReLU(inplace=True)\n",
              "    (conv1): Conv2d(512, 256, kernel_size=(1, 1), stride=(1, 1))\n",
              "    (bn1): BatchNorm2d(256, eps=1e-05, momentum=0.1, affine=True, track_running_stats=True)\n",
              "    (conv2): Conv2d(256, 256, kernel_size=(3, 3), stride=(1, 1), padding=(1, 1))\n",
              "    (bn2): BatchNorm2d(256, eps=1e-05, momentum=0.1, affine=True, track_running_stats=True)\n",
              "    (conv3): Conv2d(256, 512, kernel_size=(1, 1), stride=(1, 1))\n",
              "  )\n",
              "  (upsample2): ConvTranspose2d(512, 512, kernel_size=(2, 2), stride=(2, 2))\n",
              "  (r21_b): Residual(\n",
              "    (bn): BatchNorm2d(256, eps=1e-05, momentum=0.1, affine=True, track_running_stats=True)\n",
              "    (relu): ReLU(inplace=True)\n",
              "    (conv1): Conv2d(256, 128, kernel_size=(1, 1), stride=(1, 1))\n",
              "    (bn1): BatchNorm2d(128, eps=1e-05, momentum=0.1, affine=True, track_running_stats=True)\n",
              "    (conv2): Conv2d(128, 128, kernel_size=(3, 3), stride=(1, 1), padding=(1, 1))\n",
              "    (bn2): BatchNorm2d(128, eps=1e-05, momentum=0.1, affine=True, track_running_stats=True)\n",
              "    (conv3): Conv2d(128, 256, kernel_size=(1, 1), stride=(1, 1))\n",
              "  )\n",
              "  (r22_b): Residual(\n",
              "    (bn): BatchNorm2d(256, eps=1e-05, momentum=0.1, affine=True, track_running_stats=True)\n",
              "    (relu): ReLU(inplace=True)\n",
              "    (conv1): Conv2d(256, 128, kernel_size=(1, 1), stride=(1, 1))\n",
              "    (bn1): BatchNorm2d(128, eps=1e-05, momentum=0.1, affine=True, track_running_stats=True)\n",
              "    (conv2): Conv2d(128, 128, kernel_size=(3, 3), stride=(1, 1), padding=(1, 1))\n",
              "    (bn2): BatchNorm2d(128, eps=1e-05, momentum=0.1, affine=True, track_running_stats=True)\n",
              "    (conv3): Conv2d(128, 256, kernel_size=(1, 1), stride=(1, 1))\n",
              "  )\n",
              "  (r23_b): Residual(\n",
              "    (bn): BatchNorm2d(256, eps=1e-05, momentum=0.1, affine=True, track_running_stats=True)\n",
              "    (relu): ReLU(inplace=True)\n",
              "    (conv1): Conv2d(256, 256, kernel_size=(1, 1), stride=(1, 1))\n",
              "    (bn1): BatchNorm2d(256, eps=1e-05, momentum=0.1, affine=True, track_running_stats=True)\n",
              "    (conv2): Conv2d(256, 256, kernel_size=(3, 3), stride=(1, 1), padding=(1, 1))\n",
              "    (bn2): BatchNorm2d(256, eps=1e-05, momentum=0.1, affine=True, track_running_stats=True)\n",
              "    (conv3): Conv2d(256, 512, kernel_size=(1, 1), stride=(1, 1))\n",
              "    (conv4): Conv2d(256, 512, kernel_size=(1, 1), stride=(1, 1))\n",
              "  )\n",
              "  (r2_): Residual(\n",
              "    (bn): BatchNorm2d(512, eps=1e-05, momentum=0.1, affine=True, track_running_stats=True)\n",
              "    (relu): ReLU(inplace=True)\n",
              "    (conv1): Conv2d(512, 256, kernel_size=(1, 1), stride=(1, 1))\n",
              "    (bn1): BatchNorm2d(256, eps=1e-05, momentum=0.1, affine=True, track_running_stats=True)\n",
              "    (conv2): Conv2d(256, 256, kernel_size=(3, 3), stride=(1, 1), padding=(1, 1))\n",
              "    (bn2): BatchNorm2d(256, eps=1e-05, momentum=0.1, affine=True, track_running_stats=True)\n",
              "    (conv3): Conv2d(256, 512, kernel_size=(1, 1), stride=(1, 1))\n",
              "  )\n",
              "  (upsample1): ConvTranspose2d(512, 512, kernel_size=(2, 2), stride=(2, 2))\n",
              "  (r11_b): Residual(\n",
              "    (bn): BatchNorm2d(256, eps=1e-05, momentum=0.1, affine=True, track_running_stats=True)\n",
              "    (relu): ReLU(inplace=True)\n",
              "    (conv1): Conv2d(256, 128, kernel_size=(1, 1), stride=(1, 1))\n",
              "    (bn1): BatchNorm2d(128, eps=1e-05, momentum=0.1, affine=True, track_running_stats=True)\n",
              "    (conv2): Conv2d(128, 128, kernel_size=(3, 3), stride=(1, 1), padding=(1, 1))\n",
              "    (bn2): BatchNorm2d(128, eps=1e-05, momentum=0.1, affine=True, track_running_stats=True)\n",
              "    (conv3): Conv2d(128, 256, kernel_size=(1, 1), stride=(1, 1))\n",
              "  )\n",
              "  (r12_b): Residual(\n",
              "    (bn): BatchNorm2d(256, eps=1e-05, momentum=0.1, affine=True, track_running_stats=True)\n",
              "    (relu): ReLU(inplace=True)\n",
              "    (conv1): Conv2d(256, 128, kernel_size=(1, 1), stride=(1, 1))\n",
              "    (bn1): BatchNorm2d(128, eps=1e-05, momentum=0.1, affine=True, track_running_stats=True)\n",
              "    (conv2): Conv2d(128, 128, kernel_size=(3, 3), stride=(1, 1), padding=(1, 1))\n",
              "    (bn2): BatchNorm2d(128, eps=1e-05, momentum=0.1, affine=True, track_running_stats=True)\n",
              "    (conv3): Conv2d(128, 256, kernel_size=(1, 1), stride=(1, 1))\n",
              "  )\n",
              "  (r13_b): Residual(\n",
              "    (bn): BatchNorm2d(256, eps=1e-05, momentum=0.1, affine=True, track_running_stats=True)\n",
              "    (relu): ReLU(inplace=True)\n",
              "    (conv1): Conv2d(256, 256, kernel_size=(1, 1), stride=(1, 1))\n",
              "    (bn1): BatchNorm2d(256, eps=1e-05, momentum=0.1, affine=True, track_running_stats=True)\n",
              "    (conv2): Conv2d(256, 256, kernel_size=(3, 3), stride=(1, 1), padding=(1, 1))\n",
              "    (bn2): BatchNorm2d(256, eps=1e-05, momentum=0.1, affine=True, track_running_stats=True)\n",
              "    (conv3): Conv2d(256, 512, kernel_size=(1, 1), stride=(1, 1))\n",
              "    (conv4): Conv2d(256, 512, kernel_size=(1, 1), stride=(1, 1))\n",
              "  )\n",
              "  (conv2_): Conv2d(512, 512, kernel_size=(1, 1), stride=(1, 1))\n",
              "  (bn2): BatchNorm2d(512, eps=1e-05, momentum=0.1, affine=True, track_running_stats=True)\n",
              "  (relu2): ReLU(inplace=True)\n",
              "  (conv3_): Conv2d(512, 256, kernel_size=(1, 1), stride=(1, 1))\n",
              "  (bn3): BatchNorm2d(256, eps=1e-05, momentum=0.1, affine=True, track_running_stats=True)\n",
              "  (relu3): ReLU(inplace=True)\n",
              "  (conv4_): Conv2d(256, 44, kernel_size=(1, 1), stride=(1, 1))\n",
              "  (upsample): ConvTranspose2d(44, 44, kernel_size=(4, 4), stride=(4, 4))\n",
              "  (sigmoid): Sigmoid()\n",
              ")"
            ]
          },
          "metadata": {},
          "execution_count": 10
        }
      ]
    },
    {
      "cell_type": "code",
      "source": [
        "img_path = \"/content/madori.jpg\"\n",
        "# Create tensor for pytorch\n",
        "img = cv2.imread(img_path)\n",
        "img = cv2.cvtColor(img, cv2.COLOR_BGR2RGB)  # correct color channels\n",
        "\n",
        "# Image transformation to range (-1,1)\n",
        "img = 2 * (img / 255.0) - 1\n",
        "\n",
        "# Move from (h,w,3)--->(3,h,w) as model input dimension is defined like this\n",
        "img = np.moveaxis(img, -1, 0)\n",
        "\n",
        "# Convert to pytorch, enable cuda\n",
        "img = torch.tensor([img.astype(np.float32)]).cuda()\n",
        "n_rooms = 12\n",
        "n_icons = 11\n",
        "\n",
        "with torch.no_grad():\n",
        "    #Check if shape of image is odd or even\n",
        "    size_check = np.array([img.shape[2],img.shape[3]])%2\n",
        "\n",
        "    height = img.shape[2] - size_check[0]\n",
        "    width = img.shape[3] - size_check[1]\n",
        "\n",
        "    img_size = (height, width)\n",
        "\n",
        "    rotations = [(0, 0), (1, -1), (2, 2), (-1, 1)]\n",
        "    pred_count = len(rotations)\n",
        "    prediction = torch.zeros([pred_count, n_classes, height, width])\n",
        "    for i, r in enumerate(rotations):\n",
        "        forward, back = r\n",
        "        # We rotate first the image\n",
        "        rot_image = rot(img, 'tensor', forward)\n",
        "        pred = model(rot_image)\n",
        "        # We rotate prediction back\n",
        "        pred = rot(pred, 'tensor', back)\n",
        "        # We fix heatmaps\n",
        "        pred = rot(pred, 'points', back)\n",
        "        # We make sure the size is correct\n",
        "        pred = F.interpolate(pred, size=(height, width), mode='bilinear', align_corners=True)\n",
        "        # We add the prediction to output\n",
        "        prediction[i] = pred[0]\n",
        "\n",
        "prediction = torch.mean(prediction, 0, True)\n",
        "\n",
        "\n",
        "rooms_pred = F.softmax(prediction[0, 21:21+12], 0).cpu().data.numpy()\n",
        "rooms_pred = np.argmax(rooms_pred, axis=0)\n",
        "\n",
        "icons_pred = F.softmax(prediction[0, 21+12:], 0).cpu().data.numpy()\n",
        "icons_pred = np.argmax(icons_pred, axis=0)\n",
        "\n",
        "heatmaps, rooms, icons = split_prediction(prediction, img_size, split)\n",
        "polygons, types, room_polygons, room_types = get_polygons((heatmaps, rooms, icons), 0.2, [1, 2])\n",
        "\n",
        "wall_polygon_numbers=[i for i,j in enumerate(types) if j['type']=='wall']\n",
        "boxes=[]\n",
        "for i,j in enumerate(polygons):\n",
        "    if i in wall_polygon_numbers:\n",
        "        temp=[]\n",
        "        for k in j:\n",
        "            temp.append(np.array([k]))\n",
        "        boxes.append(np.array(temp))\n",
        "\n",
        "\n",
        "# Scale pixel value to 3d pos\n",
        "scale = 100\n",
        "# Height of waLL\n",
        "wall_height = 1\n",
        "# Scale pixel value to 3d pos\n",
        "scale = 100\n",
        "\n",
        "verts, faces, wall_amount = transform.create_nx4_verts_and_faces(boxes, wall_height, scale)\n",
        "\n",
        "# Create top walls verts\n",
        "verts = []\n",
        "for box in boxes:\n",
        "    verts.extend([transform.scale_point_to_vector(box, scale, 0)])\n",
        "\n",
        "# create faces\n",
        "faces = []\n",
        "for room in verts:\n",
        "    count = 0\n",
        "    temp = ()\n",
        "    for _ in room:\n",
        "        temp = temp + (count,)\n",
        "        count += 1\n",
        "    faces.append([(temp)])"
      ],
      "metadata": {
        "colab": {
          "base_uri": "https://localhost:8080/"
        },
        "id": "v4TJWBhRuoZN",
        "outputId": "a443cd51-6d05-47f2-bd63-358001a86bfc"
      },
      "execution_count": 11,
      "outputs": [
        {
          "output_type": "stream",
          "name": "stderr",
          "text": [
            "<ipython-input-11-2a54b4cbe2b4>:13: UserWarning: Creating a tensor from a list of numpy.ndarrays is extremely slow. Please consider converting the list to a single numpy.ndarray with numpy.array() before converting to a tensor. (Triggered internally at ../torch/csrc/utils/tensor_new.cpp:245.)\n",
            "  img = torch.tensor([img.astype(np.float32)]).cuda()\n",
            "/content/Floor-Plan-Detection/utils/post_prosessing.py:948: FutureWarning: Unlike other reduction functions (e.g. `skew`, `kurtosis`), the default behavior of `mode` typically preserves the axis it acts along. In SciPy 1.11.0, this behavior will change: the default value of `keepdims` will become False, the `axis` over which the statistic is taken will be eliminated, and the value None will no longer be accepted. Set `keepdims` to True or False to avoid this warning.\n",
            "  wall_width = stats.mode(widths).mode[0]\n",
            "/content/Floor-Plan-Detection/utils/post_prosessing.py:1004: FutureWarning: Unlike other reduction functions (e.g. `skew`, `kurtosis`), the default behavior of `mode` typically preserves the axis it acts along. In SciPy 1.11.0, this behavior will change: the default value of `keepdims` will become False, the `axis` over which the statistic is taken will be eliminated, and the value None will no longer be accepted. Set `keepdims` to True or False to avoid this warning.\n",
            "  wall_width = stats.mode(widths).mode[0]\n"
          ]
        }
      ]
    },
    {
      "cell_type": "code",
      "source": [
        "pol_room_seg, pol_icon_seg = polygons_to_image(polygons, types, room_polygons, room_types, height, width)\n",
        "\n",
        "\n",
        "plt.figure(figsize=(12,12))\n",
        "ax = plt.subplot(1, 1, 1)\n",
        "ax.axis('off')\n",
        "rseg = ax.imshow(pol_room_seg, cmap='rooms', vmin=0, vmax=n_rooms-0.1)\n",
        "cbar = plt.colorbar(rseg, ticks=np.arange(n_rooms) + 0.5, fraction=0.046, pad=0.01)\n",
        "cbar.ax.set_yticklabels(room_classes, fontsize=20)\n",
        "plt.tight_layout()\n",
        "plt.show()\n",
        "\n",
        "plt.figure(figsize=(12,12))\n",
        "ax = plt.subplot(1, 1, 1)\n",
        "ax.axis('off')\n",
        "iseg = ax.imshow(pol_icon_seg, cmap='icons', vmin=0, vmax=n_icons-0.1)\n",
        "cbar = plt.colorbar(iseg, ticks=np.arange(n_icons) + 0.5, fraction=0.046, pad=0.01)\n",
        "cbar.ax.set_yticklabels(icon_classes, fontsize=20)\n",
        "plt.tight_layout()\n",
        "plt.show()"
      ],
      "metadata": {
        "colab": {
          "base_uri": "https://localhost:8080/",
          "height": 1000
        },
        "id": "7cGSyis0vAvv",
        "outputId": "0ec17c38-a522-479d-ec28-76e631286ef4"
      },
      "execution_count": 12,
      "outputs": [
        {
          "output_type": "stream",
          "name": "stderr",
          "text": [
            "/usr/local/lib/python3.10/dist-packages/shapely/predicates.py:798: RuntimeWarning: invalid value encountered in intersects\n",
            "  return lib.intersects(a, b, **kwargs)\n"
          ]
        },
        {
          "output_type": "display_data",
          "data": {
            "text/plain": [
              "<Figure size 1200x1200 with 2 Axes>"
            ],
            "image/png": "[encoded data removed]"
          },
          "metadata": {}
        },
        {
          "output_type": "display_data",
          "data": {
            "text/plain": [
              "<Figure size 1200x1200 with 2 Axes>"
            ],
            "image/png": "[encoded data removed]"
          },
          "metadata": {}
        }
      ]
    },
    {
      "cell_type": "code",
      "source": [
        "%cd /content/Floor-Plan-Detection"
      ],
      "metadata": {
        "colab": {
          "base_uri": "https://localhost:8080/"
        },
        "id": "ZJlTU3NUwahR",
        "outputId": "14dd59ac-2b42-4865-e01a-181a596e3d32"
      },
      "execution_count": 13,
      "outputs": [
        {
          "output_type": "stream",
          "name": "stdout",
          "text": [
            "/content/Floor-Plan-Detection\n"
          ]
        }
      ]
    },
    {
      "cell_type": "code",
      "source": [
        "# config.py\n",
        "\"\"\"\n",
        "import os\n",
        "\n",
        "image_path = '/content/madori.jpg'\n",
        "target_path = '/floorplan' # will export in two formats (.blend and .stl)\n",
        "program_path = os.getcwd()\n",
        "blender_install_path = program_path+\"/blender2.93/blender\"\n",
        "blender_script_path = program_path+\"/floorplan_to_3dObject_in_blender.py\"\n",
        "\n",
        "SR_scale = 2\n",
        "SR_method = 'lapsrn'\n",
        "\n",
        "CubiCasa = True\n",
        "\"\"\""
      ],
      "metadata": {
        "id": "CndABP1aPDDy"
      },
      "execution_count": null,
      "outputs": []
    },
    {
      "cell_type": "code",
      "source": [
        "# FloorplanToSTL.py\n",
        "\"\"\"\n",
        "from utils.FloorplanToBlenderLib import *\n",
        "from subprocess import check_output\n",
        "import os\n",
        "import config\n",
        "\n",
        "def createFloorPlan(image_path = config.image_path, target_path = config.target_path, SR_Check=True):\n",
        "\n",
        "    SR= [config.SR_scale,config.SR_method]\n",
        "    program_path = config.program_path\n",
        "    blender_install_path = config.blender_install_path\n",
        "    blender_script_path = config.blender_script_path\n",
        "    CubiCasa = config.CubiCasa\n",
        "    data_paths = [execution.simple_single(image_path,CubiCasa,SR)]\n",
        "\n",
        "    check_output([blender_install_path,\n",
        "     \"-noaudio\", # this is a dockerfile ubuntu hax fix\n",
        "     \"--background\",\n",
        "     \"--python\",\n",
        "     blender_script_path,\n",
        "     program_path, # Send this as parameter to script\n",
        "     target_path\n",
        "     ] +  data_paths)\n",
        "\n",
        "    print(\"Created File at \"+target_path)\n",
        "\"\"\""
      ],
      "metadata": {
        "id": "HHs3lyxeYrpt"
      },
      "execution_count": null,
      "outputs": []
    },
    {
      "cell_type": "code",
      "source": [
        "import FloorplanToSTL as stl\n",
        "import config\n",
        "\n",
        "# can specify or use default paths in config files\n",
        "stl.createFloorPlan(image_path = config.image_path, target_path = config.target_path, SR_Check=True)\n",
        "\n",
        "# Note: USE SR_Check = False for Original Image"
      ],
      "metadata": {
        "colab": {
          "base_uri": "https://localhost:8080/"
        },
        "id": "nga4uanpvus2",
        "outputId": "70d7da35-3e50-4ea3-8616-975a4b3d7e6c"
      },
      "execution_count": 14,
      "outputs": [
        {
          "output_type": "stream",
          "name": "stdout",
          "text": [
            " ----- Generate  /content/madori.jpg  at pos  None  rot  None  -----\n",
            "Approximated apartment size :  270588.5\n",
            "Created file : Data/3/floor_verts.txt\n",
            "Created file : Data/3/floor_faces.txt\n",
            "Walls created :  179\n",
            "Created file : Data/3/wall_verts.txt\n",
            "Created file : Data/3/wall_faces.txt\n",
            "Created file : Data/3/top_wall_verts.txt\n",
            "Created file : Data/3/top_wall_faces.txt\n",
            "Number of rooms detected :  7\n",
            "Created file : Data/3/rooms_verts.txt\n",
            "Created file : Data/3/rooms_faces.txt\n",
            "Created file : Data/3/transform.txt\n",
            "Created File at /floorplan\n"
          ]
        }
      ]
    },
    {
      "cell_type": "code",
      "source": [
        "# download stl floorplan.stl"
      ],
      "metadata": {
        "id": "o7OhfSXBPS07"
      },
      "execution_count": null,
      "outputs": []
    }
  ]
}