{
  "nbformat": 4,
  "nbformat_minor": 0,
  "metadata": {
    "colab": {
      "provenance": [],
      "gpuType": "T4",
      "authorship_tag": "ABX9TyPl3lh2Is1g1scplJgCCtz0",
      "include_colab_link": true
    },
    "kernelspec": {
      "name": "python3",
      "display_name": "Python 3"
    },
    "language_info": {
      "name": "python"
    },
    "accelerator": "GPU"
  },
  "cells": [
    {
      "cell_type": "markdown",
      "metadata": {
        "id": "view-in-github",
        "colab_type": "text"
      },
      "source": [
        "<a href=\"https://colab.research.google.com/github/softmurata/colab_notebooks/blob/main/sgrepo/evaluationGAIsegmentation.ipynb\" target=\"_parent\"><img src=\"https://colab.research.google.com/assets/colab-badge.svg\" alt=\"Open In Colab\"/></a>"
      ]
    },
    {
      "cell_type": "code",
      "execution_count": null,
      "metadata": {
        "id": "_FoxIPJBMn24"
      },
      "outputs": [],
      "source": [
        "!pip install -q transformers accelerate bitsandbytes diffusers"
      ]
    },
    {
      "cell_type": "code",
      "source": [
        "!wget https://img.freepik.com/free-photo/picture-frame-on-a-wall-with-scandinavian-home-interior_53876-139779.jpg -O /content/room001.jpg"
      ],
      "metadata": {
        "id": "GwkUZYTvM5Ph"
      },
      "execution_count": null,
      "outputs": []
    },
    {
      "cell_type": "code",
      "source": [
        "# /usr/local/lib/python3.10/dist-packages/transformers/models/oneformer/image_processing_oneformer.py"
      ],
      "metadata": {
        "id": "ybqKZhc-NI0o"
      },
      "execution_count": null,
      "outputs": []
    },
    {
      "cell_type": "markdown",
      "source": [
        "Oneformer inference"
      ],
      "metadata": {
        "id": "yw0gva7BUno8"
      }
    },
    {
      "cell_type": "code",
      "source": [
        "import torch\n",
        "import os\n",
        "from PIL import Image\n",
        "import numpy as np\n",
        "import cv2\n",
        "from transformers import OneFormerProcessor, OneFormerModel\n",
        "from torch import autocast\n",
        "import json"
      ],
      "metadata": {
        "id": "RZCNrVbeNYlx"
      },
      "execution_count": 32,
      "outputs": []
    },
    {
      "cell_type": "code",
      "source": [
        "object_images_dir = \"/content/objects\"\n",
        "os.makedirs(object_images_dir, exist_ok=True)"
      ],
      "metadata": {
        "id": "EYCAj3vBWxiz"
      },
      "execution_count": 6,
      "outputs": []
    },
    {
      "cell_type": "code",
      "source": [
        "# load oneformer model\n",
        "model_id = \"shi-labs/oneformer_ade20k_swin_large\"\n",
        "processor = OneFormerProcessor.from_pretrained(model_id)\n",
        "model = OneFormerModel.from_pretrained(model_id)"
      ],
      "metadata": {
        "colab": {
          "base_uri": "https://localhost:8080/"
        },
        "id": "txQOOQ_nNb4J",
        "outputId": "0bb185f6-3ff7-4f39-ff05-384ab5ebaa4d"
      },
      "execution_count": null,
      "outputs": [
        {
          "output_type": "stream",
          "name": "stderr",
          "text": [
            "/usr/local/lib/python3.10/dist-packages/transformers/models/oneformer/image_processing_oneformer.py:427: FutureWarning: The `reduce_labels` argument is deprecated and will be removed in v4.27. Please use `do_reduce_labels` instead.\n",
            "  warnings.warn(\n"
          ]
        }
      ]
    },
    {
      "cell_type": "code",
      "source": [
        "img_path = f\"/content/room001.jpg\"\n",
        "image = Image.open(img_path)\n",
        "\n",
        "inputs = processor(image, [\"semantic\"], return_tensors=\"pt\")\n",
        "\n",
        "with torch.no_grad():\n",
        "    outputs = model(**inputs)\n",
        "\n",
        "# you can pass them to processor for semantic postprocessing\n",
        "predicted_semantic_map = processor.post_process_semantic_segmentation(\n",
        "      outputs, target_sizes=[image.size[::-1]]\n",
        ")[0]\n",
        "\n",
        "print(np.unique(predicted_semantic_map))"
      ],
      "metadata": {
        "id": "M2SdOimeNfcQ",
        "colab": {
          "base_uri": "https://localhost:8080/"
        },
        "outputId": "227e43c6-743b-4f0e-e1f1-6cfb3318871a"
      },
      "execution_count": 8,
      "outputs": [
        {
          "output_type": "stream",
          "name": "stdout",
          "text": [
            "[  0   3  17  22  23  28  30  36  39  42  64  67 125 135]\n"
          ]
        }
      ]
    },
    {
      "cell_type": "code",
      "source": [
        "target_categories = [\"sofa\", \"table\", \"cushion\", \"rug\", \"chair\"]\n",
        "sub_categories = [\"plant\", \"painting\", \"vase\"]\n",
        "item_list = model.config.label2id.keys()\n",
        "include_categories = {}\n",
        "include_categories[\"target\"] = [model.config.label2id[item] for item in item_list if any(target in item for target in target_categories)]\n",
        "include_categories[\"sub\"] = [model.config.label2id[item] for item in item_list if any(target in item for target in sub_categories)]\n",
        "\n",
        "print(include_categories)"
      ],
      "metadata": {
        "colab": {
          "base_uri": "https://localhost:8080/"
        },
        "id": "C455nSH_OHw-",
        "outputId": "6a3d59fa-31b0-47bb-fbb8-5b51f5294a6b"
      },
      "execution_count": 9,
      "outputs": [
        {
          "output_type": "stream",
          "name": "stdout",
          "text": [
            "{'target': [30, 19, 64, 39, 56, 28, 23, 75, 15], 'sub': [22, 17, 135]}\n"
          ]
        }
      ]
    },
    {
      "cell_type": "code",
      "source": [
        "def calculate_bounding_box(mask_image):\n",
        "    # Find the indices of non-zero pixels within the mask image\n",
        "    non_zero_pixels = np.transpose(np.nonzero(mask_image))\n",
        "\n",
        "    if non_zero_pixels.size == 0:\n",
        "        # Return an empty Bounding Box if there are no non-zero pixels in the mask\n",
        "        return None\n",
        "\n",
        "    # Get x and y coordinates\n",
        "    x_coords, y_coords = non_zero_pixels[:, 0], non_zero_pixels[:, 1]\n",
        "\n",
        "    # Calculate the Bounding Box coordinates\n",
        "    min_x, min_y = np.min(x_coords), np.min(y_coords)\n",
        "    max_x, max_y = np.max(x_coords), np.max(y_coords)\n",
        "\n",
        "    return (min_x, min_y, max_x, max_y)"
      ],
      "metadata": {
        "id": "r-2-Re9mTUgF"
      },
      "execution_count": 10,
      "outputs": []
    },
    {
      "cell_type": "code",
      "source": [
        "color_list = [\n",
        "    [255, 0, 0],     # 赤\n",
        "    [0, 255, 0],     # 緑\n",
        "    [0, 0, 255],     # 青\n",
        "    [255, 255, 0],   # イエロー\n",
        "    [255, 0, 255],   # マゼンタ\n",
        "    [0, 255, 255],   # シアン\n",
        "    [128, 0, 128],   # パープル\n",
        "    [128, 128, 128], # グレー\n",
        "    [0, 128, 0],     # オリーブ\n",
        "    [128, 0, 0]      # マルーン\n",
        "]\n",
        "\n",
        "color_dict = {}\n",
        "for idx, t in enumerate(target_categories):\n",
        "  color_dict[t] = color_list[idx]"
      ],
      "metadata": {
        "id": "ukwdXnJdbT29"
      },
      "execution_count": 26,
      "outputs": []
    },
    {
      "cell_type": "code",
      "source": [
        "target_base_mask = np.zeros_like(predicted_semantic_map)\n",
        "total_count = np.prod(target_base_mask.shape)\n",
        "source_image = cv2.imread(img_path)\n",
        "bg_image = np.zeros_like(source_image)\n",
        "\n",
        "os.makedirs(object_images_dir + \"/target\", exist_ok=True)\n",
        "\n",
        "label_dict = {}\n",
        "\n",
        "result_dict = {}\n",
        "\n",
        "for target_id in include_categories[\"target\"]:\n",
        "  label_pred_map = np.where(predicted_semantic_map == target_id, 255, 0)\n",
        "  # bboxのリストと領域の計算\n",
        "  count = np.count_nonzero(label_pred_map == 255)\n",
        "  if count > 0:\n",
        "    bounding_box = calculate_bounding_box(label_pred_map)  # xmin, ymin, xmax, ymax\n",
        "    mask_ratio = count / total_count\n",
        "    ymin, xmin, ymax, xmax = bounding_box\n",
        "\n",
        "    label = model.config.id2label[target_id].split(\",\")[0].replace(\" \", \"\")\n",
        "    if label in label_dict.keys():\n",
        "      label_dict[label] += 1\n",
        "    else:\n",
        "      label_dict[label] = 0\n",
        "\n",
        "    target_color = None\n",
        "    for cl in color_dict.keys():\n",
        "      if cl in label:\n",
        "        target_color = color_dict[cl]\n",
        "\n",
        "    if target_color is not None:\n",
        "      center = [int(xmin * 0.5 + xmax * 0.5), int(ymin * 0.5 + ymax * 0.5)]\n",
        "      cv2.circle(bg_image,\n",
        "            center=(center[0], center[1]),\n",
        "            radius=20,\n",
        "            color=(target_color[0], target_color[1], target_color[2]),\n",
        "            thickness=-1,\n",
        "            lineType=cv2.LINE_4,\n",
        "            shift=0)\n",
        "\n",
        "      item_dict = {\n",
        "        \"bbox\": [int(xmin), int(ymin), int(xmax), int(ymax)],\n",
        "        \"ratio\": float(mask_ratio),\n",
        "        \"graph\": {\n",
        "            \"label\": label,\n",
        "            \"color\": target_color,\n",
        "            \"center\": center\n",
        "          }\n",
        "      }\n",
        "\n",
        "    result_dict[label] = item_dict\n",
        "\n",
        "    target_image = source_image[ymin:ymax, xmin:xmax, :]\n",
        "    cv2.imwrite(object_images_dir + f\"/target/{label}_{label_dict[label]}.jpg\", target_image)\n",
        "\n",
        "\n",
        "  target_base_mask += label_pred_map\n",
        "\n",
        "\n",
        "cv2.imwrite(\"/content/room001_graph.jpg\", bg_image)\n",
        "json.dump(result_dict, open(\"/content/room001.json\", \"w\"))\n",
        "display(Image.fromarray(target_base_mask.astype(np.uint8)))\n",
        "display(Image.fromarray(bg_image))"
      ],
      "metadata": {
        "colab": {
          "base_uri": "https://localhost:8080/",
          "height": 851
        },
        "id": "f09lbguuNmUH",
        "outputId": "4c1c716a-a5fb-4e35-9d32-6bd5467f84c7"
      },
      "execution_count": 35,
      "outputs": [
        {
          "output_type": "display_data",
          "data": {
            "text/plain": [
              "<PIL.Image.Image image mode=L size=626x417>"
            ],
            "image/png": "[encoded data removed]"
          },
          "metadata": {}
        },
        {
          "output_type": "display_data",
          "data": {
            "text/plain": [
              "<PIL.Image.Image image mode=RGB size=626x417>"
            ],
            "image/png": "[encoded data removed]"
          },
          "metadata": {}
        }
      ]
    },
    {
      "cell_type": "code",
      "source": [
        "sub_base_mask = np.zeros_like(predicted_semantic_map)\n",
        "os.makedirs(object_images_dir + \"/sub\", exist_ok=True)\n",
        "label_dict = {}\n",
        "for sub_id in include_categories[\"sub\"]:\n",
        "  label_pred_map = np.where(predicted_semantic_map == sub_id, 255, 0)\n",
        "  count = np.count_nonzero(label_pred_map == 255)\n",
        "  if count > 0:\n",
        "    bounding_box = calculate_bounding_box(label_pred_map)  # xmin, ymin, xmax, ymax\n",
        "    print(count / total_count, bounding_box)\n",
        "    mask_ratio = count / total_count\n",
        "    ymin, xmin, ymax, xmax = bounding_box\n",
        "\n",
        "    label = model.config.id2label[sub_id].split(\",\")[0].replace(\" \", \"\")\n",
        "    if label in label_dict.keys():\n",
        "      label_dict[label] += 1\n",
        "    else:\n",
        "      label_dict[label] = 0\n",
        "\n",
        "    target_image = source_image[ymin:ymax, xmin:xmax, :]\n",
        "    cv2.imwrite(object_images_dir + f\"/sub/{label}_{label_dict[label]}.jpg\", target_image)\n",
        "  sub_base_mask += label_pred_map\n",
        "\n",
        "display(Image.fromarray(sub_base_mask.astype(np.uint8)))"
      ],
      "metadata": {
        "colab": {
          "base_uri": "https://localhost:8080/",
          "height": 486
        },
        "id": "FLX6teWeQXzX",
        "outputId": "9a417412-c91c-4ab6-f215-fc774a0f3d06"
      },
      "execution_count": 22,
      "outputs": [
        {
          "output_type": "stream",
          "name": "stdout",
          "text": [
            "0.09913347277449606 (21, 220, 182, 380)\n",
            "0.0017928149493185005 (216, 35, 266, 98)\n",
            "0.00332896621999525 (248, 84, 278, 117)\n"
          ]
        },
        {
          "output_type": "display_data",
          "data": {
            "text/plain": [
              "<PIL.Image.Image image mode=L size=626x417>"
            ],
            "image/png": "[encoded data removed]"
          },
          "metadata": {}
        }
      ]
    }
  ]
}